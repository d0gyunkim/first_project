{
  "nbformat": 4,
  "nbformat_minor": 0,
  "metadata": {
    "colab": {
      "provenance": []
    },
    "kernelspec": {
      "name": "python3",
      "display_name": "Python 3"
    },
    "language_info": {
      "name": "python"
    }
  },
  "cells": [
    {
      "cell_type": "markdown",
      "source": [
        "#### 2017년 청원 데이터"
      ],
      "metadata": {
        "id": "oXcfgIM68I_Y"
      }
    },
    {
      "cell_type": "code",
      "source": [
        "import pandas as pd\n",
        "import json\n",
        "\n",
        "file_path_1 = '/content/drive/MyDrive/download/petitions_2017-08.txt'  # 2017년 8월 청원\n",
        "file_path_2 = '/content/drive/MyDrive/download/petitions_2017-09.txt'  # 2017년 9월 청원\n",
        "file_path_3 = '/content/drive/MyDrive/download/petitions_2017-10.txt'  # 2017년 10월 청원\n",
        "file_path_4 = '/content/drive/MyDrive/download/petitions_2017-11.txt'  # 2017년 11월 청원\n",
        "file_path_5 = '/content/drive/MyDrive/download/petitions_2017-12.txt'  # 2017년 12월 청원\n",
        "\n",
        "df_08 = pd.DataFrame()\n",
        "df_09 = pd.DataFrame()\n",
        "df_10 = pd.DataFrame()\n",
        "df_11 = pd.DataFrame()\n",
        "df_12 = pd.DataFrame()\n",
        "\n",
        "\n",
        "file_list = [file_path_1,file_path_2,file_path_3,file_path_4,file_path_5]\n",
        "df_list = [df_08,df_09,df_10,df_11,df_12]\n",
        "\n",
        "\n",
        "\n",
        "index = 0\n",
        "# 파일을 불러오고, 줄마다 띄어준다\n",
        "for file in file_list:\n",
        "    with open(file, 'r', encoding='utf-8', errors='ignore') as f:\n",
        "         content = f.read()\n",
        "\n",
        "    content = content.strip().split('\\n')\n",
        "\n",
        "    data_list = []\n",
        "    for line in content:\n",
        "        try:\n",
        "            # 각 줄을 JSON 객체로 변환하고 리스트에 추가\n",
        "            parsed_data = json.loads(line)\n",
        "            data_list.append(parsed_data)\n",
        "        except json.JSONDecodeError:\n",
        "            # 오류가 발생한 경우, 해당 줄을 무시\n",
        "            continue\n",
        "    df_list[index] = pd.DataFrame(data_list)\n",
        "    index += 1\n",
        "    data_list = []\n",
        "\n",
        "\n",
        "df_08,df_09,df_10,df_11,df_12 = df_list   # 데이터 로드가 끝난 데이터를 언패킹\n",
        "all_df_2017 = pd.concat([df_08,df_09,df_10,df_11,df_12])"
      ],
      "metadata": {
        "id": "LCjsokBr8MbL",
        "outputId": "c99a3cdc-1b9f-437f-e5e6-59607f41ba2a",
        "colab": {
          "base_uri": "https://localhost:8080/",
          "height": 211
        }
      },
      "execution_count": null,
      "outputs": [
        {
          "output_type": "error",
          "ename": "FileNotFoundError",
          "evalue": "[Errno 2] No such file or directory: '/content/drive/MyDrive/download/petitions_2017-08.txt'",
          "traceback": [
            "\u001b[0;31m---------------------------------------------------------------------------\u001b[0m",
            "\u001b[0;31mFileNotFoundError\u001b[0m                         Traceback (most recent call last)",
            "\u001b[0;32m<ipython-input-1-722aa74bbb38>\u001b[0m in \u001b[0;36m<cell line: 24>\u001b[0;34m()\u001b[0m\n\u001b[1;32m     23\u001b[0m \u001b[0;31m# 파일을 불러오고, 줄마다 띄어준다\u001b[0m\u001b[0;34m\u001b[0m\u001b[0;34m\u001b[0m\u001b[0m\n\u001b[1;32m     24\u001b[0m \u001b[0;32mfor\u001b[0m \u001b[0mfile\u001b[0m \u001b[0;32min\u001b[0m \u001b[0mfile_list\u001b[0m\u001b[0;34m:\u001b[0m\u001b[0;34m\u001b[0m\u001b[0;34m\u001b[0m\u001b[0m\n\u001b[0;32m---> 25\u001b[0;31m     \u001b[0;32mwith\u001b[0m \u001b[0mopen\u001b[0m\u001b[0;34m(\u001b[0m\u001b[0mfile\u001b[0m\u001b[0;34m,\u001b[0m \u001b[0;34m'r'\u001b[0m\u001b[0;34m,\u001b[0m \u001b[0mencoding\u001b[0m\u001b[0;34m=\u001b[0m\u001b[0;34m'utf-8'\u001b[0m\u001b[0;34m,\u001b[0m \u001b[0merrors\u001b[0m\u001b[0;34m=\u001b[0m\u001b[0;34m'ignore'\u001b[0m\u001b[0;34m)\u001b[0m \u001b[0;32mas\u001b[0m \u001b[0mf\u001b[0m\u001b[0;34m:\u001b[0m\u001b[0;34m\u001b[0m\u001b[0;34m\u001b[0m\u001b[0m\n\u001b[0m\u001b[1;32m     26\u001b[0m          \u001b[0mcontent\u001b[0m \u001b[0;34m=\u001b[0m \u001b[0mf\u001b[0m\u001b[0;34m.\u001b[0m\u001b[0mread\u001b[0m\u001b[0;34m(\u001b[0m\u001b[0;34m)\u001b[0m\u001b[0;34m\u001b[0m\u001b[0;34m\u001b[0m\u001b[0m\n\u001b[1;32m     27\u001b[0m \u001b[0;34m\u001b[0m\u001b[0m\n",
            "\u001b[0;31mFileNotFoundError\u001b[0m: [Errno 2] No such file or directory: '/content/drive/MyDrive/download/petitions_2017-08.txt'"
          ]
        }
      ]
    },
    {
      "cell_type": "code",
      "source": [
        "all_df_2017 # 2017년 8월부터 12월 후반까지의 청원 데이터\n",
        "all_df_2017.to_csv('all_df_2017',index=False)"
      ],
      "metadata": {
        "id": "ydMTCKbL7xrP"
      },
      "execution_count": null,
      "outputs": []
    },
    {
      "cell_type": "markdown",
      "source": [
        "#### 2018년 청원 데이터셋 로드"
      ],
      "metadata": {
        "id": "6-RfSjlt74oQ"
      }
    },
    {
      "cell_type": "code",
      "source": [
        "import pandas as pd\n",
        "\n",
        "file_path_18_1 ='/content/drive/MyDrive/download/petitions_2018-01.txt'\n",
        "file_path_18_2 ='/content/drive/MyDrive/download/petitions_2018-02.txt'\n",
        "file_path_18_3 ='/content/drive/MyDrive/download/petitions_2018-03.txt'\n",
        "file_path_18_4 ='/content/drive/MyDrive/download/petitions_2018-04.txt'\n",
        "file_path_18_5 ='/content/drive/MyDrive/download/petitions_2018-05.txt'\n",
        "file_path_18_6 ='/content/drive/MyDrive/download/petitions_2018-06.txt'\n",
        "file_path_18_7 ='/content/drive/MyDrive/download/petitions_2018-07.txt'\n",
        "file_path_18_8 ='/content/drive/MyDrive/download/petitions_2018-08.txt'\n",
        "file_path_18_9 ='/content/drive/MyDrive/download/petitions_2018-09.txt'\n",
        "file_path_18_10 ='/content/drive/MyDrive/download/petitions_2018-10.txt'\n",
        "file_path_18_11='/content/drive/MyDrive/download/petitions_2018-11.txt'\n",
        "file_path_18_12='/content/drive/MyDrive/download/petitions_2018-12.txt'\n",
        "\n",
        "\n",
        "df_18_1 = pd.DataFrame()\n",
        "df_18_2 = pd.DataFrame()\n",
        "df_18_3 = pd.DataFrame()\n",
        "df_18_4 = pd.DataFrame()\n",
        "df_18_5 = pd.DataFrame()\n",
        "df_18_6 = pd.DataFrame()\n",
        "df_18_7 = pd.DataFrame()\n",
        "df_18_8 = pd.DataFrame()\n",
        "df_18_9 = pd.DataFrame()\n",
        "df_18_10 = pd.DataFrame()\n",
        "df_18_11 = pd.DataFrame()\n",
        "df_18_12 = pd.DataFrame()\n",
        "\n",
        "\n",
        "file_list = [file_path_18_1,file_path_18_2,file_path_18_3,file_path_18_4,file_path_18_5,file_path_18_6,file_path_18_7,file_path_18_8,file_path_18_9,file_path_18_10,file_path_18_11,file_path_18_12,]\n",
        "df_list = [df_18_1,df_18_2,df_18_3,df_18_4,df_18_5,df_18_6,df_18_7,df_18_8,df_18_9,df_18_10,df_18_11,df_18_12]\n",
        "\n",
        "\n",
        "\n",
        "index = 0\n",
        "\n",
        "for file in file_list:\n",
        "    with open(file, 'r', encoding='utf-8', errors='ignore') as f:\n",
        "         content = f.read()\n",
        "\n",
        "    content = content.strip().split('\\n')\n",
        "\n",
        "    data_list = []\n",
        "    for line in content:\n",
        "        try:\n",
        "            # 각 줄을 JSON 객체로 변환하고 리스트에 추가\n",
        "            parsed_data = json.loads(line)\n",
        "            data_list.append(parsed_data)\n",
        "        except json.JSONDecodeError:\n",
        "            # 오류가 발생한 경우, 해당 줄을 무시\n",
        "            continue\n",
        "    df_list[index] = pd.DataFrame(data_list)\n",
        "    index += 1\n",
        "    data_list = []\n",
        "\n",
        "\n",
        "df_18_1,df_18_2,df_18_3,df_18_4,df_18_5,df_18_6,df_18_7,df_18_8,df_18_9,df_18_10,df_18_11,df_18_12 = df_list   # 데이터 로드가 끝난 데이터를 언패킹"
      ],
      "metadata": {
        "id": "d28Oz_FK77N3"
      },
      "execution_count": null,
      "outputs": []
    },
    {
      "cell_type": "code",
      "source": [
        "all_df_2018 = pd.concat([df_18_1,df_18_2,df_18_3,df_18_4,df_18_5,df_18_6,df_18_7,df_18_8,df_18_9,df_18_10,df_18_11,df_18_12])\n",
        "all_df_2018 # 2018년 전체 데이터\n",
        "all_df_2018.to_csv('all_df.2018',index=False)"
      ],
      "metadata": {
        "id": "A_r3YB9Q8BKl"
      },
      "execution_count": null,
      "outputs": []
    }
  ]
}