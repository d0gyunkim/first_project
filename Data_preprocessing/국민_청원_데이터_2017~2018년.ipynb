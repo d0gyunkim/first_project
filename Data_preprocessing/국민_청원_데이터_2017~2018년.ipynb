{
  "cells": [
    {
      "cell_type": "code",
      "execution_count": null,
      "metadata": {
        "id": "cGloFMCPo246"
      },
      "outputs": [],
      "source": [
        "import pandas as pd\n",
        "import seaborn as sns\n",
        "import matplotlib.pyplot as plt\n",
        "import numpy as np\n"
      ]
    },
    {
      "cell_type": "markdown",
      "metadata": {
        "id": "kMPCCuZWa6ei"
      },
      "source": [
        "#### 국민 청원에서 이슈가 된 게시물과 소셜 온라인상에서 이슈가 된 게시물 사이엔 어떤 관계가 있을까??\n",
        "* 밑의 데이터프레임은 이전의 청원데이터에서 뽑아낸 자료\n",
        "* y 값(청원동의수,청원 건수)\n",
        "* x 값(감정표현 수, 댓글수, 기사수)"
      ]
    },
    {
      "cell_type": "markdown",
      "source": [
        "#### 인천대학교 산학 협력 데이터"
      ],
      "metadata": {
        "id": "r8uBdlGV7O34"
      }
    },
    {
      "cell_type": "code",
      "execution_count": null,
      "metadata": {
        "id": "7jJisRyRgqyc"
      },
      "outputs": [],
      "source": [
        "raw_data = {'label':[\n",
        "'공매도 금지','국민연금제도 폐지','김의겸 투기','백화점 단축근무','육아 단축근무','동물 보호법','어립이집 cctv','국민청원 폐지','박근혜 석방','윤석열 처벌','어린이집 교사 처우 개선','국가 유공자 처우 개선','문재인 탄핵','화성연쇄살인','아동학대','불법 업체고발','의료사고 피해자','공수처','성범죄 처벌','언론사 세무조사'\n",
        "],\n",
        "            '청원동의수':[72773,281,1749,54174,2278,573259,11194,383,4407,1268545,87428,1230,2152438,31698,354862,159,25379,180137,752871,231838],\n",
        "            '청원 건수':[23,6,37,3,5,9,4,1,3,22,15,3,15,3,27,1,14,25,27,3],\n",
        "            '감정표현 수':[49099,16,32087,16,115,655,10,3251,79919,23219,26,57,85020,120273,59984,8,7,837742,14956,494],\n",
        "            '댓글수':[35840,2,18726,9,146,287,4,2209,61946,13348,52,13,37761,101857,35349,3,19,422651,7085,79],\n",
        "            '기사수':[392,1,281,1,8,9,2,27,485,106,2,17,441,2578,2540,12,1,7037,325,12]}"
      ]
    },
    {
      "cell_type": "code",
      "execution_count": null,
      "metadata": {
        "id": "4FmgmiXLgVse"
      },
      "outputs": [],
      "source": [
        "df = pd.DataFrame(raw_data)"
      ]
    },
    {
      "cell_type": "code",
      "execution_count": null,
      "metadata": {
        "colab": {
          "base_uri": "https://localhost:8080/",
          "height": 677
        },
        "id": "BEkl86c9i78j",
        "outputId": "204e3a99-6249-49f7-9f0e-ad28edca0141"
      },
      "outputs": [
        {
          "output_type": "execute_result",
          "data": {
            "text/plain": [
              "            label    청원동의수  청원 건수  감정표현 수     댓글수   기사수\n",
              "0          공매도 금지    72773     23   49099   35840   392\n",
              "1       국민연금제도 폐지      281      6      16       2     1\n",
              "2          김의겸 투기     1749     37   32087   18726   281\n",
              "3        백화점 단축근무    54174      3      16       9     1\n",
              "4         육아 단축근무     2278      5     115     146     8\n",
              "5          동물 보호법   573259      9     655     287     9\n",
              "6       어립이집 cctv    11194      4      10       4     2\n",
              "7         국민청원 폐지      383      1    3251    2209    27\n",
              "8          박근혜 석방     4407      3   79919   61946   485\n",
              "9          윤석열 처벌  1268545     22   23219   13348   106\n",
              "10  어린이집 교사 처우 개선    87428     15      26      52     2\n",
              "11   국가 유공자 처우 개선     1230      3      57      13    17\n",
              "12         문재인 탄핵  2152438     15   85020   37761   441\n",
              "13         화성연쇄살인    31698      3  120273  101857  2578\n",
              "14           아동학대   354862     27   59984   35349  2540\n",
              "15        불법 업체고발      159      1       8       3    12\n",
              "16       의료사고 피해자    25379     14       7      19     1\n",
              "17            공수처   180137     25  837742  422651  7037\n",
              "18         성범죄 처벌   752871     27   14956    7085   325\n",
              "19       언론사 세무조사   231838      3     494      79    12"
            ],
            "text/html": [
              "\n",
              "  <div id=\"df-3f606aed-f33f-41c8-94ba-d8ef4d10e4e2\" class=\"colab-df-container\">\n",
              "    <div>\n",
              "<style scoped>\n",
              "    .dataframe tbody tr th:only-of-type {\n",
              "        vertical-align: middle;\n",
              "    }\n",
              "\n",
              "    .dataframe tbody tr th {\n",
              "        vertical-align: top;\n",
              "    }\n",
              "\n",
              "    .dataframe thead th {\n",
              "        text-align: right;\n",
              "    }\n",
              "</style>\n",
              "<table border=\"1\" class=\"dataframe\">\n",
              "  <thead>\n",
              "    <tr style=\"text-align: right;\">\n",
              "      <th></th>\n",
              "      <th>label</th>\n",
              "      <th>청원동의수</th>\n",
              "      <th>청원 건수</th>\n",
              "      <th>감정표현 수</th>\n",
              "      <th>댓글수</th>\n",
              "      <th>기사수</th>\n",
              "    </tr>\n",
              "  </thead>\n",
              "  <tbody>\n",
              "    <tr>\n",
              "      <th>0</th>\n",
              "      <td>공매도 금지</td>\n",
              "      <td>72773</td>\n",
              "      <td>23</td>\n",
              "      <td>49099</td>\n",
              "      <td>35840</td>\n",
              "      <td>392</td>\n",
              "    </tr>\n",
              "    <tr>\n",
              "      <th>1</th>\n",
              "      <td>국민연금제도 폐지</td>\n",
              "      <td>281</td>\n",
              "      <td>6</td>\n",
              "      <td>16</td>\n",
              "      <td>2</td>\n",
              "      <td>1</td>\n",
              "    </tr>\n",
              "    <tr>\n",
              "      <th>2</th>\n",
              "      <td>김의겸 투기</td>\n",
              "      <td>1749</td>\n",
              "      <td>37</td>\n",
              "      <td>32087</td>\n",
              "      <td>18726</td>\n",
              "      <td>281</td>\n",
              "    </tr>\n",
              "    <tr>\n",
              "      <th>3</th>\n",
              "      <td>백화점 단축근무</td>\n",
              "      <td>54174</td>\n",
              "      <td>3</td>\n",
              "      <td>16</td>\n",
              "      <td>9</td>\n",
              "      <td>1</td>\n",
              "    </tr>\n",
              "    <tr>\n",
              "      <th>4</th>\n",
              "      <td>육아 단축근무</td>\n",
              "      <td>2278</td>\n",
              "      <td>5</td>\n",
              "      <td>115</td>\n",
              "      <td>146</td>\n",
              "      <td>8</td>\n",
              "    </tr>\n",
              "    <tr>\n",
              "      <th>5</th>\n",
              "      <td>동물 보호법</td>\n",
              "      <td>573259</td>\n",
              "      <td>9</td>\n",
              "      <td>655</td>\n",
              "      <td>287</td>\n",
              "      <td>9</td>\n",
              "    </tr>\n",
              "    <tr>\n",
              "      <th>6</th>\n",
              "      <td>어립이집 cctv</td>\n",
              "      <td>11194</td>\n",
              "      <td>4</td>\n",
              "      <td>10</td>\n",
              "      <td>4</td>\n",
              "      <td>2</td>\n",
              "    </tr>\n",
              "    <tr>\n",
              "      <th>7</th>\n",
              "      <td>국민청원 폐지</td>\n",
              "      <td>383</td>\n",
              "      <td>1</td>\n",
              "      <td>3251</td>\n",
              "      <td>2209</td>\n",
              "      <td>27</td>\n",
              "    </tr>\n",
              "    <tr>\n",
              "      <th>8</th>\n",
              "      <td>박근혜 석방</td>\n",
              "      <td>4407</td>\n",
              "      <td>3</td>\n",
              "      <td>79919</td>\n",
              "      <td>61946</td>\n",
              "      <td>485</td>\n",
              "    </tr>\n",
              "    <tr>\n",
              "      <th>9</th>\n",
              "      <td>윤석열 처벌</td>\n",
              "      <td>1268545</td>\n",
              "      <td>22</td>\n",
              "      <td>23219</td>\n",
              "      <td>13348</td>\n",
              "      <td>106</td>\n",
              "    </tr>\n",
              "    <tr>\n",
              "      <th>10</th>\n",
              "      <td>어린이집 교사 처우 개선</td>\n",
              "      <td>87428</td>\n",
              "      <td>15</td>\n",
              "      <td>26</td>\n",
              "      <td>52</td>\n",
              "      <td>2</td>\n",
              "    </tr>\n",
              "    <tr>\n",
              "      <th>11</th>\n",
              "      <td>국가 유공자 처우 개선</td>\n",
              "      <td>1230</td>\n",
              "      <td>3</td>\n",
              "      <td>57</td>\n",
              "      <td>13</td>\n",
              "      <td>17</td>\n",
              "    </tr>\n",
              "    <tr>\n",
              "      <th>12</th>\n",
              "      <td>문재인 탄핵</td>\n",
              "      <td>2152438</td>\n",
              "      <td>15</td>\n",
              "      <td>85020</td>\n",
              "      <td>37761</td>\n",
              "      <td>441</td>\n",
              "    </tr>\n",
              "    <tr>\n",
              "      <th>13</th>\n",
              "      <td>화성연쇄살인</td>\n",
              "      <td>31698</td>\n",
              "      <td>3</td>\n",
              "      <td>120273</td>\n",
              "      <td>101857</td>\n",
              "      <td>2578</td>\n",
              "    </tr>\n",
              "    <tr>\n",
              "      <th>14</th>\n",
              "      <td>아동학대</td>\n",
              "      <td>354862</td>\n",
              "      <td>27</td>\n",
              "      <td>59984</td>\n",
              "      <td>35349</td>\n",
              "      <td>2540</td>\n",
              "    </tr>\n",
              "    <tr>\n",
              "      <th>15</th>\n",
              "      <td>불법 업체고발</td>\n",
              "      <td>159</td>\n",
              "      <td>1</td>\n",
              "      <td>8</td>\n",
              "      <td>3</td>\n",
              "      <td>12</td>\n",
              "    </tr>\n",
              "    <tr>\n",
              "      <th>16</th>\n",
              "      <td>의료사고 피해자</td>\n",
              "      <td>25379</td>\n",
              "      <td>14</td>\n",
              "      <td>7</td>\n",
              "      <td>19</td>\n",
              "      <td>1</td>\n",
              "    </tr>\n",
              "    <tr>\n",
              "      <th>17</th>\n",
              "      <td>공수처</td>\n",
              "      <td>180137</td>\n",
              "      <td>25</td>\n",
              "      <td>837742</td>\n",
              "      <td>422651</td>\n",
              "      <td>7037</td>\n",
              "    </tr>\n",
              "    <tr>\n",
              "      <th>18</th>\n",
              "      <td>성범죄 처벌</td>\n",
              "      <td>752871</td>\n",
              "      <td>27</td>\n",
              "      <td>14956</td>\n",
              "      <td>7085</td>\n",
              "      <td>325</td>\n",
              "    </tr>\n",
              "    <tr>\n",
              "      <th>19</th>\n",
              "      <td>언론사 세무조사</td>\n",
              "      <td>231838</td>\n",
              "      <td>3</td>\n",
              "      <td>494</td>\n",
              "      <td>79</td>\n",
              "      <td>12</td>\n",
              "    </tr>\n",
              "  </tbody>\n",
              "</table>\n",
              "</div>\n",
              "    <div class=\"colab-df-buttons\">\n",
              "\n",
              "  <div class=\"colab-df-container\">\n",
              "    <button class=\"colab-df-convert\" onclick=\"convertToInteractive('df-3f606aed-f33f-41c8-94ba-d8ef4d10e4e2')\"\n",
              "            title=\"Convert this dataframe to an interactive table.\"\n",
              "            style=\"display:none;\">\n",
              "\n",
              "  <svg xmlns=\"http://www.w3.org/2000/svg\" height=\"24px\" viewBox=\"0 -960 960 960\">\n",
              "    <path d=\"M120-120v-720h720v720H120Zm60-500h600v-160H180v160Zm220 220h160v-160H400v160Zm0 220h160v-160H400v160ZM180-400h160v-160H180v160Zm440 0h160v-160H620v160ZM180-180h160v-160H180v160Zm440 0h160v-160H620v160Z\"/>\n",
              "  </svg>\n",
              "    </button>\n",
              "\n",
              "  <style>\n",
              "    .colab-df-container {\n",
              "      display:flex;\n",
              "      gap: 12px;\n",
              "    }\n",
              "\n",
              "    .colab-df-convert {\n",
              "      background-color: #E8F0FE;\n",
              "      border: none;\n",
              "      border-radius: 50%;\n",
              "      cursor: pointer;\n",
              "      display: none;\n",
              "      fill: #1967D2;\n",
              "      height: 32px;\n",
              "      padding: 0 0 0 0;\n",
              "      width: 32px;\n",
              "    }\n",
              "\n",
              "    .colab-df-convert:hover {\n",
              "      background-color: #E2EBFA;\n",
              "      box-shadow: 0px 1px 2px rgba(60, 64, 67, 0.3), 0px 1px 3px 1px rgba(60, 64, 67, 0.15);\n",
              "      fill: #174EA6;\n",
              "    }\n",
              "\n",
              "    .colab-df-buttons div {\n",
              "      margin-bottom: 4px;\n",
              "    }\n",
              "\n",
              "    [theme=dark] .colab-df-convert {\n",
              "      background-color: #3B4455;\n",
              "      fill: #D2E3FC;\n",
              "    }\n",
              "\n",
              "    [theme=dark] .colab-df-convert:hover {\n",
              "      background-color: #434B5C;\n",
              "      box-shadow: 0px 1px 3px 1px rgba(0, 0, 0, 0.15);\n",
              "      filter: drop-shadow(0px 1px 2px rgba(0, 0, 0, 0.3));\n",
              "      fill: #FFFFFF;\n",
              "    }\n",
              "  </style>\n",
              "\n",
              "    <script>\n",
              "      const buttonEl =\n",
              "        document.querySelector('#df-3f606aed-f33f-41c8-94ba-d8ef4d10e4e2 button.colab-df-convert');\n",
              "      buttonEl.style.display =\n",
              "        google.colab.kernel.accessAllowed ? 'block' : 'none';\n",
              "\n",
              "      async function convertToInteractive(key) {\n",
              "        const element = document.querySelector('#df-3f606aed-f33f-41c8-94ba-d8ef4d10e4e2');\n",
              "        const dataTable =\n",
              "          await google.colab.kernel.invokeFunction('convertToInteractive',\n",
              "                                                    [key], {});\n",
              "        if (!dataTable) return;\n",
              "\n",
              "        const docLinkHtml = 'Like what you see? Visit the ' +\n",
              "          '<a target=\"_blank\" href=https://colab.research.google.com/notebooks/data_table.ipynb>data table notebook</a>'\n",
              "          + ' to learn more about interactive tables.';\n",
              "        element.innerHTML = '';\n",
              "        dataTable['output_type'] = 'display_data';\n",
              "        await google.colab.output.renderOutput(dataTable, element);\n",
              "        const docLink = document.createElement('div');\n",
              "        docLink.innerHTML = docLinkHtml;\n",
              "        element.appendChild(docLink);\n",
              "      }\n",
              "    </script>\n",
              "  </div>\n",
              "\n",
              "\n",
              "<div id=\"df-9a062298-d4f5-4b55-9c9f-8c4ef349939e\">\n",
              "  <button class=\"colab-df-quickchart\" onclick=\"quickchart('df-9a062298-d4f5-4b55-9c9f-8c4ef349939e')\"\n",
              "            title=\"Suggest charts\"\n",
              "            style=\"display:none;\">\n",
              "\n",
              "<svg xmlns=\"http://www.w3.org/2000/svg\" height=\"24px\"viewBox=\"0 0 24 24\"\n",
              "     width=\"24px\">\n",
              "    <g>\n",
              "        <path d=\"M19 3H5c-1.1 0-2 .9-2 2v14c0 1.1.9 2 2 2h14c1.1 0 2-.9 2-2V5c0-1.1-.9-2-2-2zM9 17H7v-7h2v7zm4 0h-2V7h2v10zm4 0h-2v-4h2v4z\"/>\n",
              "    </g>\n",
              "</svg>\n",
              "  </button>\n",
              "\n",
              "<style>\n",
              "  .colab-df-quickchart {\n",
              "      --bg-color: #E8F0FE;\n",
              "      --fill-color: #1967D2;\n",
              "      --hover-bg-color: #E2EBFA;\n",
              "      --hover-fill-color: #174EA6;\n",
              "      --disabled-fill-color: #AAA;\n",
              "      --disabled-bg-color: #DDD;\n",
              "  }\n",
              "\n",
              "  [theme=dark] .colab-df-quickchart {\n",
              "      --bg-color: #3B4455;\n",
              "      --fill-color: #D2E3FC;\n",
              "      --hover-bg-color: #434B5C;\n",
              "      --hover-fill-color: #FFFFFF;\n",
              "      --disabled-bg-color: #3B4455;\n",
              "      --disabled-fill-color: #666;\n",
              "  }\n",
              "\n",
              "  .colab-df-quickchart {\n",
              "    background-color: var(--bg-color);\n",
              "    border: none;\n",
              "    border-radius: 50%;\n",
              "    cursor: pointer;\n",
              "    display: none;\n",
              "    fill: var(--fill-color);\n",
              "    height: 32px;\n",
              "    padding: 0;\n",
              "    width: 32px;\n",
              "  }\n",
              "\n",
              "  .colab-df-quickchart:hover {\n",
              "    background-color: var(--hover-bg-color);\n",
              "    box-shadow: 0 1px 2px rgba(60, 64, 67, 0.3), 0 1px 3px 1px rgba(60, 64, 67, 0.15);\n",
              "    fill: var(--button-hover-fill-color);\n",
              "  }\n",
              "\n",
              "  .colab-df-quickchart-complete:disabled,\n",
              "  .colab-df-quickchart-complete:disabled:hover {\n",
              "    background-color: var(--disabled-bg-color);\n",
              "    fill: var(--disabled-fill-color);\n",
              "    box-shadow: none;\n",
              "  }\n",
              "\n",
              "  .colab-df-spinner {\n",
              "    border: 2px solid var(--fill-color);\n",
              "    border-color: transparent;\n",
              "    border-bottom-color: var(--fill-color);\n",
              "    animation:\n",
              "      spin 1s steps(1) infinite;\n",
              "  }\n",
              "\n",
              "  @keyframes spin {\n",
              "    0% {\n",
              "      border-color: transparent;\n",
              "      border-bottom-color: var(--fill-color);\n",
              "      border-left-color: var(--fill-color);\n",
              "    }\n",
              "    20% {\n",
              "      border-color: transparent;\n",
              "      border-left-color: var(--fill-color);\n",
              "      border-top-color: var(--fill-color);\n",
              "    }\n",
              "    30% {\n",
              "      border-color: transparent;\n",
              "      border-left-color: var(--fill-color);\n",
              "      border-top-color: var(--fill-color);\n",
              "      border-right-color: var(--fill-color);\n",
              "    }\n",
              "    40% {\n",
              "      border-color: transparent;\n",
              "      border-right-color: var(--fill-color);\n",
              "      border-top-color: var(--fill-color);\n",
              "    }\n",
              "    60% {\n",
              "      border-color: transparent;\n",
              "      border-right-color: var(--fill-color);\n",
              "    }\n",
              "    80% {\n",
              "      border-color: transparent;\n",
              "      border-right-color: var(--fill-color);\n",
              "      border-bottom-color: var(--fill-color);\n",
              "    }\n",
              "    90% {\n",
              "      border-color: transparent;\n",
              "      border-bottom-color: var(--fill-color);\n",
              "    }\n",
              "  }\n",
              "</style>\n",
              "\n",
              "  <script>\n",
              "    async function quickchart(key) {\n",
              "      const quickchartButtonEl =\n",
              "        document.querySelector('#' + key + ' button');\n",
              "      quickchartButtonEl.disabled = true;  // To prevent multiple clicks.\n",
              "      quickchartButtonEl.classList.add('colab-df-spinner');\n",
              "      try {\n",
              "        const charts = await google.colab.kernel.invokeFunction(\n",
              "            'suggestCharts', [key], {});\n",
              "      } catch (error) {\n",
              "        console.error('Error during call to suggestCharts:', error);\n",
              "      }\n",
              "      quickchartButtonEl.classList.remove('colab-df-spinner');\n",
              "      quickchartButtonEl.classList.add('colab-df-quickchart-complete');\n",
              "    }\n",
              "    (() => {\n",
              "      let quickchartButtonEl =\n",
              "        document.querySelector('#df-9a062298-d4f5-4b55-9c9f-8c4ef349939e button');\n",
              "      quickchartButtonEl.style.display =\n",
              "        google.colab.kernel.accessAllowed ? 'block' : 'none';\n",
              "    })();\n",
              "  </script>\n",
              "</div>\n",
              "    </div>\n",
              "  </div>\n"
            ],
            "application/vnd.google.colaboratory.intrinsic+json": {
              "type": "dataframe",
              "variable_name": "df",
              "summary": "{\n  \"name\": \"df\",\n  \"rows\": 20,\n  \"fields\": [\n    {\n      \"column\": \"label\",\n      \"properties\": {\n        \"dtype\": \"string\",\n        \"num_unique_values\": 20,\n        \"samples\": [\n          \"\\uacf5\\ub9e4\\ub3c4 \\uae08\\uc9c0\",\n          \"\\uacf5\\uc218\\ucc98\",\n          \"\\ubd88\\ubc95 \\uc5c5\\uccb4\\uace0\\ubc1c\"\n        ],\n        \"semantic_type\": \"\",\n        \"description\": \"\"\n      }\n    },\n    {\n      \"column\": \"\\uccad\\uc6d0\\ub3d9\\uc758\\uc218\",\n      \"properties\": {\n        \"dtype\": \"number\",\n        \"std\": 546824,\n        \"min\": 159,\n        \"max\": 2152438,\n        \"num_unique_values\": 20,\n        \"samples\": [\n          72773,\n          180137,\n          159\n        ],\n        \"semantic_type\": \"\",\n        \"description\": \"\"\n      }\n    },\n    {\n      \"column\": \"\\uccad\\uc6d0 \\uac74\\uc218\",\n      \"properties\": {\n        \"dtype\": \"number\",\n        \"std\": 10,\n        \"min\": 1,\n        \"max\": 37,\n        \"num_unique_values\": 13,\n        \"samples\": [\n          14,\n          15,\n          23\n        ],\n        \"semantic_type\": \"\",\n        \"description\": \"\"\n      }\n    },\n    {\n      \"column\": \"\\uac10\\uc815\\ud45c\\ud604 \\uc218\",\n      \"properties\": {\n        \"dtype\": \"number\",\n        \"std\": 185287,\n        \"min\": 7,\n        \"max\": 837742,\n        \"num_unique_values\": 19,\n        \"samples\": [\n          49099,\n          10,\n          85020\n        ],\n        \"semantic_type\": \"\",\n        \"description\": \"\"\n      }\n    },\n    {\n      \"column\": \"\\ub313\\uae00\\uc218\",\n      \"properties\": {\n        \"dtype\": \"number\",\n        \"std\": 94647,\n        \"min\": 2,\n        \"max\": 422651,\n        \"num_unique_values\": 20,\n        \"samples\": [\n          35840,\n          422651,\n          3\n        ],\n        \"semantic_type\": \"\",\n        \"description\": \"\"\n      }\n    },\n    {\n      \"column\": \"\\uae30\\uc0ac\\uc218\",\n      \"properties\": {\n        \"dtype\": \"number\",\n        \"std\": 1673,\n        \"min\": 1,\n        \"max\": 7037,\n        \"num_unique_values\": 16,\n        \"samples\": [\n          392,\n          1,\n          2\n        ],\n        \"semantic_type\": \"\",\n        \"description\": \"\"\n      }\n    }\n  ]\n}"
            }
          },
          "metadata": {},
          "execution_count": 4
        }
      ],
      "source": [
        "df"
      ]
    },
    {
      "cell_type": "code",
      "execution_count": null,
      "metadata": {
        "id": "XD0aVmjwtQWz"
      },
      "outputs": [],
      "source": [
        "df['log_청원동의수'] = df['청원동의수'].apply(lambda x: np.log(x))\n",
        "df['log_청원 건수'] = df['청원 건수'].apply(lambda x: np.log(x))\n",
        "df['log_감정표현 수'] = df['감정표현 수'].apply(lambda x: np.log(x))\n",
        "df['log_댓글수'] = df['댓글수'].apply(lambda x: np.log(x))\n",
        "df['log_기사수'] = df['기사수'].apply(lambda x: np.log(x))"
      ]
    },
    {
      "cell_type": "markdown",
      "metadata": {
        "id": "7C-bjOPYlxTQ"
      },
      "source": [
        "#### y = w1 * 청원동의수 + w2 * 청원건수\n",
        "#### x = w1 * 감정 표현수 + w2 * 댓글수 + w3 * 기사수"
      ]
    },
    {
      "cell_type": "markdown",
      "metadata": {
        "id": "3mRh8t1Un_rb"
      },
      "source": [
        "#### 가상의 가중치 값\n",
        "* 청원동의수에 대한 가중치:\n",
        " * 0.1222\n",
        "\n",
        "* 감정표현 수에 대한 가중치:\n",
        " * 0.2976\n",
        "\n",
        "* 댓글수에 대한 가중치:\n",
        " * 0.0570\n",
        "\n",
        "* 기사수에 대한 가중치:\n",
        " * 0.5232\n"
      ]
    },
    {
      "cell_type": "code",
      "execution_count": null,
      "metadata": {
        "id": "fI7-1aW8liUG"
      },
      "outputs": [],
      "source": [
        "#### 임의의 가중치\n",
        "w_x_1 = 0.3\n",
        "w_x_2 = 0.05\n",
        "w_x_3 = 0.5\n",
        "w_y_1 = 0.12\n",
        "w_y_2 = 0.5"
      ]
    },
    {
      "cell_type": "code",
      "execution_count": null,
      "metadata": {
        "id": "Ia1A3ZJgqfdV"
      },
      "outputs": [],
      "source": [
        "# 지나치게 편차가 큰 값들로 인해 log화 진행\n",
        "df['log_x']=w_x_1*df['log_감정표현 수']+w_x_2*df['log_댓글수']+w_x_3*df['log_기사수']\n",
        "df['log_y']=w_y_1*df['log_청원동의수']+w_y_2*df['log_청원 건수']"
      ]
    },
    {
      "cell_type": "markdown",
      "metadata": {
        "id": "1vLxglR4FGzl"
      },
      "source": [
        "#### 그래프상에서 한글을 나타내기 위해 korean_mat 설치\n"
      ]
    },
    {
      "cell_type": "code",
      "execution_count": null,
      "metadata": {
        "colab": {
          "base_uri": "https://localhost:8080/"
        },
        "id": "PPdw5AuokIi7",
        "outputId": "16a774d5-80f2-486c-e168-2f9fd9403676"
      },
      "outputs": [
        {
          "output_type": "stream",
          "name": "stdout",
          "text": [
            "Collecting koreanize-matplotlib\n",
            "  Downloading koreanize_matplotlib-0.1.1-py3-none-any.whl (7.9 MB)\n",
            "\u001b[2K     \u001b[90m━━━━━━━━━━━━━━━━━━━━━━━━━━━━━━━━━━━━━━━━\u001b[0m \u001b[32m7.9/7.9 MB\u001b[0m \u001b[31m15.3 MB/s\u001b[0m eta \u001b[36m0:00:00\u001b[0m\n",
            "\u001b[?25hRequirement already satisfied: matplotlib in /usr/local/lib/python3.10/dist-packages (from koreanize-matplotlib) (3.7.1)\n",
            "Requirement already satisfied: contourpy>=1.0.1 in /usr/local/lib/python3.10/dist-packages (from matplotlib->koreanize-matplotlib) (1.2.1)\n",
            "Requirement already satisfied: cycler>=0.10 in /usr/local/lib/python3.10/dist-packages (from matplotlib->koreanize-matplotlib) (0.12.1)\n",
            "Requirement already satisfied: fonttools>=4.22.0 in /usr/local/lib/python3.10/dist-packages (from matplotlib->koreanize-matplotlib) (4.53.0)\n",
            "Requirement already satisfied: kiwisolver>=1.0.1 in /usr/local/lib/python3.10/dist-packages (from matplotlib->koreanize-matplotlib) (1.4.5)\n",
            "Requirement already satisfied: numpy>=1.20 in /usr/local/lib/python3.10/dist-packages (from matplotlib->koreanize-matplotlib) (1.25.2)\n",
            "Requirement already satisfied: packaging>=20.0 in /usr/local/lib/python3.10/dist-packages (from matplotlib->koreanize-matplotlib) (24.0)\n",
            "Requirement already satisfied: pillow>=6.2.0 in /usr/local/lib/python3.10/dist-packages (from matplotlib->koreanize-matplotlib) (9.4.0)\n",
            "Requirement already satisfied: pyparsing>=2.3.1 in /usr/local/lib/python3.10/dist-packages (from matplotlib->koreanize-matplotlib) (3.1.2)\n",
            "Requirement already satisfied: python-dateutil>=2.7 in /usr/local/lib/python3.10/dist-packages (from matplotlib->koreanize-matplotlib) (2.8.2)\n",
            "Requirement already satisfied: six>=1.5 in /usr/local/lib/python3.10/dist-packages (from python-dateutil>=2.7->matplotlib->koreanize-matplotlib) (1.16.0)\n",
            "Installing collected packages: koreanize-matplotlib\n",
            "Successfully installed koreanize-matplotlib-0.1.1\n"
          ]
        }
      ],
      "source": [
        "# 그래프상에서 한글을 나타내기 위해 korean_mat 설치\n",
        "! pip install koreanize-matplotlib\n",
        "import koreanize_matplotlib\n",
        "\n",
        "%config InlineBackend.figure_format = 'retina'"
      ]
    },
    {
      "cell_type": "markdown",
      "metadata": {
        "id": "TLAIx3GcvdP9"
      },
      "source": [
        "#### 회귀선과 산점도 그리기"
      ]
    },
    {
      "cell_type": "code",
      "execution_count": null,
      "metadata": {
        "colab": {
          "base_uri": "https://localhost:8080/",
          "height": 447
        },
        "id": "GOyTfxPqijkn",
        "outputId": "00831e97-46ce-48ed-e50f-6cd65451b479"
      },
      "outputs": [
        {
          "output_type": "display_data",
          "data": {
            "text/plain": [
              "<Figure size 640x480 with 1 Axes>"
            ],
            "image/png": "[encoded data removed]"
          },
          "metadata": {
            "image/png": {
              "width": 581,
              "height": 430
            }
          }
        }
      ],
      "source": [
        "plt.scatter(x=df['log_x'],y=df['log_y'])\n",
        "\n",
        "for i in range(df.shape[0]):\n",
        "    row = df.iloc[i]\n",
        "    name = row['label']\n",
        "    x = row['log_x']\n",
        "    y = row['log_y']\n",
        "    plt.text(x,y,name)\n",
        "sns.regplot(data=df,x=df['log_x'],y=df['log_y'])\n",
        "plt.show()"
      ]
    },
    {
      "cell_type": "markdown",
      "metadata": {
        "id": "-D60ks0SvjjC"
      },
      "source": [
        "#### 다음의 그래프를 아래와 같이 해석할 수 있을 것 같다.\n",
        "*  회귀선에 해당하는 점들은 청원과 사람들의 관심도가 어느정도 비례하는 사건들이다\n",
        "*  회귀선 아래에 있는 점들은 청원율은 높지만, 사람들의 관심도는 적은 사건들 -> 특정 집단의 염원이 강하게 들어간 사건들\n",
        "*. 회귀선보다 위에 있는 점들은 청원율은 낮지만, 사람들의 관심도는 상대적으로 높았던 사건"
      ]
    },
    {
      "cell_type": "markdown",
      "metadata": {
        "id": "sxARuXO0wpmI"
      },
      "source": [
        "#### 프로젝트를 통해 알아낼 수 있는것\n",
        "* 그렇다면 정권별로 위의 그래프는 어떻게 변하게 될까?\n",
        "* 뉴스의 성향별로 관심도는 어떻게 변하게 될까?\n",
        "* 정권별로 사람들의 토픽별 관심도는 어떻게 달라졌을까\n",
        "* 등등"
      ]
    },
    {
      "cell_type": "markdown",
      "metadata": {
        "id": "ITSHO2nQAZfJ"
      },
      "source": [
        "#### 2017년 국민 청원 데이터 불러오기"
      ]
    },
    {
      "cell_type": "markdown",
      "metadata": {
        "id": "XtpoJFzPhDbb"
      },
      "source": [
        "#### txt 파일(json 형식으로 쓰여있음) -> 한 줄 씩 띄우고, 이를 json 파일로 로드 후 데이터 프레임으로 변환"
      ]
    },
    {
      "cell_type": "code",
      "execution_count": null,
      "metadata": {
        "id": "z5dt2uuTd0yi"
      },
      "outputs": [],
      "source": [
        "import pandas as pd\n",
        "import json\n",
        "\n",
        "file_path_1 = '/content/drive/MyDrive/download/petitions_2017-08.txt'  # 2017년 8월 청원\n",
        "file_path_2 = '/content/drive/MyDrive/download/petitions_2017-09.txt'  # 2017년 9월 청원\n",
        "file_path_3 = '/content/drive/MyDrive/download/petitions_2017-10.txt'  # 2017년 10월 청원\n",
        "file_path_4 = '/content/drive/MyDrive/download/petitions_2017-11.txt'  # 2017년 11월 청원\n",
        "file_path_5 = '/content/drive/MyDrive/download/petitions_2017-12.txt'  # 2017년 12월 청원\n",
        "\n",
        "df_08 = pd.DataFrame()\n",
        "df_09 = pd.DataFrame()\n",
        "df_10 = pd.DataFrame()\n",
        "df_11 = pd.DataFrame()\n",
        "df_12 = pd.DataFrame()\n",
        "\n",
        "\n",
        "file_list = [file_path_1,file_path_2,file_path_3,file_path_4,file_path_5]\n",
        "df_list = [df_08,df_09,df_10,df_11,df_12]\n",
        "\n",
        "\n",
        "\n",
        "index = 0\n",
        "# 파일을 불러오고, 줄마다 띄어준다\n",
        "for file in file_list:\n",
        "    with open(file, 'r', encoding='utf-8', errors='ignore') as f:\n",
        "         content = f.read()\n",
        "\n",
        "    content = content.strip().split('\\n')\n",
        "\n",
        "    data_list = []\n",
        "    for line in content:\n",
        "        try:\n",
        "            # 각 줄을 JSON 객체로 변환하고 리스트에 추가\n",
        "            parsed_data = json.loads(line)\n",
        "            data_list.append(parsed_data)\n",
        "        except json.JSONDecodeError:\n",
        "            # 오류가 발생한 경우, 해당 줄을 무시\n",
        "            continue\n",
        "    df_list[index] = pd.DataFrame(data_list)\n",
        "    index += 1\n",
        "    data_list = []\n",
        "\n",
        "\n",
        "df_08,df_09,df_10,df_11,df_12 = df_list   # 데이터 로드가 끝난 데이터를 언패킹\n"
      ]
    },
    {
      "cell_type": "code",
      "execution_count": null,
      "metadata": {
        "id": "bZ7Izw3WcXDy"
      },
      "outputs": [],
      "source": [
        "all_df_2017 = pd.concat([df_08,df_09,df_10,df_11,df_12])"
      ]
    },
    {
      "cell_type": "code",
      "execution_count": null,
      "metadata": {
        "id": "Wvx3MprVk1yw"
      },
      "outputs": [],
      "source": [
        "all_df_2017 # 2017년 8월부터 12월 후반까지의 청원 데이터\n",
        "all_df_2017.to_csv('all_df_2017',index=False)"
      ]
    },
    {
      "cell_type": "code",
      "execution_count": null,
      "metadata": {
        "colab": {
          "base_uri": "https://localhost:8080/",
          "height": 244
        },
        "id": "xdW3dOUyhtof",
        "outputId": "a43e7c38-8007-436c-a1df-0ed4a7dfd7b4"
      },
      "outputs": [
        {
          "output_type": "execute_result",
          "data": {
            "text/plain": [
              "     category       begin         end content  num_agree petition_idx status  \\\n",
              "840     안전/환경  2017-11-04  2017-12-04             216774        26024    브리핑   \n",
              "1231     성장동력  2017-12-03  2018-01-02             255554        57132    브리핑   \n",
              "1076   인권/성평등  2018-01-03  2018-02-02             233842        79162    브리핑   \n",
              "2514   인권/성평등  2018-01-06  2018-02-05             213219        81026    브리핑   \n",
              "\n",
              "                                              title  \n",
              "840             '주취감형(술을 먹으면 형벌 감형)' 폐지를 건의(청원)합니다.  \n",
              "1231  전안법 합리적으로 개정 또는 폐지해주세요.(소상공인 소비자 모두 죽는법안입니다.)  \n",
              "1076                      미성년자 성폭행 형량 올려주세요 종신형원합니다  \n",
              "2514                            초.중.고 학교 페미니즘교육 의무화  "
            ],
            "text/html": [
              "\n",
              "  <div id=\"df-291e5d73-de2a-420a-b616-b4bd55dfaae8\" class=\"colab-df-container\">\n",
              "    <div>\n",
              "<style scoped>\n",
              "    .dataframe tbody tr th:only-of-type {\n",
              "        vertical-align: middle;\n",
              "    }\n",
              "\n",
              "    .dataframe tbody tr th {\n",
              "        vertical-align: top;\n",
              "    }\n",
              "\n",
              "    .dataframe thead th {\n",
              "        text-align: right;\n",
              "    }\n",
              "</style>\n",
              "<table border=\"1\" class=\"dataframe\">\n",
              "  <thead>\n",
              "    <tr style=\"text-align: right;\">\n",
              "      <th></th>\n",
              "      <th>category</th>\n",
              "      <th>begin</th>\n",
              "      <th>end</th>\n",
              "      <th>content</th>\n",
              "      <th>num_agree</th>\n",
              "      <th>petition_idx</th>\n",
              "      <th>status</th>\n",
              "      <th>title</th>\n",
              "    </tr>\n",
              "  </thead>\n",
              "  <tbody>\n",
              "    <tr>\n",
              "      <th>840</th>\n",
              "      <td>안전/환경</td>\n",
              "      <td>2017-11-04</td>\n",
              "      <td>2017-12-04</td>\n",
              "      <td></td>\n",
              "      <td>216774</td>\n",
              "      <td>26024</td>\n",
              "      <td>브리핑</td>\n",
              "      <td>'주취감형(술을 먹으면 형벌 감형)' 폐지를 건의(청원)합니다.</td>\n",
              "    </tr>\n",
              "    <tr>\n",
              "      <th>1231</th>\n",
              "      <td>성장동력</td>\n",
              "      <td>2017-12-03</td>\n",
              "      <td>2018-01-02</td>\n",
              "      <td></td>\n",
              "      <td>255554</td>\n",
              "      <td>57132</td>\n",
              "      <td>브리핑</td>\n",
              "      <td>전안법 합리적으로 개정 또는 폐지해주세요.(소상공인 소비자 모두 죽는법안입니다.)</td>\n",
              "    </tr>\n",
              "    <tr>\n",
              "      <th>1076</th>\n",
              "      <td>인권/성평등</td>\n",
              "      <td>2018-01-03</td>\n",
              "      <td>2018-02-02</td>\n",
              "      <td></td>\n",
              "      <td>233842</td>\n",
              "      <td>79162</td>\n",
              "      <td>브리핑</td>\n",
              "      <td>미성년자 성폭행 형량 올려주세요 종신형원합니다</td>\n",
              "    </tr>\n",
              "    <tr>\n",
              "      <th>2514</th>\n",
              "      <td>인권/성평등</td>\n",
              "      <td>2018-01-06</td>\n",
              "      <td>2018-02-05</td>\n",
              "      <td></td>\n",
              "      <td>213219</td>\n",
              "      <td>81026</td>\n",
              "      <td>브리핑</td>\n",
              "      <td>초.중.고 학교 페미니즘교육 의무화</td>\n",
              "    </tr>\n",
              "  </tbody>\n",
              "</table>\n",
              "</div>\n",
              "    <div class=\"colab-df-buttons\">\n",
              "\n",
              "  <div class=\"colab-df-container\">\n",
              "    <button class=\"colab-df-convert\" onclick=\"convertToInteractive('df-291e5d73-de2a-420a-b616-b4bd55dfaae8')\"\n",
              "            title=\"Convert this dataframe to an interactive table.\"\n",
              "            style=\"display:none;\">\n",
              "\n",
              "  <svg xmlns=\"http://www.w3.org/2000/svg\" height=\"24px\" viewBox=\"0 -960 960 960\">\n",
              "    <path d=\"M120-120v-720h720v720H120Zm60-500h600v-160H180v160Zm220 220h160v-160H400v160Zm0 220h160v-160H400v160ZM180-400h160v-160H180v160Zm440 0h160v-160H620v160ZM180-180h160v-160H180v160Zm440 0h160v-160H620v160Z\"/>\n",
              "  </svg>\n",
              "    </button>\n",
              "\n",
              "  <style>\n",
              "    .colab-df-container {\n",
              "      display:flex;\n",
              "      gap: 12px;\n",
              "    }\n",
              "\n",
              "    .colab-df-convert {\n",
              "      background-color: #E8F0FE;\n",
              "      border: none;\n",
              "      border-radius: 50%;\n",
              "      cursor: pointer;\n",
              "      display: none;\n",
              "      fill: #1967D2;\n",
              "      height: 32px;\n",
              "      padding: 0 0 0 0;\n",
              "      width: 32px;\n",
              "    }\n",
              "\n",
              "    .colab-df-convert:hover {\n",
              "      background-color: #E2EBFA;\n",
              "      box-shadow: 0px 1px 2px rgba(60, 64, 67, 0.3), 0px 1px 3px 1px rgba(60, 64, 67, 0.15);\n",
              "      fill: #174EA6;\n",
              "    }\n",
              "\n",
              "    .colab-df-buttons div {\n",
              "      margin-bottom: 4px;\n",
              "    }\n",
              "\n",
              "    [theme=dark] .colab-df-convert {\n",
              "      background-color: #3B4455;\n",
              "      fill: #D2E3FC;\n",
              "    }\n",
              "\n",
              "    [theme=dark] .colab-df-convert:hover {\n",
              "      background-color: #434B5C;\n",
              "      box-shadow: 0px 1px 3px 1px rgba(0, 0, 0, 0.15);\n",
              "      filter: drop-shadow(0px 1px 2px rgba(0, 0, 0, 0.3));\n",
              "      fill: #FFFFFF;\n",
              "    }\n",
              "  </style>\n",
              "\n",
              "    <script>\n",
              "      const buttonEl =\n",
              "        document.querySelector('#df-291e5d73-de2a-420a-b616-b4bd55dfaae8 button.colab-df-convert');\n",
              "      buttonEl.style.display =\n",
              "        google.colab.kernel.accessAllowed ? 'block' : 'none';\n",
              "\n",
              "      async function convertToInteractive(key) {\n",
              "        const element = document.querySelector('#df-291e5d73-de2a-420a-b616-b4bd55dfaae8');\n",
              "        const dataTable =\n",
              "          await google.colab.kernel.invokeFunction('convertToInteractive',\n",
              "                                                    [key], {});\n",
              "        if (!dataTable) return;\n",
              "\n",
              "        const docLinkHtml = 'Like what you see? Visit the ' +\n",
              "          '<a target=\"_blank\" href=https://colab.research.google.com/notebooks/data_table.ipynb>data table notebook</a>'\n",
              "          + ' to learn more about interactive tables.';\n",
              "        element.innerHTML = '';\n",
              "        dataTable['output_type'] = 'display_data';\n",
              "        await google.colab.output.renderOutput(dataTable, element);\n",
              "        const docLink = document.createElement('div');\n",
              "        docLink.innerHTML = docLinkHtml;\n",
              "        element.appendChild(docLink);\n",
              "      }\n",
              "    </script>\n",
              "  </div>\n",
              "\n",
              "\n",
              "<div id=\"df-4e4e298b-49f0-4fb4-b90a-1ea4089d0660\">\n",
              "  <button class=\"colab-df-quickchart\" onclick=\"quickchart('df-4e4e298b-49f0-4fb4-b90a-1ea4089d0660')\"\n",
              "            title=\"Suggest charts\"\n",
              "            style=\"display:none;\">\n",
              "\n",
              "<svg xmlns=\"http://www.w3.org/2000/svg\" height=\"24px\"viewBox=\"0 0 24 24\"\n",
              "     width=\"24px\">\n",
              "    <g>\n",
              "        <path d=\"M19 3H5c-1.1 0-2 .9-2 2v14c0 1.1.9 2 2 2h14c1.1 0 2-.9 2-2V5c0-1.1-.9-2-2-2zM9 17H7v-7h2v7zm4 0h-2V7h2v10zm4 0h-2v-4h2v4z\"/>\n",
              "    </g>\n",
              "</svg>\n",
              "  </button>\n",
              "\n",
              "<style>\n",
              "  .colab-df-quickchart {\n",
              "      --bg-color: #E8F0FE;\n",
              "      --fill-color: #1967D2;\n",
              "      --hover-bg-color: #E2EBFA;\n",
              "      --hover-fill-color: #174EA6;\n",
              "      --disabled-fill-color: #AAA;\n",
              "      --disabled-bg-color: #DDD;\n",
              "  }\n",
              "\n",
              "  [theme=dark] .colab-df-quickchart {\n",
              "      --bg-color: #3B4455;\n",
              "      --fill-color: #D2E3FC;\n",
              "      --hover-bg-color: #434B5C;\n",
              "      --hover-fill-color: #FFFFFF;\n",
              "      --disabled-bg-color: #3B4455;\n",
              "      --disabled-fill-color: #666;\n",
              "  }\n",
              "\n",
              "  .colab-df-quickchart {\n",
              "    background-color: var(--bg-color);\n",
              "    border: none;\n",
              "    border-radius: 50%;\n",
              "    cursor: pointer;\n",
              "    display: none;\n",
              "    fill: var(--fill-color);\n",
              "    height: 32px;\n",
              "    padding: 0;\n",
              "    width: 32px;\n",
              "  }\n",
              "\n",
              "  .colab-df-quickchart:hover {\n",
              "    background-color: var(--hover-bg-color);\n",
              "    box-shadow: 0 1px 2px rgba(60, 64, 67, 0.3), 0 1px 3px 1px rgba(60, 64, 67, 0.15);\n",
              "    fill: var(--button-hover-fill-color);\n",
              "  }\n",
              "\n",
              "  .colab-df-quickchart-complete:disabled,\n",
              "  .colab-df-quickchart-complete:disabled:hover {\n",
              "    background-color: var(--disabled-bg-color);\n",
              "    fill: var(--disabled-fill-color);\n",
              "    box-shadow: none;\n",
              "  }\n",
              "\n",
              "  .colab-df-spinner {\n",
              "    border: 2px solid var(--fill-color);\n",
              "    border-color: transparent;\n",
              "    border-bottom-color: var(--fill-color);\n",
              "    animation:\n",
              "      spin 1s steps(1) infinite;\n",
              "  }\n",
              "\n",
              "  @keyframes spin {\n",
              "    0% {\n",
              "      border-color: transparent;\n",
              "      border-bottom-color: var(--fill-color);\n",
              "      border-left-color: var(--fill-color);\n",
              "    }\n",
              "    20% {\n",
              "      border-color: transparent;\n",
              "      border-left-color: var(--fill-color);\n",
              "      border-top-color: var(--fill-color);\n",
              "    }\n",
              "    30% {\n",
              "      border-color: transparent;\n",
              "      border-left-color: var(--fill-color);\n",
              "      border-top-color: var(--fill-color);\n",
              "      border-right-color: var(--fill-color);\n",
              "    }\n",
              "    40% {\n",
              "      border-color: transparent;\n",
              "      border-right-color: var(--fill-color);\n",
              "      border-top-color: var(--fill-color);\n",
              "    }\n",
              "    60% {\n",
              "      border-color: transparent;\n",
              "      border-right-color: var(--fill-color);\n",
              "    }\n",
              "    80% {\n",
              "      border-color: transparent;\n",
              "      border-right-color: var(--fill-color);\n",
              "      border-bottom-color: var(--fill-color);\n",
              "    }\n",
              "    90% {\n",
              "      border-color: transparent;\n",
              "      border-bottom-color: var(--fill-color);\n",
              "    }\n",
              "  }\n",
              "</style>\n",
              "\n",
              "  <script>\n",
              "    async function quickchart(key) {\n",
              "      const quickchartButtonEl =\n",
              "        document.querySelector('#' + key + ' button');\n",
              "      quickchartButtonEl.disabled = true;  // To prevent multiple clicks.\n",
              "      quickchartButtonEl.classList.add('colab-df-spinner');\n",
              "      try {\n",
              "        const charts = await google.colab.kernel.invokeFunction(\n",
              "            'suggestCharts', [key], {});\n",
              "      } catch (error) {\n",
              "        console.error('Error during call to suggestCharts:', error);\n",
              "      }\n",
              "      quickchartButtonEl.classList.remove('colab-df-spinner');\n",
              "      quickchartButtonEl.classList.add('colab-df-quickchart-complete');\n",
              "    }\n",
              "    (() => {\n",
              "      let quickchartButtonEl =\n",
              "        document.querySelector('#df-4e4e298b-49f0-4fb4-b90a-1ea4089d0660 button');\n",
              "      quickchartButtonEl.style.display =\n",
              "        google.colab.kernel.accessAllowed ? 'block' : 'none';\n",
              "    })();\n",
              "  </script>\n",
              "</div>\n",
              "    </div>\n",
              "  </div>\n"
            ],
            "application/vnd.google.colaboratory.intrinsic+json": {
              "type": "dataframe",
              "repr_error": "0"
            }
          },
          "metadata": {},
          "execution_count": 13
        }
      ],
      "source": [
        "all_df_2017[all_df_2017['num_agree'] >= 200000] # 20만건의 동의가 끝난 데이터셋"
      ]
    },
    {
      "cell_type": "markdown",
      "metadata": {
        "id": "q_AUKRMilNGM"
      },
      "source": [
        "#### 데이터 탐색 및 시각화"
      ]
    },
    {
      "cell_type": "code",
      "execution_count": null,
      "metadata": {
        "colab": {
          "base_uri": "https://localhost:8080/",
          "height": 434
        },
        "id": "8OI3mTa_lPa5",
        "outputId": "9c19ac36-27fc-4893-b5c0-86d10be63983"
      },
      "outputs": [
        {
          "output_type": "execute_result",
          "data": {
            "text/plain": [
              "<Axes: ylabel='num_agree'>"
            ]
          },
          "metadata": {},
          "execution_count": 14
        },
        {
          "output_type": "display_data",
          "data": {
            "text/plain": [
              "<Figure size 640x480 with 1 Axes>"
            ],
            "image/png": "[encoded data removed]"
          },
          "metadata": {
            "image/png": {
              "width": 578,
              "height": 399
            }
          }
        }
      ],
      "source": [
        "import seaborn as sns\n",
        "\n",
        "sns.barplot(data=all_df_2017,y='num_agree',hue='category')"
      ]
    },
    {
      "cell_type": "markdown",
      "metadata": {
        "id": "7EqtVitn16yr"
      },
      "source": [
        "#### 2018년 청원 데이터 불러오기 **토픽 모델링**을 위한 데이터"
      ]
    },
    {
      "cell_type": "code",
      "execution_count": null,
      "metadata": {
        "id": "7FEy3ip0pOFX"
      },
      "outputs": [],
      "source": [
        "import pandas as pd\n",
        "\n",
        "file_path_18_1 ='/content/drive/MyDrive/download/petitions_2018-01.txt'\n",
        "file_path_18_2 ='/content/drive/MyDrive/download/petitions_2018-02.txt'\n",
        "file_path_18_3 ='/content/drive/MyDrive/download/petitions_2018-03.txt'\n",
        "file_path_18_4 ='/content/drive/MyDrive/download/petitions_2018-04.txt'\n",
        "file_path_18_5 ='/content/drive/MyDrive/download/petitions_2018-05.txt'\n",
        "file_path_18_6 ='/content/drive/MyDrive/download/petitions_2018-06.txt'\n",
        "file_path_18_7 ='/content/drive/MyDrive/download/petitions_2018-07.txt'\n",
        "file_path_18_8 ='/content/drive/MyDrive/download/petitions_2018-08.txt'\n",
        "file_path_18_9 ='/content/drive/MyDrive/download/petitions_2018-09.txt'\n",
        "file_path_18_10 ='/content/drive/MyDrive/download/petitions_2018-10.txt'\n",
        "file_path_18_11='/content/drive/MyDrive/download/petitions_2018-11.txt'\n",
        "file_path_18_12='/content/drive/MyDrive/download/petitions_2018-12.txt'\n",
        "\n",
        "\n",
        "df_18_1 = pd.DataFrame()\n",
        "df_18_2 = pd.DataFrame()\n",
        "df_18_3 = pd.DataFrame()\n",
        "df_18_4 = pd.DataFrame()\n",
        "df_18_5 = pd.DataFrame()\n",
        "df_18_6 = pd.DataFrame()\n",
        "df_18_7 = pd.DataFrame()\n",
        "df_18_8 = pd.DataFrame()\n",
        "df_18_9 = pd.DataFrame()\n",
        "df_18_10 = pd.DataFrame()\n",
        "df_18_11 = pd.DataFrame()\n",
        "df_18_12 = pd.DataFrame()\n",
        "\n",
        "\n",
        "file_list = [file_path_18_1,file_path_18_2,file_path_18_3,file_path_18_4,file_path_18_5,file_path_18_6,file_path_18_7,file_path_18_8,file_path_18_9,file_path_18_10,file_path_18_11,file_path_18_12,]\n",
        "df_list = [df_18_1,df_18_2,df_18_3,df_18_4,df_18_5,df_18_6,df_18_7,df_18_8,df_18_9,df_18_10,df_18_11,df_18_12]\n",
        "\n",
        "\n",
        "\n",
        "index = 0\n",
        "\n",
        "for file in file_list:\n",
        "    with open(file, 'r', encoding='utf-8', errors='ignore') as f:\n",
        "         content = f.read()\n",
        "\n",
        "    content = content.strip().split('\\n')\n",
        "\n",
        "    data_list = []\n",
        "    for line in content:\n",
        "        try:\n",
        "            # 각 줄을 JSON 객체로 변환하고 리스트에 추가\n",
        "            parsed_data = json.loads(line)\n",
        "            data_list.append(parsed_data)\n",
        "        except json.JSONDecodeError:\n",
        "            # 오류가 발생한 경우, 해당 줄을 무시\n",
        "            continue\n",
        "    df_list[index] = pd.DataFrame(data_list)\n",
        "    index += 1\n",
        "    data_list = []\n",
        "\n",
        "\n",
        "df_18_1,df_18_2,df_18_3,df_18_4,df_18_5,df_18_6,df_18_7,df_18_8,df_18_9,df_18_10,df_18_11,df_18_12 = df_list   # 데이터 로드가 끝난 데이터를 언패킹"
      ]
    },
    {
      "cell_type": "code",
      "execution_count": null,
      "metadata": {
        "id": "JAlHKqJxqp06"
      },
      "outputs": [],
      "source": [
        "all_df_2018 = pd.concat([df_18_1,df_18_2,df_18_3,df_18_4,df_18_5,df_18_6,df_18_7,df_18_8,df_18_9,df_18_10,df_18_11,df_18_12])"
      ]
    },
    {
      "cell_type": "code",
      "execution_count": null,
      "metadata": {
        "id": "M9BuRi_ARuSN"
      },
      "outputs": [],
      "source": [
        "all_df_2018 # 2018년 전체 데이터\n",
        "all_df_2018.to_csv('all_df.2018',index=False)"
      ]
    },
    {
      "cell_type": "markdown",
      "metadata": {
        "id": "UsShvUKCtKW7"
      },
      "source": [
        "#### 2017년 08월~12월 데이터, 2018년 청원 데이터 데이터 탐색 및 시각화"
      ]
    },
    {
      "cell_type": "code",
      "execution_count": null,
      "metadata": {
        "colab": {
          "base_uri": "https://localhost:8080/",
          "height": 736
        },
        "id": "uQyf8FM_trS2",
        "outputId": "31d37a7b-e3d9-4ee1-d384-9ccb44dd4512"
      },
      "outputs": [
        {
          "output_type": "execute_result",
          "data": {
            "text/plain": [
              "          category       begin         end  \\\n",
              "0               행정  2018-01-01  2018-01-31   \n",
              "1               기타  2018-01-01  2018-01-31   \n",
              "2             정치개혁  2018-01-01  2018-01-31   \n",
              "3           인권/성평등  2018-01-01  2018-01-31   \n",
              "4         외교/통일/국방  2018-01-01  2018-01-31   \n",
              "...            ...         ...         ...   \n",
              "19994         정치개혁  2018-12-31  2019-01-30   \n",
              "19995  문화/예술/체육/언론  2018-12-31  2019-01-30   \n",
              "19996         정치개혁  2018-12-31  2019-01-30   \n",
              "19997     외교/통일/국방  2018-12-31  2019-01-30   \n",
              "19998        육아/교육  2018-12-31  2019-01-30   \n",
              "\n",
              "                                                 content  num_agree  \\\n",
              "0      이런 국민청원하는 게시판에서 뭐 섹스,희주야'''''이런 이상한 글 올라오는데 여기...          6   \n",
              "1      \"배틀 그라운드\"는 현재 세계적으로나 우리나라 에서나 매우 흥행 하는 게임입니다. ...          1   \n",
              "2      적폐청산의 시금석 양심수들의 특별사면 배제 문재인 정부를 규탄한다. 지난 12월 2...          0   \n",
              "3      안녕하세요. 살벌한 독재시대를 떠나, 대한민국 민주화를 이룩하신 수많은 열사들이, ...          3   \n",
              "4      Uae 괸련한 야당 질의와 관련하여 기본적으로 유시민 작가의 말씀에 동의하여 국익에...          0   \n",
              "...                                                  ...        ...   \n",
              "19994  공개할거면 내용 그대로 공개 하고 '의역 = 허위 과장' 하지 마세요... 지난 번...          6   \n",
              "19995                                      엑소 해체해주세요 빨리요         21   \n",
              "19996                                          박근혜를 사면하라          5   \n",
              "19997  국방의 의무를 피하기위해 의도적으로 체중감량을한 지인의 재검을 희망합니다. 의도적으...          2   \n",
              "19998  현재 학생부종합전형이 대학 입시에서 큰 부분을 차지하고 있어 학생들은 잠도 못자며 ...         12   \n",
              "\n",
              "      petition_idx status                                            title  \\\n",
              "0            77785   청원종료                         아...이런데서 이상한 글이 올라오네요...   \n",
              "1            77786   청원종료  현재 사람들 사이에서 유행하는 게임 \"배틀 그라운드\" 에 대한 제재를 가하려 합니다.   \n",
              "2            77787   청원종료                                  양심수 석방 국가보안법 철폐   \n",
              "3            77788   청원종료                          민주화유공자들에 대한 국가유공자 인정 요청   \n",
              "4            77789   청원종료                                           UAE 관련   \n",
              "...            ...    ...                                              ...   \n",
              "19994       483900   청원종료                          김정은 친서 의역 금지 및 공개 청원...   \n",
              "19995       483902   청원종료                                            엑소 해체   \n",
              "19996       483903   청원종료                                        박근혜를 사면하라   \n",
              "19997       483904   청원종료         국방의 의무를 피하기위해 의도적으로 체중감량을한 지인의 재검을 희망합니다   \n",
              "19998       483905   청원종료                                     학생부종합전형의 문제점   \n",
              "\n",
              "      replies  \n",
              "0         NaN  \n",
              "1         NaN  \n",
              "2         NaN  \n",
              "3         NaN  \n",
              "4         NaN  \n",
              "...       ...  \n",
              "19994     NaN  \n",
              "19995     NaN  \n",
              "19996     NaN  \n",
              "19997     NaN  \n",
              "19998     NaN  \n",
              "\n",
              "[298459 rows x 9 columns]"
            ],
            "text/html": [
              "\n",
              "  <div id=\"df-200ec649-d1c5-4b77-ba09-a623caabeef4\" class=\"colab-df-container\">\n",
              "    <div>\n",
              "<style scoped>\n",
              "    .dataframe tbody tr th:only-of-type {\n",
              "        vertical-align: middle;\n",
              "    }\n",
              "\n",
              "    .dataframe tbody tr th {\n",
              "        vertical-align: top;\n",
              "    }\n",
              "\n",
              "    .dataframe thead th {\n",
              "        text-align: right;\n",
              "    }\n",
              "</style>\n",
              "<table border=\"1\" class=\"dataframe\">\n",
              "  <thead>\n",
              "    <tr style=\"text-align: right;\">\n",
              "      <th></th>\n",
              "      <th>category</th>\n",
              "      <th>begin</th>\n",
              "      <th>end</th>\n",
              "      <th>content</th>\n",
              "      <th>num_agree</th>\n",
              "      <th>petition_idx</th>\n",
              "      <th>status</th>\n",
              "      <th>title</th>\n",
              "      <th>replies</th>\n",
              "    </tr>\n",
              "  </thead>\n",
              "  <tbody>\n",
              "    <tr>\n",
              "      <th>0</th>\n",
              "      <td>행정</td>\n",
              "      <td>2018-01-01</td>\n",
              "      <td>2018-01-31</td>\n",
              "      <td>이런 국민청원하는 게시판에서 뭐 섹스,희주야'''''이런 이상한 글 올라오는데 여기...</td>\n",
              "      <td>6</td>\n",
              "      <td>77785</td>\n",
              "      <td>청원종료</td>\n",
              "      <td>아...이런데서 이상한 글이 올라오네요...</td>\n",
              "      <td>NaN</td>\n",
              "    </tr>\n",
              "    <tr>\n",
              "      <th>1</th>\n",
              "      <td>기타</td>\n",
              "      <td>2018-01-01</td>\n",
              "      <td>2018-01-31</td>\n",
              "      <td>\"배틀 그라운드\"는 현재 세계적으로나 우리나라 에서나 매우 흥행 하는 게임입니다. ...</td>\n",
              "      <td>1</td>\n",
              "      <td>77786</td>\n",
              "      <td>청원종료</td>\n",
              "      <td>현재 사람들 사이에서 유행하는 게임 \"배틀 그라운드\" 에 대한 제재를 가하려 합니다.</td>\n",
              "      <td>NaN</td>\n",
              "    </tr>\n",
              "    <tr>\n",
              "      <th>2</th>\n",
              "      <td>정치개혁</td>\n",
              "      <td>2018-01-01</td>\n",
              "      <td>2018-01-31</td>\n",
              "      <td>적폐청산의 시금석 양심수들의 특별사면 배제 문재인 정부를 규탄한다. 지난 12월 2...</td>\n",
              "      <td>0</td>\n",
              "      <td>77787</td>\n",
              "      <td>청원종료</td>\n",
              "      <td>양심수 석방 국가보안법 철폐</td>\n",
              "      <td>NaN</td>\n",
              "    </tr>\n",
              "    <tr>\n",
              "      <th>3</th>\n",
              "      <td>인권/성평등</td>\n",
              "      <td>2018-01-01</td>\n",
              "      <td>2018-01-31</td>\n",
              "      <td>안녕하세요. 살벌한 독재시대를 떠나, 대한민국 민주화를 이룩하신 수많은 열사들이, ...</td>\n",
              "      <td>3</td>\n",
              "      <td>77788</td>\n",
              "      <td>청원종료</td>\n",
              "      <td>민주화유공자들에 대한 국가유공자 인정 요청</td>\n",
              "      <td>NaN</td>\n",
              "    </tr>\n",
              "    <tr>\n",
              "      <th>4</th>\n",
              "      <td>외교/통일/국방</td>\n",
              "      <td>2018-01-01</td>\n",
              "      <td>2018-01-31</td>\n",
              "      <td>Uae 괸련한 야당 질의와 관련하여 기본적으로 유시민 작가의 말씀에 동의하여 국익에...</td>\n",
              "      <td>0</td>\n",
              "      <td>77789</td>\n",
              "      <td>청원종료</td>\n",
              "      <td>UAE 관련</td>\n",
              "      <td>NaN</td>\n",
              "    </tr>\n",
              "    <tr>\n",
              "      <th>...</th>\n",
              "      <td>...</td>\n",
              "      <td>...</td>\n",
              "      <td>...</td>\n",
              "      <td>...</td>\n",
              "      <td>...</td>\n",
              "      <td>...</td>\n",
              "      <td>...</td>\n",
              "      <td>...</td>\n",
              "      <td>...</td>\n",
              "    </tr>\n",
              "    <tr>\n",
              "      <th>19994</th>\n",
              "      <td>정치개혁</td>\n",
              "      <td>2018-12-31</td>\n",
              "      <td>2019-01-30</td>\n",
              "      <td>공개할거면 내용 그대로 공개 하고 '의역 = 허위 과장' 하지 마세요... 지난 번...</td>\n",
              "      <td>6</td>\n",
              "      <td>483900</td>\n",
              "      <td>청원종료</td>\n",
              "      <td>김정은 친서 의역 금지 및 공개 청원...</td>\n",
              "      <td>NaN</td>\n",
              "    </tr>\n",
              "    <tr>\n",
              "      <th>19995</th>\n",
              "      <td>문화/예술/체육/언론</td>\n",
              "      <td>2018-12-31</td>\n",
              "      <td>2019-01-30</td>\n",
              "      <td>엑소 해체해주세요 빨리요</td>\n",
              "      <td>21</td>\n",
              "      <td>483902</td>\n",
              "      <td>청원종료</td>\n",
              "      <td>엑소 해체</td>\n",
              "      <td>NaN</td>\n",
              "    </tr>\n",
              "    <tr>\n",
              "      <th>19996</th>\n",
              "      <td>정치개혁</td>\n",
              "      <td>2018-12-31</td>\n",
              "      <td>2019-01-30</td>\n",
              "      <td>박근혜를 사면하라</td>\n",
              "      <td>5</td>\n",
              "      <td>483903</td>\n",
              "      <td>청원종료</td>\n",
              "      <td>박근혜를 사면하라</td>\n",
              "      <td>NaN</td>\n",
              "    </tr>\n",
              "    <tr>\n",
              "      <th>19997</th>\n",
              "      <td>외교/통일/국방</td>\n",
              "      <td>2018-12-31</td>\n",
              "      <td>2019-01-30</td>\n",
              "      <td>국방의 의무를 피하기위해 의도적으로 체중감량을한 지인의 재검을 희망합니다. 의도적으...</td>\n",
              "      <td>2</td>\n",
              "      <td>483904</td>\n",
              "      <td>청원종료</td>\n",
              "      <td>국방의 의무를 피하기위해 의도적으로 체중감량을한 지인의 재검을 희망합니다</td>\n",
              "      <td>NaN</td>\n",
              "    </tr>\n",
              "    <tr>\n",
              "      <th>19998</th>\n",
              "      <td>육아/교육</td>\n",
              "      <td>2018-12-31</td>\n",
              "      <td>2019-01-30</td>\n",
              "      <td>현재 학생부종합전형이 대학 입시에서 큰 부분을 차지하고 있어 학생들은 잠도 못자며 ...</td>\n",
              "      <td>12</td>\n",
              "      <td>483905</td>\n",
              "      <td>청원종료</td>\n",
              "      <td>학생부종합전형의 문제점</td>\n",
              "      <td>NaN</td>\n",
              "    </tr>\n",
              "  </tbody>\n",
              "</table>\n",
              "<p>298459 rows × 9 columns</p>\n",
              "</div>\n",
              "    <div class=\"colab-df-buttons\">\n",
              "\n",
              "  <div class=\"colab-df-container\">\n",
              "    <button class=\"colab-df-convert\" onclick=\"convertToInteractive('df-200ec649-d1c5-4b77-ba09-a623caabeef4')\"\n",
              "            title=\"Convert this dataframe to an interactive table.\"\n",
              "            style=\"display:none;\">\n",
              "\n",
              "  <svg xmlns=\"http://www.w3.org/2000/svg\" height=\"24px\" viewBox=\"0 -960 960 960\">\n",
              "    <path d=\"M120-120v-720h720v720H120Zm60-500h600v-160H180v160Zm220 220h160v-160H400v160Zm0 220h160v-160H400v160ZM180-400h160v-160H180v160Zm440 0h160v-160H620v160ZM180-180h160v-160H180v160Zm440 0h160v-160H620v160Z\"/>\n",
              "  </svg>\n",
              "    </button>\n",
              "\n",
              "  <style>\n",
              "    .colab-df-container {\n",
              "      display:flex;\n",
              "      gap: 12px;\n",
              "    }\n",
              "\n",
              "    .colab-df-convert {\n",
              "      background-color: #E8F0FE;\n",
              "      border: none;\n",
              "      border-radius: 50%;\n",
              "      cursor: pointer;\n",
              "      display: none;\n",
              "      fill: #1967D2;\n",
              "      height: 32px;\n",
              "      padding: 0 0 0 0;\n",
              "      width: 32px;\n",
              "    }\n",
              "\n",
              "    .colab-df-convert:hover {\n",
              "      background-color: #E2EBFA;\n",
              "      box-shadow: 0px 1px 2px rgba(60, 64, 67, 0.3), 0px 1px 3px 1px rgba(60, 64, 67, 0.15);\n",
              "      fill: #174EA6;\n",
              "    }\n",
              "\n",
              "    .colab-df-buttons div {\n",
              "      margin-bottom: 4px;\n",
              "    }\n",
              "\n",
              "    [theme=dark] .colab-df-convert {\n",
              "      background-color: #3B4455;\n",
              "      fill: #D2E3FC;\n",
              "    }\n",
              "\n",
              "    [theme=dark] .colab-df-convert:hover {\n",
              "      background-color: #434B5C;\n",
              "      box-shadow: 0px 1px 3px 1px rgba(0, 0, 0, 0.15);\n",
              "      filter: drop-shadow(0px 1px 2px rgba(0, 0, 0, 0.3));\n",
              "      fill: #FFFFFF;\n",
              "    }\n",
              "  </style>\n",
              "\n",
              "    <script>\n",
              "      const buttonEl =\n",
              "        document.querySelector('#df-200ec649-d1c5-4b77-ba09-a623caabeef4 button.colab-df-convert');\n",
              "      buttonEl.style.display =\n",
              "        google.colab.kernel.accessAllowed ? 'block' : 'none';\n",
              "\n",
              "      async function convertToInteractive(key) {\n",
              "        const element = document.querySelector('#df-200ec649-d1c5-4b77-ba09-a623caabeef4');\n",
              "        const dataTable =\n",
              "          await google.colab.kernel.invokeFunction('convertToInteractive',\n",
              "                                                    [key], {});\n",
              "        if (!dataTable) return;\n",
              "\n",
              "        const docLinkHtml = 'Like what you see? Visit the ' +\n",
              "          '<a target=\"_blank\" href=https://colab.research.google.com/notebooks/data_table.ipynb>data table notebook</a>'\n",
              "          + ' to learn more about interactive tables.';\n",
              "        element.innerHTML = '';\n",
              "        dataTable['output_type'] = 'display_data';\n",
              "        await google.colab.output.renderOutput(dataTable, element);\n",
              "        const docLink = document.createElement('div');\n",
              "        docLink.innerHTML = docLinkHtml;\n",
              "        element.appendChild(docLink);\n",
              "      }\n",
              "    </script>\n",
              "  </div>\n",
              "\n",
              "\n",
              "<div id=\"df-156bb29b-2b6b-4f76-ab34-a11eb855561d\">\n",
              "  <button class=\"colab-df-quickchart\" onclick=\"quickchart('df-156bb29b-2b6b-4f76-ab34-a11eb855561d')\"\n",
              "            title=\"Suggest charts\"\n",
              "            style=\"display:none;\">\n",
              "\n",
              "<svg xmlns=\"http://www.w3.org/2000/svg\" height=\"24px\"viewBox=\"0 0 24 24\"\n",
              "     width=\"24px\">\n",
              "    <g>\n",
              "        <path d=\"M19 3H5c-1.1 0-2 .9-2 2v14c0 1.1.9 2 2 2h14c1.1 0 2-.9 2-2V5c0-1.1-.9-2-2-2zM9 17H7v-7h2v7zm4 0h-2V7h2v10zm4 0h-2v-4h2v4z\"/>\n",
              "    </g>\n",
              "</svg>\n",
              "  </button>\n",
              "\n",
              "<style>\n",
              "  .colab-df-quickchart {\n",
              "      --bg-color: #E8F0FE;\n",
              "      --fill-color: #1967D2;\n",
              "      --hover-bg-color: #E2EBFA;\n",
              "      --hover-fill-color: #174EA6;\n",
              "      --disabled-fill-color: #AAA;\n",
              "      --disabled-bg-color: #DDD;\n",
              "  }\n",
              "\n",
              "  [theme=dark] .colab-df-quickchart {\n",
              "      --bg-color: #3B4455;\n",
              "      --fill-color: #D2E3FC;\n",
              "      --hover-bg-color: #434B5C;\n",
              "      --hover-fill-color: #FFFFFF;\n",
              "      --disabled-bg-color: #3B4455;\n",
              "      --disabled-fill-color: #666;\n",
              "  }\n",
              "\n",
              "  .colab-df-quickchart {\n",
              "    background-color: var(--bg-color);\n",
              "    border: none;\n",
              "    border-radius: 50%;\n",
              "    cursor: pointer;\n",
              "    display: none;\n",
              "    fill: var(--fill-color);\n",
              "    height: 32px;\n",
              "    padding: 0;\n",
              "    width: 32px;\n",
              "  }\n",
              "\n",
              "  .colab-df-quickchart:hover {\n",
              "    background-color: var(--hover-bg-color);\n",
              "    box-shadow: 0 1px 2px rgba(60, 64, 67, 0.3), 0 1px 3px 1px rgba(60, 64, 67, 0.15);\n",
              "    fill: var(--button-hover-fill-color);\n",
              "  }\n",
              "\n",
              "  .colab-df-quickchart-complete:disabled,\n",
              "  .colab-df-quickchart-complete:disabled:hover {\n",
              "    background-color: var(--disabled-bg-color);\n",
              "    fill: var(--disabled-fill-color);\n",
              "    box-shadow: none;\n",
              "  }\n",
              "\n",
              "  .colab-df-spinner {\n",
              "    border: 2px solid var(--fill-color);\n",
              "    border-color: transparent;\n",
              "    border-bottom-color: var(--fill-color);\n",
              "    animation:\n",
              "      spin 1s steps(1) infinite;\n",
              "  }\n",
              "\n",
              "  @keyframes spin {\n",
              "    0% {\n",
              "      border-color: transparent;\n",
              "      border-bottom-color: var(--fill-color);\n",
              "      border-left-color: var(--fill-color);\n",
              "    }\n",
              "    20% {\n",
              "      border-color: transparent;\n",
              "      border-left-color: var(--fill-color);\n",
              "      border-top-color: var(--fill-color);\n",
              "    }\n",
              "    30% {\n",
              "      border-color: transparent;\n",
              "      border-left-color: var(--fill-color);\n",
              "      border-top-color: var(--fill-color);\n",
              "      border-right-color: var(--fill-color);\n",
              "    }\n",
              "    40% {\n",
              "      border-color: transparent;\n",
              "      border-right-color: var(--fill-color);\n",
              "      border-top-color: var(--fill-color);\n",
              "    }\n",
              "    60% {\n",
              "      border-color: transparent;\n",
              "      border-right-color: var(--fill-color);\n",
              "    }\n",
              "    80% {\n",
              "      border-color: transparent;\n",
              "      border-right-color: var(--fill-color);\n",
              "      border-bottom-color: var(--fill-color);\n",
              "    }\n",
              "    90% {\n",
              "      border-color: transparent;\n",
              "      border-bottom-color: var(--fill-color);\n",
              "    }\n",
              "  }\n",
              "</style>\n",
              "\n",
              "  <script>\n",
              "    async function quickchart(key) {\n",
              "      const quickchartButtonEl =\n",
              "        document.querySelector('#' + key + ' button');\n",
              "      quickchartButtonEl.disabled = true;  // To prevent multiple clicks.\n",
              "      quickchartButtonEl.classList.add('colab-df-spinner');\n",
              "      try {\n",
              "        const charts = await google.colab.kernel.invokeFunction(\n",
              "            'suggestCharts', [key], {});\n",
              "      } catch (error) {\n",
              "        console.error('Error during call to suggestCharts:', error);\n",
              "      }\n",
              "      quickchartButtonEl.classList.remove('colab-df-spinner');\n",
              "      quickchartButtonEl.classList.add('colab-df-quickchart-complete');\n",
              "    }\n",
              "    (() => {\n",
              "      let quickchartButtonEl =\n",
              "        document.querySelector('#df-156bb29b-2b6b-4f76-ab34-a11eb855561d button');\n",
              "      quickchartButtonEl.style.display =\n",
              "        google.colab.kernel.accessAllowed ? 'block' : 'none';\n",
              "    })();\n",
              "  </script>\n",
              "</div>\n",
              "    </div>\n",
              "  </div>\n"
            ],
            "application/vnd.google.colaboratory.intrinsic+json": {
              "type": "dataframe",
              "variable_name": "all_df_2018"
            }
          },
          "metadata": {},
          "execution_count": 19
        }
      ],
      "source": [
        "all_df_2018"
      ]
    },
    {
      "cell_type": "code",
      "execution_count": null,
      "metadata": {
        "id": "_5V9vdV6Mj4L"
      },
      "outputs": [],
      "source": [
        "all_df_2018.info()"
      ]
    },
    {
      "cell_type": "code",
      "execution_count": null,
      "metadata": {
        "colab": {
          "base_uri": "https://localhost:8080/",
          "height": 771
        },
        "id": "dN61LwMVNXQ5",
        "outputId": "f8a861c1-a718-4536-d25f-dd5e26b7186e"
      },
      "outputs": [
        {
          "output_type": "execute_result",
          "data": {
            "text/plain": [
              "          category       begin         end  \\\n",
              "48              기타  2018-01-01  2018-01-31   \n",
              "324    문화/예술/체육/언론  2018-01-01  2018-01-31   \n",
              "338            일자리  2018-01-01  2018-01-31   \n",
              "358         인권/성평등  2018-01-02  2018-02-01   \n",
              "390          육아/교육  2018-01-02  2018-02-01   \n",
              "...            ...         ...         ...   \n",
              "19713         보건복지  2018-12-31  2019-01-30   \n",
              "19751     교통/건축/국토  2018-12-31  2019-01-30   \n",
              "19898       인권/성평등  2018-12-31  2019-01-30   \n",
              "19924         보건복지  2018-12-31  2019-01-30   \n",
              "19925     교통/건축/국토  2018-12-31  2019-01-30   \n",
              "\n",
              "                                                 content  num_agree  \\\n",
              "48     당시 김샘 학생이 시위하던 곳은 금지된 구역이 아니었으며 때문에 공동주거침입 혐의로...       1852   \n",
              "324    간호조무사의 평창올림픽 의료봉사 지원 반대하고 '의료인'으로 대체하는 것을 청원합니...       1603   \n",
              "338    안녕하세요. 정권이 바뀌고부터 대통령님과 정부에서 추진하시는 비정규직의 정규직화정책...        724   \n",
              "358    동성결혼을 인정해 주십시오. 어른들은 모든 아이들에게 가르칩니다. 틀린 것과 다른 ...       8032   \n",
              "390    안녕하십니까.. 저는 현재 보육교사로 근무하고 있는 박민정 입니다. 늦은 나이에 아...       6389   \n",
              "...                                                  ...        ...   \n",
              "19713  제가 요청하는건 두가지입니다 1. 만40세에 받는 유방암 검진나이를 낮춰주세요 2....        528   \n",
              "19751  의정부 민락신도시는 인구 10만 이상이 거주하는 거대 도시로 계획되어 개발되고 있습...       1276   \n",
              "19898  2018년 12월 29일 오전 10시 즈음 수원시 권선구 소재 초등학교 인근에서 발...       2241   \n",
              "19924  2019년 새해로 넘어가는 마지막 날, 강북 삼성병원에서 근무하시던 정신과 교수님께...      69153   \n",
              "19925  저는 지금 카니발을 소유한지 7년입니다. 차량검사시 아무문제없던 사이드스텝이 언제부...        939   \n",
              "\n",
              "      petition_idx status                                              title  \\\n",
              "48           77840   청원종료      위안부 합의 무효를 위해 힘든 재판을 견디고 있을 김샘학생의 무죄선고를 청원합니다   \n",
              "324          78203   청원종료   간호조무사의 평창올림픽 의료봉사 지원 반대하고 '의료인'으로 대체하는 것을 청원합니다.   \n",
              "338          78221   청원종료  비정규직의 정규직화에 대한 기준을 다시 재고하여주십시오.  무분별한 정규직화에 반대...   \n",
              "358          78244   청원종료                                    동성결혼을 합법화 해주세요.   \n",
              "390          78281   청원종료                                          보육교사 권리보장   \n",
              "...            ...    ...                                                ...   \n",
              "19713       483517   청원종료                          유방암 국가검진 더 일찍 받을수 있게 해주세요   \n",
              "19751       483568   청원종료                            민락2지구 7호선 정거장 설치에 관한 청원   \n",
              "19898       483769   청원종료                      20대 정신 이상자, 85세 할머니를 뇌사에 빠트리다   \n",
              "19924       483805   청원종료                강북 삼성병원 의료진 사망사건에 관련한 의료 안정성을 위한 청원   \n",
              "19925       483807   청원종료                                    자동차 사이드스텝 규정 완화   \n",
              "\n",
              "      replies  \n",
              "48        NaN  \n",
              "324       NaN  \n",
              "338       NaN  \n",
              "358       NaN  \n",
              "390       NaN  \n",
              "...       ...  \n",
              "19713     NaN  \n",
              "19751     NaN  \n",
              "19898     NaN  \n",
              "19924     NaN  \n",
              "19925     NaN  \n",
              "\n",
              "[4362 rows x 9 columns]"
            ],
            "text/html": [
              "\n",
              "  <div id=\"df-8945c5bb-046a-4671-aa47-b88c26206ce4\" class=\"colab-df-container\">\n",
              "    <div>\n",
              "<style scoped>\n",
              "    .dataframe tbody tr th:only-of-type {\n",
              "        vertical-align: middle;\n",
              "    }\n",
              "\n",
              "    .dataframe tbody tr th {\n",
              "        vertical-align: top;\n",
              "    }\n",
              "\n",
              "    .dataframe thead th {\n",
              "        text-align: right;\n",
              "    }\n",
              "</style>\n",
              "<table border=\"1\" class=\"dataframe\">\n",
              "  <thead>\n",
              "    <tr style=\"text-align: right;\">\n",
              "      <th></th>\n",
              "      <th>category</th>\n",
              "      <th>begin</th>\n",
              "      <th>end</th>\n",
              "      <th>content</th>\n",
              "      <th>num_agree</th>\n",
              "      <th>petition_idx</th>\n",
              "      <th>status</th>\n",
              "      <th>title</th>\n",
              "      <th>replies</th>\n",
              "    </tr>\n",
              "  </thead>\n",
              "  <tbody>\n",
              "    <tr>\n",
              "      <th>48</th>\n",
              "      <td>기타</td>\n",
              "      <td>2018-01-01</td>\n",
              "      <td>2018-01-31</td>\n",
              "      <td>당시 김샘 학생이 시위하던 곳은 금지된 구역이 아니었으며 때문에 공동주거침입 혐의로...</td>\n",
              "      <td>1852</td>\n",
              "      <td>77840</td>\n",
              "      <td>청원종료</td>\n",
              "      <td>위안부 합의 무효를 위해 힘든 재판을 견디고 있을 김샘학생의 무죄선고를 청원합니다</td>\n",
              "      <td>NaN</td>\n",
              "    </tr>\n",
              "    <tr>\n",
              "      <th>324</th>\n",
              "      <td>문화/예술/체육/언론</td>\n",
              "      <td>2018-01-01</td>\n",
              "      <td>2018-01-31</td>\n",
              "      <td>간호조무사의 평창올림픽 의료봉사 지원 반대하고 '의료인'으로 대체하는 것을 청원합니...</td>\n",
              "      <td>1603</td>\n",
              "      <td>78203</td>\n",
              "      <td>청원종료</td>\n",
              "      <td>간호조무사의 평창올림픽 의료봉사 지원 반대하고 '의료인'으로 대체하는 것을 청원합니다.</td>\n",
              "      <td>NaN</td>\n",
              "    </tr>\n",
              "    <tr>\n",
              "      <th>338</th>\n",
              "      <td>일자리</td>\n",
              "      <td>2018-01-01</td>\n",
              "      <td>2018-01-31</td>\n",
              "      <td>안녕하세요. 정권이 바뀌고부터 대통령님과 정부에서 추진하시는 비정규직의 정규직화정책...</td>\n",
              "      <td>724</td>\n",
              "      <td>78221</td>\n",
              "      <td>청원종료</td>\n",
              "      <td>비정규직의 정규직화에 대한 기준을 다시 재고하여주십시오.  무분별한 정규직화에 반대...</td>\n",
              "      <td>NaN</td>\n",
              "    </tr>\n",
              "    <tr>\n",
              "      <th>358</th>\n",
              "      <td>인권/성평등</td>\n",
              "      <td>2018-01-02</td>\n",
              "      <td>2018-02-01</td>\n",
              "      <td>동성결혼을 인정해 주십시오. 어른들은 모든 아이들에게 가르칩니다. 틀린 것과 다른 ...</td>\n",
              "      <td>8032</td>\n",
              "      <td>78244</td>\n",
              "      <td>청원종료</td>\n",
              "      <td>동성결혼을 합법화 해주세요.</td>\n",
              "      <td>NaN</td>\n",
              "    </tr>\n",
              "    <tr>\n",
              "      <th>390</th>\n",
              "      <td>육아/교육</td>\n",
              "      <td>2018-01-02</td>\n",
              "      <td>2018-02-01</td>\n",
              "      <td>안녕하십니까.. 저는 현재 보육교사로 근무하고 있는 박민정 입니다. 늦은 나이에 아...</td>\n",
              "      <td>6389</td>\n",
              "      <td>78281</td>\n",
              "      <td>청원종료</td>\n",
              "      <td>보육교사 권리보장</td>\n",
              "      <td>NaN</td>\n",
              "    </tr>\n",
              "    <tr>\n",
              "      <th>...</th>\n",
              "      <td>...</td>\n",
              "      <td>...</td>\n",
              "      <td>...</td>\n",
              "      <td>...</td>\n",
              "      <td>...</td>\n",
              "      <td>...</td>\n",
              "      <td>...</td>\n",
              "      <td>...</td>\n",
              "      <td>...</td>\n",
              "    </tr>\n",
              "    <tr>\n",
              "      <th>19713</th>\n",
              "      <td>보건복지</td>\n",
              "      <td>2018-12-31</td>\n",
              "      <td>2019-01-30</td>\n",
              "      <td>제가 요청하는건 두가지입니다 1. 만40세에 받는 유방암 검진나이를 낮춰주세요 2....</td>\n",
              "      <td>528</td>\n",
              "      <td>483517</td>\n",
              "      <td>청원종료</td>\n",
              "      <td>유방암 국가검진 더 일찍 받을수 있게 해주세요</td>\n",
              "      <td>NaN</td>\n",
              "    </tr>\n",
              "    <tr>\n",
              "      <th>19751</th>\n",
              "      <td>교통/건축/국토</td>\n",
              "      <td>2018-12-31</td>\n",
              "      <td>2019-01-30</td>\n",
              "      <td>의정부 민락신도시는 인구 10만 이상이 거주하는 거대 도시로 계획되어 개발되고 있습...</td>\n",
              "      <td>1276</td>\n",
              "      <td>483568</td>\n",
              "      <td>청원종료</td>\n",
              "      <td>민락2지구 7호선 정거장 설치에 관한 청원</td>\n",
              "      <td>NaN</td>\n",
              "    </tr>\n",
              "    <tr>\n",
              "      <th>19898</th>\n",
              "      <td>인권/성평등</td>\n",
              "      <td>2018-12-31</td>\n",
              "      <td>2019-01-30</td>\n",
              "      <td>2018년 12월 29일 오전 10시 즈음 수원시 권선구 소재 초등학교 인근에서 발...</td>\n",
              "      <td>2241</td>\n",
              "      <td>483769</td>\n",
              "      <td>청원종료</td>\n",
              "      <td>20대 정신 이상자, 85세 할머니를 뇌사에 빠트리다</td>\n",
              "      <td>NaN</td>\n",
              "    </tr>\n",
              "    <tr>\n",
              "      <th>19924</th>\n",
              "      <td>보건복지</td>\n",
              "      <td>2018-12-31</td>\n",
              "      <td>2019-01-30</td>\n",
              "      <td>2019년 새해로 넘어가는 마지막 날, 강북 삼성병원에서 근무하시던 정신과 교수님께...</td>\n",
              "      <td>69153</td>\n",
              "      <td>483805</td>\n",
              "      <td>청원종료</td>\n",
              "      <td>강북 삼성병원 의료진 사망사건에 관련한 의료 안정성을 위한 청원</td>\n",
              "      <td>NaN</td>\n",
              "    </tr>\n",
              "    <tr>\n",
              "      <th>19925</th>\n",
              "      <td>교통/건축/국토</td>\n",
              "      <td>2018-12-31</td>\n",
              "      <td>2019-01-30</td>\n",
              "      <td>저는 지금 카니발을 소유한지 7년입니다. 차량검사시 아무문제없던 사이드스텝이 언제부...</td>\n",
              "      <td>939</td>\n",
              "      <td>483807</td>\n",
              "      <td>청원종료</td>\n",
              "      <td>자동차 사이드스텝 규정 완화</td>\n",
              "      <td>NaN</td>\n",
              "    </tr>\n",
              "  </tbody>\n",
              "</table>\n",
              "<p>4362 rows × 9 columns</p>\n",
              "</div>\n",
              "    <div class=\"colab-df-buttons\">\n",
              "\n",
              "  <div class=\"colab-df-container\">\n",
              "    <button class=\"colab-df-convert\" onclick=\"convertToInteractive('df-8945c5bb-046a-4671-aa47-b88c26206ce4')\"\n",
              "            title=\"Convert this dataframe to an interactive table.\"\n",
              "            style=\"display:none;\">\n",
              "\n",
              "  <svg xmlns=\"http://www.w3.org/2000/svg\" height=\"24px\" viewBox=\"0 -960 960 960\">\n",
              "    <path d=\"M120-120v-720h720v720H120Zm60-500h600v-160H180v160Zm220 220h160v-160H400v160Zm0 220h160v-160H400v160ZM180-400h160v-160H180v160Zm440 0h160v-160H620v160ZM180-180h160v-160H180v160Zm440 0h160v-160H620v160Z\"/>\n",
              "  </svg>\n",
              "    </button>\n",
              "\n",
              "  <style>\n",
              "    .colab-df-container {\n",
              "      display:flex;\n",
              "      gap: 12px;\n",
              "    }\n",
              "\n",
              "    .colab-df-convert {\n",
              "      background-color: #E8F0FE;\n",
              "      border: none;\n",
              "      border-radius: 50%;\n",
              "      cursor: pointer;\n",
              "      display: none;\n",
              "      fill: #1967D2;\n",
              "      height: 32px;\n",
              "      padding: 0 0 0 0;\n",
              "      width: 32px;\n",
              "    }\n",
              "\n",
              "    .colab-df-convert:hover {\n",
              "      background-color: #E2EBFA;\n",
              "      box-shadow: 0px 1px 2px rgba(60, 64, 67, 0.3), 0px 1px 3px 1px rgba(60, 64, 67, 0.15);\n",
              "      fill: #174EA6;\n",
              "    }\n",
              "\n",
              "    .colab-df-buttons div {\n",
              "      margin-bottom: 4px;\n",
              "    }\n",
              "\n",
              "    [theme=dark] .colab-df-convert {\n",
              "      background-color: #3B4455;\n",
              "      fill: #D2E3FC;\n",
              "    }\n",
              "\n",
              "    [theme=dark] .colab-df-convert:hover {\n",
              "      background-color: #434B5C;\n",
              "      box-shadow: 0px 1px 3px 1px rgba(0, 0, 0, 0.15);\n",
              "      filter: drop-shadow(0px 1px 2px rgba(0, 0, 0, 0.3));\n",
              "      fill: #FFFFFF;\n",
              "    }\n",
              "  </style>\n",
              "\n",
              "    <script>\n",
              "      const buttonEl =\n",
              "        document.querySelector('#df-8945c5bb-046a-4671-aa47-b88c26206ce4 button.colab-df-convert');\n",
              "      buttonEl.style.display =\n",
              "        google.colab.kernel.accessAllowed ? 'block' : 'none';\n",
              "\n",
              "      async function convertToInteractive(key) {\n",
              "        const element = document.querySelector('#df-8945c5bb-046a-4671-aa47-b88c26206ce4');\n",
              "        const dataTable =\n",
              "          await google.colab.kernel.invokeFunction('convertToInteractive',\n",
              "                                                    [key], {});\n",
              "        if (!dataTable) return;\n",
              "\n",
              "        const docLinkHtml = 'Like what you see? Visit the ' +\n",
              "          '<a target=\"_blank\" href=https://colab.research.google.com/notebooks/data_table.ipynb>data table notebook</a>'\n",
              "          + ' to learn more about interactive tables.';\n",
              "        element.innerHTML = '';\n",
              "        dataTable['output_type'] = 'display_data';\n",
              "        await google.colab.output.renderOutput(dataTable, element);\n",
              "        const docLink = document.createElement('div');\n",
              "        docLink.innerHTML = docLinkHtml;\n",
              "        element.appendChild(docLink);\n",
              "      }\n",
              "    </script>\n",
              "  </div>\n",
              "\n",
              "\n",
              "<div id=\"df-0afa8e9f-ca83-4730-9ad9-10551584d398\">\n",
              "  <button class=\"colab-df-quickchart\" onclick=\"quickchart('df-0afa8e9f-ca83-4730-9ad9-10551584d398')\"\n",
              "            title=\"Suggest charts\"\n",
              "            style=\"display:none;\">\n",
              "\n",
              "<svg xmlns=\"http://www.w3.org/2000/svg\" height=\"24px\"viewBox=\"0 0 24 24\"\n",
              "     width=\"24px\">\n",
              "    <g>\n",
              "        <path d=\"M19 3H5c-1.1 0-2 .9-2 2v14c0 1.1.9 2 2 2h14c1.1 0 2-.9 2-2V5c0-1.1-.9-2-2-2zM9 17H7v-7h2v7zm4 0h-2V7h2v10zm4 0h-2v-4h2v4z\"/>\n",
              "    </g>\n",
              "</svg>\n",
              "  </button>\n",
              "\n",
              "<style>\n",
              "  .colab-df-quickchart {\n",
              "      --bg-color: #E8F0FE;\n",
              "      --fill-color: #1967D2;\n",
              "      --hover-bg-color: #E2EBFA;\n",
              "      --hover-fill-color: #174EA6;\n",
              "      --disabled-fill-color: #AAA;\n",
              "      --disabled-bg-color: #DDD;\n",
              "  }\n",
              "\n",
              "  [theme=dark] .colab-df-quickchart {\n",
              "      --bg-color: #3B4455;\n",
              "      --fill-color: #D2E3FC;\n",
              "      --hover-bg-color: #434B5C;\n",
              "      --hover-fill-color: #FFFFFF;\n",
              "      --disabled-bg-color: #3B4455;\n",
              "      --disabled-fill-color: #666;\n",
              "  }\n",
              "\n",
              "  .colab-df-quickchart {\n",
              "    background-color: var(--bg-color);\n",
              "    border: none;\n",
              "    border-radius: 50%;\n",
              "    cursor: pointer;\n",
              "    display: none;\n",
              "    fill: var(--fill-color);\n",
              "    height: 32px;\n",
              "    padding: 0;\n",
              "    width: 32px;\n",
              "  }\n",
              "\n",
              "  .colab-df-quickchart:hover {\n",
              "    background-color: var(--hover-bg-color);\n",
              "    box-shadow: 0 1px 2px rgba(60, 64, 67, 0.3), 0 1px 3px 1px rgba(60, 64, 67, 0.15);\n",
              "    fill: var(--button-hover-fill-color);\n",
              "  }\n",
              "\n",
              "  .colab-df-quickchart-complete:disabled,\n",
              "  .colab-df-quickchart-complete:disabled:hover {\n",
              "    background-color: var(--disabled-bg-color);\n",
              "    fill: var(--disabled-fill-color);\n",
              "    box-shadow: none;\n",
              "  }\n",
              "\n",
              "  .colab-df-spinner {\n",
              "    border: 2px solid var(--fill-color);\n",
              "    border-color: transparent;\n",
              "    border-bottom-color: var(--fill-color);\n",
              "    animation:\n",
              "      spin 1s steps(1) infinite;\n",
              "  }\n",
              "\n",
              "  @keyframes spin {\n",
              "    0% {\n",
              "      border-color: transparent;\n",
              "      border-bottom-color: var(--fill-color);\n",
              "      border-left-color: var(--fill-color);\n",
              "    }\n",
              "    20% {\n",
              "      border-color: transparent;\n",
              "      border-left-color: var(--fill-color);\n",
              "      border-top-color: var(--fill-color);\n",
              "    }\n",
              "    30% {\n",
              "      border-color: transparent;\n",
              "      border-left-color: var(--fill-color);\n",
              "      border-top-color: var(--fill-color);\n",
              "      border-right-color: var(--fill-color);\n",
              "    }\n",
              "    40% {\n",
              "      border-color: transparent;\n",
              "      border-right-color: var(--fill-color);\n",
              "      border-top-color: var(--fill-color);\n",
              "    }\n",
              "    60% {\n",
              "      border-color: transparent;\n",
              "      border-right-color: var(--fill-color);\n",
              "    }\n",
              "    80% {\n",
              "      border-color: transparent;\n",
              "      border-right-color: var(--fill-color);\n",
              "      border-bottom-color: var(--fill-color);\n",
              "    }\n",
              "    90% {\n",
              "      border-color: transparent;\n",
              "      border-bottom-color: var(--fill-color);\n",
              "    }\n",
              "  }\n",
              "</style>\n",
              "\n",
              "  <script>\n",
              "    async function quickchart(key) {\n",
              "      const quickchartButtonEl =\n",
              "        document.querySelector('#' + key + ' button');\n",
              "      quickchartButtonEl.disabled = true;  // To prevent multiple clicks.\n",
              "      quickchartButtonEl.classList.add('colab-df-spinner');\n",
              "      try {\n",
              "        const charts = await google.colab.kernel.invokeFunction(\n",
              "            'suggestCharts', [key], {});\n",
              "      } catch (error) {\n",
              "        console.error('Error during call to suggestCharts:', error);\n",
              "      }\n",
              "      quickchartButtonEl.classList.remove('colab-df-spinner');\n",
              "      quickchartButtonEl.classList.add('colab-df-quickchart-complete');\n",
              "    }\n",
              "    (() => {\n",
              "      let quickchartButtonEl =\n",
              "        document.querySelector('#df-0afa8e9f-ca83-4730-9ad9-10551584d398 button');\n",
              "      quickchartButtonEl.style.display =\n",
              "        google.colab.kernel.accessAllowed ? 'block' : 'none';\n",
              "    })();\n",
              "  </script>\n",
              "</div>\n",
              "    </div>\n",
              "  </div>\n"
            ],
            "application/vnd.google.colaboratory.intrinsic+json": {
              "type": "dataframe",
              "repr_error": "0"
            }
          },
          "metadata": {},
          "execution_count": 20
        }
      ],
      "source": [
        "all_df_2018[all_df_2018['num_agree'] >= 200]"
      ]
    },
    {
      "cell_type": "code",
      "execution_count": null,
      "metadata": {
        "colab": {
          "base_uri": "https://localhost:8080/"
        },
        "id": "8l4DIT5ax6G9",
        "outputId": "d4fce685-828c-43de-96cc-405ea6b5f6b1"
      },
      "outputs": [
        {
          "output_type": "execute_result",
          "data": {
            "text/plain": [
              "array(['행정', '기타', '정치개혁', '인권/성평등', '외교/통일/국방', '교통/건축/국토', '보건복지',\n",
              "       '일자리', '미래', '농산어촌', '육아/교육', '경제민주화', '성장동력', '문화/예술/체육/언론',\n",
              "       '반려동물', '안전/환경', '저출산/고령화대책'], dtype=object)"
            ]
          },
          "metadata": {},
          "execution_count": 21
        }
      ],
      "source": [
        "all_df_2018['category'].unique()"
      ]
    },
    {
      "cell_type": "markdown",
      "metadata": {
        "id": "9EMY3ZOBQLw_"
      },
      "source": [
        "#### 토픽 모델링\n",
        "* https://happy-obok.tistory.com/5\n",
        "* 토픽 모델링(Topic Modeling)이란 기계 학습 및 자연어 처리 분야에서 토픽이라는 문서 집합의 추상적인 주제를 발견하기 위한 통계적 모델 중 하나로, 텍스트 본문의 숨겨진 의미 구조를 발견하기 위해 사용되는 텍스트 마이닝 기법입니다.\n",
        "* 청원 데이터에서 각 카테고리별로 숨겨진 토픽들을 찾아내기 위한 방법"
      ]
    },
    {
      "cell_type": "code",
      "execution_count": null,
      "metadata": {
        "id": "sId3EM2arXyx"
      },
      "outputs": [],
      "source": [
        "df_copy = all_df_2017[all_df_2017['num_agree'] >= 10].copy() # 2017년 데이터 중 동의수가 10이상인 데이터"
      ]
    },
    {
      "cell_type": "code",
      "execution_count": null,
      "metadata": {
        "id": "PRbw-UWxAKyr"
      },
      "outputs": [],
      "source": [
        "df_copy"
      ]
    },
    {
      "cell_type": "code",
      "execution_count": null,
      "metadata": {
        "id": "05K1DyNarxRv"
      },
      "outputs": [],
      "source": [
        "df_hyg = df_copy[df_copy['category'] == '보건복지'] # 카테고리가 보건/복지인 데이터를 선별"
      ]
    },
    {
      "cell_type": "code",
      "execution_count": null,
      "metadata": {
        "id": "aoBKgcgqtGw0"
      },
      "outputs": [],
      "source": [
        "df_hyg"
      ]
    },
    {
      "cell_type": "markdown",
      "metadata": {
        "id": "2FkK0KJpx8K_"
      },
      "source": [
        "#### 토픽 모델링 방법론: ** 잠재 디리클레 **\n",
        "\n",
        "* 토픽 모델링은 문서 집합에서 토픽을 발견하기 위해 사용되는 통계적 모델링 방법이며, 이 방법은 <u>문서들이 하나 이상의 토픽으로 구성</u>되어 있으며, <u>각 토픽은 특정 단어들의 분포로 표현</u>될 수 있다는 가정 하에 작동함.\n",
        "    * <u>잠재 디리클레 할당(Latent Dirichlet Allocation, LDA)은 토픽 모델링에서 가장 널리 사용되는 알고리즘</u> 중 하나임."
      ]
    },
    {
      "cell_type": "markdown",
      "metadata": {
        "id": "pWJ6bWH4zbCo"
      },
      "source": [
        "#### *토픽 모델링링 과정*\n",
        "* **전처리**: 문서 집합에 대해 텍스트 정제(불용어 제거, 어간 추출 등), 토큰화 등의 전처리 작업을 수행함.\n",
        "* **모델 선택 및 설정**: LDA와 같은 토픽 모델을 선택하고, 모델의 파라미터(예: 토픽의 수)를 설정함.\n",
        "* **모델 학습**: 전처리된 데이터에 대해 토픽 모델을 학습시키며, 이 과정에서 각 문서에 대한 토픽 분포와 각 토픽에 대한 단어 분포가 추정됨.\n",
        "* **결과 해석 및 평가**: 학습된 모델을 기반으로 추출된 토픽과 그 구성 요소인 단어들을 해석하고 모델의 성능을 평가함."
      ]
    },
    {
      "cell_type": "markdown",
      "metadata": {
        "id": "heRDzyOmt8jR"
      },
      "source": [
        "#### 잠재 디리클레 할당으로 토픽 분류하기\n",
        "* 1. 라이브러리 설치 및 데이터 불러오기\n",
        "* 2. 한번 예시를 들어보기 위해 보건복지부 데이터만을 위해 추출함"
      ]
    },
    {
      "cell_type": "code",
      "execution_count": null,
      "metadata": {
        "id": "Ht30C9iMuulB"
      },
      "outputs": [],
      "source": [
        "df_hyg['doc'] = df_hyg['title'] + ' ' + df_hyg['content'] # 제목과 내용을 합쳐 문서를 만든다"
      ]
    },
    {
      "cell_type": "markdown",
      "metadata": {
        "id": "UmGKt7Uoxkvd"
      },
      "source": [
        "#### konply를 이용한 한글 텍스트 전처리 -> 명사만 추출"
      ]
    },
    {
      "cell_type": "code",
      "execution_count": null,
      "metadata": {
        "id": "eTSCKNUh0Kmu",
        "collapsed": true
      },
      "outputs": [],
      "source": [
        "!curl -s https://raw.githubusercontent.com/teddylee777/machine-learning/master/99-Misc/01-Colab/mecab-colab.sh | bash # konply 사용을 위한 라이브러리 설치"
      ]
    },
    {
      "cell_type": "code",
      "execution_count": null,
      "metadata": {
        "id": "MdsSpzUYxoeI"
      },
      "outputs": [],
      "source": [
        "# 형태소 분석기에서 Okt 불러오기\n",
        "from konlpy.tag import Okt\n",
        "okt = Okt()\n",
        "\n",
        "# 조사,어미,구두점 제거, 어간 추출\n",
        "def okt_clean(text):\n",
        "    '''\n",
        "    텍스트가 들어오면 텍스트에 있는 단어들에게 명사,조사 등의\n",
        "    이름을 지정하여, 해당 조사,어미,구두점을 제거하는 함수\n",
        "\n",
        "    text : str\n",
        "\n",
        "    return : str\n",
        "    '''\n",
        "\n",
        "    clean_txt = []\n",
        "    for word in okt.pos(text,stem=True):\n",
        "        if word[1] not in ['Josa','Eomi','Punctuation']:\n",
        "            clean_txt.append(word[0])\n",
        "\n",
        "    return ' '.join(clean_txt)\n",
        "\n",
        "from tqdm import tqdm\n",
        "tqdm.pandas\n",
        "\n",
        "\n",
        "df_hyg['doc'] = df_hyg['doc'].apply(okt_clean)"
      ]
    },
    {
      "cell_type": "code",
      "execution_count": null,
      "metadata": {
        "id": "kn2KpVYL2TqQ"
      },
      "outputs": [],
      "source": [
        "df_hyg # 보건복지만 뽑아낸 데이터"
      ]
    },
    {
      "cell_type": "markdown",
      "metadata": {
        "id": "IFjX1IRPvZGG"
      },
      "source": [
        "#### 잠재 디리클레 할당으로 토픽 분류하기\n",
        "*  2. 단어 벡터화하기"
      ]
    },
    {
      "cell_type": "markdown",
      "metadata": {
        "id": "6aV3kgeX0bgY"
      },
      "source": [
        "* **scikit-learn의 CountVectorizer**: <u>전통적인 머신러닝 모델에 적합한 텍스트를 벡터로 변환</u>하는 기능에 초점을 맞추고 있음.\n",
        "* 분석 프로젝트(예: 모델의 종류, 전처리 과정에서 필요한 기능 등)에 따라 가장 적합한 도구를 선택하 는것이 중요함. → <u>머신러닝 모델은 scikit-learn 계열 라이브러리 사용 권장!</u>\n",
        "* 단어들을 모델에 학습시키기 위해선 벡터화를 진행해야 한다"
      ]
    },
    {
      "cell_type": "code",
      "execution_count": null,
      "metadata": {
        "id": "1Js-Enlc0UWS"
      },
      "outputs": [],
      "source": [
        "from sklearn.feature_extraction.text import CountVectorizer\n",
        "\n",
        "# CountVectorizer에 예전 메소드 이름을 추가하여 호환성 유지 -> 현재의 버전과 호환\n",
        "CountVectorizer.get_feature_names = CountVectorizer.get_feature_names_out"
      ]
    },
    {
      "cell_type": "code",
      "execution_count": null,
      "metadata": {
        "id": "MNssbP27v_ta"
      },
      "outputs": [],
      "source": [
        "from sklearn.feature_extraction.text import CountVectorizer\n",
        "\n",
        "cv = CountVectorizer() # 단어들의 출현 빈도로 여러 문서를 벡터화하기 위해 cv를 불러온다"
      ]
    },
    {
      "cell_type": "code",
      "execution_count": null,
      "metadata": {
        "id": "7LJaY9AywQkU"
      },
      "outputs": [],
      "source": [
        "doc_cv = cv.fit_transform(df_hyg['doc']) # cv 모델에 'doc'프레임을 학습"
      ]
    },
    {
      "cell_type": "code",
      "execution_count": null,
      "metadata": {
        "id": "lyOC2MPzwgY0"
      },
      "outputs": [],
      "source": [
        "cv_cols = cv.get_feature_names_out()"
      ]
    },
    {
      "cell_type": "code",
      "execution_count": null,
      "metadata": {
        "id": "YbJJ8kRFwo1s"
      },
      "outputs": [],
      "source": [
        "pd.DataFrame(doc_cv.toarray(),columns=cv_cols).sum().sort_values()"
      ]
    },
    {
      "cell_type": "markdown",
      "metadata": {
        "id": "QjTCtGAxxrtI"
      },
      "source": [
        "#### 잠재 디리클레 할당으로 토픽 분류하기\n",
        "* 3. 잠재 디리클레 할당 적용하기"
      ]
    },
    {
      "cell_type": "markdown",
      "metadata": {
        "id": "cpQ7tzuWyRNU"
      },
      "source": [
        "#### 잠재 디리클레 할당으로 토픽 분류하기\n",
        "* 4. pyLDvis를 통한 시각화하기"
      ]
    },
    {
      "cell_type": "code",
      "source": [
        "from sklearn.decomposition import LatentDirichletAllocation\n",
        "\n",
        "NUM_TOPICS = 5\n",
        "LDA_model = LatentDirichletAllocation(n_components=NUM_TOPICS,random_state=42)\n",
        "\n",
        "LDA_model.fit(doc_cv)\n",
        "print(LDA_model)"
      ],
      "metadata": {
        "id": "fjSFqGMmWwEz"
      },
      "execution_count": null,
      "outputs": []
    },
    {
      "cell_type": "code",
      "execution_count": null,
      "metadata": {
        "id": "zYUgvZ0U1eLU",
        "colab": {
          "base_uri": "https://localhost:8080/"
        },
        "outputId": "ad8dd216-e63b-4836-b15d-12b440e9e9c7"
      },
      "outputs": [
        {
          "output_type": "stream",
          "name": "stdout",
          "text": [
            "Collecting scikit-learn==1.0.0\n",
            "  Downloading scikit-learn-1.0.tar.gz (7.8 MB)\n",
            "\u001b[2K     \u001b[90m━━━━━━━━━━━━━━━━━━━━━━━━━━━━━━━━━━━━━━━━\u001b[0m \u001b[32m7.8/7.8 MB\u001b[0m \u001b[31m21.0 MB/s\u001b[0m eta \u001b[36m0:00:00\u001b[0m\n",
            "\u001b[?25h  Installing build dependencies ... \u001b[?25l\u001b[?25hdone\n",
            "  Getting requirements to build wheel ... \u001b[?25l\u001b[?25hdone\n",
            "  \u001b[1;31merror\u001b[0m: \u001b[1msubprocess-exited-with-error\u001b[0m\n",
            "  \n",
            "  \u001b[31m×\u001b[0m \u001b[32mPreparing metadata \u001b[0m\u001b[1;32m(\u001b[0m\u001b[32mpyproject.toml\u001b[0m\u001b[1;32m)\u001b[0m did not run successfully.\n",
            "  \u001b[31m│\u001b[0m exit code: \u001b[1;36m1\u001b[0m\n",
            "  \u001b[31m╰─>\u001b[0m See above for output.\n",
            "  \n",
            "  \u001b[1;35mnote\u001b[0m: This error originates from a subprocess, and is likely not a problem with pip.\n",
            "  Preparing metadata (pyproject.toml) ... \u001b[?25l\u001b[?25herror\n",
            "\u001b[1;31merror\u001b[0m: \u001b[1mmetadata-generation-failed\u001b[0m\n",
            "\n",
            "\u001b[31m×\u001b[0m Encountered error while generating package metadata.\n",
            "\u001b[31m╰─>\u001b[0m See above for output.\n",
            "\n",
            "\u001b[1;35mnote\u001b[0m: This is an issue with the package mentioned above, not pip.\n",
            "\u001b[1;36mhint\u001b[0m: See above for details.\n",
            "Collecting pyLDAvis==3.4.1\n",
            "  Downloading pyLDAvis-3.4.1-py3-none-any.whl (2.6 MB)\n",
            "\u001b[2K     \u001b[90m━━━━━━━━━━━━━━━━━━━━━━━━━━━━━━━━━━━━━━━━\u001b[0m \u001b[32m2.6/2.6 MB\u001b[0m \u001b[31m10.0 MB/s\u001b[0m eta \u001b[36m0:00:00\u001b[0m\n",
            "\u001b[?25hRequirement already satisfied: numpy>=1.24.2 in /usr/local/lib/python3.10/dist-packages (from pyLDAvis==3.4.1) (1.25.2)\n",
            "Requirement already satisfied: scipy in /usr/local/lib/python3.10/dist-packages (from pyLDAvis==3.4.1) (1.11.4)\n",
            "Requirement already satisfied: pandas>=2.0.0 in /usr/local/lib/python3.10/dist-packages (from pyLDAvis==3.4.1) (2.0.3)\n",
            "Requirement already satisfied: joblib>=1.2.0 in /usr/local/lib/python3.10/dist-packages (from pyLDAvis==3.4.1) (1.4.2)\n",
            "Requirement already satisfied: jinja2 in /usr/local/lib/python3.10/dist-packages (from pyLDAvis==3.4.1) (3.1.4)\n",
            "Requirement already satisfied: numexpr in /usr/local/lib/python3.10/dist-packages (from pyLDAvis==3.4.1) (2.10.0)\n",
            "Collecting funcy (from pyLDAvis==3.4.1)\n",
            "  Downloading funcy-2.0-py2.py3-none-any.whl (30 kB)\n",
            "Requirement already satisfied: scikit-learn>=1.0.0 in /usr/local/lib/python3.10/dist-packages (from pyLDAvis==3.4.1) (1.2.2)\n",
            "Requirement already satisfied: gensim in /usr/local/lib/python3.10/dist-packages (from pyLDAvis==3.4.1) (4.3.2)\n",
            "Requirement already satisfied: setuptools in /usr/local/lib/python3.10/dist-packages (from pyLDAvis==3.4.1) (67.7.2)\n",
            "Requirement already satisfied: python-dateutil>=2.8.2 in /usr/local/lib/python3.10/dist-packages (from pandas>=2.0.0->pyLDAvis==3.4.1) (2.8.2)\n",
            "Requirement already satisfied: pytz>=2020.1 in /usr/local/lib/python3.10/dist-packages (from pandas>=2.0.0->pyLDAvis==3.4.1) (2023.4)\n",
            "Requirement already satisfied: tzdata>=2022.1 in /usr/local/lib/python3.10/dist-packages (from pandas>=2.0.0->pyLDAvis==3.4.1) (2024.1)\n",
            "Requirement already satisfied: threadpoolctl>=2.0.0 in /usr/local/lib/python3.10/dist-packages (from scikit-learn>=1.0.0->pyLDAvis==3.4.1) (3.5.0)\n",
            "Requirement already satisfied: smart-open>=1.8.1 in /usr/local/lib/python3.10/dist-packages (from gensim->pyLDAvis==3.4.1) (7.0.4)\n",
            "Requirement already satisfied: MarkupSafe>=2.0 in /usr/local/lib/python3.10/dist-packages (from jinja2->pyLDAvis==3.4.1) (2.1.5)\n",
            "Requirement already satisfied: six>=1.5 in /usr/local/lib/python3.10/dist-packages (from python-dateutil>=2.8.2->pandas>=2.0.0->pyLDAvis==3.4.1) (1.16.0)\n",
            "Requirement already satisfied: wrapt in /usr/local/lib/python3.10/dist-packages (from smart-open>=1.8.1->gensim->pyLDAvis==3.4.1) (1.14.1)\n",
            "Installing collected packages: funcy, pyLDAvis\n",
            "Successfully installed funcy-2.0 pyLDAvis-3.4.1\n"
          ]
        }
      ],
      "source": [
        "!pip install scikit-learn==1.0.0  # Adjust version as needed\n",
        "!pip install pyLDAvis==3.4.1\n"
      ]
    },
    {
      "cell_type": "code",
      "execution_count": null,
      "metadata": {
        "id": "jv6_q87Q8CN8"
      },
      "outputs": [],
      "source": [
        "import pyLDAvis\n",
        "\n",
        "pyLDAvis.enable_notebook()\n",
        "prepared_data = pyLDAvis.prepare(\n",
        "    topic_term_dists=LDA_model.components_ / LDA_model.components_.sum(axis=1)[:, np.newaxis],  # 주제-단어 분포\n",
        "    doc_topic_dists=LDA_model.transform(doc_cv),  # 문서-주제 분포\n",
        "    doc_lengths=doc_cv.sum(axis=1).A1,  # 각 문서의 총 단어 수\n",
        "    vocab=cv.get_feature_names_out(),  # 어휘 목록\n",
        "    term_frequency=np.asarray(doc_cv.sum(axis=0)).ravel(),  # 전체 데이터셋에서 각 단어의 빈도\n",
        "    mds='tsne'  # 차원 축소 기법 선택\n",
        ")\n",
        "pyLDAvis.display(prepared_data)\n"
      ]
    },
    {
      "cell_type": "markdown",
      "metadata": {
        "id": "FWr6zApZATyV"
      },
      "source": [
        "#### 2017년 8월부터 12월 청원데이터 중 동의수가 10 이상인 데이터에 대해 잠재 디리클레 기법 적용\n"
      ]
    },
    {
      "cell_type": "code",
      "execution_count": null,
      "metadata": {
        "id": "f1i5oi4cCe5N"
      },
      "outputs": [],
      "source": [
        "df_copy['category'].nunique() # 17"
      ]
    },
    {
      "cell_type": "code",
      "execution_count": null,
      "metadata": {
        "id": "dUPwp9ld_oR2"
      },
      "outputs": [],
      "source": [
        "df_copy.groupby('category')['title'].count() # df_copy -> 동의수가 10 이상인 2017년 4개월 간 데이터"
      ]
    },
    {
      "cell_type": "code",
      "execution_count": null,
      "metadata": {
        "id": "iPG3Dxen7Usd"
      },
      "outputs": [],
      "source": [
        "df_copy['doc'] = df_copy['title'] + ' ' + df_copy['content'] # 제목과 내용을 합쳐, 문서를 만든다"
      ]
    },
    {
      "cell_type": "markdown",
      "metadata": {
        "id": "9QsMAhgu7LlT"
      },
      "source": [
        "#### 한글 전처리\n",
        "* 조사,어미,구두점 제거 -> 어간 추출"
      ]
    },
    {
      "cell_type": "code",
      "execution_count": null,
      "metadata": {
        "id": "I-eXflO37NYQ"
      },
      "outputs": [],
      "source": [
        "# 형태소 분석기에서 Okt 불러오기\n",
        "from konlpy.tag import Okt\n",
        "okt = Okt()\n",
        "\n",
        "# 조사,어미,구두점 제거, 어간 추출\n",
        "def okt_clean(text):\n",
        "    clean_txt = []\n",
        "    for word in okt.pos(text,stem=True):\n",
        "        if word[1] not in ['Josa','Eomi','Punctuation']:\n",
        "            clean_txt.append(word[0])\n",
        "\n",
        "    return ' '.join(clean_txt)\n",
        "\n",
        "from tqdm import tqdm\n",
        "tqdm.pandas\n",
        "\n",
        "\n",
        "df_copy['doc'] = df_copy['doc'].apply(okt_clean)"
      ]
    },
    {
      "cell_type": "markdown",
      "metadata": {
        "id": "wC1Z1M6h9U1Y"
      },
      "source": [
        "#### 한글 전처리\n",
        "* 불용어 처리: 한글에 존재하는 '되다', '아니다'와 같은 불용어를 제거"
      ]
    },
    {
      "cell_type": "code",
      "execution_count": null,
      "metadata": {
        "id": "Cqm0AWwY9XxR"
      },
      "outputs": [],
      "source": [
        "def remove_stopwords(text):\n",
        "    tokens = text.split(' ')\n",
        "    stops = ['합니다','하다','있다','이다','되다','하지만','그리고','그런데','저는','제가','정말','너무','합니다','않다','없다','되어다','받다','아니다']\n",
        "    meaningful_words = [word for word in tokens if not word in stops]\n",
        "    return ' '.join(meaningful_words)\n",
        "\n",
        "df_copy['doc'] = df_copy['doc'].apply(remove_stopwords)"
      ]
    },
    {
      "cell_type": "code",
      "execution_count": null,
      "metadata": {
        "id": "csXAOda6AmvO"
      },
      "outputs": [],
      "source": [
        "from sklearn.feature_extraction.text import CountVectorizer\n",
        "\n",
        "cv = CountVectorizer() # 단어들의 출현 빈도로 여러 문서를 벡터화하기 위해 cv를 불러온다\n",
        "doc_cv = cv.fit_transform(df_copy['doc'])\n",
        "cv_cols = cv.get_feature_names_out()\n",
        "pd.DataFrame(doc_cv.toarray(),columns=cv_cols).sum().sort_values()"
      ]
    },
    {
      "cell_type": "code",
      "execution_count": null,
      "metadata": {
        "id": "M29bURePAzWQ"
      },
      "outputs": [],
      "source": [
        "from sklearn.decomposition import LatentDirichletAllocation # 잠재 디리클레 기법 적용\n",
        "\n",
        "NUM_TOPICS = 15 # 카테고리는 15개로 설정\n",
        "LDA_model = LatentDirichletAllocation(n_components=NUM_TOPICS,random_state=42)\n",
        "\n",
        "LDA_model.fit(doc_cv)"
      ]
    },
    {
      "cell_type": "code",
      "execution_count": null,
      "metadata": {
        "id": "sh2GiJeKA43y"
      },
      "outputs": [],
      "source": [
        "import pyLDAvis\n",
        "\n",
        "pyLDAvis.enable_notebook()\n",
        "prepared_data = pyLDAvis.prepare(\n",
        "    topic_term_dists=LDA_model.components_ / LDA_model.components_.sum(axis=1)[:, np.newaxis],  # 주제-단어 분포\n",
        "    doc_topic_dists=LDA_model.transform(doc_cv),  # 문서-주제 분포\n",
        "    doc_lengths=doc_cv.sum(axis=1).A1,  # 각 문서의 총 단어 수\n",
        "    vocab=cv.get_feature_names_out(),  # 어휘 목록\n",
        "    term_frequency=np.asarray(doc_cv.sum(axis=0)).ravel(),  # 전체 데이터셋에서 각 단어의 빈도\n",
        "    mds='tsne'  # 차원 축소 기법 선택\n",
        ")\n",
        "pyLDAvis.display(prepared_data)\n"
      ]
    },
    {
      "cell_type": "markdown",
      "metadata": {
        "id": "Vl32Xba7AE8j"
      },
      "source": [
        "#### **2018년 청원 데이터**"
      ]
    },
    {
      "cell_type": "code",
      "source": [
        "import numpy as np\n",
        "import pandas as pd\n",
        "import matplotlib.pyplot as plt\n",
        "import seaborn as sns"
      ],
      "metadata": {
        "id": "4p-fOz1WpT2g"
      },
      "execution_count": null,
      "outputs": []
    },
    {
      "cell_type": "code",
      "execution_count": null,
      "metadata": {
        "id": "CSMSBWsUAJPS"
      },
      "outputs": [],
      "source": [
        "df_copy_18 = all_df_2018[all_df_2018['num_agree']>200] # 동의수가 500 이상인, 청원이 어느정도 진행된 데이터만을 사용"
      ]
    },
    {
      "cell_type": "code",
      "execution_count": null,
      "metadata": {
        "colab": {
          "base_uri": "https://localhost:8080/"
        },
        "id": "ObnAQ5xGA5Jr",
        "outputId": "4aabcd4b-6d6b-4bdd-9b2c-3206ea4223a8"
      },
      "outputs": [
        {
          "output_type": "stream",
          "name": "stderr",
          "text": [
            "<ipython-input-23-f835e2e71350>:1: SettingWithCopyWarning: \n",
            "A value is trying to be set on a copy of a slice from a DataFrame.\n",
            "Try using .loc[row_indexer,col_indexer] = value instead\n",
            "\n",
            "See the caveats in the documentation: https://pandas.pydata.org/pandas-docs/stable/user_guide/indexing.html#returning-a-view-versus-a-copy\n",
            "  df_copy_18['doc'] = df_copy_18['title'] + ' ' + df_copy_18['content'] # 제목과 내용을 합쳐, 문서를 만든다\n"
          ]
        }
      ],
      "source": [
        "df_copy_18['doc'] = df_copy_18['title'] + ' ' + df_copy_18['content'] # 제목과 내용을 합쳐, 문서를 만든다"
      ]
    },
    {
      "cell_type": "code",
      "execution_count": null,
      "metadata": {
        "colab": {
          "base_uri": "https://localhost:8080/",
          "height": 1000
        },
        "id": "ZLphopRUA0tk",
        "outputId": "7a00ccdf-23ef-424b-8aa2-1de73a7e132c"
      },
      "outputs": [
        {
          "output_type": "execute_result",
          "data": {
            "text/plain": [
              "          category       begin         end  \\\n",
              "17        교통/건축/국토  2018-01-01  2018-01-31   \n",
              "48              기타  2018-01-01  2018-01-31   \n",
              "281           정치개혁  2018-01-01  2018-01-31   \n",
              "324    문화/예술/체육/언론  2018-01-01  2018-01-31   \n",
              "338            일자리  2018-01-01  2018-01-31   \n",
              "...            ...         ...         ...   \n",
              "19898       인권/성평등  2018-12-31  2019-01-30   \n",
              "19913           미래  2018-12-31  2019-01-30   \n",
              "19924         보건복지  2018-12-31  2019-01-30   \n",
              "19925     교통/건축/국토  2018-12-31  2019-01-30   \n",
              "19964        육아/교육  2018-12-31  2019-01-30   \n",
              "\n",
              "                                                 content  num_agree  \\\n",
              "17     10년공공임대분양가를 5년공공임대 분양전환 산정방식과 동일하게 변경해 주세요. 5년...        450   \n",
              "48     당시 김샘 학생이 시위하던 곳은 금지된 구역이 아니었으며 때문에 공동주거침입 혐의로...       1852   \n",
              "281    ■임기만료일의 논쟁■ ■명확한 근거와 예시■ 문재인의 임기는 2018년 2월까지다....        316   \n",
              "324    간호조무사의 평창올림픽 의료봉사 지원 반대하고 '의료인'으로 대체하는 것을 청원합니...       1603   \n",
              "338    안녕하세요. 정권이 바뀌고부터 대통령님과 정부에서 추진하시는 비정규직의 정규직화정책...        724   \n",
              "...                                                  ...        ...   \n",
              "19898  2018년 12월 29일 오전 10시 즈음 수원시 권선구 소재 초등학교 인근에서 발...       2241   \n",
              "19913  오늘 강북삼성병원 정신과에서 자신이 치료하던 의사가 환자흉기에 찔려 사망했습니다 새...        205   \n",
              "19924  2019년 새해로 넘어가는 마지막 날, 강북 삼성병원에서 근무하시던 정신과 교수님께...      69153   \n",
              "19925  저는 지금 카니발을 소유한지 7년입니다. 차량검사시 아무문제없던 사이드스텝이 언제부...        939   \n",
              "19964  우리나라는 민주주의를 원칙으로 하고 있지만, 실제 학교 현장에서는 민주주의가 제대로...        419   \n",
              "\n",
              "      petition_idx status                                              title  \\\n",
              "17           77802   청원종료        10년공공임대분양가를 5년공공임대 분양전환 산정방식과 동일하게 변경해 주세요.   \n",
              "48           77840   청원종료      위안부 합의 무효를 위해 힘든 재판을 견디고 있을 김샘학생의 무죄선고를 청원합니다   \n",
              "281          78158   청원종료                              문재인대통령대행은 2018년2월까지이다   \n",
              "324          78203   청원종료   간호조무사의 평창올림픽 의료봉사 지원 반대하고 '의료인'으로 대체하는 것을 청원합니다.   \n",
              "338          78221   청원종료  비정규직의 정규직화에 대한 기준을 다시 재고하여주십시오.  무분별한 정규직화에 반대...   \n",
              "...            ...    ...                                                ...   \n",
              "19898       483769   청원종료                      20대 정신 이상자, 85세 할머니를 뇌사에 빠트리다   \n",
              "19913       483787   청원종료                    강북삼성병원정신과의사피습사건 가해자 강력하게 처벌해주세요   \n",
              "19924       483805   청원종료                강북 삼성병원 의료진 사망사건에 관련한 의료 안정성을 위한 청원   \n",
              "19925       483807   청원종료                                    자동차 사이드스텝 규정 완화   \n",
              "19964       483852   청원종료            학교운영위원회의 학생 참여 의무화를 위한 ‘초·중등 교육법’ 개정 청원   \n",
              "\n",
              "      replies                                                doc  \n",
              "17        NaN  10년공공임대분양가를 5년공공임대 분양전환 산정방식과 동일하게 변경해 주세요. 10...  \n",
              "48        NaN  위안부 합의 무효를 위해 힘든 재판을 견디고 있을 김샘학생의 무죄선고를 청원합니다 ...  \n",
              "281       NaN  문재인대통령대행은 2018년2월까지이다 ■임기만료일의 논쟁■ ■명확한 근거와 예시■...  \n",
              "324       NaN  간호조무사의 평창올림픽 의료봉사 지원 반대하고 '의료인'으로 대체하는 것을 청원합니...  \n",
              "338       NaN  비정규직의 정규직화에 대한 기준을 다시 재고하여주십시오.  무분별한 정규직화에 반대...  \n",
              "...       ...                                                ...  \n",
              "19898     NaN  20대 정신 이상자, 85세 할머니를 뇌사에 빠트리다 2018년 12월 29일 오전...  \n",
              "19913     NaN  강북삼성병원정신과의사피습사건 가해자 강력하게 처벌해주세요 오늘 강북삼성병원 정신과에...  \n",
              "19924     NaN  강북 삼성병원 의료진 사망사건에 관련한 의료 안정성을 위한 청원 2019년 새해로 ...  \n",
              "19925     NaN  자동차 사이드스텝 규정 완화 저는 지금 카니발을 소유한지 7년입니다. 차량검사시 아...  \n",
              "19964     NaN  학교운영위원회의 학생 참여 의무화를 위한 ‘초·중등 교육법’ 개정 청원 우리나라는 ...  \n",
              "\n",
              "[8729 rows x 10 columns]"
            ],
            "text/html": [
              "\n",
              "  <div id=\"df-876fc9e3-e61f-46cb-8e4e-9dfb1f35f272\" class=\"colab-df-container\">\n",
              "    <div>\n",
              "<style scoped>\n",
              "    .dataframe tbody tr th:only-of-type {\n",
              "        vertical-align: middle;\n",
              "    }\n",
              "\n",
              "    .dataframe tbody tr th {\n",
              "        vertical-align: top;\n",
              "    }\n",
              "\n",
              "    .dataframe thead th {\n",
              "        text-align: right;\n",
              "    }\n",
              "</style>\n",
              "<table border=\"1\" class=\"dataframe\">\n",
              "  <thead>\n",
              "    <tr style=\"text-align: right;\">\n",
              "      <th></th>\n",
              "      <th>category</th>\n",
              "      <th>begin</th>\n",
              "      <th>end</th>\n",
              "      <th>content</th>\n",
              "      <th>num_agree</th>\n",
              "      <th>petition_idx</th>\n",
              "      <th>status</th>\n",
              "      <th>title</th>\n",
              "      <th>replies</th>\n",
              "      <th>doc</th>\n",
              "    </tr>\n",
              "  </thead>\n",
              "  <tbody>\n",
              "    <tr>\n",
              "      <th>17</th>\n",
              "      <td>교통/건축/국토</td>\n",
              "      <td>2018-01-01</td>\n",
              "      <td>2018-01-31</td>\n",
              "      <td>10년공공임대분양가를 5년공공임대 분양전환 산정방식과 동일하게 변경해 주세요. 5년...</td>\n",
              "      <td>450</td>\n",
              "      <td>77802</td>\n",
              "      <td>청원종료</td>\n",
              "      <td>10년공공임대분양가를 5년공공임대 분양전환 산정방식과 동일하게 변경해 주세요.</td>\n",
              "      <td>NaN</td>\n",
              "      <td>10년공공임대분양가를 5년공공임대 분양전환 산정방식과 동일하게 변경해 주세요. 10...</td>\n",
              "    </tr>\n",
              "    <tr>\n",
              "      <th>48</th>\n",
              "      <td>기타</td>\n",
              "      <td>2018-01-01</td>\n",
              "      <td>2018-01-31</td>\n",
              "      <td>당시 김샘 학생이 시위하던 곳은 금지된 구역이 아니었으며 때문에 공동주거침입 혐의로...</td>\n",
              "      <td>1852</td>\n",
              "      <td>77840</td>\n",
              "      <td>청원종료</td>\n",
              "      <td>위안부 합의 무효를 위해 힘든 재판을 견디고 있을 김샘학생의 무죄선고를 청원합니다</td>\n",
              "      <td>NaN</td>\n",
              "      <td>위안부 합의 무효를 위해 힘든 재판을 견디고 있을 김샘학생의 무죄선고를 청원합니다 ...</td>\n",
              "    </tr>\n",
              "    <tr>\n",
              "      <th>281</th>\n",
              "      <td>정치개혁</td>\n",
              "      <td>2018-01-01</td>\n",
              "      <td>2018-01-31</td>\n",
              "      <td>■임기만료일의 논쟁■ ■명확한 근거와 예시■ 문재인의 임기는 2018년 2월까지다....</td>\n",
              "      <td>316</td>\n",
              "      <td>78158</td>\n",
              "      <td>청원종료</td>\n",
              "      <td>문재인대통령대행은 2018년2월까지이다</td>\n",
              "      <td>NaN</td>\n",
              "      <td>문재인대통령대행은 2018년2월까지이다 ■임기만료일의 논쟁■ ■명확한 근거와 예시■...</td>\n",
              "    </tr>\n",
              "    <tr>\n",
              "      <th>324</th>\n",
              "      <td>문화/예술/체육/언론</td>\n",
              "      <td>2018-01-01</td>\n",
              "      <td>2018-01-31</td>\n",
              "      <td>간호조무사의 평창올림픽 의료봉사 지원 반대하고 '의료인'으로 대체하는 것을 청원합니...</td>\n",
              "      <td>1603</td>\n",
              "      <td>78203</td>\n",
              "      <td>청원종료</td>\n",
              "      <td>간호조무사의 평창올림픽 의료봉사 지원 반대하고 '의료인'으로 대체하는 것을 청원합니다.</td>\n",
              "      <td>NaN</td>\n",
              "      <td>간호조무사의 평창올림픽 의료봉사 지원 반대하고 '의료인'으로 대체하는 것을 청원합니...</td>\n",
              "    </tr>\n",
              "    <tr>\n",
              "      <th>338</th>\n",
              "      <td>일자리</td>\n",
              "      <td>2018-01-01</td>\n",
              "      <td>2018-01-31</td>\n",
              "      <td>안녕하세요. 정권이 바뀌고부터 대통령님과 정부에서 추진하시는 비정규직의 정규직화정책...</td>\n",
              "      <td>724</td>\n",
              "      <td>78221</td>\n",
              "      <td>청원종료</td>\n",
              "      <td>비정규직의 정규직화에 대한 기준을 다시 재고하여주십시오.  무분별한 정규직화에 반대...</td>\n",
              "      <td>NaN</td>\n",
              "      <td>비정규직의 정규직화에 대한 기준을 다시 재고하여주십시오.  무분별한 정규직화에 반대...</td>\n",
              "    </tr>\n",
              "    <tr>\n",
              "      <th>...</th>\n",
              "      <td>...</td>\n",
              "      <td>...</td>\n",
              "      <td>...</td>\n",
              "      <td>...</td>\n",
              "      <td>...</td>\n",
              "      <td>...</td>\n",
              "      <td>...</td>\n",
              "      <td>...</td>\n",
              "      <td>...</td>\n",
              "      <td>...</td>\n",
              "    </tr>\n",
              "    <tr>\n",
              "      <th>19898</th>\n",
              "      <td>인권/성평등</td>\n",
              "      <td>2018-12-31</td>\n",
              "      <td>2019-01-30</td>\n",
              "      <td>2018년 12월 29일 오전 10시 즈음 수원시 권선구 소재 초등학교 인근에서 발...</td>\n",
              "      <td>2241</td>\n",
              "      <td>483769</td>\n",
              "      <td>청원종료</td>\n",
              "      <td>20대 정신 이상자, 85세 할머니를 뇌사에 빠트리다</td>\n",
              "      <td>NaN</td>\n",
              "      <td>20대 정신 이상자, 85세 할머니를 뇌사에 빠트리다 2018년 12월 29일 오전...</td>\n",
              "    </tr>\n",
              "    <tr>\n",
              "      <th>19913</th>\n",
              "      <td>미래</td>\n",
              "      <td>2018-12-31</td>\n",
              "      <td>2019-01-30</td>\n",
              "      <td>오늘 강북삼성병원 정신과에서 자신이 치료하던 의사가 환자흉기에 찔려 사망했습니다 새...</td>\n",
              "      <td>205</td>\n",
              "      <td>483787</td>\n",
              "      <td>청원종료</td>\n",
              "      <td>강북삼성병원정신과의사피습사건 가해자 강력하게 처벌해주세요</td>\n",
              "      <td>NaN</td>\n",
              "      <td>강북삼성병원정신과의사피습사건 가해자 강력하게 처벌해주세요 오늘 강북삼성병원 정신과에...</td>\n",
              "    </tr>\n",
              "    <tr>\n",
              "      <th>19924</th>\n",
              "      <td>보건복지</td>\n",
              "      <td>2018-12-31</td>\n",
              "      <td>2019-01-30</td>\n",
              "      <td>2019년 새해로 넘어가는 마지막 날, 강북 삼성병원에서 근무하시던 정신과 교수님께...</td>\n",
              "      <td>69153</td>\n",
              "      <td>483805</td>\n",
              "      <td>청원종료</td>\n",
              "      <td>강북 삼성병원 의료진 사망사건에 관련한 의료 안정성을 위한 청원</td>\n",
              "      <td>NaN</td>\n",
              "      <td>강북 삼성병원 의료진 사망사건에 관련한 의료 안정성을 위한 청원 2019년 새해로 ...</td>\n",
              "    </tr>\n",
              "    <tr>\n",
              "      <th>19925</th>\n",
              "      <td>교통/건축/국토</td>\n",
              "      <td>2018-12-31</td>\n",
              "      <td>2019-01-30</td>\n",
              "      <td>저는 지금 카니발을 소유한지 7년입니다. 차량검사시 아무문제없던 사이드스텝이 언제부...</td>\n",
              "      <td>939</td>\n",
              "      <td>483807</td>\n",
              "      <td>청원종료</td>\n",
              "      <td>자동차 사이드스텝 규정 완화</td>\n",
              "      <td>NaN</td>\n",
              "      <td>자동차 사이드스텝 규정 완화 저는 지금 카니발을 소유한지 7년입니다. 차량검사시 아...</td>\n",
              "    </tr>\n",
              "    <tr>\n",
              "      <th>19964</th>\n",
              "      <td>육아/교육</td>\n",
              "      <td>2018-12-31</td>\n",
              "      <td>2019-01-30</td>\n",
              "      <td>우리나라는 민주주의를 원칙으로 하고 있지만, 실제 학교 현장에서는 민주주의가 제대로...</td>\n",
              "      <td>419</td>\n",
              "      <td>483852</td>\n",
              "      <td>청원종료</td>\n",
              "      <td>학교운영위원회의 학생 참여 의무화를 위한 ‘초·중등 교육법’ 개정 청원</td>\n",
              "      <td>NaN</td>\n",
              "      <td>학교운영위원회의 학생 참여 의무화를 위한 ‘초·중등 교육법’ 개정 청원 우리나라는 ...</td>\n",
              "    </tr>\n",
              "  </tbody>\n",
              "</table>\n",
              "<p>8729 rows × 10 columns</p>\n",
              "</div>\n",
              "    <div class=\"colab-df-buttons\">\n",
              "\n",
              "  <div class=\"colab-df-container\">\n",
              "    <button class=\"colab-df-convert\" onclick=\"convertToInteractive('df-876fc9e3-e61f-46cb-8e4e-9dfb1f35f272')\"\n",
              "            title=\"Convert this dataframe to an interactive table.\"\n",
              "            style=\"display:none;\">\n",
              "\n",
              "  <svg xmlns=\"http://www.w3.org/2000/svg\" height=\"24px\" viewBox=\"0 -960 960 960\">\n",
              "    <path d=\"M120-120v-720h720v720H120Zm60-500h600v-160H180v160Zm220 220h160v-160H400v160Zm0 220h160v-160H400v160ZM180-400h160v-160H180v160Zm440 0h160v-160H620v160ZM180-180h160v-160H180v160Zm440 0h160v-160H620v160Z\"/>\n",
              "  </svg>\n",
              "    </button>\n",
              "\n",
              "  <style>\n",
              "    .colab-df-container {\n",
              "      display:flex;\n",
              "      gap: 12px;\n",
              "    }\n",
              "\n",
              "    .colab-df-convert {\n",
              "      background-color: #E8F0FE;\n",
              "      border: none;\n",
              "      border-radius: 50%;\n",
              "      cursor: pointer;\n",
              "      display: none;\n",
              "      fill: #1967D2;\n",
              "      height: 32px;\n",
              "      padding: 0 0 0 0;\n",
              "      width: 32px;\n",
              "    }\n",
              "\n",
              "    .colab-df-convert:hover {\n",
              "      background-color: #E2EBFA;\n",
              "      box-shadow: 0px 1px 2px rgba(60, 64, 67, 0.3), 0px 1px 3px 1px rgba(60, 64, 67, 0.15);\n",
              "      fill: #174EA6;\n",
              "    }\n",
              "\n",
              "    .colab-df-buttons div {\n",
              "      margin-bottom: 4px;\n",
              "    }\n",
              "\n",
              "    [theme=dark] .colab-df-convert {\n",
              "      background-color: #3B4455;\n",
              "      fill: #D2E3FC;\n",
              "    }\n",
              "\n",
              "    [theme=dark] .colab-df-convert:hover {\n",
              "      background-color: #434B5C;\n",
              "      box-shadow: 0px 1px 3px 1px rgba(0, 0, 0, 0.15);\n",
              "      filter: drop-shadow(0px 1px 2px rgba(0, 0, 0, 0.3));\n",
              "      fill: #FFFFFF;\n",
              "    }\n",
              "  </style>\n",
              "\n",
              "    <script>\n",
              "      const buttonEl =\n",
              "        document.querySelector('#df-876fc9e3-e61f-46cb-8e4e-9dfb1f35f272 button.colab-df-convert');\n",
              "      buttonEl.style.display =\n",
              "        google.colab.kernel.accessAllowed ? 'block' : 'none';\n",
              "\n",
              "      async function convertToInteractive(key) {\n",
              "        const element = document.querySelector('#df-876fc9e3-e61f-46cb-8e4e-9dfb1f35f272');\n",
              "        const dataTable =\n",
              "          await google.colab.kernel.invokeFunction('convertToInteractive',\n",
              "                                                    [key], {});\n",
              "        if (!dataTable) return;\n",
              "\n",
              "        const docLinkHtml = 'Like what you see? Visit the ' +\n",
              "          '<a target=\"_blank\" href=https://colab.research.google.com/notebooks/data_table.ipynb>data table notebook</a>'\n",
              "          + ' to learn more about interactive tables.';\n",
              "        element.innerHTML = '';\n",
              "        dataTable['output_type'] = 'display_data';\n",
              "        await google.colab.output.renderOutput(dataTable, element);\n",
              "        const docLink = document.createElement('div');\n",
              "        docLink.innerHTML = docLinkHtml;\n",
              "        element.appendChild(docLink);\n",
              "      }\n",
              "    </script>\n",
              "  </div>\n",
              "\n",
              "\n",
              "<div id=\"df-581c3ee2-517f-44eb-b729-e79f6a2ea925\">\n",
              "  <button class=\"colab-df-quickchart\" onclick=\"quickchart('df-581c3ee2-517f-44eb-b729-e79f6a2ea925')\"\n",
              "            title=\"Suggest charts\"\n",
              "            style=\"display:none;\">\n",
              "\n",
              "<svg xmlns=\"http://www.w3.org/2000/svg\" height=\"24px\"viewBox=\"0 0 24 24\"\n",
              "     width=\"24px\">\n",
              "    <g>\n",
              "        <path d=\"M19 3H5c-1.1 0-2 .9-2 2v14c0 1.1.9 2 2 2h14c1.1 0 2-.9 2-2V5c0-1.1-.9-2-2-2zM9 17H7v-7h2v7zm4 0h-2V7h2v10zm4 0h-2v-4h2v4z\"/>\n",
              "    </g>\n",
              "</svg>\n",
              "  </button>\n",
              "\n",
              "<style>\n",
              "  .colab-df-quickchart {\n",
              "      --bg-color: #E8F0FE;\n",
              "      --fill-color: #1967D2;\n",
              "      --hover-bg-color: #E2EBFA;\n",
              "      --hover-fill-color: #174EA6;\n",
              "      --disabled-fill-color: #AAA;\n",
              "      --disabled-bg-color: #DDD;\n",
              "  }\n",
              "\n",
              "  [theme=dark] .colab-df-quickchart {\n",
              "      --bg-color: #3B4455;\n",
              "      --fill-color: #D2E3FC;\n",
              "      --hover-bg-color: #434B5C;\n",
              "      --hover-fill-color: #FFFFFF;\n",
              "      --disabled-bg-color: #3B4455;\n",
              "      --disabled-fill-color: #666;\n",
              "  }\n",
              "\n",
              "  .colab-df-quickchart {\n",
              "    background-color: var(--bg-color);\n",
              "    border: none;\n",
              "    border-radius: 50%;\n",
              "    cursor: pointer;\n",
              "    display: none;\n",
              "    fill: var(--fill-color);\n",
              "    height: 32px;\n",
              "    padding: 0;\n",
              "    width: 32px;\n",
              "  }\n",
              "\n",
              "  .colab-df-quickchart:hover {\n",
              "    background-color: var(--hover-bg-color);\n",
              "    box-shadow: 0 1px 2px rgba(60, 64, 67, 0.3), 0 1px 3px 1px rgba(60, 64, 67, 0.15);\n",
              "    fill: var(--button-hover-fill-color);\n",
              "  }\n",
              "\n",
              "  .colab-df-quickchart-complete:disabled,\n",
              "  .colab-df-quickchart-complete:disabled:hover {\n",
              "    background-color: var(--disabled-bg-color);\n",
              "    fill: var(--disabled-fill-color);\n",
              "    box-shadow: none;\n",
              "  }\n",
              "\n",
              "  .colab-df-spinner {\n",
              "    border: 2px solid var(--fill-color);\n",
              "    border-color: transparent;\n",
              "    border-bottom-color: var(--fill-color);\n",
              "    animation:\n",
              "      spin 1s steps(1) infinite;\n",
              "  }\n",
              "\n",
              "  @keyframes spin {\n",
              "    0% {\n",
              "      border-color: transparent;\n",
              "      border-bottom-color: var(--fill-color);\n",
              "      border-left-color: var(--fill-color);\n",
              "    }\n",
              "    20% {\n",
              "      border-color: transparent;\n",
              "      border-left-color: var(--fill-color);\n",
              "      border-top-color: var(--fill-color);\n",
              "    }\n",
              "    30% {\n",
              "      border-color: transparent;\n",
              "      border-left-color: var(--fill-color);\n",
              "      border-top-color: var(--fill-color);\n",
              "      border-right-color: var(--fill-color);\n",
              "    }\n",
              "    40% {\n",
              "      border-color: transparent;\n",
              "      border-right-color: var(--fill-color);\n",
              "      border-top-color: var(--fill-color);\n",
              "    }\n",
              "    60% {\n",
              "      border-color: transparent;\n",
              "      border-right-color: var(--fill-color);\n",
              "    }\n",
              "    80% {\n",
              "      border-color: transparent;\n",
              "      border-right-color: var(--fill-color);\n",
              "      border-bottom-color: var(--fill-color);\n",
              "    }\n",
              "    90% {\n",
              "      border-color: transparent;\n",
              "      border-bottom-color: var(--fill-color);\n",
              "    }\n",
              "  }\n",
              "</style>\n",
              "\n",
              "  <script>\n",
              "    async function quickchart(key) {\n",
              "      const quickchartButtonEl =\n",
              "        document.querySelector('#' + key + ' button');\n",
              "      quickchartButtonEl.disabled = true;  // To prevent multiple clicks.\n",
              "      quickchartButtonEl.classList.add('colab-df-spinner');\n",
              "      try {\n",
              "        const charts = await google.colab.kernel.invokeFunction(\n",
              "            'suggestCharts', [key], {});\n",
              "      } catch (error) {\n",
              "        console.error('Error during call to suggestCharts:', error);\n",
              "      }\n",
              "      quickchartButtonEl.classList.remove('colab-df-spinner');\n",
              "      quickchartButtonEl.classList.add('colab-df-quickchart-complete');\n",
              "    }\n",
              "    (() => {\n",
              "      let quickchartButtonEl =\n",
              "        document.querySelector('#df-581c3ee2-517f-44eb-b729-e79f6a2ea925 button');\n",
              "      quickchartButtonEl.style.display =\n",
              "        google.colab.kernel.accessAllowed ? 'block' : 'none';\n",
              "    })();\n",
              "  </script>\n",
              "</div>\n",
              "    </div>\n",
              "  </div>\n"
            ],
            "application/vnd.google.colaboratory.intrinsic+json": {
              "type": "dataframe",
              "variable_name": "df_copy_18",
              "summary": "{\n  \"name\": \"df_copy_18\",\n  \"rows\": 8729,\n  \"fields\": [\n    {\n      \"column\": \"category\",\n      \"properties\": {\n        \"dtype\": \"category\",\n        \"num_unique_values\": 17,\n        \"samples\": [\n          \"\\uad50\\ud1b5/\\uac74\\ucd95/\\uad6d\\ud1a0\",\n          \"\\uae30\\ud0c0\",\n          \"\\uc778\\uad8c/\\uc131\\ud3c9\\ub4f1\"\n        ],\n        \"semantic_type\": \"\",\n        \"description\": \"\"\n      }\n    },\n    {\n      \"column\": \"begin\",\n      \"properties\": {\n        \"dtype\": \"date\",\n        \"min\": \"2018-01-01\",\n        \"max\": \"2018-12-31\",\n        \"num_unique_values\": 365,\n        \"samples\": [\n          \"2018-07-13\",\n          \"2018-02-03\",\n          \"2018-01-16\"\n        ],\n        \"semantic_type\": \"\",\n        \"description\": \"\"\n      }\n    },\n    {\n      \"column\": \"end\",\n      \"properties\": {\n        \"dtype\": \"date\",\n        \"min\": \"2018-01-31\",\n        \"max\": \"2019-01-30\",\n        \"num_unique_values\": 365,\n        \"samples\": [\n          \"2018-08-12\",\n          \"2018-03-05\",\n          \"2018-02-15\"\n        ],\n        \"semantic_type\": \"\",\n        \"description\": \"\"\n      }\n    },\n    {\n      \"column\": \"content\",\n      \"properties\": {\n        \"dtype\": \"string\",\n        \"num_unique_values\": 8623,\n        \"samples\": [\n          \"\\uadf8\\uac83\\uc774 \\uc54c\\uace0\\uc2f6\\ub2e4\\uc5d0\\uc11c \\ub098\\uc628 \\ub2e8\\uccb4\\ub354\\uad70\\uc694. 5\\uacf5 \\uccad\\ubb38\\ud68c\\uc5d0\\uc11c \\uc804\\ub450\\ud658 \\uadf8\\ub9ac\\uace0 \\uadf8 \\ubd80\\uc5ed\\uc790\\ub4e4\\uc744 \\ubcc0\\ub860\\ud558\\uace0 \\uc9c4\\uc2e4\\uc744 \\uac10\\ucd94\\ub294\\ub370 \\uc77c\\uc870\\ud588\\ub358 \\uadf8 \\ub2e8\\uccb4\\uc5d0 \\uc18c\\uc18d\\ub41c \\uc778\\uc6d0\\ub4e4\\uc758 \\uba85\\ub2e8\\uc744 \\uacf5\\uac1c\\ud558\\uae38 \\uc6d0\\ud569\\ub2c8\\ub2e4. \\uc544\\ubb34\\ub9ac \\uae30\\ubc00\\uc774\\ub77c\\uace0 \\ud574\\ub3c4 30\\ub144\\uc774 \\uc9c0\\ub0ac\\uc73c\\ub2c8 \\uacf5\\uac1c\\uac00 \\uac00\\ub2a5\\ud558\\uc9c0 \\uc54a\\uc2b5\\ub2c8\\uae4c? \\uc774\\ub7f0 \\ubd80\\uc5ed\\uc790\\ub4e4\\uc758 \\uc774\\ub984\\uc774 \\ubc1d\\ud600\\uc9c0\\uace0 \\ub9cc\\uc778\\uc758 \\uc870\\ub871\\uacfc \\ube44\\ub09c\\uc744 \\ubc1b\\uc73c\\uba00 \\uae30\\ub9ac\\uae30\\ub9ac \\uae30\\uc5b5\\ub418\\uc57c. \\ub2e4\\uc2dc\\ub294 \\uc774\\ub7ec\\ud55c \\uc798\\ubabb\\uc774 \\ubc18\\ubcf5\\ub418\\uc9c0 \\uc54a\\uc744 \\uac83\\uc785\\ub2c8\\ub2e4\",\n          \"\\ud604\\uc7ac \\uc2dc\\ud589\\ub418\\uace0 \\uc788\\ub294 \\uc8fc\\ud0dd\\uc7ac\\uac1c\\ubc1c \\uc0ac\\uc5c5\\uc740 6.25 \\uc804\\uc7c1 \\uc774\\ud6c4 \\ub3c4\\uc2ec\\ub0b4 \\ubb34\\ud5c8\\uac00 \\ud310\\uc790\\ucd0c\\ub4e4\\uc744 \\ucca0\\uac70 \\ud558\\ub4ef \\uacf5\\uc775\\uc0ac\\uc5c5\\uc744 \\ube59\\uc790\\ud55c \\uc6d0\\uc8fc\\ubbfc\\ub4e4\\uc758 \\uc790\\uc0b0\\uc744 \\uac15\\ud0c8\\ud558\\ub294 \\ube44\\ubbfc\\uc8fc\\uc801\\uc774\\uace0 \\uc801\\ud3d0\\uccad\\uc0b0\\uc758 \\ud558\\ub098 \\uc785\\ub2c8\\ub2e4. \\uc7ac\\uac1c\\ubc1c \\uad6c\\uc5ed\\ub0b4 \\ud3c9\\uc0dd \\uc77c\\uad88\\uc628 \\uadf8\\ub4e4\\uc758 \\uc0dd\\uc874\\uad8c\\uc778 \\uc790\\uc0b0\\uc744 \\uacf5\\uc775\\uc774\\ub780 \\uc774\\ub984\\uc73c\\ub85c \\uc2dc\\uc138\\uc5d0 \\ud55c\\ucc38 \\ubbf8\\ub2ec\\ub41c \\ubcf4\\uc0c1\\uc744 \\ud558\\uace0 \\uc6d0\\uc8fc\\ubbfc\\uc744 \\ub0b4\\ucad2\\uace0 \\uac74\\uc124\\ub9c8\\ud53c\\uc544 \\uac74\\uc124\\uc5c5\\uc790\\uc640 \\ubd80\\ub3d9\\uc0b0 \\ud22c\\uae30\\uafbc\\ub4e4\\uc758 \\ub3c8 \\uc794\\uce58\\ub85c \\uc804\\ub77d\\ud55c \\uc8fc\\ud0dd\\uc7ac\\uac1c\\ubc1c \\\"\\ub3c4\\uc2dc\\uc815\\ube44\\uc0ac\\uc5c5\\ubc95\\\"\\uc744 \\uc644\\uc804\\ud788 \\ud3d0\\uc9c0 \\ud639\\uc740 \\ub3c5\\uc18c\\uc870\\ud56d\\uc744 \\uac1c\\uc815 \\ud558\\uc5ec \\uc8fc\\uc138\\uc694. \\uadf8\\ub9ac\\uace0, \\ud604\\uc7ac 2018\\ub144 \\ub300\\ub2e4\\uc218 \\uad6d\\ubbfc\\uc758 \\uc8fc\\uac70 \\uae30\\uc900\\uc5d0 \\uc801\\ud569\\ud55c \\\"\\uc8fc\\uac70\\ud658\\uacbd\\uac1c\\uc120 \\uc815\\ucc45\\\"\\uc5d0 \\ub9de\\ub294 \\ud569\\ub9ac\\uc801\\uc778 \\uc8fc\\ud0dd\\uc7ac\\uac1c\\ubc1c \\\"\\ub3c4\\uc2dc\\uc815\\ube44\\uc0ac\\uc5c5\\ubc95\\\"\\uc73c\\ub85c \\uc0c8\\ub86d\\uac8c \\uac1c\\uc815 \\ud574 \\uc8fc\\uc138\\uc694. \\uc774 \\ub545\\uc5d0 \\ub354 \\uc774\\uc0c1 \\ubd88\\ubc95/\\ud3b8\\ubc95/\\ud0c8\\ubc95\\uc774 \\uc790\\ud589\\ub418\\ub294 \\ube44\\ubbfc\\uc8fc\\uc801\\uc774\\uace0 \\ubd88\\ud569\\ub9ac\\ud55c \\\"\\uc8fc\\ud0dd\\uc7ac\\uac1c\\ubc1c\\\" \\\"\\uc815\\ube44\\uc0ac\\uc5c5\\ubc95\\\" \\ub54c\\ubb38\\uc5d0 \\uad6d\\ubbfc\\uc758 \\uc6d0\\uc131\\uacfc \\uc9c0\\uc5ed \\uc6d0\\uc8fc\\ubbfc\\ub4e4\\uc758 \\uc5b5\\uc6b8\\ud55c \\uc77c\\ub4e4\\uc774 \\ubc1c\\uc0dd\\ud558\\uc9c0 \\uc54a\\uac8c \\ud574 \\uc8fc\\uc138\\uc694. --- \\uc9c4\\uc815\\ud55c \\ubbfc\\uc8fc\\uc8fc\\uc758\\ub294 \\uc57d\\uc790 \\ud3b8\\uc5d0\\uc11c \\uad6d\\ubbfc\\uc758 \\uc18c\\uc218 \\uc758\\uacac\\ub3c4 \\uc815\\uc911\\ud788 \\uc218\\ub834\\ud558\\uc5ec \\uc874\\uc911 \\ud560 \\uc904 \\uc54c\\uc544\\uc57c \\ud55c\\ub2e4\\uace0 \\uc0dd\\uac01 \\ud569\\ub2c8\\ub2e4. \\uad6d\\ubbfc \\uc5ec\\ub7ec\\ubd84! \\ub3c4\\uc640 \\uc8fc\\uc138\\uc694~ \\uc601\\ud654\\ub85c\\ub9cc \\ubd10 \\uc654\\ub358 \\ube44\\ubbfc\\uc8fc\\uc801\\uc778 \\uc8fc\\ud0dd\\uc7ac\\uac1c\\ubc1c\\uc758 \\ub9cc\\ud589\\ub4e4\\uc774 2018\\ub144 \\ud604\\uc7ac\\uc5d0\\ub3c4 \\uc790\\ud589\\ub418\\uace0 \\uc788\\uc2b5\\ub2c8\\ub2e4.\\u3160 \\uc774 \\ub354\\ub7ec\\uc6b4 \\uc545\\ubc95\\uc774 \\uc5c6\\uc5b4\\uc9c0\\uc9c0 \\uc54a\\ub294 \\ud55c \\ub2e4\\uc74c \\ud76c\\uc0dd\\uc790\\ub294 \\uc5ec\\ub7ec\\ubd84 \\ud639\\uc740 \\uc6b0\\ub9ac \\ud6c4\\uc190\\ub4e4\\uc774 \\ub611\\uac19\\uc774 \\ud76c\\uc0dd \\ub420 \\uac83\\uc785\\ub2c8\\ub2e4.\\u3160 \\ub3c4\\uc640\\uc8fc\\uc138\\uc694~\\u3160 \\ub05d\\uae4c\\uc9c0 \\uc77d\\uc5b4 \\uc8fc\\uc154\\uc11c \\uac10\\uc0ac\\ud569\\ub2c8\\ub2e4.\",\n          \"\\uc790\\uaca9 \\ubbf8\\ub2ec\\uc758 \\uc2ec\\ud310\\uc774 \\ud604\\uc7ac \\ub300\\ud55c\\ubbfc\\uad6d \\ud504\\ub85c \\ucd95\\uad6c\\ub97c \\uc9c0\\ubc30\\ud558\\uace0 \\uc788\\uc2b5\\ub2c8\\ub2e4. \\uacfc\\uac70 \\uc218\\ub9ce\\uc740 \\ubb38\\uc81c\\uc640 \\uc0ac\\uac74\\ub4e4\\ub85c \\ubb34\\uae30\\ud55c \\uc815\\uc9c0\\ub77c\\ub294 \\uc9d5\\uacc4\\uae4c\\uc9c0 \\ubc1b\\uc558\\ub358 \\uc2ec\\ud310\\uc774 \\uc5b4\\ub290\\uc0cc\\uac00 \\ub9ac\\uadf8\\uc5d0 \\ub3cc\\uc544\\uc640 \\ub610\\ub2e4\\uc2dc \\ub9ce\\uc740 \\ubb3c\\uc758\\ub97c \\uc77c\\uc73c\\ud0a4\\uace0 \\uc788\\uc2b5\\ub2c8\\ub2e4. \\ub300\\ubd80\\ubd84\\uc758 \\ud32c\\ub4e4\\uc774 \\uc774\\uc5d0 \\ubd84\\ub178\\ud558\\uc5ec \\ud56d\\uc758\\ub97c \\ud558\\uc5ec\\ub3c4 \\uc5f0\\ub9f9\\uc740 \\uc774\\ub97c \\ub208\\uac10\\uc544\\uc8fc\\uace0 \\uc788\\uc2b5\\ub2c8\\ub2e4. \\ubb38\\uc7ac\\uc778 \\ub300\\ud1b5\\ub839\\ub2d8\\uc758 \\uacf5\\uc57d\\uc778 \\uc801\\ud3d0 \\uccad\\uc0b0\\uc744 \\uc704\\ud558\\uc5ec \\ud55c\\uad6d \\ud504\\ub85c\\ucd95\\uad6c\\uc5d0 \\uc545\\uc21c\\ud658\\uc744 \\uc77c\\uc73c\\ud0a4\\ub294 \\uc801\\ud3d0 \\uc138\\ub825\\uc778 \\uc5f0\\ub9f9\\uacfc \\ubb38\\uc81c\\uc758 \\uc8fc\\uc2ec\\uc744 \\uad6d\\uac00\\uc801\\uc778 \\ucc28\\uc6d0\\uc5d0\\uc11c \\ucc98\\ubc8c\\ud574\\uc57c \\ud569\\ub2c8\\ub2e4.\"\n        ],\n        \"semantic_type\": \"\",\n        \"description\": \"\"\n      }\n    },\n    {\n      \"column\": \"num_agree\",\n      \"properties\": {\n        \"dtype\": \"number\",\n        \"std\": 29286,\n        \"min\": 201,\n        \"max\": 1192049,\n        \"num_unique_values\": 3015,\n        \"samples\": [\n          692,\n          5498,\n          329\n        ],\n        \"semantic_type\": \"\",\n        \"description\": \"\"\n      }\n    },\n    {\n      \"column\": \"petition_idx\",\n      \"properties\": {\n        \"dtype\": \"string\",\n        \"num_unique_values\": 8729,\n        \"samples\": [\n          \"142867\",\n          \"406504\",\n          \"257806\"\n        ],\n        \"semantic_type\": \"\",\n        \"description\": \"\"\n      }\n    },\n    {\n      \"column\": \"status\",\n      \"properties\": {\n        \"dtype\": \"category\",\n        \"num_unique_values\": 2,\n        \"samples\": [\n          \"\\ube0c\\ub9ac\\ud551\",\n          \"\\uccad\\uc6d0\\uc885\\ub8cc\"\n        ],\n        \"semantic_type\": \"\",\n        \"description\": \"\"\n      }\n    },\n    {\n      \"column\": \"title\",\n      \"properties\": {\n        \"dtype\": \"string\",\n        \"num_unique_values\": 8635,\n        \"samples\": [\n          \"\\uad81\\uae08\\ud55c \\uc774\\uc57c\\uae30 Y \\uc131\\ud3ed\\ud589\\ud55c \\uace0\\ub824\\ub300 \\ubb38\\uad50\\uc218\\uc5d0 \\ub300\\ud574 \\uba85\\ud655\\ud55c \\uc870\\uc0ac\\ub97c \\ud574\\uc57c\\ud569\\ub2c8\\ub2e4.\",\n          \"\\uc138\\uc6d4\\ud638 \\uc0ac\\uace0\\uc5d0 \\ub300\\ud55c, \\uad6d\\uac00\\ucc28\\uc6d0\\uc758 \\uc0ac\\uace0 \\uc870\\uc0ac\\ubc0f \\uac80\\ucc30\\uc218\\uc0ac\\ub97c \\uccad\\uc6d0\\ud569\\ub2c8\\ub2e4.\"\n        ],\n        \"semantic_type\": \"\",\n        \"description\": \"\"\n      }\n    },\n    {\n      \"column\": \"replies\",\n      \"properties\": {\n        \"dtype\": \"object\",\n        \"semantic_type\": \"\",\n        \"description\": \"\"\n      }\n    },\n    {\n      \"column\": \"doc\",\n      \"properties\": {\n        \"dtype\": \"string\",\n        \"num_unique_values\": 8719,\n        \"samples\": [\n          \"\\uc11c\\uc9c0\\ud604 \\uac80\\uc0ac \\uc131\\ucd94\\ud589\\uc0ac\\uac74 \\uba85\\ubc31\\ud558\\uac8c \\uc870\\uc0ac\\ud574\\uc8fc\\uc138\\uc694. \\uc9c0\\uae08 JTBC \\uc11c\\uc9c0\\ud604 \\uac80\\uc0ac\\uac00 \\ub098\\uc624\\ub294\\uac83 \\ubcf4\\uace0 \\uc788\\ub294\\ub370.. \\uadf8\\ub140\\uc758 \\uc6a9\\uae30\\uc5d0 \\uac00\\uc2b4\\uc774 \\ucc21\\ud569\\ub2c8\\ub2e4. \\uac19\\uc740 \\ub0a8\\uc790\\ub85c\\uc11c \\ub108\\ubb34 \\ubd80\\ub044\\ub7fd\\uc2b5\\ub2c8\\ub2e4. \\ube75\\ud558\\ub098 \\ud6d4\\uccd0\\ub3c4 \\uba87\\uac1c\\uc6d4 \\uae5c\\ube75\\uac00\\ub294 \\uc77c\\ubc18\\uc0ac\\ub78c\\ub3c4 \\uc788\\ub294\\ub370.. \\uc131\\ucd94\\ud589\\ud558\\uace0\\ub3c4 \\uc544\\uc9c1 \\ud604\\uc9c1\\uc5d0 \\uc788\\ub2e4\\ub2c8.. \\uaf2d \\uba85\\uba85\\ubc31\\ubc31\\ud558\\uac8c \\uc870\\uc0ac\\ud574\\uc8fc\\uc138\\uc694.\",\n          \"2\\ucc28 \\uac00\\ud574\\ub3c4 \\uc81c\\ub300\\ub85c\\ub41c \\ucc98\\ubc8c\\uc744 \\ubc1b\\uac8c\\ud574\\uc8fc\\uc138\\uc694 \\uc694\\uc998 \\ub9ac\\ubca4\\uc9c0 \\ud3ec\\ub974\\ub178\\uac00 \\ub9ce\\uc544 \\uc84c\\ub2e4\\ub294 \\ub9d0\\uc774 \\uc788\\uc2b5\\ub2c8\\ub2e4. \\uc774\\uac83\\uc740 \\uc560\\uc778\\uc0ac\\uc774\\uc600\\ub358 \\ub0a8\\uc790\\uac00 \\ud5e4\\uc5b4\\uc9c0\\uac8c\\ub418\\uba74\\uc11c \\ud667\\uae40\\uc5d0 \\uc5ec\\uc790\\uce5c\\uad6c\\uc640\\uc758 \\uc131\\uad00\\uacc4 \\uc601\\uc0c1\\uc744 \\uc628\\ub77c\\uc778\\uc5d0 \\uc62c\\ub824 \\uc0ac\\ub78c\\ub4e4\\uc5d0\\uac8c \\ubfcc\\ub9ac\\ub294 \\uac74\\ub370\\uc694. \\uc0ac\\ub78c\\ub4e4\\uc740 \\uc774 \\uc720\\ucd9c\\ub41c \\ub3d9\\uc601\\uc0c1\\ub4e4\\uc744 \\ubcf4\\uba74 \\uc801\\uadf9\\uc801\\uc778 \\uc2e0\\uace0\\ubcf4\\ub2e4\\ub294 '\\u3147\\u3147\\ub140 \\ub3d9\\uc601\\uc0c1'\\uc774\\ub77c\\uba74\\uc11c \\uc601\\uc0c1\\uc744 \\ucc3e\\uc73c\\ub7ec\\ub2e4\\ub2c8\\uba70 \\uc2ec\\uc9c0\\uc5b4\\ub294 \\ud53c\\ud574\\uc790\\ubd84\\uc774 \\ub3cc\\uc544\\uac00\\uc2e0 \\uacbd\\uc6b0\\uc5d0\\ub294 \\uadf8 \\ub9ac\\ubca4\\uc9c0 \\ud3ec\\ub974\\ub178 \\uc601\\uc0c1\\uc744 '\\u3147\\u3147\\ub140\\uc758 \\uc720\\uc791'\\uc774\\ub77c\\uace0 \\uce6d\\ud558\\uba70 \\uc18c\\ube44\\ud558\\uace0\\uc788\\uc2b5\\ub2c8\\ub2e4. \\uc800\\ub294 \\uc774\\uac83\\uc740 \\uba85\\ubc31\\ud55c 2\\ucc28 \\uac00\\ud574\\uc774\\uba70 \\uc81c\\ub300\\ub85c\\ub41c \\ucc98\\ubc8c\\uc774 \\ud544\\uc694\\ud558\\ub2e4\\uace0 \\uc0dd\\uac01\\ud569\\ub2c8\\ub2e4. \\ub2f9\\uc7a5 \\ucd5c\\uadfc\\uc5d0\\ub3c4 \\ubaa8 \\uc5ec\\uc790 \\uc5f0\\uc608\\uc778\\uacfc \\uc560\\uc778 \\uad00\\uacc4\\uc600\\ub358 \\uac00\\ud574\\uc790\\uac00 \\uc131\\uad00\\uacc4 \\ub3d9\\uc601\\uc0c1\\uc73c\\ub85c \\ud611\\ubc15\\uc744 \\ud558\\ub294 \\uc0ac\\uac74\\uc774\\uc788\\uc5c8\\uc2b5\\ub2c8\\ub2e4. \\uc774 \\ud611\\ubc15\\uc774 \\uc65c \\uba39\\ud788\\ub294\\uac78\\uae4c\\uc694? \\uadf8\\ub9ac\\uace0 \\uac00\\ud574\\uc790 \\ub610\\ud55c \\uc774 \\ud611\\ubc15\\uc744 \\uc65c \\ud55c\\uac83\\uc77c\\uae4c\\uc694? \\uc131\\uad00\\uacc4 \\uc601\\uc0c1\\uc744 \\uc720\\ucd9c\\ud55c\\uac70\\ub85c \\uc778\\ud55c \\ubc95\\uc801 \\ucc98\\ubc8c\\ubcf4\\ub2e4 \\uc601\\uc0c1\\uc774 \\uc720\\ucd9c\\ub2f9\\ud568\\uc73c\\ub85c\\uc11c \\uc788\\ub294 \\ud53c\\ud574\\uc790\\uc758 \\uace0\\ud1b5\\uc774 \\ub354 \\ud06c\\ub2e4\\ub294 \\uac83\\uc744 \\uc54c\\uace0\\uc788\\uae30 \\ub54c\\ubb38\\uc5d0 \\uc601\\uc0c1\\uc73c\\ub85c \\ud611\\ubc15\\ud558\\ub294 \\uac83\\uc774\\ub77c\\uace0 \\uc800\\ub294 \\uc0dd\\uac01\\ud569\\ub2c8\\ub2e4. \\ub2f9\\uc7a5\\ub3c4 \\uad00\\ub828 \\uae30\\uc0ac \\ubc0f \\ubaa8 \\uc5f0\\uc608\\uc778\\ubd84 \\uac8c\\uc2dc\\ud310\\uc5d0\\ub294 \\uc720\\ucd9c\\ud558\\uaca0\\ub2e4\\ub294 \\uc601\\uc0c1\\uc744 '\\uadf8 \\uc601\\uc0c1'\\uc774\\ub77c\\uace0 \\uce6d\\ud558\\uba70 \\uc790\\uc2e0\\ub4e4\\uc774 \\ubd10\\uc57c\\ud558\\uaca0\\ub2e4\\ub294 2\\ucc28\\uac00\\ud574\\uc790\\ub4e4\\uc774 \\ub9ce\\uc2b5\\ub2c8\\ub2e4. \\uc720\\ucd9c\\uc790 \\ub610\\ud55c \\uac15\\ub825\\ud55c \\ucc98\\ubc8c\\uc774 \\ud544\\uc694\\ud558\\uc9c0\\ub9cc \\uc633\\uc9c0\\uc54a\\uc740 \\uac83\\uc744 \\uc54c\\uba74\\uc11c\\ub3c4 \\uc2ec\\uc9c0\\uc5b4\\ub294 \\ud53c\\ud574\\uc790\\uac00 \\uc788\\ub294 \\uac83\\uc744 \\uc54c\\uba74\\uc11c\\ub3c4 \\uc790\\uc2e0\\uc758 \\uc695\\uad6c\\ub97c \\uc704\\ud574 \\ud53c\\ud574\\uc790\\uc5d0\\uac8c \\ub354\\ub354\\uc6b1 \\ud070 \\uc0c1\\ucc98\\ub97c \\uc548\\uaca8\\uc8fc\\ub824\\uace0 \\ud558\\ub294 \\uc228\\uc740 \\uac00\\ud574\\uc790\\ub4e4 \\ub610\\ud55c \\ubc8c\\uc744 \\ubc1b\\uc744 \\uc218 \\uc788\\ub3c4\\ub85d \\ud574\\uc8fc\\uc138\\uc694.\"\n        ],\n        \"semantic_type\": \"\",\n        \"description\": \"\"\n      }\n    }\n  ]\n}"
            }
          },
          "metadata": {},
          "execution_count": 24
        }
      ],
      "source": [
        "df_copy_18"
      ]
    },
    {
      "cell_type": "markdown",
      "metadata": {
        "id": "HHxbvUOkBNga"
      },
      "source": [
        "#### 한글 전처리\n",
        "* 어미,조사,구두점 제거 -> 어간 추출\n",
        "* 이 과정이 상당히 오래걸림\n",
        "* 다음엔 병렬적 처리 방식으로 함수를 설정해보고 싶음"
      ]
    },
    {
      "cell_type": "code",
      "execution_count": null,
      "metadata": {
        "id": "DWkS0a7RBST-"
      },
      "outputs": [],
      "source": [
        "# 형태소 분석기에서 Okt 불러오기\n",
        "from konlpy.tag import Okt\n",
        "okt = Okt()\n",
        "\n",
        "# 조사,어미,구두점 제거, 어간 추출\n",
        "def okt_clean(text):\n",
        "    '''\n",
        "    텍스트가 들어오면 텍스트에 있는 단어들에게 명사,조사 등의\n",
        "    이름을 지정하여, 해당 조사,어미,구두점을 제거하는 함수\n",
        "\n",
        "    text : str\n",
        "\n",
        "    return : str\n",
        "    '''\n",
        "    clean_txt = []\n",
        "    for word in okt.pos(text,stem=True):\n",
        "        if word[1] not in ['Josa','Eomi','Punctuation']:\n",
        "            clean_txt.append(word[0])\n",
        "\n",
        "    return ' '.join(clean_txt)\n",
        "\n",
        "from tqdm import tqdm\n",
        "tqdm.pandas\n",
        "\n",
        "\n",
        "df_copy_18['doc'] = df_copy_18['doc'].apply(okt_clean)"
      ]
    },
    {
      "cell_type": "markdown",
      "metadata": {
        "id": "-WCyABW71jK3"
      },
      "source": [
        "#### 불용어 처리\n",
        "*   불용어 처리는 토픽 모델링을 반복해서 돌려가면서, 의미가 있는 단어와 그렇지 않는 단어를 구별하는 작업을 반복"
      ]
    },
    {
      "cell_type": "code",
      "execution_count": null,
      "metadata": {
        "id": "sAsfmbpBjxVm"
      },
      "outputs": [],
      "source": [
        "def remove_stopwords(text):\n",
        "    '''\n",
        "    텍스트를 공백을 구분하고, 설정한 불용어를 제거하는 함수\n",
        "\n",
        "    text : str\n",
        "\n",
        "    return : str\n",
        "    '''\n",
        "    tokens = text.split(' ')\n",
        "    stops = ['합니다','하다','있다','이다','되다','하지만','그리고','그런데','저는','제가','정말','너무','합니다','않다','없다','되어다','받다','아니다']\n",
        "    meaningful_words = [word for word in tokens if not word in stops]\n",
        "    return ' '.join(meaningful_words)\n",
        "\n",
        "df_copy_18['doc'] = df_copy_18['doc'].apply(remove_stopwords)"
      ]
    },
    {
      "cell_type": "markdown",
      "metadata": {
        "id": "oBmyXFOK1mtn"
      },
      "source": [
        "#### LDA 모델에 학습시키기 위해, 텍스트들을 벡터화\n",
        "*   텍스트 데이터를 숫자형 데이터로 변환하는 과정\n",
        "*   '나는 병원을 갔습니다' -> 0 2 0 1"
      ]
    },
    {
      "cell_type": "code",
      "execution_count": null,
      "metadata": {
        "id": "FVAfhEFgBj0u",
        "colab": {
          "base_uri": "https://localhost:8080/"
        },
        "outputId": "2bb25cb0-f752-4faa-aa5f-f80deb227222"
      },
      "outputs": [
        {
          "output_type": "execute_result",
          "data": {
            "text/plain": [
              "정략          1\n",
              "주크          1\n",
              "포퍼          1\n",
              "주태          1\n",
              "서울구치소       1\n",
              "         ... \n",
              "생각       3971\n",
              "사람       4352\n",
              "아이       4618\n",
              "보다       4677\n",
              "국민       5434\n",
              "Length: 36951, dtype: int64"
            ]
          },
          "metadata": {},
          "execution_count": 5
        }
      ],
      "source": [
        "from sklearn.feature_extraction.text import CountVectorizer\n",
        "\n",
        "cv = CountVectorizer() # 단어들의 출현 빈도로 여러 문서를 벡터화하기 위해 cv를 불러온다\n",
        "doc_cv = cv.fit_transform(df_copy_18['doc'])\n",
        "cv_cols = cv.get_feature_names_out()\n",
        "pd.DataFrame(doc_cv.toarray(),columns=cv_cols).sum().sort_values()"
      ]
    },
    {
      "cell_type": "markdown",
      "metadata": {
        "id": "eziw7jb51t5y"
      },
      "source": [
        "#### 잠재 디리클레 기법 적용"
      ]
    },
    {
      "cell_type": "code",
      "execution_count": null,
      "metadata": {
        "id": "oG5PupZbA0xE",
        "colab": {
          "base_uri": "https://localhost:8080/",
          "height": 74
        },
        "outputId": "3cf1069b-848f-473b-82ee-353ef76381f1"
      },
      "outputs": [
        {
          "output_type": "execute_result",
          "data": {
            "text/plain": [
              "LatentDirichletAllocation(n_components=15, random_state=42)"
            ],
            "text/html": [
              "<style>#sk-container-id-1 {color: black;background-color: white;}#sk-container-id-1 pre{padding: 0;}#sk-container-id-1 div.sk-toggleable {background-color: white;}#sk-container-id-1 label.sk-toggleable__label {cursor: pointer;display: block;width: 100%;margin-bottom: 0;padding: 0.3em;box-sizing: border-box;text-align: center;}#sk-container-id-1 label.sk-toggleable__label-arrow:before {content: \"▸\";float: left;margin-right: 0.25em;color: #696969;}#sk-container-id-1 label.sk-toggleable__label-arrow:hover:before {color: black;}#sk-container-id-1 div.sk-estimator:hover label.sk-toggleable__label-arrow:before {color: black;}#sk-container-id-1 div.sk-toggleable__content {max-height: 0;max-width: 0;overflow: hidden;text-align: left;background-color: #f0f8ff;}#sk-container-id-1 div.sk-toggleable__content pre {margin: 0.2em;color: black;border-radius: 0.25em;background-color: #f0f8ff;}#sk-container-id-1 input.sk-toggleable__control:checked~div.sk-toggleable__content {max-height: 200px;max-width: 100%;overflow: auto;}#sk-container-id-1 input.sk-toggleable__control:checked~label.sk-toggleable__label-arrow:before {content: \"▾\";}#sk-container-id-1 div.sk-estimator input.sk-toggleable__control:checked~label.sk-toggleable__label {background-color: #d4ebff;}#sk-container-id-1 div.sk-label input.sk-toggleable__control:checked~label.sk-toggleable__label {background-color: #d4ebff;}#sk-container-id-1 input.sk-hidden--visually {border: 0;clip: rect(1px 1px 1px 1px);clip: rect(1px, 1px, 1px, 1px);height: 1px;margin: -1px;overflow: hidden;padding: 0;position: absolute;width: 1px;}#sk-container-id-1 div.sk-estimator {font-family: monospace;background-color: #f0f8ff;border: 1px dotted black;border-radius: 0.25em;box-sizing: border-box;margin-bottom: 0.5em;}#sk-container-id-1 div.sk-estimator:hover {background-color: #d4ebff;}#sk-container-id-1 div.sk-parallel-item::after {content: \"\";width: 100%;border-bottom: 1px solid gray;flex-grow: 1;}#sk-container-id-1 div.sk-label:hover label.sk-toggleable__label {background-color: #d4ebff;}#sk-container-id-1 div.sk-serial::before {content: \"\";position: absolute;border-left: 1px solid gray;box-sizing: border-box;top: 0;bottom: 0;left: 50%;z-index: 0;}#sk-container-id-1 div.sk-serial {display: flex;flex-direction: column;align-items: center;background-color: white;padding-right: 0.2em;padding-left: 0.2em;position: relative;}#sk-container-id-1 div.sk-item {position: relative;z-index: 1;}#sk-container-id-1 div.sk-parallel {display: flex;align-items: stretch;justify-content: center;background-color: white;position: relative;}#sk-container-id-1 div.sk-item::before, #sk-container-id-1 div.sk-parallel-item::before {content: \"\";position: absolute;border-left: 1px solid gray;box-sizing: border-box;top: 0;bottom: 0;left: 50%;z-index: -1;}#sk-container-id-1 div.sk-parallel-item {display: flex;flex-direction: column;z-index: 1;position: relative;background-color: white;}#sk-container-id-1 div.sk-parallel-item:first-child::after {align-self: flex-end;width: 50%;}#sk-container-id-1 div.sk-parallel-item:last-child::after {align-self: flex-start;width: 50%;}#sk-container-id-1 div.sk-parallel-item:only-child::after {width: 0;}#sk-container-id-1 div.sk-dashed-wrapped {border: 1px dashed gray;margin: 0 0.4em 0.5em 0.4em;box-sizing: border-box;padding-bottom: 0.4em;background-color: white;}#sk-container-id-1 div.sk-label label {font-family: monospace;font-weight: bold;display: inline-block;line-height: 1.2em;}#sk-container-id-1 div.sk-label-container {text-align: center;}#sk-container-id-1 div.sk-container {/* jupyter's `normalize.less` sets `[hidden] { display: none; }` but bootstrap.min.css set `[hidden] { display: none !important; }` so we also need the `!important` here to be able to override the default hidden behavior on the sphinx rendered scikit-learn.org. See: https://github.com/scikit-learn/scikit-learn/issues/21755 */display: inline-block !important;position: relative;}#sk-container-id-1 div.sk-text-repr-fallback {display: none;}</style><div id=\"sk-container-id-1\" class=\"sk-top-container\"><div class=\"sk-text-repr-fallback\"><pre>LatentDirichletAllocation(n_components=15, random_state=42)</pre><b>In a Jupyter environment, please rerun this cell to show the HTML representation or trust the notebook. <br />On GitHub, the HTML representation is unable to render, please try loading this page with nbviewer.org.</b></div><div class=\"sk-container\" hidden><div class=\"sk-item\"><div class=\"sk-estimator sk-toggleable\"><input class=\"sk-toggleable__control sk-hidden--visually\" id=\"sk-estimator-id-1\" type=\"checkbox\" checked><label for=\"sk-estimator-id-1\" class=\"sk-toggleable__label sk-toggleable__label-arrow\">LatentDirichletAllocation</label><div class=\"sk-toggleable__content\"><pre>LatentDirichletAllocation(n_components=15, random_state=42)</pre></div></div></div></div></div>"
            ]
          },
          "metadata": {},
          "execution_count": 6
        }
      ],
      "source": [
        "from sklearn.decomposition import LatentDirichletAllocation # 잠재 디리클레 기법 적용\n",
        "\n",
        "NUM_TOPICS = 15 # 카테고리는 15개로 설정\n",
        "LDA_model = LatentDirichletAllocation(n_components=NUM_TOPICS,random_state=42)\n",
        "\n",
        "LDA_model.fit(doc_cv)"
      ]
    },
    {
      "cell_type": "markdown",
      "metadata": {
        "id": "NkjOTqVc1zEH"
      },
      "source": [
        "#### 잠재 디리클레 기법이 적용된 topic들을 시각화: 15개의 주제들을 지정\n",
        "\n",
        "\n"
      ]
    },
    {
      "cell_type": "code",
      "source": [
        "!pip install scikit-learn==1.0.0  # Adjust version as needed\n",
        "!pip install pyLDAvis==3.4.1      # 코랩 내에 pyLDAvis 와 사이킷런 버전 호환 문제 해결\n"
      ],
      "metadata": {
        "id": "-M_Wm21CoTUg"
      },
      "execution_count": null,
      "outputs": []
    },
    {
      "cell_type": "code",
      "execution_count": null,
      "metadata": {
        "id": "d4Z2-JMRA00z",
        "colab": {
          "base_uri": "https://localhost:8080/",
          "height": 916
        },
        "outputId": "bd0cba12-9984-434a-dd34-d5fb9aa833a0"
      },
      "outputs": [
        {
          "output_type": "stream",
          "name": "stderr",
          "text": [
            "/usr/local/lib/python3.10/dist-packages/ipykernel/ipkernel.py:283: DeprecationWarning: `should_run_async` will not call `transform_cell` automatically in the future. Please pass the result to `transformed_cell` argument and any exception that happen during thetransform in `preprocessing_exc_tuple` in IPython 7.17 and above.\n",
            "  and should_run_async(code)\n"
          ]
        },
        {
          "output_type": "execute_result",
          "data": {
            "text/plain": [
              "<IPython.core.display.HTML object>"
            ],
            "text/html": [
              "\n",
              "<link rel=\"stylesheet\" type=\"text/css\" href=\"https://cdn.jsdelivr.net/gh/bmabey/pyLDAvis@3.4.0/pyLDAvis/js/ldavis.v1.0.0.css\">\n",
              "\n",
              "\n",
              "<div id=\"ldavis_el263133551521855104315449935\" style=\"background-color:white;\"></div>\n",
              "<script type=\"text/javascript\">\n",
              "\n",
              "var ldavis_el263133551521855104315449935_data = {\"mdsDat\": {\"x\": [23.013582229614258, -7.175983905792236, 14.345719337463379, -22.718046188354492, -42.729576110839844, -38.57463455200195, -28.11847496032715, 9.745508193969727, -28.247709274291992, -8.875861167907715, 5.054299354553223, -9.288415908813477, -16.189668655395508, 1.5100288391113281, 24.95444679260254], \"y\": [-8.243904113769531, -31.92999267578125, -28.123130798339844, 5.010430812835693, 10.885979652404785, -10.139788627624512, 26.50439453125, 27.1806640625, -28.601289749145508, 16.08980941772461, 5.272791862487793, 36.99319839477539, -11.341083526611328, -12.034472465515137, 12.766769409179688], \"topics\": [1, 2, 3, 4, 5, 6, 7, 8, 9, 10, 11, 12, 13, 14, 15], \"cluster\": [1, 1, 1, 1, 1, 1, 1, 1, 1, 1, 1, 1, 1, 1, 1], \"Freq\": [15.240014733594629, 11.034018778523194, 10.308539042011217, 8.173837151267394, 7.518258249180458, 7.175310384220303, 7.03429475429204, 6.153402022414032, 6.100278835874295, 5.242734667415181, 4.735035004609248, 3.65143281368339, 2.7957935175130157, 2.4818803427853093, 2.3551697026162834]}, \"tinfo\": {\"Term\": [\"\\uc544\\uc774\", \"\\uc5ec\\uc131\", \"\\uad50\\uc0ac\", \"\\ud559\\uad50\", \"\\ud559\\uc0dd\", \"\\uad6d\\ubbfc\", \"\\ubcd1\\uc6d0\", \"\\uc678\\uad6d\\uc778\", \"\\uc8fc\\ubbfc\", \"\\uc5b4\\ub9b0\\uc774\\uc9d1\", \"\\uad50\\uc721\", \"\\ub09c\\ubbfc\", \"\\ud53c\\ud574\\uc790\", \"\\ub0a8\\uc131\", \"\\ud55c\\uad6d\", \"\\ucc98\\ubc8c\", \"\\uac00\\ud574\\uc790\", \"\\uc2dc\\uac04\", \"\\ud68c\\uc0ac\", \"\\uacbd\\ucc30\", \"\\uc544\\ud30c\\ud2b8\", \"\\ubd88\\ubc95\", \"\\uacf5\\ub9e4\\ub3c4\", \"\\ubd84\\uc591\", \"\\uadfc\\ubb34\", \"\\uc120\\uc218\", \"\\ubcf4\\uc721\", \"\\uc9c0\\uc5ed\", \"\\ud3ed\\ud589\", \"\\uc720\\uce58\\uc6d0\", \"\\uc751\\uae09\\uc2e4\", \"\\ud1b5\\uc99d\", \"\\ubd80\\uac80\", \"\\uc8fc\\uce58\\uc758\", \"\\uc2ec\\uc815\\uc9c0\", \"\\uc218\\uc220\\uc2e4\", \"\\uc758\\ub8cc\\uc0ac\", \"\\ubcf5\\uc6a9\", \"\\uc774\\uc2dd\", \"ct\", \"\\ud56d\\uc554\\uc81c\", \"\\ub300\\ud559\\ubcd1\\uc6d0\", \"\\ubcd1\\uc2e4\", \"\\uace8\\uc808\", \"\\ub3d9\\uc0dd\", \"\\ub1cc\\ucd9c\\ud608\", \"\\ud1f4\\uc6d0\", \"\\uae30\\uc11d\", \"\\ud615\\ubd80\", \"\\uc9c4\\ud1b5\\uc81c\", \"\\uad70\\uc758\\uad00\", \"\\uc0b0\\ubaa8\", \"\\uc911\\ud658\\uc790\\uc2e4\", \"crps\", \"\\ud22c\\uc11d\", \"\\uc9c4\\ub8cc\\uae30\\ub85d\", \"\\uad6d\\uacfc\\uc218\", \"\\uc8fc\\uac80\", \"\\uace8\\uc218\", \"\\ubcf5\\uc81c\", \"\\uc218\\uc220\", \"\\uc544\\ubc84\\uc9c0\", \"\\uacfc\\uc2e4\", \"\\uc5b4\\uba38\\ub2c8\", \"\\uc2ec\\ud3d0\\uc18c\\uc0dd\\uc220\", \"\\ubaa9\\uaca9\\uc790\", \"\\ubcd1\\uc6d0\", \"\\uc774\\uc1a1\", \"\\ucd9c\\ud608\", \"\\uc4f0\\ub7ec\\uc9c0\\ub2e4\", \"\\uc544\\ub4e4\", \"\\uc785\\uc6d0\", \"\\uc0ac\\ub9dd\", \"\\ub3c4\\ucc29\", \"\\ub0a8\\ud3b8\", \"\\uc544\\ube60\", \"\\uc5f0\\ub77d\", \"\\uc9c4\\ub2e8\", \"\\ud658\\uc790\", \"\\uc758\\uc0ac\", \"\\uc5b5\\uc6b8\\ud558\\ub2e4\", \"\\uc99d\\uc0c1\", \"\\uc0ac\\uace0\", \"119\", \"\\uce58\\ub8cc\", \"\\uac00\\uc871\", \"\\uc800\\ud76c\", \"\\uc544\\uae30\", \"\\uc804\\ud654\", \"\\uc544\\ud504\\ub2e4\", \"cctv\", \"\\uce5c\\uad6c\", \"\\uc0c1\\ud0dc\", \"\\ub3c4\\uc640\\uc8fc\\ub2e4\", \"\\uc8fd\\uc74c\", \"\\uacbd\\ucc30\", \"\\ud3ed\\ud589\", \"\\uc5c4\\ub9c8\", \"\\uc624\\ub2e4\", \"\\ubcf4\\ub2e4\", \"\\uac00\\ub2e4\", \"\\ub4e4\\ub2e4\", \"\\uc0ac\\uac74\", \"\\uc0ac\\ub78c\", \"\\uadf8\\ub807\\ub2e4\", \"\\uac19\\ub2e4\", \"\\uc0dd\\uac01\", \"\\ubaa8\\ub974\\ub2e4\", \"\\uc0c1\\ud669\", \"\\uc544\\uc774\", \"\\uc9c0\\uae08\", \"\\ud574\\uc8fc\\ub2e4\", \"\\uc18c\\uac01\", \"\\uc131\\ubbfc\", \"\\ub3d9\\ubb3c\\ud559\\ub300\", \"\\uc18c\\ub144\\ubc95\", \"\\ub458\\uc9f8\\ub538\", \"\\uac1c\\uacbd\", \"\\ud654\\ub825\\ubc1c\\uc804\\uc18c\", \"\\uac00\\ucd95\", \"\\uc545\\ub9c8\", \"\\uacf5\\uae30\\uccad\\uc815\\uae30\", \"\\ub3d9\\ubb3c\\ubcf4\\ud638\", \"\\uc544\\uc2a4\\ucf58\", \"\\uc218\\uac04\", \"\\ub2e4\\uc774\\uc625\\uc2e0\", \"\\ud140\\ube14\\ub7ec\", \"\\ub3d9\\ubb3c\", \"\\uce5c\\uad8c\", \"srf\", \"volte\", \"\\uc5ec\\ub9ac\\ub2e4\", \"\\ubd84\\ub1e8\", \"\\ub300\\uae30\\uc624\\uc5fc\", \"\\uc644\\uc8fc\\uad70\", \"\\uae38\\uace0\\uc591\\uc774\", \"\\ub3d9\\ubb3c\\ubcf4\\ud638\\ubc95\", \"\\ube44\\ub2d0\", \"\\uc740\\ud3c9\", \"\\ud1a1\\ubc29\", \"\\uace0\\ud615\", \"\\uad50\\ubcf4\", \"\\uac15\\uc544\\uc9c0\", \"\\uc5f0\\ud0c4\", \"\\uc0b4\\uc778\\uc790\", \"\\ubbf8\\uc138\\uba3c\\uc9c0\", \"\\uace0\\uc591\\uc774\", \"\\uc5ec\\uc911\\uc0dd\", \"\\ubbf8\\uc131\\ub144\", \"\\ud034\\uc5b4\", \"\\uc2a4\\ub9c8\\ud2b8\\ud3f0\", \"\\ud3d0\\uae30\\ubb3c\", \"\\uac00\\ud574\", \"\\uac00\\ud574\\uc790\", \"\\ud3ed\\ub825\", \"\\ubc18\\ub824\\ub3d9\\ubb3c\", \"\\ud53c\\ud574\\uc790\", \"\\uc5b4\\ub978\", \"\\ucd95\\uc81c\", \"\\ud658\\uacbd\\ubd80\", \"\\uacf5\\ubc94\", \"\\uc794\\uc778\\ud558\\ub2e4\", \"\\uc544\\uc774\", \"\\ud559\\ub300\", \"\\ucc98\\ubc8c\", \"\\ubcf4\\ud638\", \"\\ud559\\ud3ed\\uc704\", \"\\uc2ec\\uc2e0\", \"\\uccad\\uc18c\\ub144\", \"\\uc0b4\\uc778\", \"\\uc0ac\\uac74\", \"\\uc0ac\\uc9c4\", \"\\ud53c\\ud574\", \"\\uc0ac\\ub78c\", \"\\uc0dd\\uac01\", \"\\uc8fd\\ub2e4\", \"\\uc6b0\\ub9ac\", \"\\ubcf4\\ub2e4\", \"\\ud574\\uc8fc\\ub2e4\", \"\\ubc94\\uc8c4\", \"\\ub9ce\\ub2e4\", \"\\uc0b4\\ub2e4\", \"\\ub2f9\\ud558\\ub2e4\", \"\\uac19\\ub2e4\", \"\\uadf8\\ub807\\ub2e4\", \"\\ub098\\uc624\\ub2e4\", \"\\uac00\\ub2e4\", \"\\ubb38\\uc81c\", \"\\uc774\\ub807\\ub2e4\", \"\\uc54c\\ub2e4\", \"\\uccad\\uc6d0\", \"\\uc5b4\\ub5bb\\ub2e4\", \"\\ub300\\ud55c\", \"\\uc9c0\\uae08\", \"\\uc6b1\\uc77c\\uae30\", \"\\uae40\\uc815\\uc740\", \"\\uc5ec\\ud589\\uc0ac\", \"\\uc8fc\\ud734\\uc218\\ub2f9\", \"\\ud611\\uc815\", \"\\uc5d0\\uc5b4\\uc18c\\ud504\\ud2b8\", \"\\ub0a8\\ubd81\\uc815\\uc0c1\\ud68c\\ub2f4\", \"\\uc601\\ub9ac\\ubcd1\\uc6d0\", \"\\uad00\\uad11\\ud1b5\\uc5ed\\uc548\\ub0b4\\uc0ac\", \"\\uc784\\uc0c1\\uc2ec\\ub9ac\\uc0ac\", \"\\uc138\\ube44\", \"\\ube44\\ud575\\ud654\", \"\\uc5b5\\ub958\", \"\\ud64d\\uc900\\ud45c\", \"\\uc870\\uc778\", \"\\uc77c\\ubcf8\\uad70\", \"\\uacb0\\ud575\", \"\\uc785\\ud56d\", \"\\ub79c\\uc2a4\", \"\\uae40\\uc885\\ud544\", \"\\uce7c\\ub77c\", \"\\ubcd1\\uc6a9\", \"\\uce68\\ub7b5\", \"\\ud398\\ud2b8\\ubcd1\", \"\\uc804\\uc6a9\\uae30\", \"\\uc9c0\\uc5e0\", \"\\uace0\\ub839\\ubcf4\", \"\\uc2ec\\uc7ac\\ucca0\", \"\\ubd81\\ud55c\", \"\\uc815\\uce58\\ubc94\", \"\\uc815\\uc2e0\\uac74\\uac15\", \"\\uad50\\ubbfc\", \"\\ud1b5\\uc77c\", \"\\ud648\\uc1fc\\ud551\", \"\\uc804\\ubc94\", \"\\uc774\\ub95c\\ucc28\", \"\\ud55c\\uc778\", \"\\ubc15\\uc815\\ud76c\", \"\\uc904\\uae30\\uc138\\ud3ec\", \"\\ucde8\\ub4dd\\uc138\", \"\\ub77c\\ub3c8\", \"\\uc774\\uc8fc\", \"\\uad6d\\ud68c\\uc758\\uc6d0\", \"\\uc57c\\ub2f9\", \"\\ubcf4\\ud5d8\\ub8cc\", \"\\ud3c9\\ud654\", \"\\uad6d\\ud68c\", \"\\uc77c\\ubcf8\", \"\\uad6d\\ubbfc\", \"\\uc790\\uc720\", \"\\ub300\\ud1b5\\ub839\", \"\\ubbfc\\uc8fc\\uc8fc\\uc758\", \"\\ud574\\uc0b0\", \"\\uc815\\ubd80\", \"\\ubb38\\uc7ac\\uc778\", \"\\uc815\\uad8c\", \"\\ub300\\ud55c\\ubbfc\\uad6d\", \"\\ud5cc\\ubc95\", \"\\ucd1b\\ubd88\", \"\\ud55c\\uad6d\", \"\\ubcf4\\ud5d8\", \"\\ub098\\ub77c\", \"\\uc815\\ub2f9\", \"\\uad6d\\uac00\", \"\\uc138\\uae08\", \"\\uc6b0\\ub9ac\\ub098\\ub77c\", \"\\uac74\\uac15\", \"\\uc885\\uad50\", \"\\uc815\\uce58\", \"\\ubc18\\ub300\", \"\\uc6b0\\ub9ac\", \"\\ud61c\\ud0dd\", \"\\uc0ac\\ub78c\", \"\\uc815\\ucc45\", \"\\uccad\\uc6d0\", \"\\uad6d\\ub0b4\", \"\\uc9c0\\uae08\", \"\\uce58\\ub8cc\", \"\\uc704\\ud574\", \"\\uc0dd\\uac01\", \"\\ub9ce\\ub2e4\", \"\\ub300\\ud55c\", \"\\ubcf4\\ub2e4\", \"\\uc8fc\\ub2e4\", \"\\ubb38\\uc81c\", \"\\ud574\\uc8fc\\ub2e4\", \"\\uad50\\uad8c\", \"\\uc911\\ub4f1\", \"\\uc720\\uc740\\ud61c\", \"\\ud559\\uc0dd\\uc778\\uad8c\", \"\\ucfe0\\ud321\", \"\\ud559\\uad50\\uc7a5\", \"\\uad50\\uc7a5\", \"\\uc784\\uc6a9\", \"\\uad50\\uc721\\ud65c\\ub3d9\", \"\\uc694\\uc591\\ubcf4\\ud638\\uc0ac\", \"\\uad50\\uc721\\uccad\", \"\\ubb34\\uc9c1\", \"\\ubc29\\uacfc\\ud6c4\", \"\\uc815\\ub3d9\\uadf9\\uc7a5\", \"\\ud1b5\\uc6b4\", \"\\ub3d9\\uc131\\uacb0\\ud63c\", \"\\ud734\\uad50\", \"\\uad50\\uacfc\", \"\\ubcf5\\uc9c0\\uc0ac\", \"\\uc219\\uba85\\uc5ec\\uace0\", \"\\uc870\\uad50\", \"\\uc0ac\\ubc94\\ub300\", \"\\uc6a9\\uc561\", \"\\ubaa8\\uc81c\", \"\\uc9c0\\ubc29\\uc9c1\", \"\\ucd08\\ub4f1\\uad50\\uc721\", \"\\ud559\\ud3ed\", \"\\uadf9\\uc7a5\", \"\\ud2b9\\uc218\\uad50\\uc721\", \"\\ubc1c\\ub2ec\\uc7a5\\uc560\", \"\\uad50\\uc6d0\", \"\\ud559\\uae09\", \"\\uad50\\uc9c1\", \"\\uc758\\ubb34\\uad50\\uc721\", \"\\uc0c1\\ub2f4\\uc0ac\", \"\\ud559\\uc0dd\", \"\\ud559\\uad50\", \"\\uad50\\ubcf5\", \"\\ub3d9\\uc131\\uc560\\uc790\", \"\\uad50\\uac10\", \"\\uc218\\uc5c5\", \"\\uad50\\uc721\\ubd80\", \"\\ud559\\uacfc\", \"\\uace0\\ub4f1\\ud559\\uad50\", \"\\uccad\\uac01\\uc7a5\\uc560\", \"\\uad50\\uc721\", \"\\ud559\\uc2b5\", \"\\uad50\\uc721\\uac10\", \"\\uac15\\uc0ac\", \"\\ub3d9\\uc131\\uc560\", \"\\ud2b9\\uc218\", \"\\ubc29\\ud559\", \"\\uc5f0\\uc218\", \"\\uad50\\uc0ac\", \"\\ud559\\ubd80\\ubaa8\", \"\\uc608\\uc220\", \"\\uacf5\\ubb34\\uc6d0\", \"\\ube44\\uc815\\uaddc\\uc9c1\", \"\\uc815\\uaddc\\uc9c1\", \"\\uc911\\ud559\\uad50\", \"\\uc120\\uc0dd\\ub2d8\", \"\\ud559\\ub144\", \"\\uc0ac\\ud68c\", \"\\ucd08\\ub4f1\\ud559\\uad50\", \"\\uc7a5\\uc560\", \"\\uc2dc\\ud5d8\", \"\\ubb38\\uc81c\", \"\\uc0dd\\uac01\", \"\\uc704\\ud574\", \"\\uc9c0\\uc6d0\", \"\\ub300\\ud55c\", \"\\uc6b0\\ub9ac\", \"\\ub9ce\\ub2e4\", \"\\uc800\\ud76c\", \"\\ubcf4\\ub2e4\", \"\\ub54c\\ubb38\", \"\\uacbd\\uc6b0\", \"\\uac19\\ub2e4\", \"\\uc774\\uc0c1\", \"\\uc815\\ucc45\", \"\\ud604\\uc7ac\", \"\\uc544\\uc774\", \"\\ud654\\ud3d0\", \"\\uc8fc\\ud0dd\\uc870\\ud569\", \"\\uc870\\ud569\\uc6d0\", \"\\ubcf4\\uc99d\\uae08\", \"in\", \"\\uc720\\ud50c\\ub7ec\\uc2a4\", \"\\ud14c\\ud06c\", \"\\ud0c1\\uc0ac\", \"\\ud718\\ubb38\\uc758\\uc219\", \"ico\", \"\\uc870\\ud569\", \"\\uc2e0\\ud0c1\", \"have\", \"\\ube14\\ub85d\", \"\\uac00\\uc0c1\", \"the\", \"\\uc794\\uae08\", \"and\", \"\\uc810\\uc8fc\", \"\\uc554\\ud638\", \"\\uac00\\ub9f9\", \"\\uc9c4\\uc5d0\\uc5b4\", \"this\", \"\\uc911\\uac1c\\uc5c5\", \"permanent\", \"\\ubaa8\\ub378\\ud558\\uc6b0\\uc2a4\", \"to\", \"\\ubd88\\uc2b9\", \"that\", \"center\", \"\\uc784\\ub300\", \"of\", \"\\ub300\\uae08\", \"\\uacc4\\uc57d\\uc11c\", \"\\uc784\\ucc28\", \"\\uccb4\\uc778\", \"\\uacc4\\uc57d\\uae08\", \"\\ubd84\\uc591\", \"lh\", \"\\ub300\\ucd9c\", \"\\uacc4\\uc57d\", \"\\uc2dc\\uacf5\", \"\\uc8fc\\ud0dd\", \"\\ud558\\uccad\", \"\\ubd80\\ub3d9\\uc0b0\", \"\\ucf54\\uc778\", \"\\uac74\\uc124\", \"\\uc2dc\\uacf5\\uc0ac\", \"\\uacf5\\uc0ac\", \"\\uc11c\\ubbfc\", \"\\uc544\\ud30c\\ud2b8\", \"\\uc5c5\\uccb4\", \"\\ud68c\\uc0ac\", \"\\uc790\\uae08\", \"\\ud22c\\uae30\", \"\\ud589\\uc0ac\", \"\\uacf5\\uacf5\", \"\\ud22c\\uc790\", \"\\uc0ac\\uc5c5\", \"\\uc9c0\\uae09\", \"\\uc800\\ud76c\", \"\\uac70\\ub798\", \"\\uc0ac\\uae30\", \"\\uc6b0\\ub9ac\", \"\\uc9c1\\uc6d0\", \"\\uac00\\ub2e4\", \"\\uc0b0\\uc5c5\", \"\\ubcf4\\ub2e4\", \"\\ud53c\\ud574\", \"\\uac19\\ub2e4\", \"\\uc8fc\\ub2e4\", \"\\uc815\\ubd80\", \"\\ud604\\uc7ac\", \"\\ubb34\\uace0\\uc8c4\", \"\\ud398\\ubbf8\\ub2c8\\uc998\", \"nhn\", \"oid\", \"mode\", \"mid\", \"sid1\", \"lsd\", \"\\ud3ec\\ub974\\ub178\", \"read\", \"aid\", \"\\uc591\\uc131\\ud3c9\\ub4f1\", \"main\", \"\\uc5ec\\uc131\\uac00\\uc871\\ubd80\", \"\\ub099\\ud0dc\", \"\\uae09\\uc9c4\", \"\\uc608\\ube44\\uad70\", \"\\uc131\\ucc28\\ubcc4\", \"\\uc5ec\\uc131\\ubd80\", \"\\ud398\\ubbf8\", \"\\ucf54\\ud53c\\ub178\", \"\\ub9ac\\ubca4\\uc9c0\", \"\\ub099\\ud0dc\\uc8c4\", \"\\ub0a8\\uc131\", \"\\ub0a8\\ub140\\ud3c9\\ub4f1\", \"\\ub0a8\\uc131\\ud610\\uc624\", \"\\uc131\\ud589\\uc704\", \"001\", \"\\ub0a8\\uc131\\ub9cc\", \"\\ud53c\\uc784\", \"\\uc5ec\\uc131\", \"\\ud398\\ubbf8\\ub2c8\\uc2a4\\ud2b8\", \"sec\", \"\\ub0a8\\ub140\", \"\\ub0a8\\uc131\\uc740\", \"102\", \"news\", \"naver\", \"\\ubb34\\uace0\", \"com\", \"\\uc131\\ubc94\\uc8c4\", \"http\", \"\\uc131\\ud3ed\\ub825\", \"\\uc131\\ubcc4\", \"\\ubab0\\uce74\", \"www\", \"\\ubb34\\uc8c4\", \"\\ub0a8\\uc790\", \"\\uad6d\\ubc29\", \"co\", \"kr\", \"\\uc131\\ud3ed\\ud589\", \"\\uc5ec\\uc790\", \"\\ubc94\\uc8c4\", \"\\ud3c9\\ub4f1\", \"\\ucc98\\ubc8c\", \"\\uc0ac\\ud68c\", \"\\uc778\\uad8c\", \"\\uc758\\ubb34\", \"\\uc0ac\\uac74\", \"\\ud53c\\ud574\\uc790\", \"\\uc0ac\\uc2e4\", \"\\ub300\\ud55c\\ubbfc\\uad6d\", \"\\uad6d\\ubbfc\", \"\\ud3d0\\uc9c0\", \"\\uad6d\\uac00\", \"\\uc0ac\\ub78c\", \"\\ub300\\ud55c\", \"\\uccad\\uc6d0\", \"\\ub9ce\\ub2e4\", \"\\uc9c0\\uc6d0\", \"\\ubcf4\\uc721\", \"\\uc5b4\\ub9b0\\uc774\\uc9d1\", \"\\uc720\\uc544\\uad50\\uc721\", \"\\ub4f1\\uc6d0\", \"\\uc720\\uce58\\uc6d0\\uad50\\uc0ac\", \"\\ud734\\uac8c\", \"\\ub0ae\\uc7a0\", \"\\uc601\\uc544\", \"\\ubcf4\\uc721\\ub8cc\", \"\\uc9c0\\uc81c\\uc5ed\", \"\\uadfc\\ub85c\\uae30\\uc900\\ubc95\", \"\\uadfc\\ubb34\\uc2dc\\uac04\", \"\\uc870\\ub9ac\\uc0ac\", \"\\ud734\\uc2dd\\uc2dc\\uac04\", \"\\uc3d8\\ub80c\\ud1a0\", \"\\ud558\\uc6d0\", \"\\uc5f0\\ucc28\", \"\\uc601\\uc720\\uc544\\ubcf4\\uc721\\ubc95\", \"\\ud2b9\\ubcc4\\ud65c\\ub3d9\", \"\\uac1c\\ud3ec\", \"\\uc2e0\\ud14d\", \"\\uc6cc\\ud0b9\\ub9d8\", \"\\ucf58\\ub3c4\\ubbf8\\ub2c8\\uc5c4\", \"\\uc791\\uc0b4\", \"\\uc678\\ub798\\uc5b4\", \"10\\uc2dc\\uac04\", \"\\uc6d0\\uc544\", \"tm\", \"\\uc601\\uc720\", \"\\uc774\\uc2a4\\ud0c0\\ud56d\\uacf5\", \"\\uc720\\uce58\\uc6d0\", \"\\uc0ac\\ub9bd\", \"\\uc218\\ub2f9\", \"\\uacf5\\ub9bd\", \"\\uc720\\uc544\", \"\\ub3cc\\ubcf4\\ub2e4\", \"\\uc2dc\\uae09\", \"\\ucd08\\uacfc\\uadfc\\ubb34\", \"\\uc778\\uc99d\", \"\\uc810\\uc2ec\\uc2dc\\uac04\", \"\\ud734\\ubb34\", \"\\ucd5c\\uc800\\uc784\\uae08\", \"\\uadfc\\ubb34\", \"\\uadfc\\ub85c\\uc2dc\\uac04\", \"\\uc6d0\\uc7a5\", \"\\uadfc\\ub85c\", \"\\ud1f4\\uadfc\", \"\\uc784\\uae08\", \"\\uc544\\ub3d9\\ud559\\ub300\", \"\\uc2dc\\uac04\", \"\\uad50\\uc0ac\", \"\\uc544\\uc774\", \"\\uae09\\uc5ec\", \"\\uc6d4\\uae09\", \"\\ucd9c\\uadfc\", \"\\uc9c0\\uae09\", \"\\uc6b4\\uc601\", \"\\uac00\\uc815\", \"\\uc544\\ub3d9\", \"\\ud3c9\\uac00\", \"\\ubd80\\ubaa8\", \"\\uc5c5\\ubb34\", \"\\uc9c0\\uc6d0\", \"\\ud574\\uc8fc\\ub2e4\", \"\\ubcf4\\ub2e4\", \"\\ub9ce\\ub2e4\", \"\\ud558\\ub8e8\", \"\\uc0dd\\uac01\", \"\\uadf8\\ub807\\ub2e4\", \"\\ud604\\uc2e4\", \"\\uc6b0\\ub9ac\", \"\\uac19\\ub2e4\", \"\\uba85\\uc758\\ub300\\uc5ec\", \"\\uce58\\uacfc\\uc704\\uc0dd\\uc0ac\", \"\\ubc29\\uc0ac\\uc120\\uc0ac\", \"gp\", \"phc\", \"\\uc6b4\\uc815\\uc2e0\\ub3c4\\uc2dc\", \"\\uc751\\uae09\\uad6c\\uc870\\uc0ac\", \"\\uae30\\uc220\\uc0ac\", \"\\uc18c\\ubc29\\uccad\", \"\\uac74\\ucd95\\uc0ac\", \"\\ud3c9\\uc900\\ud654\", \"\\uacbd\\ucd98\\uc120\", \"\\ubb3c\\ub9ac\\uce58\\ub8cc\\uc0ac\", \"\\uc2dd\\uc0ac\\ub3d9\", \"\\uac74\\ucd95\\ud559\", \"\\uc784\\ubd80\", \"\\uc704\\uc218\", \"khk\", \"\\ud55c\\uc758\\uc0ac\", \"\\uce68\\ub738\", \"\\ub09c\\uc784\", \"\\ud48d\\ub3d9\", \"\\uc6d0\\ud615\", \"\\ubcf4\\uacb8\", \"\\ubbf8\\uad70\\uae30\\uc9c0\", \"\\uce68\\uad6c\", \"\\uc774\\uad6d\", \"\\uac74\\uc6b0\", \"\\uccad\\ub7c9\\ub9ac\", \"\\uc790\\uac04\", \"\\ubca0\\ub4dc\\ud0c0\\uc6b4\", \"\\uc790\\uae09\", \"\\ub2e5\\ud130\", \"\\uba74\\ud5c8\", \"\\uc811\\uc885\", \"\\uc870\\uc120\\uc18c\", \"\\ub2e8\\ub9d0\\uae30\", \"\\uc7a5\\ubcd1\", \"\\uc758\\ub8cc\\uc778\", \"\\ud69f\\uc218\", \"\\ubc29\\uc0ac\\uc120\", \"\\uc758\\ub8cc\", \"\\ud1b5\\uc2e0\", \"\\uc18c\\ubc29\", \"\\uc9c0\\uc5ed\", \"\\uc870\\uc815\", \"\\uc778\\ub825\", \"\\ucd08\\uc74c\\ud30c\", \"\\uc2dc\\ud589\", \"\\ud574\\uc81c\", \"\\uc81c\\ud55c\", \"\\ubcf4\\uac74\\ubcf5\\uc9c0\\ubd80\", \"\\uce58\\uacfc\", \"\\uc81c\\ub3c4\", \"\\ubd80\\ub2f4\", \"\\uc815\\ucc45\", \"\\uc9c0\\uc815\", \"\\uc0b0\\uc5c5\", \"\\uc548\\uc804\", \"\\ud658\\uc790\", \"\\uc790\\uaca9\", \"\\uae30\\uc900\", \"\\uac1c\\uc120\", \"\\uacf5\\uae09\", \"\\ub300\\ud55c\", \"\\ub530\\ub974\\ub2e4\", \"\\uacbd\\uc6b0\", \"\\ud604\\uc7ac\", \"\\uc704\\ud574\", \"\\ubb38\\uc81c\", \"\\uc815\\ubd80\", \"\\uad6d\\uac00\", \"\\uac04\\ud638\\uc0ac\", \"\\uad6d\\ubbfc\", \"\\uc9c0\\uc6d0\", \"\\ubc1c\\uc0dd\", \"\\uc5c5\\ubb34\", \"\\ub9ce\\ub2e4\", \"\\ubcf4\\ub2e4\", \"\\uccad\\uc6d0\", \"\\ub300\\ud574\", \"\\ubcd1\\uc6d0\", \"\\uad00\\ub828\", \"\\uc758\\uc655\\uc2dc\", \"\\uc758\\uc655\", \"gtx\", \"\\uc6a9\\uc778\\uc2dc\", \"\\uc601\\uc885\\ub3c4\", \"\\ud601\\uc2e0\\ub3c4\\uc2dc\", \"\\ubcf4\\ub77c\\ub3d9\", \"ic\", \"\\ub3d9\\ud0c4\", \"\\uc2e0\\ubd84\\ub2f9\\uc120\", \"\\ud638\\uc120\", \"\\ubc29\\uc0ac\\uccad\", \"\\ubd84\\ub2f9\\uc120\", \"\\uc2e0\\uc548\\uc0b0\\uc120\", \"\\uae40\\uae30\\ub3d9\", \"\\uac15\\uc740\\ud76c\", \"\\ud2b8\\ub7a8\", \"\\ub098\\ub8e8\", \"\\ub0a8\\uc774\\uba74\", \"\\uc0c8\\ub9cc\\uae08\", \"\\uae40\\uc131\\uc81c\", \"\\ud568\\uc7a5\", \"\\uc804\\ucca0\", \"\\ub3d9\\ud0c4\\uc2e0\\ub3c4\\uc2dc\", \"\\uae40\\uc0c1\\ub3c8\", \"\\uc8fc\\uac70\\uc9c0\\uc5ed\", \"\\uad6d\\uc81c\\uacf5\\ud56d\", \"\\uc5ec\\uac1d\\uc120\", \"\\uc911\\uad6c\\uccad\", \"\\uae40\\uc5b4\\uc900\", \"\\ub2e4\\uc0b0\", \"\\uad50\\ud1b5\", \"\\uc2e0\\ub3c4\\uc2dc\", \"\\ucc29\\uacf5\", \"\\uce35\\uac04\\uc18c\\uc74c\", \"\\uad6c\\uac04\", \"\\ub178\\uc120\", \"\\uacf5\\uc6d0\", \"\\uccad\\ub77c\", \"\\ub179\\uc9c0\", \"\\uc8fc\\ubbfc\", \"\\uad11\\uba85\", \"\\uc9c0\\ud558\", \"\\ub3c4\\uc2dc\", \"\\uace0\\uc18d\\ub3c4\\ub85c\", \"\\uad11\\uc5ed\", \"\\ub3c4\\ub85c\", \"\\uac74\\ub9bd\", \"\\uc9c0\\uad6c\", \"\\uac1c\\ubc1c\", \"\\uc544\\ud30c\\ud2b8\", \"\\ubaa9\\uc0ac\", \"\\uc778\\ucc9c\", \"\\uc2dc\\ubbfc\", \"\\ub2e8\\uc9c0\", \"\\uc11c\\uc6b8\", \"\\uae40\\ud3ec\", \"\\uacc4\\ud68d\", \"\\uc0ac\\uc5c5\", \"\\uc9c0\\uc5ed\", \"\\uc218\\ub3c4\\uad8c\", \"\\uacbd\\uae30\\ub3c4\", \"\\uc2dc\\uc124\", \"\\uc124\\uce58\", \"\\uc778\\uad6c\", \"\\uac74\\uc124\", \"\\uacf5\\uc0ac\", \"\\ubb38\\uc81c\", \"\\ucd94\\uc9c4\", \"\\ud5c8\\uac00\", \"\\uc774\\uc6a9\", \"\\ud658\\uacbd\", \"\\uac00\\ub2e4\", \"\\ud604\\uc7ac\", \"\\uc694\\uccad\", \"\\uc0c1\\ud669\", \"\\ud68c\\uacc4\\ubc95\\uc778\", \"\\uc720\\uc800\", \"\\uc6f9\\ud230\", \"\\uc18c\\ub77c\\ub137\", \"\\uae40\\uc0ac\\ub791\", \"\\uc218\\uc2e0\\ub8cc\", \"\\uce74\\ud480\", \"\\uc774\\uc740\\uc8fc\", \"\\uc791\\uac00\", \"\\ub4dc\\ub77c\\ub9c8\", \"\\ud68c\\uacc4\\uac10\\uc0ac\", \"\\uc740\\uc815\", \"\\ud68c\\uacc4\\uc0ac\", \"\\ub300\\uad6c\\ud14d\", \"\\uc6f9\\ud558\\ub4dc\", \"\\uc0b0\\uccb4\\uc2a4\", \"\\uacf5\\ud68c\", \"\\ud654\\uc774\\ud2b8\", \"\\ubc15\\ucc3d\\uc9c4\", \"\\ub9c8\\uc774\\ud06c\\ub85c\", \"\\uc545\\ud50c\\ub7ec\", \"\\uc544\\uc774\\ud15c\", \"\\ub0c9\\ubc29\", \"\\ub85c\\ub354\", \"\\uc544\\uc774\\uc988\", \"\\uc5ec\\ud610\", \"\\uc5c5\\ub85c\\ub4dc\", \"\\ud5cc\\ud608\", \"\\uc9c1\\uc2a4\", \"\\uc785\\uc7a5\\ub8cc\", \"\\uc704\\ud0a4\", \"\\uad6d\\ub9bd\\uacf5\\uc6d0\", \"\\uc0c1\\uc7a5\\ud3d0\\uc9c0\", \"kt\", \"\\uc0ac\\ubb34\\uc7a5\", \"\\uc5b4\\uc870\", \"\\ud55c\\uaca8\\ub808\", \"\\uad00\\ub78c\", \"\\uc800\\uc791\\uad8c\", \"\\ube14\\ub799\\ub9ac\\uc2a4\\ud2b8\", \"\\uc0ac\\uc774\\ud2b8\", \"\\uac8c\\uc784\", \"\\uc791\\ud488\", \"\\uc6b4\\uc601\\uc790\", \"\\ubc29\\uc1a1\", \"kbs\", \"\\ud68c\\uc0ac\", \"\\uad11\\uace0\", \"\\uc0ac\\ucc30\", \"\\ud310\\ub9e4\", \"\\ubd88\\ubc95\", \"\\uace0\\uac1d\", \"\\uad50\\uc815\", \"\\uc601\\ud654\", \"\\ubc84\\uc2a4\", \"\\ub313\\uae00\", \"\\uae30\\uc0ac\", \"\\uc0ad\\uc81c\", \"\\uc9c1\\uc6d0\", \"\\uae30\\uc5c5\", \"\\uc0ac\\uc6a9\", \"\\ud53c\\ud574\", \"\\uac1c\\uc778\", \"\\uc81c\\ucd9c\", \"\\ub300\\ud55c\", \"\\uc0ac\\ub78c\", \"\\uccad\\uc6d0\", \"\\ud574\\ub2f9\", \"\\uc870\\uc0ac\", \"\\ub0b4\\uc6a9\", \"\\ub300\\ud574\", \"\\uc5c5\\uccb4\", \"\\uad00\\ub828\", \"\\uc0ac\\uac74\", \"\\uc0dd\\uac01\", \"\\uc694\\uad6c\", \"\\uac19\\ub2e4\", \"\\ubb38\\uc81c\", \"\\uad00\\ub9ac\", \"\\uac00\\ub2e4\", \"\\ub9ce\\ub2e4\", \"\\ubcf4\\ub2e4\", \"\\uc120\\uc218\", \"\\ube59\\uc0c1\", \"\\ucd9c\\uc81c\", \"\\ucd9c\\uc804\", \"\\uad00\\ub9ac\\uc0ac\", \"\\ub4dc\\ub8e8\", \"\\uad6d\\uac00\\ub300\\ud45c\", \"\\uceec\\ub9c1\", \"\\uc62c\\ub9bc\\ud53d\", \"\\uae40\\ubcf4\\ub984\", \"\\uc190\\uc5f0\\uc7ac\", \"gdi\", \"\\ub9e4\\ud06c\\ub85c\", \"\\ud3c9\\ucc3d\", \"\\uc544\\uc2dc\\uc548\", \"\\ub178\\uc120\\uc601\", \"\\ubc15\\uc9c0\\uc6b0\", \"\\ucf10\\ud2b8\\ub808\\uc77c\", \"\\uc5ec\\uc625\", \"\\ub300\\ud45c\\ud300\", \"\\uc544\\uc774\\uc2a4\\ud558\\ud0a4\", \"\\uc804\\uba85\\uaddc\", \"kfa\", \"\\uc5f0\\ub9f9\", \"rec\", \"\\uc57c\\uad6c\\ub2e8\", \"\\uc885\\ubd80\\uc138\", \"\\uc5d4\\uc9c4\\uc624\\uc77c\", \"\\ud3c9\\ucc3d\\ub3d9\\uacc4\\uc62c\\ub9bc\\ud53d\", \"\\uac70\\ucc3d\", \"\\ud0dc\\uc591\\uad11\", \"\\uc5d4\\uc9c4\", \"\\uccb4\\uc721\\ud68c\", \"\\ub098\\uacbd\\uc6d0\", \"\\ud55c\\ub098\\ub77c\\ub2f9\", \"\\ud2b9\\uac80\", \"\\ubd88\\uc18c\", \"\\uc774\\uc0ac\\uc7a5\", \"\\ucd95\\uad6c\", \"\\ub3c5\\ub3c4\", \"\\uc2a4\\ud3ec\\uce20\", \"\\uc57c\\uad6c\", \"\\uc218\\ud5d8\\uc0dd\", \"\\ub300\\ud68c\", \"\\uae08\\ud638\", \"\\uc774\\uc7ac\\uba85\", \"\\uc5b8\\ub860\\uc0ac\", \"\\uc758\\ud639\", \"\\ube44\\ub9ac\", \"\\ud611\\ud68c\", \"\\uc2dc\\ud5d8\", \"\\ub9ac\\ucf5c\", \"\\uc5b8\\ub860\", \"\\uc870\\uc0ac\", \"\\ubcf4\\ub3c4\", \"\\uccb4\\uc721\", \"\\uacbd\\uae30\", \"\\uac80\\ucc30\", \"\\uad6d\\ubbfc\", \"\\ubb38\\uc81c\", \"\\ub300\\ud55c\", \"\\uccad\\uc6d0\", \"\\uad00\\ub828\", \"\\uc758\\uc6d0\", \"\\ud574\\uc8fc\\ub2e4\", \"\\uc218\\uc0ac\", \"\\ub9ce\\ub2e4\", \"\\ub274\\uc2a4\", \"\\ub300\\ud574\", \"\\uc815\\ubd80\", \"\\uc704\\ud574\", \"\\uc0dd\\uac01\", \"\\uc2dc\\ud0a4\\ub2e4\", \"\\ubc14\\ub77c\\ub2e4\", \"\\ubcf4\\ub2e4\", \"\\ub300\\ud55c\\ubbfc\\uad6d\", \"\\uc774\\ub807\\ub2e4\", \"\\uacf5\\ub9e4\\ub3c4\", \"\\uc99d\\uad8c\\uc0ac\", \"\\uc99d\\uc2dc\", \"\\uc140\\ud2b8\\ub9ac\\uc628\", \"\\uae09\\ub77d\", \"\\uae08\\uc735\\uc704\", \"\\ud669\\uc804\", \"\\ucc28\\uba85\\uacc4\\uc88c\", \"\\ud559\\uc885\", \"\\uc870\\uc704\", \"\\ucc28\\uc785\", \"\\ud2b9\\ubaa9\\uace0\", \"\\ud3d0\\uad50\", \"\\uc774\\uac74\\ud76c\", \"\\uae08\\uc735\\uc2dc\\uc7a5\", \"\\uace8\\ub4dc\\ub9cc\\uc0ad\\uc2a4\", \"\\uc8fc\\uc2dd\", \"\\uc815\\uc2dc\", \"\\uc11c\\ub0a8\\ub300\", \"\\uc8fc\\uc2dd\\uc2dc\\uc7a5\", \"\\ub2e8\\uad6d\\ub300\\ud559\\uad50\", \"\\uac1c\\uc885\", \"\\uc99d\\uad8c\", \"\\uae40\\uc0c1\\uace4\", \"\\uc544\\uac00\\uc528\", \"\\uc5f0\\uae30\\uae08\", \"\\ucf54\\uc2a4\\ud53c\", \"\\uac70\\ub798\\ub7c9\", \"\\ub3c4\\ub07c\", \"\\uae08\\uc735\\uc2e4\\uba85\\uc81c\", \"\\uc774\\ud76c\\uc9c4\", \"\\uc218\\ub2a5\", \"\\uad6d\\ubbfc\\uc5f0\\uae08\", \"\\uc218\\uc2dc\", \"\\uae08\\uc735\", \"\\ub0b4\\uc2e0\", \"\\ucd1d\\uc7a5\", \"\\uc790\\ubcf8\\uc2dc\\uc7a5\", \"\\ud22c\\uc790\\uc790\", \"\\uc591\\uc721\\ube44\", \"\\uc8fc\\uac00\", \"\\ub300\\ucc28\", \"\\ud638\\uce6d\", \"\\uc804\\ud615\", \"\\ub9e4\\ub3c4\", \"\\uac70\\ub798\", \"\\ubc14\\uc774\\uc624\", \"\\ud22c\\uc790\", \"\\uc2dc\\uc7a5\", \"\\ub300\\ud559\", \"\\uc885\\ubaa9\", \"\\uac1c\\uc778\", \"\\uc0bc\\uc131\", \"\\uc138\\uc6d4\\ud638\", \"\\uc2dc\\uc2a4\\ud15c\", \"\\ub300\\ud559\\uad50\", \"\\uae30\\uad00\", \"\\uc138\\ub825\", \"\\uc81c\\ub3c4\", \"\\uc2dc\\ud0a4\\ub2e4\", \"\\uad6d\\ubbfc\", \"\\ub300\\ud55c\", \"\\ud3d0\\uc9c0\", \"\\uccad\\uc6d0\", \"\\ud559\\uc0dd\", \"\\uc120\\uc0dd\\ub2d8\", \"\\uc0dd\\uac01\", \"\\uc774\\ub807\\ub2e4\", \"\\ubcf4\\ub2e4\", \"\\ub2e4\\ubb38\\ud654\", \"\\uc0b0\\ub9bc\\uc870\\ud569\", \"\\uc2b9\\uac15\\uae30\", \"\\uae40\\uc81c\\uc2dc\", \"\\uc5d4\\uc9c0\\ub2c8\\uc5b4\\ub9c1\", \"\\uc774\\ubbfc\\uc790\", \"\\uc131\\uad6c\", \"\\ub354\\ube59\", \"\\uc6b0\\ub9ac\\uc740\\ud589\", \"\\ub300\\uacf5\\ubd84\\uc2e4\", \"\\ub0a8\\uc601\\ub3d9\", \"\\ub9ac\\ud504\\ud2b8\", \"sds\", \"\\uc0b0\\ub9bc\", \"\\ubc15\\uc885\\ucca0\", \"\\ubcf4\\ud2b8\", \"\\uc544\\ub78d\", \"\\uc6b4\\uc784\", \"\\uae30\\uc220\\uc790\", \"\\uac01\\uc8fc\", \"\\ubc29\\uae00\\ub77c\\ub370\\uc2dc\", \"\\ub9dd\\uba85\", \"\\ud328\\uc158\", \"\\ud63c\\ud608\", \"\\ub3d9\\ucc9c\", \"\\ubaa8\\ud604\", \"\\uacbd\\ube44\\uc815\", \"\\uc784\\uc5c5\", \"\\ud30c\\ud0a4\\uc2a4\\ud0c4\", \"\\uac8c\\ud1a0\", \"\\ubd88\\ubc95\\uccb4\\ub958\\uc790\", \"\\ud0dc\\uad6d\", \"\\uadc0\\ud654\", \"\\ud45c\\uc808\", \"\\uccb4\\ub958\", \"\\uc774\\ubbfc\", \"\\uc678\\uad6d\\uc778\", \"\\ud55c\\uad6d\\uc778\", \"\\ud720\\uccb4\\uc5b4\", \"\\ube44\\uc790\", \"\\ubb34\\uc2ac\\ub9bc\", \"\\ucd94\\ubc29\", \"\\uad6d\\uc801\", \"\\uc785\\uad6d\", \"\\uac04\\ud638\\uc0ac\", \"\\uc0bc\\uc131\", \"\\uacb0\\ud63c\", \"\\ubbfc\\uc871\", \"\\ud654\\ubb3c\", \"\\ud55c\\uad6d\", \"\\ubca0\\ud2b8\\ub0a8\", \"\\uc815\\ucc45\", \"\\uacbd\\ucc30\", \"\\uad6d\\ubbfc\", \"\\ucde8\\uc5c5\", \"\\ub178\\ub3d9\\uc790\", \"\\uc0ac\\ud68c\", \"\\uad6d\\uac00\", \"\\uc778\\uad8c\", \"\\uacf5\\ubb34\\uc6d0\", \"\\ub300\\ud55c\", \"\\ubc94\\uc8c4\", \"\\ubb38\\uc81c\", \"\\uc2dc\\ud0a4\\ub2e4\", \"\\ub09c\\ubbfc\", \"\\uc0ac\\uac74\", \"\\ub098\\ub77c\", \"\\uc815\\ubd80\", \"\\uc870\\ud604\\ubbfc\", \"\\ube44\\ud504\", \"\\uc870\\uc591\\ud638\", \"\\ub300\\ud55c\\ud56d\\uacf5\", \"\\ub178\\ub974\\ub515\", \"\\ub3d9\\ubb3c\\uc6d0\", \"\\uc870\\ud604\\uc544\", \"\\ub545\\ucf69\", \"cj\", \"\\ud3f0\\ud2b8\", \"\\ud68c\\ud56d\", \"\\uc2b9\\ubb34\\uc6d0\", \"\\ud3ec\\uc8fc\", \"\\ud55c\\uc9c4\", \"\\uc774\\ub9e4\\ubc29\", \"\\uc774\\uc0c1\\ubc94\", \"\\uc99d\\uc81c\", \"\\ud638\\uc99d\", \"\\uc774\\uc7ac\\ud604\", \"\\ub2f9\\uc0b0\", \"\\ud4e8\\ub9c8\", \"\\ubbf8\\uc580\\ub9c8\", \"\\uc1a1\\uc0b0\\uba74\", \"\\ud314\\uad7d\\ud600\\ud3b4\\uae30\", \"\\uc870\\uacc4\\uc885\", \"\\uc2a4\\ub2d8\", \"\\ubc15\\uc81c\", \"\\uad6d\\ubbfc\\ud22c\\ud45c\\ubc95\", \"\\ub85c\\uace0\", \"326\", \"\\uc591\\uc2b9\\ud0dc\", \"\\ub18d\\ud611\", \"\\ucf54\\ub808\\uc77c\", \"\\uc815\\ud615\\uc2dd\", \"\\uc678\\uc8fc\", \"\\ud56d\\uacf5\", \"\\uac15\\ud0c8\", \"\\uc77c\\uac00\", \"\\uc7a5\\uc560\\uc778\", \"\\ud310\\uc0ac\", \"\\uc0ac\\ubc95\\ubd80\", \"\\ub4f1\\uae30\\ubd80\", \"\\uc131\\ub9e4\\ub9e4\", \"\\ud56d\\uacf5\\uc0ac\", \"\\uadf8\\ub8f9\", \"\\ud68c\\uc7a5\", \"\\ub300\\ubc95\\uc6d0\", \"\\ud30c\\uba74\", \"\\ud3ed\\ud589\", \"\\ubaa8\\ub378\", \"\\uad6c\\ub9e4\", \"\\uac11\\uc9c8\", \"\\uc9c1\\uc6d0\", \"\\uacbd\\ucc30\", \"\\ucc98\\ubc8c\", \"\\uad6d\\ubbfc\", \"\\uc218\\uc0ac\", \"\\ub300\\ud55c\", \"\\uccad\\uc6d0\", \"\\uac00\\ub2e4\", \"\\ud574\\uc8fc\\ub2e4\", \"\\ubcf4\\ub2e4\", \"\\ud310\\uacb0\", \"\\uac10\\uc0ac\", \"\\ud65c\\ub3d9\", \"\\uc0ac\\uac74\", \"\\uc2dc\\ud0a4\\ub2e4\", \"\\ub098\\ub77c\", \"\\ub9cc\\ub4e4\\ub2e4\", \"\\ud589\\uc704\", \"\\ub0b4\\uc6a9\", \"\\ud654\\uc7a5\\ud488\", \"\\uace0\\ub798\\uace0\\uae30\", \"\\uc608\\uba58\", \"\\uc774\\uc885\\uc778\", \"\\uc18c\\uc544\\ub2f9\\ub1e8\", \"\\uae40\\ubbf8\\uc601\", \"\\ud55c\\ub77c\", \"\\uacac\\ubbf8\\ub9ac\", \"\\ubcc0\\uc804\\uc18c\", \"\\ub808\\ubc14\\ub17c\", \"\\uae38\\uba4d\", \"\\uccad\\uc790\", \"\\uc720\\ubc29\", \"gm\", \"\\ubc88\\uc2dd\", \"\\ubd81\\uc120\", \"174\\ub9cc\", \"\\ud3ec\\uacbd\", \"\\uc774\\uc2ac\\ub78c\\uad50\", \"\\ud669\\ubc18\\ubcc0\\uc131\", \"\\uc1a1\\ub3c4\\uad6d\\uc81c\\ub3c4\\uc2dc\", \"\\ubcc0\\ud658\", \"\\ub18d\\uc778\", \"\\uc870\\ub958\\ub3c5\\uac10\", \"\\uac78\\ud3ec\", \"\\uc774\\uc2ac\\ub78c\", \"\\uc720\\ud1b5\\uc99d\\uba85\\uc11c\", \"\\ud3ec\\uacbd\\uc5c5\", \"\\uad70\\uc0b0\\uc2dc\", \"\\ub9cc\\ub3c4\", \"\\ub9d0\\ub808\\uc774\\uc2dc\\uc544\", \"\\uac1c\\uccb4\", \"\\ud608\\ub2f9\", \"\\ub18d\\uc7a5\", \"\\ub09c\\ubbfc\", \"\\ubc30\\ub2ec\", \"\\uc6b0\\uc815\", \"\\uc81c\\uc8fc\\ub3c4\", \"\\uad70\\uc0b0\", \"\\ub3c4\\ub9e4\", \"\\uac1c\\uace0\\uae30\", \"\\uc6b0\\uccb4\\uad6d\", \"\\uc6b0\\uc720\", \"\\ud0dd\\ubc30\", \"\\ub3c4\\uc0b4\", \"\\ubc30\\uc1a1\", \"\\ub9e4\\uc7a5\", \"200\\ub9cc\", \"\\ub9c8\\ub9ac\", \"\\uc218\\uc6a9\", \"\\uc548\\ub77d\\uc0ac\", \"\\ud55c\\uad6d\\uc5b4\", \"\\ud3ab\\uc0f5\", \"\\ud14c\\ub7ec\", \"\\ubd88\\ubc95\", \"\\uc81c\\uc8fc\", \"\\uc720\\uae30\\ub3d9\\ubb3c\", \"\\ubb34\\uc0ac\", \"\\uae08\\uc9c0\", \"\\uc720\\ud1b5\", \"\\uacf5\\uc7a5\", \"\\ud559\\ub300\", \"\\ud55c\\uad6d\", \"\\uc2e0\\uccad\", \"\\uc911\\uad6d\", \"\\ubd84\\uc591\", \"\\uae30\\uc5c5\", \"\\uc544\\uc774\", \"\\uc8fd\\uc774\\ub2e4\", \"1\\ub144\", \"\\ud574\\uc8fc\\ub2e4\", \"\\uad6d\\ubbfc\", \"\\ubb38\\uc81c\", \"\\uc774\\uc0c1\", \"\\uc0ac\\uc5c5\", \"\\uc2dc\\ud0a4\\ub2e4\", \"\\ud604\\uc7ac\"], \"Freq\": [4513.0, 2072.0, 2565.0, 2332.0, 2290.0, 5256.0, 2108.0, 922.0, 1280.0, 985.0, 1797.0, 704.0, 2152.0, 840.0, 1849.0, 2020.0, 1432.0, 2101.0, 1361.0, 1437.0, 997.0, 1203.0, 529.0, 826.0, 1165.0, 522.0, 585.0, 1480.0, 875.0, 614.0, 136.92578789077166, 129.0489131304078, 77.84944324169179, 68.00341167330714, 67.01880616545658, 56.188147086501814, 112.25205109771176, 49.29590889150196, 46.34209303063992, 45.35748772306473, 45.35748769363323, 110.01275379969094, 43.388276963597015, 55.810343377418995, 642.7622219040863, 30.588406573295114, 61.92207246922394, 26.649985635536257, 26.6499856233792, 26.64998553779963, 25.665380108643767, 56.023066103793965, 101.63863609939813, 22.711564044569982, 22.711563987173836, 22.7115639581569, 22.71156378652243, 22.70278406655127, 21.7269584960389, 43.38827618019837, 651.0868808256649, 538.8796205735132, 100.5675658071672, 463.60746609243205, 57.49137799266564, 70.49043674046901, 1914.1019235542353, 77.88342322925962, 53.6436615499434, 151.78786792643763, 715.7083436685355, 327.55606376841865, 517.14705314011, 141.17070055683848, 495.140667443115, 432.24130219811957, 322.3918831873393, 195.0357074758479, 725.6322182179695, 606.3150923289628, 550.8022024507976, 112.9286710420898, 823.2941310494526, 111.04171126736544, 749.5831869127929, 862.2384383190616, 1331.3488721097744, 181.1943241928405, 304.44535632862835, 357.8832805468526, 267.2332847382864, 364.9050513248997, 546.0428579420557, 416.72394640121763, 248.80999548027256, 642.7962934362424, 440.65623591417983, 391.5530830224601, 738.0951969134643, 1158.6746928977736, 916.626254387914, 732.5655103318322, 794.6572074276585, 981.147366696823, 670.6048923953242, 688.4438335959271, 705.5843129538924, 508.09836885467655, 551.1010686409734, 598.736824034759, 491.5205721817653, 484.803349661454, 156.5730907856164, 70.99933834755743, 64.10301027185253, 61.90656443543579, 96.52764104464347, 41.443646173362744, 36.51769821029933, 36.517697741768735, 32.5769393783182, 31.59174983285074, 29.621369332760775, 26.665801154542596, 33.25218404992614, 23.71023211499828, 22.72504227863744, 480.43447833654375, 19.76947334572926, 19.769473173401074, 19.769472712202827, 18.78428335109917, 18.78428331865763, 17.799093501071013, 16.813904274994364, 78.23979547035218, 70.76605948456933, 35.43889744140972, 32.57693930254307, 14.843524811082252, 14.843524729169738, 14.843524019242729, 200.0361370531615, 45.38440590310607, 91.88201203139356, 364.3955008216269, 130.18975670058433, 42.67198993160687, 181.85985840720946, 58.093542178542236, 167.50169638156783, 141.9700873658941, 240.67041531188917, 947.471480879427, 357.46486253384796, 127.87037013424596, 1302.8036383652, 147.46387777052365, 104.90833532920209, 71.54955622380491, 60.78991674218122, 56.541244344490856, 1863.1803975891216, 265.7140888582036, 836.5679962878355, 565.234698304409, 79.63208838787928, 70.33113092329593, 260.9243850587157, 251.43193109849233, 873.852253381135, 214.7760220452011, 545.9183143888223, 1028.472302139415, 872.2775034081772, 301.27676536019555, 668.1283561922315, 817.2065921331589, 585.7420791572251, 304.86650111704387, 551.9792836720547, 306.1841322672332, 321.60628744272304, 473.0596060598028, 424.9563397381915, 348.1761329379596, 426.8441081343859, 408.11209244594596, 369.1994535928831, 320.5247874630072, 362.46164229441735, 327.68715350488725, 360.92705852853686, 304.8332735395638, 57.10541450152124, 49.2378488048252, 49.237848558266435, 49.23784854945871, 72.30688035462124, 36.45305456522641, 35.46897851605929, 31.535825753531345, 31.53582571352683, 29.568934310929336, 27.60204234935651, 24.651705891213556, 23.668260247198173, 61.043086401330626, 18.750296247223655, 17.744505915975896, 71.8234352649284, 19.491809994235258, 14.817248791060871, 14.817248769439555, 14.817248751280122, 14.817248724761708, 14.817248671690074, 14.817248658181756, 14.817248610582977, 60.055751637265324, 13.83380263243969, 13.823200869112815, 337.03061142444085, 12.85035734930533, 69.5012859209651, 27.43532185081064, 98.72914309345322, 42.711883409060974, 52.47953734760809, 27.483098051376246, 25.51024040090558, 40.86587816144413, 23.638768380797373, 23.638181783909978, 50.94991998737126, 41.486317306000394, 416.8667320389885, 61.72351170437217, 95.78509070132873, 164.82125689026938, 313.40679375830524, 316.25958777266794, 2728.2373353242097, 296.110140688554, 1003.3759127844075, 141.2984622654108, 74.19794141323732, 1215.7068077412798, 427.4348717194651, 169.4169938703853, 885.3277199267131, 219.71176557851476, 115.3234100879422, 734.074253682053, 371.90524936962646, 610.720203987012, 107.17632553691935, 713.2267434500848, 348.7589815252807, 428.7890789265812, 292.4887556252271, 126.40367698864415, 196.66327105349632, 326.7378234391742, 747.5076923709212, 214.7149986651838, 809.5648149672265, 429.61468307491754, 562.4458313967659, 206.94093835237678, 430.0246674998938, 320.5306947012272, 436.73671264859763, 475.70200980763315, 396.52189150597, 394.1729272231817, 428.99626818390544, 327.2950148419336, 315.27036030149094, 311.6788912344543, 104.3573571110039, 74.42140917601748, 66.69600333739845, 42.55411016057703, 41.58843442710976, 40.62275881972869, 244.2139666068528, 170.63203751617365, 27.10329875617919, 25.171947152189244, 350.53717772035174, 87.60090919878755, 98.60221550760959, 23.24059589807962, 48.31596364390908, 22.27491991740644, 22.274891355406066, 53.780224738502916, 76.00582448371127, 20.34356827731725, 21.181501577159715, 18.412217238569756, 18.41221719163006, 18.412217181370895, 18.412216945956025, 18.410738393113768, 61.73739695427103, 36.7216862561855, 56.90911484714462, 127.46906358057858, 221.62911659545415, 128.9082535716682, 34.82169084163233, 40.23711772031113, 35.62372152815231, 1989.227923476444, 2014.490082734301, 86.89365866979423, 65.27433612107819, 154.57426545688955, 378.5119915181603, 238.58253309537167, 91.64098891499494, 271.6756301887385, 96.22749795193607, 1292.6581049613603, 122.98757550244302, 117.38882122696995, 110.01330741470498, 163.40786073412156, 207.32746362639963, 107.6918556327532, 104.2106428001375, 1376.0789329766465, 357.9196232698891, 114.25066529480473, 448.0886021161494, 132.0379198430225, 148.4871302755877, 150.56549049024974, 303.1146306168747, 164.77728836879254, 403.75244270198044, 180.1919543111869, 187.43483550441584, 189.79254914279835, 354.90974013173275, 378.72722871385656, 322.6668757051041, 244.83065680108115, 296.0875101133714, 288.1018613290047, 293.06027811465526, 272.81884992515035, 289.06414868765916, 237.43765955721943, 229.62455097447463, 245.64412378509925, 219.45255122953307, 215.74903940395347, 199.69274680556245, 201.18631453041013, 284.4373039672692, 95.50497005015357, 302.69520926048295, 76.0274011779785, 75.05353165023055, 45.83719150557905, 44.86331339356935, 42.91555756859885, 41.94167962652724, 40.96780150482756, 331.14317067664206, 33.17677738548662, 32.20289941013437, 142.92669770271036, 172.2811273201955, 208.1475874277168, 30.255143367280862, 91.56930184441039, 59.47598398048964, 116.78322978839259, 55.49571097916505, 25.385752991097068, 24.41187541434147, 24.41187512728051, 23.43799741924507, 21.4902412554469, 74.63838086753825, 20.5163630978887, 24.17928111577006, 18.56860734813145, 385.06896488651813, 116.84380720234559, 66.63060923601583, 138.33367885451054, 75.51311728000067, 150.46686959034514, 35.076184200904045, 663.6210225947829, 186.42333305681072, 184.96158474730007, 475.5884188007783, 125.04613456867848, 469.4473569634561, 85.85603968686758, 294.01553356127164, 57.47073708233245, 421.36007193403566, 108.12535931952152, 301.1529847646761, 266.0839906896509, 424.1014777406776, 389.13569494181, 502.15960544127984, 171.96686510128112, 126.49891191352374, 221.37099946292918, 198.8977254628, 225.40208923006588, 339.7999296593985, 232.5419217587302, 426.6850082984918, 200.11785161536744, 174.22114471779054, 306.14246156489827, 227.84391938954644, 280.80314528506034, 193.8021284132359, 249.47839157378093, 214.8664595041957, 227.37661889496, 210.60870149675486, 213.25483078226293, 199.46040699276938, 158.92946343603202, 157.97244160717403, 155.10136308675365, 138.8289141034737, 129.23990510433038, 115.86347051428037, 113.93791457611835, 115.81491870652329, 64.18427897858342, 168.8658842170936, 144.2739108713968, 54.614058328632225, 125.842759449898, 194.33751268042417, 44.07032709298272, 41.21575000622245, 38.34468383196081, 115.91672136899304, 36.430639774413194, 34.51659562895623, 32.5886671542415, 31.644179612598457, 27.817440959355412, 814.6434762131904, 23.03233079284321, 23.03233071837669, 24.84959557136455, 60.71772173395858, 21.11828673577043, 20.161264338347458, 1976.6041454746835, 57.758239929764656, 111.82474135370728, 196.3030525106036, 57.71571205083039, 60.03024224566841, 384.3342134716098, 219.70290736537106, 239.2696410907075, 446.4620512118717, 310.54040642632685, 552.5648238644977, 326.7726931694449, 109.81921538675665, 215.12246762084013, 291.8593805837129, 172.32918651790337, 411.1145254283547, 139.1744445227079, 183.93507719844496, 244.99558037808728, 268.0879429961096, 304.8205802496726, 409.5271077613128, 165.93588550905565, 526.4695149441282, 504.4988521591847, 278.0045852567131, 251.93048459323455, 402.9659397565245, 364.9931625530267, 296.18566612980624, 312.01427207614586, 349.4870271980235, 229.4689003979391, 256.48509612214895, 287.1241657333946, 264.63960316187234, 259.82936471498385, 257.96536498916805, 224.7340600687691, 581.9143964401896, 974.682204877506, 71.21729457129842, 50.74920421173482, 42.95158619635611, 183.45208306086562, 35.154059480424515, 35.153558187824025, 75.96280741217798, 26.3817891210944, 83.71510001950367, 107.8818372472, 30.948890612866784, 19.558732095746784, 17.609517847252825, 42.59248637760979, 62.851292423528854, 16.63482293268857, 16.634822912739338, 16.634822559022012, 16.63482248087232, 15.660126074140639, 14.685429465310643, 13.710732824057969, 13.709653445563475, 30.148296224365208, 11.761339598271988, 11.761339206975864, 57.80855542975971, 10.786642896505889, 557.1655689292563, 179.40371450152455, 246.3010827821758, 183.16547958350793, 221.35475725924542, 330.2648051196761, 107.4590340704815, 30.287276701237616, 271.39398667833547, 75.68090325241006, 43.69706010761561, 234.8831970118627, 777.9301372317154, 80.4405693070062, 384.3780071457618, 155.8421442005051, 149.54778667373986, 294.39249989238255, 124.54536631754948, 1011.5186202709016, 1173.9485546488281, 1682.3271639129844, 229.01844192642702, 164.05724760574668, 152.8233453019351, 295.2395828343652, 419.6887565367762, 299.5518231956867, 238.7565724597429, 256.2064025082197, 267.652908475062, 333.2431395108459, 364.20291331683194, 511.66389873910714, 469.0090380306058, 401.7168633160766, 221.62615672385104, 343.8764335048581, 260.37813898647323, 226.14754621796922, 250.43925524159792, 221.86139894894032, 68.45703259284777, 61.51886902704338, 53.589475386091266, 38.72186565446797, 37.73069201779483, 37.73069161025929, 29.801299512940503, 29.801299000138908, 28.810124610299248, 27.81895141398656, 26.82777588996164, 25.8366032125396, 21.87190710290555, 20.8807330739786, 18.898385100196514, 18.898384919756207, 17.90721105228665, 17.907211011180674, 23.51358670577323, 15.924863000408585, 84.14975222800015, 14.933688788987144, 14.933688582711683, 14.933688349224989, 13.942513813597458, 13.916463848953889, 27.779327481585593, 12.951340819837489, 12.951340619609374, 12.951340431946251, 23.85425422685182, 36.071997860412694, 23.719980069587873, 136.9339529175337, 43.017053191336295, 34.15631418507173, 47.935410264456266, 70.77828980136873, 73.92386950046621, 70.3148808500063, 32.21362735540748, 342.3784706295252, 55.861419358201005, 130.86893555828655, 518.0549457850356, 110.43702487405376, 169.65071420909894, 55.2218674136904, 304.6370490480437, 59.82862401335631, 178.8627902432144, 82.79655603143314, 87.13380840948255, 307.3543667907073, 184.24314367670257, 379.24386042274966, 131.00786245847172, 176.71739809779686, 219.62265659700748, 225.54016323124276, 140.60339732588926, 194.1834354204639, 200.61613054802672, 121.90717900923, 379.83527854261916, 244.2328859790024, 270.3954894003923, 273.0948723047106, 283.74648648962466, 278.7212918032877, 276.69100352047957, 228.09540910193334, 135.74936633790668, 290.2303030565504, 175.0141104956287, 168.79019764954208, 161.63210245974028, 203.75187813920797, 212.27243006353976, 188.9168798429543, 168.72476348348434, 168.34560630592532, 164.3013805293161, 110.05778155145572, 98.47932862406394, 87.79043395894975, 80.14728079818231, 56.990763006114776, 51.201633673644835, 48.307069037350395, 44.44299559517798, 145.63462635563866, 47.1551540888155, 124.95958404120148, 30.939679226729353, 27.08021746800685, 26.115406120611215, 26.115405968938948, 25.150550977559675, 22.255986531692344, 22.25598653070315, 19.36142176217894, 19.361421705722634, 19.361421565917276, 18.396566767183778, 46.87458576430156, 17.43171189151316, 17.431711848631572, 18.324472639055458, 20.160113452628305, 16.466853203609883, 24.630335281856034, 32.78826421613707, 54.699688429911426, 347.6540899845299, 343.34583397132945, 100.33257575622677, 62.37612422500988, 111.5765965670368, 215.70335174103403, 166.40474512935117, 65.89929838328169, 39.458494803674405, 1021.9281870868235, 47.125289011493706, 91.76339705906206, 283.15011429329974, 117.62116348687165, 65.02660418215073, 274.3261331192313, 108.7998123370055, 197.76549525262473, 321.07578176133023, 512.9684168271556, 92.82639650022833, 267.2633563611173, 386.06984533751404, 222.4366560555322, 342.9864710120164, 97.7924725202347, 277.0260495574082, 449.7614041517954, 478.8701589742728, 123.63495093967062, 179.02681645102973, 255.1990079937949, 183.73815008063715, 149.8315411532307, 228.26978828768975, 195.53490402613843, 305.5165320416936, 163.3262613140511, 157.61993052407288, 179.29670847059032, 173.28451329439406, 227.27711344159502, 203.5526395228154, 167.63969905493119, 172.14890726600092, 72.14482998547751, 32.7806656306046, 31.818410889294025, 30.84419786175903, 27.96941310017998, 27.00716294899664, 24.104227051767843, 22.19591070813988, 97.91997094069404, 64.5619929720797, 18.346908776130704, 17.384658302957565, 35.60046342025143, 16.422407957775732, 95.99849362192037, 13.535656381375077, 12.573406032416699, 12.573405765128935, 12.573405226415389, 54.5734430744324, 11.611155508173512, 11.611146514819263, 10.648904750481895, 38.8320242580094, 9.686654655976357, 9.686654512660356, 11.450099029197862, 19.309159220192893, 36.59703370276736, 8.72440419281394, 18.332566316688304, 41.178545004900066, 80.43844874349334, 80.08499135403154, 74.46118903843603, 28.412607509586554, 24.084352904809236, 47.89999516845181, 81.66345535013475, 29.72176006337481, 260.37204439773586, 210.41723269760823, 61.4705010462446, 46.187835998853075, 210.43448185034106, 71.19598435253312, 545.4225650966458, 125.6342498115375, 55.40539692977953, 189.8207991567679, 404.24616269233854, 102.48430269449449, 61.92805220174276, 75.85008118197001, 148.91903129284006, 114.17511202999121, 262.4310111502996, 96.31209505188448, 238.35035661457533, 215.67816375773026, 239.9414389781511, 282.2603502912841, 210.18625410734856, 123.98404773687324, 339.7645182968462, 326.74551920391866, 263.2128191968923, 165.555230497687, 189.40590316344958, 188.10566102111125, 202.3578361357969, 158.87898193766767, 185.0508036258857, 199.5593154016908, 215.76903460636746, 154.6506356666353, 189.79960118348643, 184.922590964605, 154.3963582472178, 171.12975575506096, 162.8682492585502, 162.38001157067754, 517.2121020390734, 85.35417077157744, 81.56153526089189, 61.66222669486805, 54.08080617514644, 54.06932752657923, 100.4767989536114, 44.60402997043174, 188.49335958788583, 37.97028618241224, 37.022608471851186, 34.17957527345922, 70.18856074063152, 57.226029249056474, 31.336542267523825, 30.388864641144753, 29.44118694312527, 27.545831574955745, 24.70279846504164, 24.70279813380018, 23.755120771200733, 21.859765410974187, 20.91208773039229, 139.14055774700455, 19.9644097183732, 19.01673224033411, 19.0167321704635, 18.069054581921964, 18.0690545357652, 17.12137690700921, 52.22317632345712, 76.38523649626984, 33.18095966120511, 78.27131532072258, 36.247451258684286, 195.96415602231025, 39.586458756978615, 128.35645871076247, 98.64673341555711, 52.11357044462272, 79.49480417244341, 63.62100253646199, 58.08661725889522, 141.99236465133657, 46.728827304654715, 100.94885581460488, 83.27844080300945, 173.8863728443768, 202.47409494267734, 162.41150073261545, 216.8308334005035, 53.286603444400995, 238.67903585821318, 293.58197718004266, 143.87083315502713, 83.27888227391546, 101.20064484977085, 131.24711466452752, 339.2217381745325, 260.4214020493658, 273.12160775570163, 243.18521473372206, 183.9340746565032, 130.52839876580794, 214.0827156334506, 149.40759448811522, 183.45797102210088, 121.13656051546222, 158.5409525059224, 170.89477580174346, 161.76455800764015, 164.4755327088057, 151.01422088166413, 135.87137270575863, 149.14850910273574, 136.75070333330368, 134.16111882826493, 528.8152635933891, 110.0272977424403, 42.2148042287438, 41.29841927843945, 32.134567269169565, 33.78612746499843, 27.552643697999812, 25.71987352841914, 30.95434667906955, 22.970718396946857, 83.44137738870445, 18.38879252720279, 34.87579096916709, 35.77051844976177, 23.544709969514535, 15.639638051396712, 319.0412193472851, 131.29277889645627, 12.890482920406125, 113.06526602840873, 11.97409787470424, 23.887103005381555, 212.6467544315861, 26.422321256588415, 15.324651305740732, 12.760557364255014, 12.732765463693815, 11.000607945667586, 10.141327644398652, 9.2249427691936, 19.286930157538528, 120.0348358253868, 182.49749579365914, 87.18933711732008, 239.6492777389493, 61.66760952301542, 69.91876604523335, 34.554504915844724, 245.42123137699994, 75.95224155177378, 173.31588784277122, 36.48585718857448, 54.19839289179152, 97.08229093650618, 74.86121510407231, 210.7450992282234, 66.97341388134082, 186.32401736356107, 184.5161921940896, 129.43302970469153, 62.407317827030646, 177.58790825846808, 107.27461019644882, 77.94550791704957, 107.08461065859302, 75.93996987032185, 127.61744805897762, 81.08029257137007, 120.23065595697106, 137.19692246606786, 162.49168608878134, 145.12507041126042, 106.00732301777978, 130.9863372815414, 123.48952582472143, 105.40429777643236, 126.95919831043274, 113.32834801203713, 115.13020247252156, 252.63429607619895, 43.126874605108085, 38.54397031060972, 37.62911441690607, 36.712780097314194, 105.45454842541493, 26.63359395921812, 28.35492520335595, 23.884713829934782, 21.135833725650517, 20.21954035509018, 54.39665971384247, 40.12208494580131, 102.22440214039449, 16.554366847719812, 15.638073430762336, 31.21167195010982, 42.112148947369306, 52.412464023657165, 39.461701222636265, 11.97290000933785, 16.194816936959192, 33.96394040848622, 11.056606497334842, 11.056606446520071, 10.14031312193697, 9.224019917610827, 9.224019857037597, 9.224019830212237, 9.224019783653533, 104.46383369799436, 27.314697175125538, 29.730104989503122, 23.831789325004767, 139.89099039266753, 61.57122320674004, 651.8411290380515, 159.34635670322845, 57.774067802878974, 55.23673563471331, 68.85227347883017, 72.14831380928744, 73.5043035839485, 87.99475619181267, 233.40750489778355, 144.3021006269835, 132.50257387371235, 85.78122687571225, 54.99984340345048, 238.74306602192337, 44.03906549813828, 179.95614580003098, 163.1433563217217, 262.24720807304135, 82.45622207327787, 94.75625310670215, 130.65232053960344, 127.92719619824425, 95.9029342785534, 96.87482921966486, 123.20374060137632, 92.55495177322467, 114.1132773270658, 95.01965798521297, 79.49233472276734, 82.43335196849013, 76.38488191480805, 76.29809999002596, 45.15444168162591, 41.54689647866088, 37.93935107019792, 164.07820601707732, 37.03746487229699, 65.89273742187103, 30.724260489755178, 25.31294253435678, 133.90222644243389, 21.70539741752819, 21.705397241918384, 69.47061564202559, 20.80351101341006, 45.05537261279446, 19.901624779245168, 16.294079505537407, 15.392193126256092, 15.392193126256092, 14.490306864434809, 14.490306823384216, 13.588420465487198, 13.58842012743106, 12.686534241416147, 11.784647758082754, 23.500491681616793, 36.8856500784903, 9.980875152656333, 9.98087509205597, 9.980874523731298, 9.078988958982467, 28.601382430806822, 54.81681756095936, 14.490306395166785, 16.565854030236004, 24.207395882899664, 55.026591034824406, 37.58078140293743, 45.0354844410748, 209.92037042092184, 134.75180451635833, 52.532163807883705, 19.901624701364018, 112.13482130433698, 32.32005960981199, 78.84884130919838, 113.47382115381772, 79.13629830626594, 60.80301824416144, 154.631852487917, 53.37253090774452, 76.64645149951582, 59.03361617033492, 134.25634364704575, 148.73465665088196, 166.7122868390093, 238.25434250246406, 111.05619073663989, 152.85363410432808, 137.77837909002315, 121.1680335311116, 111.81510862544836, 113.87871030798262, 70.3991566406613, 66.00286602790038, 66.5455541209943, 81.3473537088676, 79.0919243027706, 74.96471840873762, 73.52094997461788, 68.84657153333664, 70.32201510673443, 85.36144871223543, 33.29825669308918, 108.61905062206918, 23.4165796931977, 19.823242658853914, 18.026574205220175, 18.026574198762066, 17.12823973190944, 17.128239705515096, 17.128239361326948, 17.089877933343473, 16.229905026045543, 13.534902296959498, 48.87412456497309, 88.42971896564507, 11.738234197116832, 10.839900113723829, 10.839899960077373, 9.94156572630658, 9.941565714094319, 9.941565643877553, 9.941565402297886, 21.421838025453923, 9.043231517205799, 9.043231357745697, 101.26325677713241, 8.144897312791676, 8.144897312791676, 8.144896445191108, 17.128240011110996, 13.810177696138217, 58.794977941803545, 65.6211321110207, 69.1427639332116, 560.4172567209681, 61.270747778943274, 35.99279536956467, 153.196517573395, 52.31105017323766, 16.953218544002034, 23.33083755276624, 36.32657244289532, 50.47305631321255, 162.71210144760212, 30.307474779525666, 65.74779136133917, 111.90384091233065, 31.368068970565496, 100.27375938293532, 102.53025202955881, 73.06317093982523, 47.52572829989097, 30.37999088234155, 49.46838640371722, 270.3339186426941, 70.50095241572346, 50.077998556459676, 59.219242703705994, 145.26412896195444, 71.70907793849022, 97.7558737112802, 101.71097039562542, 187.2219022736271, 101.69845140246748, 86.92085788260944, 100.76977740781143, 96.25333861657028, 127.68169755957979, 73.98411631178877, 76.4084473642802, 94.2704679824868, 97.16752356159051, 82.12633471539591, 77.23804442932436, 73.95058595037578, 73.49087892581245, 72.42279869609528], \"Total\": [4513.0, 2072.0, 2565.0, 2332.0, 2290.0, 5256.0, 2108.0, 922.0, 1280.0, 985.0, 1797.0, 704.0, 2152.0, 840.0, 1849.0, 2020.0, 1432.0, 2101.0, 1361.0, 1437.0, 997.0, 1203.0, 529.0, 826.0, 1165.0, 522.0, 585.0, 1480.0, 875.0, 614.0, 137.81503940594746, 129.93819367116785, 78.73871649575061, 68.89266266577553, 67.90805728034157, 57.0773980786969, 114.16358424609976, 50.18516039270205, 47.231344255225366, 46.246738873971054, 46.24673887434119, 112.2240609418496, 44.277528108937936, 57.051186032506465, 658.5152494345019, 31.477658124450816, 63.96827148145565, 27.53923661244719, 27.539236612491152, 27.539236607547057, 26.55463122612927, 58.02979547520943, 105.34170943358228, 23.600815082370175, 23.600815081523198, 23.600815080404896, 23.60081506991028, 23.600820164313255, 22.616209697937013, 45.17941441059052, 680.2565556280047, 563.8597371322089, 105.16208665633218, 492.8379268442754, 59.99948069058586, 73.79119506414709, 2108.772622040767, 81.66859165672093, 56.07709464647993, 162.3063530451661, 803.7154980714612, 376.22039713505256, 609.4285378017115, 156.8246926503959, 607.6525067121602, 539.1926200644508, 397.9436068870097, 231.21638478268054, 1008.6611163235694, 825.5820571822188, 751.0861237499192, 127.4593856130389, 1285.4589302947622, 125.90403962806859, 1208.4415951240915, 1481.661341073487, 2585.7859205538016, 230.05548280358565, 441.9620924889604, 546.2255133150389, 380.9034607836473, 582.7498196515078, 1014.5359770245523, 734.4115292008663, 359.45251709198095, 1437.5639307258689, 875.8906268262864, 740.1664068965764, 2092.110444688914, 4551.021358996467, 3091.2679417182867, 2249.4372500725403, 2818.922104523691, 4251.044980729504, 2436.930761078028, 3053.3831573185503, 3867.0222991723363, 1547.8121489940909, 2113.4316551412176, 4513.633888807188, 2196.1074250770803, 3254.8552350845084, 158.48624529068096, 71.88855049141902, 64.99222250534778, 63.021591358459645, 98.48803698332428, 42.33285907123931, 37.40691059641046, 37.40691056760578, 33.46615174802639, 32.48096204460271, 30.510582550542665, 27.555013482947512, 34.425133823925755, 24.59944435265498, 23.61425463789501, 501.4883569113668, 20.65868551138377, 20.658685505461722, 20.658685512535843, 19.673495788493682, 19.67349579318818, 18.68830607042412, 17.70311637925397, 82.41325799352467, 74.57448439953623, 37.4062707406049, 34.457325788058505, 15.732736955907463, 15.73273695517094, 15.732736945316827, 213.56788664616596, 48.20332779638434, 98.48528159710779, 403.3727531781843, 142.73563985728848, 46.16246097093308, 209.00738671481128, 63.73711785704554, 194.8239027625753, 167.90178435276545, 305.2550668468101, 1432.1330273240435, 486.5118802750118, 157.64261451335065, 2152.8200874997133, 197.08115963883918, 133.60627271560682, 85.57532134044371, 70.60200580652693, 64.7574689998422, 4513.633888807188, 445.31085236935246, 2020.5600337439935, 1256.0121878464536, 100.06404209758212, 85.47610977924992, 510.67724073738503, 486.14635993960263, 2818.922104523691, 413.62026329266104, 1636.858790196716, 4251.044980729504, 3867.0222991723363, 778.5235024287741, 3103.360966468721, 4551.021358996467, 3254.8552350845084, 968.5643913978554, 3373.100607934043, 987.4801636054468, 1124.09522087432, 3053.3831573185503, 2436.930761078028, 1672.5409691330196, 3091.2679417182867, 2938.514523645312, 2120.5693420357616, 1452.6496230027835, 2963.178494796301, 1753.9080618013343, 3390.434281780365, 2196.1074250770803, 57.99474296805484, 50.127177221521734, 50.127177217198685, 50.12717722590239, 73.71978623246459, 37.34238288580658, 36.35889418742721, 32.42515427870554, 32.42515427881017, 30.458262856239298, 28.491371389303975, 25.541034256641815, 24.55758854074777, 63.858309175249545, 19.64035339327023, 18.6553404599303, 75.537205067501, 20.602804232762846, 15.706577074037687, 15.706577071689173, 15.706577073187622, 15.70657706949313, 15.706577070828875, 15.706577073283102, 15.706577065376344, 63.7881132066483, 14.723131346205067, 14.722930925933113, 359.6413195812387, 13.739685635674183, 74.66406755717443, 29.379431221134382, 108.11274710981995, 46.11585701971499, 56.932795458249785, 29.4548979352923, 27.48403835394858, 44.95356207497444, 25.519203398757043, 25.548998955673678, 56.98121460345292, 46.11297905083962, 529.6546031883842, 71.36171948427827, 115.63177651191842, 209.36671233852513, 446.4724752980624, 453.7647423683771, 5256.833668120707, 459.532712467738, 2039.9946632140918, 200.3654359150792, 92.49881492902544, 2891.5954561909507, 825.0837815298765, 260.64085710155564, 2108.631105607302, 363.7287046834313, 164.844718803522, 1849.5926385253813, 764.7756278900638, 1529.6697452485819, 151.37564437328956, 2039.1628018208435, 798.0261445978125, 1081.9734499424414, 644.8225679081816, 193.50707497321798, 374.3813080162319, 834.5718009644542, 3103.360966468721, 445.419034450233, 4251.044980729504, 1759.3849784752686, 2963.178494796301, 500.18185510102364, 2196.1074250770803, 1208.4415951240915, 2802.3657966796222, 3867.0222991723363, 3373.100607934043, 3390.434281780365, 4551.021358996467, 2041.8413174796615, 2938.514523645312, 3254.8552350845084, 105.24787022122534, 75.311922573721, 67.5865167212042, 43.44462344949329, 42.47894771908509, 41.51327198749936, 249.84428437794196, 174.6824957638519, 27.993811756331578, 26.0624602967353, 363.2746183608048, 90.79526528731412, 102.37754016350372, 24.131108832917793, 50.20350532321222, 23.165433103295545, 23.165432573167994, 55.93064010003082, 79.2078427844571, 21.23408162211901, 22.19323706144557, 19.302730178933103, 19.302730180674924, 19.30273017783621, 19.30273017478514, 19.302757057877653, 64.73114908387868, 38.63592655357238, 59.8803683719646, 134.2728703642893, 233.58270689853282, 137.06903702711054, 36.68406655128602, 42.46683822323286, 37.672509114588316, 2290.7355686659266, 2332.97726409682, 94.66731160097481, 70.4617719661057, 173.16071930513894, 460.1308321155391, 281.7749273143141, 102.16763959626927, 326.1950447034834, 107.88840686683625, 1797.663981082525, 142.04345997925927, 136.16886212922964, 127.51315817906797, 200.39869958614742, 262.96818800594696, 125.68535066952298, 121.15206744957895, 2565.8428505122924, 548.9602371211553, 136.79234318607854, 978.4000721548994, 178.00015781691008, 227.28415206262235, 232.7084794114829, 907.2465940733214, 307.76046314214807, 1938.7016265698253, 397.56147082712073, 478.61401062150986, 520.2392423423634, 2938.514523645312, 3867.0222991723363, 2802.3657966796222, 1428.0105053247228, 3390.434281780365, 3103.360966468721, 3373.100607934043, 2585.7859205538016, 4551.021358996467, 2073.8143526045264, 1828.2038670417592, 3053.3831573185503, 1904.789065234739, 1759.3849784752686, 2266.8695772899764, 4513.633888807188, 285.32727034825456, 96.3949363183121, 305.6168869518734, 76.91737603432718, 75.9434980868534, 46.727157783362095, 45.75327976903904, 43.80552375226741, 42.83164574338016, 41.85776773040801, 338.75830847132556, 34.06674364560114, 33.09286563279182, 146.9373255277949, 177.1908888777037, 214.0963152589417, 31.14510961777834, 94.41235921656177, 61.327163562210764, 120.7775291383452, 57.411456319578285, 26.27571955621485, 25.30184155420773, 25.30184154908263, 24.327963542376732, 22.380207520993054, 77.81415807525038, 21.406329513624858, 25.288088445699117, 19.458573492481776, 406.83540950725217, 122.5938330544723, 70.07849973265795, 149.96085618592127, 80.7081399482236, 170.31488151345576, 36.98923792779024, 826.8747471290621, 214.9496051768519, 219.9905224176531, 628.0158821546867, 145.68524231132045, 666.345762263488, 97.95439288586158, 411.5731648492059, 62.239714783153566, 752.8321881036151, 138.96555704503953, 547.601362395404, 506.42120218510433, 997.7319975924665, 920.6056350216197, 1361.347042539137, 283.7905728321922, 181.8576551325254, 483.02698024791215, 421.3152342933378, 532.7638798438508, 1296.2827212365721, 634.1568867185515, 2585.7859205538016, 502.3864083118135, 364.71402709461245, 3103.360966468721, 1051.5375561783148, 3091.2679417182867, 617.9371581269822, 4551.021358996467, 1636.858790196716, 3053.3831573185503, 2041.8413174796615, 2891.5954561909507, 2266.8695772899764, 159.82055363096435, 158.86353157041714, 155.99246487166263, 139.7229589966506, 130.15193878291194, 116.75456082422367, 114.84002678819866, 116.75249457468632, 65.07536946974145, 171.32041589478098, 146.43987516768846, 55.50514884645159, 128.1747772181723, 198.0984290022908, 44.97839146190154, 42.106839972390205, 39.235773783885, 118.67882963185572, 37.3217296594235, 35.40768553612841, 33.49402476282231, 32.536658235633844, 28.708531100486997, 840.9562261753767, 23.923420788067773, 23.923420786302902, 25.83799368787869, 63.18646713309864, 22.009376664291832, 21.05235460051691, 2072.3534496628995, 60.33855596521579, 117.79898077717984, 208.70742663523032, 61.20931702622367, 64.19136151894364, 457.9407249322251, 253.0700035321572, 279.22606305841003, 544.4426728030206, 378.99631359044656, 716.5625420551347, 414.7939898194093, 125.96906655880517, 269.90965726666957, 405.49709044345394, 220.63753657405843, 642.069528605589, 176.67164872740287, 254.7572852807215, 382.28470680066846, 444.338781602714, 570.5976519715404, 968.5643913978554, 225.39071632995976, 2020.5600337439935, 1938.7016265698253, 806.9765289954257, 714.7288537541422, 2818.922104523691, 2152.8200874997133, 1562.0592778891069, 2108.631105607302, 5256.833668120707, 867.3282906491346, 2039.1628018208435, 4251.044980729504, 3390.434281780365, 2963.178494796301, 3373.100607934043, 1428.0105053247228, 585.7703954659103, 985.4462521785119, 72.1077378257448, 51.63911776121983, 43.841544913436074, 188.0008063420621, 36.043971140680554, 36.0439620562228, 77.88982397273112, 27.27170117865908, 86.59831317708732, 112.01852707229612, 32.14233103230613, 20.448811297017727, 18.49943108724968, 44.828143541341376, 66.1850230618763, 17.524734554206134, 17.524734555179617, 17.524734552785507, 17.524734552595795, 16.5500378894265, 15.575341227520111, 14.600644561107698, 14.600614640724265, 32.134941931983306, 12.651251240117924, 12.651251237341377, 62.40020477692627, 11.676554575648336, 614.2066405248562, 195.74983843361548, 274.91184053087204, 203.51005985052132, 256.00999555437267, 388.0536961076318, 126.75264867005214, 33.13963045328231, 352.2378124968694, 89.47506171867305, 49.65351897496629, 309.16285342131846, 1165.1739043105897, 96.73118719913462, 553.8339886987977, 205.17827194138363, 202.86573534008346, 453.01498606617946, 164.67273542761558, 2101.684244530041, 2565.8428505122924, 4513.633888807188, 372.08197381708516, 256.3139681807517, 240.67153403121782, 634.1568867185515, 1169.9716346201005, 734.1201008197762, 520.6522599637419, 629.2128734430933, 727.9222920328499, 1109.8520993282677, 1428.0105053247228, 3254.8552350845084, 4551.021358996467, 3373.100607934043, 642.2046050892421, 3867.0222991723363, 2436.930761078028, 1016.3822133378953, 3103.360966468721, 3053.3831573185503, 69.34589634507407, 62.40768215977889, 54.47828969454678, 39.61067908657093, 38.61950505245934, 38.61950504224492, 30.690112678698995, 30.69011263489557, 29.698938614148553, 28.70776458551469, 27.71659050163351, 26.725416489005163, 22.76072030415122, 21.76954626091336, 19.787198171398934, 19.78719816845069, 18.79602412547922, 18.79602412131061, 24.72811861080552, 16.813676033615206, 89.05247694267742, 15.822501982868014, 15.822501976468798, 15.822501968655686, 14.83132792011469, 14.83112481693339, 29.62115982211846, 13.84015389391685, 13.840153883228249, 13.840153888254601, 25.659361765316824, 39.590017367847295, 25.7267839151453, 176.48630195011347, 51.10522842516123, 40.55852650252768, 59.88621541644437, 94.22334448730659, 102.85682245557817, 98.69434440520449, 38.58294187477752, 802.1179082982837, 78.73277809426962, 239.92435076962806, 1480.0195931491896, 197.5793607845426, 358.5331211517126, 79.10424245324378, 810.0028316169397, 91.28963023492601, 453.1086864754935, 151.3062869446859, 163.48781358134445, 1171.5849346092755, 549.4574484406097, 1759.3849784752686, 343.8564584964036, 617.9371581269822, 916.1092829412864, 1008.6611163235694, 440.62612316429846, 834.5305033478573, 899.8612183667632, 358.1306200901385, 3390.434281780365, 1426.8460529703482, 1828.2038670417592, 2266.8695772899764, 2802.3657966796222, 2938.514523645312, 2891.5954561909507, 2039.1628018208435, 556.5132408864633, 5256.833668120707, 1428.0105053247228, 1294.8850212000268, 1109.8520993282677, 3373.100607934043, 4551.021358996467, 2963.178494796301, 1859.743836627049, 2108.772622040767, 1604.6270561977635, 110.94835078645649, 99.37009370856595, 88.75875245281415, 81.0378486321338, 57.88133085102728, 52.092201404577104, 49.197636680244145, 45.33798282449434, 148.61985439425843, 48.23788436113095, 128.38299496339056, 31.830248298552046, 27.97082989152967, 27.0059738028943, 27.005973801061185, 26.041118893001425, 23.1465541709749, 23.146554170997177, 20.251989447723428, 20.251989445272613, 20.251989445148844, 19.287134542673257, 49.23671169152026, 18.322279633556256, 18.322279627186898, 19.287877369311527, 21.220245693386257, 17.35742479951971, 26.04156145198626, 34.67180179069863, 57.901360149143954, 382.5521228702191, 378.94938987068457, 108.1176646623222, 66.63254152551731, 121.80333093171518, 244.34315296229892, 188.1964411746824, 72.35888812916235, 42.48401088845205, 1280.0028974733584, 51.21222115207526, 104.25778919597379, 354.44719899723106, 139.29498792223401, 73.30132681623319, 367.81625862617744, 136.6572017498889, 275.32062377223417, 500.74616504259353, 997.7319975924665, 115.84530832843195, 473.9129987180668, 837.5541510448043, 395.2183736134621, 739.3274588929744, 129.62880536457803, 618.5658086275095, 1296.2827212365721, 1480.0195931491896, 187.52659459936692, 363.7987412217694, 688.2718221116869, 418.2986092256066, 287.42565424005005, 752.8321881036151, 547.601362395404, 2938.514523645312, 474.55090492475557, 422.54478047061474, 808.9745254667737, 777.491828834135, 3091.2679417182867, 2266.8695772899764, 1094.7529389458773, 2113.4316551412176, 74.01615832244369, 33.67140714607822, 32.70915682076152, 31.74718423522941, 28.860154812658458, 27.89790435406588, 25.011528953295084, 23.0866520236745, 102.08673431622815, 67.33979076128864, 19.237650157860294, 18.27539969184176, 37.50482229774948, 17.31314922400461, 101.96346871966134, 14.426397825240823, 13.464147354829933, 13.464147365705987, 13.464147314366217, 58.69781205608936, 12.501896892574226, 12.501896915829168, 11.539646429212175, 42.38977879077264, 10.577395957757027, 10.577395957605129, 12.505638533146191, 21.116285710550397, 40.2132441778177, 9.615145490229992, 20.21170142019027, 46.272575130081265, 91.67798271881082, 91.52711551065285, 85.49011053741317, 31.75560441394499, 26.892663250174937, 55.73945196153671, 99.86997773432724, 33.763352533300186, 349.5167373651961, 295.33351901763194, 81.71591264881754, 59.80957551927333, 393.7993801057657, 104.14006130516836, 1361.347042539137, 216.90225099218813, 77.26894413416406, 417.9410741609012, 1203.6322482161627, 197.7579105902447, 97.48228455815719, 134.5631059247551, 408.8791396571812, 278.7710747917411, 1162.719927799164, 213.6881011937631, 1051.5375561783148, 946.1877009065046, 1198.7782597076266, 1636.858790196716, 966.3080150863805, 365.29113316730167, 3390.434281780365, 4251.044980729504, 2963.178494796301, 968.2842818497976, 1429.9295455514978, 1481.1733477414075, 1859.743836627049, 920.6056350216197, 1604.6270561977635, 2818.922104523691, 3867.0222991723363, 1137.5716884778103, 3053.3831573185503, 2938.514523645312, 1142.4706861872219, 3091.2679417182867, 3373.100607934043, 4551.021358996467, 522.2000913658162, 86.24588357400229, 82.45520239645685, 62.55394124262888, 54.97251973798527, 54.97295284099321, 102.37431047173253, 45.49574281749702, 192.48020783504018, 38.861998973329854, 37.914321281074955, 35.071288207868925, 72.04876877246623, 58.76366600409672, 32.2282551294097, 31.28057743743285, 30.332899745529513, 28.437544360819707, 25.59451128481776, 25.59451127462485, 24.646833594046125, 22.751478209442606, 21.80380051699817, 145.22999571587187, 20.856122831107243, 19.908445135688456, 19.908445136437024, 18.960767442825876, 18.96076744468152, 18.013089749980043, 55.00619038952577, 81.58014023580873, 35.08938870121545, 84.54161788668885, 38.893226340293644, 228.80023383534333, 42.752516333327826, 151.30961821778678, 115.17234781634079, 57.750017052340034, 93.03126659993227, 74.63474132115333, 67.40427019130848, 194.19369549422058, 53.20155308820904, 141.85727482293734, 112.00600795113891, 311.3893185826238, 404.43430264460125, 327.9369180886675, 520.2392423423634, 64.8128442887698, 630.7497068696683, 1429.9295455514978, 410.651796006143, 142.36965824894227, 237.0758709009383, 440.8446667200458, 5256.833668120707, 2938.514523645312, 3390.434281780365, 2963.178494796301, 1604.6270561977635, 588.1046454729933, 3254.8552350845084, 1029.4004365834153, 3373.100607934043, 559.9347744558851, 1859.743836627049, 2891.5954561909507, 2802.3657966796222, 3867.0222991723363, 2244.863589763724, 1719.3118458763017, 4551.021358996467, 2108.631105607302, 2120.5693420357616, 529.7090625893521, 110.92109676487951, 43.108603398562394, 42.19221834940231, 33.02836801073315, 34.870207686666156, 28.446442660107085, 26.613672572424047, 32.12617416585799, 23.86451743148085, 87.20038172925673, 19.282592249260045, 36.69381562502158, 37.65763956329194, 24.805917820058053, 16.533437070481124, 337.7176810516174, 139.7864870033515, 13.78428193361201, 121.0161676194624, 12.867896888047998, 25.69719587086799, 229.13925206969378, 28.52915916820981, 16.54740518462239, 13.792433313529843, 13.794176950006197, 11.95509453957662, 11.035126807058196, 10.118741748915367, 21.162141044672676, 139.46240828310556, 217.56779306875757, 101.49309674399073, 298.40185085581857, 71.99822003211007, 84.08466682516561, 39.69326093176241, 335.05044266240037, 96.18777738148975, 249.9365782582247, 43.45593933831764, 73.30914960425115, 162.10339989749275, 116.40809685238905, 502.3864083118135, 107.49384876857815, 532.7638798438508, 614.2823248927872, 425.8461838736331, 116.2552072424579, 966.3080150863805, 357.7323577142346, 206.88847875669958, 444.3735830295219, 198.3331205967467, 954.3769935292412, 277.31857153018433, 1171.5849346092755, 2244.863589763724, 5256.833668120707, 3390.434281780365, 867.3282906491346, 2963.178494796301, 2290.7355686659266, 907.2465940733214, 3867.0222991723363, 2120.5693420357616, 4551.021358996467, 253.87558896814667, 44.020679710874056, 39.439213049050466, 38.52291948494091, 37.60662935479064, 108.28792434861111, 27.527399038878563, 29.369077714765425, 24.778518928528516, 22.02963881677667, 21.11334544623633, 56.902161596945845, 42.18821026588418, 107.51695285452959, 17.448171965698442, 16.531878597845157, 33.056710836242175, 45.09477843643337, 56.14014321667204, 42.285216025970584, 12.866705110988992, 17.467227316087765, 36.65441457263293, 11.950411749300642, 11.950411751119791, 11.034118378189952, 10.11782499907706, 10.117825002674932, 10.117825001290317, 10.11782500343245, 117.21870623416369, 30.35138184600245, 33.12429315883362, 26.752814841540825, 170.4904852748079, 74.08896336606372, 922.207577608625, 209.3273301755309, 72.7438434558211, 69.27259953389226, 91.24010488018344, 102.53583132436468, 109.30187854329752, 139.97684514875493, 556.5132408864633, 357.7323577142346, 366.17137834749906, 189.80844033806247, 94.42162318341045, 1849.5926385253813, 65.49717552256874, 1759.3849784752686, 1437.5639307258689, 5256.833668120707, 298.2067366621902, 462.4840086544162, 1938.7016265698253, 2039.1628018208435, 806.9765289954257, 978.4000721548994, 3390.434281780365, 968.5643913978554, 2938.514523645312, 2244.863589763724, 704.1537122733505, 2818.922104523691, 1529.6697452485819, 2891.5954561909507, 46.04920732380619, 42.44166203884602, 38.83411676321499, 168.0413115724967, 37.932230436136095, 67.7089674584345, 31.619026201827896, 26.20770828088686, 139.15140247929816, 22.60016298751555, 22.600162999468953, 72.35233725370398, 21.698276673125115, 47.04161204979608, 20.796390345659788, 17.188845064024846, 16.286958747617053, 16.286958747617053, 15.385072422740006, 15.385072426740459, 14.48318610953128, 14.483186119880136, 13.581299780226106, 12.679413469492763, 25.36939644979354, 39.867116326177786, 10.87564082820898, 10.875640831171893, 10.875640871308212, 9.973754498116, 31.775759194197914, 67.42994844887653, 16.28340674733123, 19.017090396648406, 29.16845502033957, 74.60201194041444, 49.369699732906184, 64.31819357699409, 450.56334789544894, 271.73704766647546, 86.9536944683111, 23.718024382692786, 271.8716041391129, 47.10665402926615, 172.8437684622825, 313.0206870524526, 187.166366184183, 132.92856645532464, 875.8906268262864, 135.16121610130506, 280.5782442407379, 179.82535259232043, 1051.5375561783148, 1437.5639307258689, 2020.5600337439935, 5256.833668120707, 1029.4004365834153, 3390.434281780365, 2963.178494796301, 3091.2679417182867, 3254.8552350845084, 4551.021358996467, 550.7701903701131, 494.3141217328015, 544.5901225927087, 2818.922104523691, 2244.863589763724, 1529.6697452485819, 1820.1059223256136, 974.7085316678582, 1481.1733477414075, 86.29965947549356, 34.19325904552812, 111.57648068746713, 24.31158215424912, 20.718245099106202, 18.921576565642205, 18.921576564793945, 18.023242313404257, 18.02324231994507, 18.023242331202592, 18.026951332924888, 17.12490807561716, 14.429905303391994, 52.38645897339958, 94.87058430245642, 12.633236733599471, 11.734902455556865, 11.734902468802405, 10.836568202292689, 10.836568205297347, 10.836568208751286, 10.836568229514997, 23.49543742865531, 9.938233935274615, 9.93823394537893, 111.63576227587458, 9.039899665630719, 9.039899665630719, 9.039899732799444, 19.014416334321435, 15.388480006553495, 67.05056874523358, 75.19815896207147, 79.94528502400834, 704.1537122733505, 71.7967806174916, 41.8139808811934, 195.6651303384175, 62.796593996523626, 19.02404690834176, 27.076376349389413, 44.6296086042957, 64.60025021762209, 253.13841280148887, 37.1207100757526, 93.55453761198889, 177.63318816956644, 39.027073452636046, 175.17296676608225, 181.25830568593858, 129.85274916242955, 76.2541787526266, 40.38654983850806, 84.40027829401801, 1203.6322482161627, 152.6043748716188, 88.72672324765273, 119.93177152936822, 586.1290215849581, 178.54911127057215, 376.07064825295083, 445.31085236935246, 1849.5926385253813, 452.12082517879526, 412.20241870969846, 826.8747471290621, 946.1877009065046, 4513.633888807188, 372.21963626549723, 519.6674051849302, 3254.8552350845084, 5256.833668120707, 2938.514523645312, 1904.789065234739, 1296.2827212365721, 2244.863589763724, 2266.8695772899764], \"Category\": [\"Default\", \"Default\", \"Default\", \"Default\", \"Default\", \"Default\", \"Default\", \"Default\", \"Default\", \"Default\", \"Default\", \"Default\", \"Default\", \"Default\", \"Default\", \"Default\", \"Default\", \"Default\", \"Default\", \"Default\", \"Default\", \"Default\", \"Default\", \"Default\", \"Default\", \"Default\", \"Default\", \"Default\", \"Default\", \"Default\", \"Topic1\", \"Topic1\", \"Topic1\", \"Topic1\", \"Topic1\", \"Topic1\", \"Topic1\", \"Topic1\", \"Topic1\", \"Topic1\", \"Topic1\", \"Topic1\", \"Topic1\", \"Topic1\", \"Topic1\", \"Topic1\", \"Topic1\", \"Topic1\", \"Topic1\", \"Topic1\", \"Topic1\", \"Topic1\", \"Topic1\", \"Topic1\", \"Topic1\", \"Topic1\", \"Topic1\", \"Topic1\", \"Topic1\", \"Topic1\", \"Topic1\", \"Topic1\", \"Topic1\", \"Topic1\", \"Topic1\", \"Topic1\", \"Topic1\", \"Topic1\", \"Topic1\", \"Topic1\", \"Topic1\", \"Topic1\", \"Topic1\", \"Topic1\", \"Topic1\", \"Topic1\", \"Topic1\", \"Topic1\", \"Topic1\", \"Topic1\", \"Topic1\", \"Topic1\", \"Topic1\", \"Topic1\", \"Topic1\", \"Topic1\", \"Topic1\", \"Topic1\", \"Topic1\", \"Topic1\", \"Topic1\", \"Topic1\", \"Topic1\", \"Topic1\", \"Topic1\", \"Topic1\", \"Topic1\", \"Topic1\", \"Topic1\", \"Topic1\", \"Topic1\", \"Topic1\", \"Topic1\", \"Topic1\", \"Topic1\", \"Topic1\", \"Topic1\", \"Topic1\", \"Topic1\", \"Topic1\", \"Topic1\", \"Topic1\", \"Topic2\", \"Topic2\", \"Topic2\", \"Topic2\", \"Topic2\", \"Topic2\", \"Topic2\", \"Topic2\", \"Topic2\", \"Topic2\", \"Topic2\", \"Topic2\", \"Topic2\", \"Topic2\", \"Topic2\", \"Topic2\", \"Topic2\", \"Topic2\", \"Topic2\", \"Topic2\", \"Topic2\", \"Topic2\", \"Topic2\", \"Topic2\", \"Topic2\", \"Topic2\", \"Topic2\", \"Topic2\", \"Topic2\", \"Topic2\", \"Topic2\", \"Topic2\", \"Topic2\", \"Topic2\", \"Topic2\", \"Topic2\", \"Topic2\", \"Topic2\", \"Topic2\", \"Topic2\", \"Topic2\", \"Topic2\", \"Topic2\", \"Topic2\", \"Topic2\", \"Topic2\", \"Topic2\", \"Topic2\", \"Topic2\", \"Topic2\", \"Topic2\", \"Topic2\", \"Topic2\", \"Topic2\", \"Topic2\", \"Topic2\", \"Topic2\", \"Topic2\", \"Topic2\", \"Topic2\", \"Topic2\", \"Topic2\", \"Topic2\", \"Topic2\", \"Topic2\", \"Topic2\", \"Topic2\", \"Topic2\", \"Topic2\", \"Topic2\", \"Topic2\", \"Topic2\", \"Topic2\", \"Topic2\", \"Topic2\", \"Topic2\", \"Topic2\", \"Topic2\", \"Topic2\", \"Topic2\", \"Topic2\", \"Topic2\", \"Topic3\", \"Topic3\", \"Topic3\", \"Topic3\", \"Topic3\", \"Topic3\", \"Topic3\", \"Topic3\", \"Topic3\", \"Topic3\", \"Topic3\", \"Topic3\", \"Topic3\", \"Topic3\", \"Topic3\", \"Topic3\", \"Topic3\", \"Topic3\", \"Topic3\", \"Topic3\", \"Topic3\", \"Topic3\", \"Topic3\", \"Topic3\", \"Topic3\", \"Topic3\", \"Topic3\", \"Topic3\", \"Topic3\", \"Topic3\", \"Topic3\", \"Topic3\", \"Topic3\", \"Topic3\", \"Topic3\", \"Topic3\", \"Topic3\", \"Topic3\", \"Topic3\", \"Topic3\", \"Topic3\", \"Topic3\", \"Topic3\", \"Topic3\", \"Topic3\", \"Topic3\", \"Topic3\", \"Topic3\", \"Topic3\", \"Topic3\", \"Topic3\", \"Topic3\", \"Topic3\", \"Topic3\", \"Topic3\", \"Topic3\", \"Topic3\", \"Topic3\", \"Topic3\", \"Topic3\", \"Topic3\", \"Topic3\", \"Topic3\", \"Topic3\", \"Topic3\", \"Topic3\", \"Topic3\", \"Topic3\", \"Topic3\", \"Topic3\", \"Topic3\", \"Topic3\", \"Topic3\", \"Topic3\", \"Topic3\", \"Topic3\", \"Topic3\", \"Topic3\", \"Topic3\", \"Topic3\", \"Topic3\", \"Topic3\", \"Topic3\", \"Topic3\", \"Topic3\", \"Topic3\", \"Topic4\", \"Topic4\", \"Topic4\", \"Topic4\", \"Topic4\", \"Topic4\", \"Topic4\", \"Topic4\", \"Topic4\", \"Topic4\", \"Topic4\", \"Topic4\", \"Topic4\", \"Topic4\", \"Topic4\", \"Topic4\", \"Topic4\", \"Topic4\", \"Topic4\", \"Topic4\", \"Topic4\", \"Topic4\", \"Topic4\", \"Topic4\", \"Topic4\", \"Topic4\", \"Topic4\", \"Topic4\", \"Topic4\", \"Topic4\", \"Topic4\", \"Topic4\", \"Topic4\", \"Topic4\", \"Topic4\", \"Topic4\", \"Topic4\", \"Topic4\", \"Topic4\", \"Topic4\", \"Topic4\", \"Topic4\", \"Topic4\", \"Topic4\", \"Topic4\", \"Topic4\", \"Topic4\", \"Topic4\", \"Topic4\", \"Topic4\", \"Topic4\", \"Topic4\", \"Topic4\", \"Topic4\", \"Topic4\", \"Topic4\", \"Topic4\", \"Topic4\", \"Topic4\", \"Topic4\", \"Topic4\", \"Topic4\", \"Topic4\", \"Topic4\", \"Topic4\", \"Topic4\", \"Topic4\", \"Topic4\", \"Topic4\", \"Topic4\", \"Topic4\", \"Topic4\", \"Topic4\", \"Topic4\", \"Topic4\", \"Topic4\", \"Topic4\", \"Topic4\", \"Topic4\", \"Topic4\", \"Topic4\", \"Topic4\", \"Topic5\", \"Topic5\", \"Topic5\", \"Topic5\", \"Topic5\", \"Topic5\", \"Topic5\", \"Topic5\", \"Topic5\", \"Topic5\", \"Topic5\", \"Topic5\", \"Topic5\", \"Topic5\", \"Topic5\", \"Topic5\", \"Topic5\", \"Topic5\", \"Topic5\", \"Topic5\", \"Topic5\", \"Topic5\", \"Topic5\", \"Topic5\", \"Topic5\", \"Topic5\", \"Topic5\", \"Topic5\", \"Topic5\", \"Topic5\", \"Topic5\", \"Topic5\", \"Topic5\", \"Topic5\", \"Topic5\", \"Topic5\", \"Topic5\", \"Topic5\", \"Topic5\", \"Topic5\", \"Topic5\", \"Topic5\", \"Topic5\", \"Topic5\", \"Topic5\", \"Topic5\", \"Topic5\", \"Topic5\", \"Topic5\", \"Topic5\", \"Topic5\", \"Topic5\", \"Topic5\", \"Topic5\", \"Topic5\", \"Topic5\", \"Topic5\", \"Topic5\", \"Topic5\", \"Topic5\", \"Topic5\", \"Topic5\", \"Topic5\", \"Topic5\", \"Topic5\", \"Topic5\", \"Topic5\", \"Topic5\", \"Topic5\", \"Topic5\", \"Topic5\", \"Topic5\", \"Topic5\", \"Topic6\", \"Topic6\", \"Topic6\", \"Topic6\", \"Topic6\", \"Topic6\", \"Topic6\", \"Topic6\", \"Topic6\", \"Topic6\", \"Topic6\", \"Topic6\", \"Topic6\", \"Topic6\", \"Topic6\", \"Topic6\", \"Topic6\", \"Topic6\", \"Topic6\", \"Topic6\", \"Topic6\", \"Topic6\", \"Topic6\", \"Topic6\", \"Topic6\", \"Topic6\", \"Topic6\", \"Topic6\", \"Topic6\", \"Topic6\", \"Topic6\", \"Topic6\", \"Topic6\", \"Topic6\", \"Topic6\", \"Topic6\", \"Topic6\", \"Topic6\", \"Topic6\", \"Topic6\", \"Topic6\", \"Topic6\", \"Topic6\", \"Topic6\", \"Topic6\", \"Topic6\", \"Topic6\", \"Topic6\", \"Topic6\", \"Topic6\", \"Topic6\", \"Topic6\", \"Topic6\", \"Topic6\", \"Topic6\", \"Topic6\", \"Topic6\", \"Topic6\", \"Topic6\", \"Topic6\", \"Topic6\", \"Topic6\", \"Topic6\", \"Topic6\", \"Topic6\", \"Topic6\", \"Topic6\", \"Topic6\", \"Topic6\", \"Topic6\", \"Topic6\", \"Topic7\", \"Topic7\", \"Topic7\", \"Topic7\", \"Topic7\", \"Topic7\", \"Topic7\", \"Topic7\", \"Topic7\", \"Topic7\", \"Topic7\", \"Topic7\", \"Topic7\", \"Topic7\", \"Topic7\", \"Topic7\", \"Topic7\", \"Topic7\", \"Topic7\", \"Topic7\", \"Topic7\", \"Topic7\", \"Topic7\", \"Topic7\", \"Topic7\", \"Topic7\", \"Topic7\", \"Topic7\", \"Topic7\", \"Topic7\", \"Topic7\", \"Topic7\", \"Topic7\", \"Topic7\", \"Topic7\", \"Topic7\", \"Topic7\", \"Topic7\", \"Topic7\", \"Topic7\", \"Topic7\", \"Topic7\", \"Topic7\", \"Topic7\", \"Topic7\", \"Topic7\", \"Topic7\", \"Topic7\", \"Topic7\", \"Topic7\", \"Topic7\", \"Topic7\", \"Topic7\", \"Topic7\", \"Topic7\", \"Topic7\", \"Topic7\", \"Topic7\", \"Topic7\", \"Topic7\", \"Topic7\", \"Topic7\", \"Topic7\", \"Topic7\", \"Topic7\", \"Topic7\", \"Topic7\", \"Topic7\", \"Topic7\", \"Topic7\", \"Topic7\", \"Topic7\", \"Topic8\", \"Topic8\", \"Topic8\", \"Topic8\", \"Topic8\", \"Topic8\", \"Topic8\", \"Topic8\", \"Topic8\", \"Topic8\", \"Topic8\", \"Topic8\", \"Topic8\", \"Topic8\", \"Topic8\", \"Topic8\", \"Topic8\", \"Topic8\", \"Topic8\", \"Topic8\", \"Topic8\", \"Topic8\", \"Topic8\", \"Topic8\", \"Topic8\", \"Topic8\", \"Topic8\", \"Topic8\", \"Topic8\", \"Topic8\", \"Topic8\", \"Topic8\", \"Topic8\", \"Topic8\", \"Topic8\", \"Topic8\", \"Topic8\", \"Topic8\", \"Topic8\", \"Topic8\", \"Topic8\", \"Topic8\", \"Topic8\", \"Topic8\", \"Topic8\", \"Topic8\", \"Topic8\", \"Topic8\", \"Topic8\", \"Topic8\", \"Topic8\", \"Topic8\", \"Topic8\", \"Topic8\", \"Topic8\", \"Topic8\", \"Topic8\", \"Topic8\", \"Topic8\", \"Topic8\", \"Topic8\", \"Topic8\", \"Topic8\", \"Topic8\", \"Topic8\", \"Topic8\", \"Topic8\", \"Topic8\", \"Topic8\", \"Topic8\", \"Topic8\", \"Topic8\", \"Topic8\", \"Topic8\", \"Topic8\", \"Topic8\", \"Topic8\", \"Topic8\", \"Topic8\", \"Topic8\", \"Topic8\", \"Topic8\", \"Topic8\", \"Topic9\", \"Topic9\", \"Topic9\", \"Topic9\", \"Topic9\", \"Topic9\", \"Topic9\", \"Topic9\", \"Topic9\", \"Topic9\", \"Topic9\", \"Topic9\", \"Topic9\", \"Topic9\", \"Topic9\", \"Topic9\", \"Topic9\", \"Topic9\", \"Topic9\", \"Topic9\", \"Topic9\", \"Topic9\", \"Topic9\", \"Topic9\", \"Topic9\", \"Topic9\", \"Topic9\", \"Topic9\", \"Topic9\", \"Topic9\", \"Topic9\", \"Topic9\", \"Topic9\", \"Topic9\", \"Topic9\", \"Topic9\", \"Topic9\", \"Topic9\", \"Topic9\", \"Topic9\", \"Topic9\", \"Topic9\", \"Topic9\", \"Topic9\", \"Topic9\", \"Topic9\", \"Topic9\", \"Topic9\", \"Topic9\", \"Topic9\", \"Topic9\", \"Topic9\", \"Topic9\", \"Topic9\", \"Topic9\", \"Topic9\", \"Topic9\", \"Topic9\", \"Topic9\", \"Topic9\", \"Topic9\", \"Topic9\", \"Topic9\", \"Topic9\", \"Topic9\", \"Topic9\", \"Topic9\", \"Topic9\", \"Topic9\", \"Topic9\", \"Topic9\", \"Topic9\", \"Topic9\", \"Topic9\", \"Topic9\", \"Topic9\", \"Topic10\", \"Topic10\", \"Topic10\", \"Topic10\", \"Topic10\", \"Topic10\", \"Topic10\", \"Topic10\", \"Topic10\", \"Topic10\", \"Topic10\", \"Topic10\", \"Topic10\", \"Topic10\", \"Topic10\", \"Topic10\", \"Topic10\", \"Topic10\", \"Topic10\", \"Topic10\", \"Topic10\", \"Topic10\", \"Topic10\", \"Topic10\", \"Topic10\", \"Topic10\", \"Topic10\", \"Topic10\", \"Topic10\", \"Topic10\", \"Topic10\", \"Topic10\", \"Topic10\", \"Topic10\", \"Topic10\", \"Topic10\", \"Topic10\", \"Topic10\", \"Topic10\", \"Topic10\", \"Topic10\", \"Topic10\", \"Topic10\", \"Topic10\", \"Topic10\", \"Topic10\", \"Topic10\", \"Topic10\", \"Topic10\", \"Topic10\", \"Topic10\", \"Topic10\", \"Topic10\", \"Topic10\", \"Topic10\", \"Topic10\", \"Topic10\", \"Topic10\", \"Topic10\", \"Topic10\", \"Topic10\", \"Topic10\", \"Topic10\", \"Topic10\", \"Topic10\", \"Topic10\", \"Topic10\", \"Topic10\", \"Topic10\", \"Topic10\", \"Topic10\", \"Topic10\", \"Topic10\", \"Topic10\", \"Topic10\", \"Topic10\", \"Topic10\", \"Topic10\", \"Topic10\", \"Topic10\", \"Topic10\", \"Topic10\", \"Topic11\", \"Topic11\", \"Topic11\", \"Topic11\", \"Topic11\", \"Topic11\", \"Topic11\", \"Topic11\", \"Topic11\", \"Topic11\", \"Topic11\", \"Topic11\", \"Topic11\", \"Topic11\", \"Topic11\", \"Topic11\", \"Topic11\", \"Topic11\", \"Topic11\", \"Topic11\", \"Topic11\", \"Topic11\", \"Topic11\", \"Topic11\", \"Topic11\", \"Topic11\", \"Topic11\", \"Topic11\", \"Topic11\", \"Topic11\", \"Topic11\", \"Topic11\", \"Topic11\", \"Topic11\", \"Topic11\", \"Topic11\", \"Topic11\", \"Topic11\", \"Topic11\", \"Topic11\", \"Topic11\", \"Topic11\", \"Topic11\", \"Topic11\", \"Topic11\", \"Topic11\", \"Topic11\", \"Topic11\", \"Topic11\", \"Topic11\", \"Topic11\", \"Topic11\", \"Topic11\", \"Topic11\", \"Topic11\", \"Topic11\", \"Topic11\", \"Topic11\", \"Topic11\", \"Topic11\", \"Topic11\", \"Topic11\", \"Topic11\", \"Topic11\", \"Topic11\", \"Topic11\", \"Topic11\", \"Topic11\", \"Topic11\", \"Topic11\", \"Topic11\", \"Topic11\", \"Topic11\", \"Topic11\", \"Topic11\", \"Topic11\", \"Topic11\", \"Topic12\", \"Topic12\", \"Topic12\", \"Topic12\", \"Topic12\", \"Topic12\", \"Topic12\", \"Topic12\", \"Topic12\", \"Topic12\", \"Topic12\", \"Topic12\", \"Topic12\", \"Topic12\", \"Topic12\", \"Topic12\", \"Topic12\", \"Topic12\", \"Topic12\", \"Topic12\", \"Topic12\", \"Topic12\", \"Topic12\", \"Topic12\", \"Topic12\", \"Topic12\", \"Topic12\", \"Topic12\", \"Topic12\", \"Topic12\", \"Topic12\", \"Topic12\", \"Topic12\", \"Topic12\", \"Topic12\", \"Topic12\", \"Topic12\", \"Topic12\", \"Topic12\", \"Topic12\", \"Topic12\", \"Topic12\", \"Topic12\", \"Topic12\", \"Topic12\", \"Topic12\", \"Topic12\", \"Topic12\", \"Topic12\", \"Topic12\", \"Topic12\", \"Topic12\", \"Topic12\", \"Topic12\", \"Topic12\", \"Topic12\", \"Topic12\", \"Topic12\", \"Topic12\", \"Topic12\", \"Topic12\", \"Topic12\", \"Topic12\", \"Topic12\", \"Topic12\", \"Topic12\", \"Topic12\", \"Topic12\", \"Topic12\", \"Topic13\", \"Topic13\", \"Topic13\", \"Topic13\", \"Topic13\", \"Topic13\", \"Topic13\", \"Topic13\", \"Topic13\", \"Topic13\", \"Topic13\", \"Topic13\", \"Topic13\", \"Topic13\", \"Topic13\", \"Topic13\", \"Topic13\", \"Topic13\", \"Topic13\", \"Topic13\", \"Topic13\", \"Topic13\", \"Topic13\", \"Topic13\", \"Topic13\", \"Topic13\", \"Topic13\", \"Topic13\", \"Topic13\", \"Topic13\", \"Topic13\", \"Topic13\", \"Topic13\", \"Topic13\", \"Topic13\", \"Topic13\", \"Topic13\", \"Topic13\", \"Topic13\", \"Topic13\", \"Topic13\", \"Topic13\", \"Topic13\", \"Topic13\", \"Topic13\", \"Topic13\", \"Topic13\", \"Topic13\", \"Topic13\", \"Topic13\", \"Topic13\", \"Topic13\", \"Topic13\", \"Topic13\", \"Topic13\", \"Topic13\", \"Topic13\", \"Topic13\", \"Topic13\", \"Topic13\", \"Topic13\", \"Topic13\", \"Topic13\", \"Topic13\", \"Topic13\", \"Topic13\", \"Topic13\", \"Topic13\", \"Topic14\", \"Topic14\", \"Topic14\", \"Topic14\", \"Topic14\", \"Topic14\", \"Topic14\", \"Topic14\", \"Topic14\", \"Topic14\", \"Topic14\", \"Topic14\", \"Topic14\", \"Topic14\", \"Topic14\", \"Topic14\", \"Topic14\", \"Topic14\", \"Topic14\", \"Topic14\", \"Topic14\", \"Topic14\", \"Topic14\", \"Topic14\", \"Topic14\", \"Topic14\", \"Topic14\", \"Topic14\", \"Topic14\", \"Topic14\", \"Topic14\", \"Topic14\", \"Topic14\", \"Topic14\", \"Topic14\", \"Topic14\", \"Topic14\", \"Topic14\", \"Topic14\", \"Topic14\", \"Topic14\", \"Topic14\", \"Topic14\", \"Topic14\", \"Topic14\", \"Topic14\", \"Topic14\", \"Topic14\", \"Topic14\", \"Topic14\", \"Topic14\", \"Topic14\", \"Topic14\", \"Topic14\", \"Topic14\", \"Topic14\", \"Topic14\", \"Topic14\", \"Topic14\", \"Topic14\", \"Topic14\", \"Topic14\", \"Topic14\", \"Topic14\", \"Topic14\", \"Topic14\", \"Topic14\", \"Topic14\", \"Topic14\", \"Topic14\", \"Topic14\", \"Topic15\", \"Topic15\", \"Topic15\", \"Topic15\", \"Topic15\", \"Topic15\", \"Topic15\", \"Topic15\", \"Topic15\", \"Topic15\", \"Topic15\", \"Topic15\", \"Topic15\", \"Topic15\", \"Topic15\", \"Topic15\", \"Topic15\", \"Topic15\", \"Topic15\", \"Topic15\", \"Topic15\", \"Topic15\", \"Topic15\", \"Topic15\", \"Topic15\", \"Topic15\", \"Topic15\", \"Topic15\", \"Topic15\", \"Topic15\", \"Topic15\", \"Topic15\", \"Topic15\", \"Topic15\", \"Topic15\", \"Topic15\", \"Topic15\", \"Topic15\", \"Topic15\", \"Topic15\", \"Topic15\", \"Topic15\", \"Topic15\", \"Topic15\", \"Topic15\", \"Topic15\", \"Topic15\", \"Topic15\", \"Topic15\", \"Topic15\", \"Topic15\", \"Topic15\", \"Topic15\", \"Topic15\", \"Topic15\", \"Topic15\", \"Topic15\", \"Topic15\", \"Topic15\", \"Topic15\", \"Topic15\", \"Topic15\", \"Topic15\", \"Topic15\", \"Topic15\", \"Topic15\", \"Topic15\", \"Topic15\", \"Topic15\", \"Topic15\", \"Topic15\", \"Topic15\", \"Topic15\", \"Topic15\", \"Topic15\", \"Topic15\", \"Topic15\"], \"logprob\": [30.0, 29.0, 28.0, 27.0, 26.0, 25.0, 24.0, 23.0, 22.0, 21.0, 20.0, 19.0, 18.0, 17.0, 16.0, 15.0, 14.0, 13.0, 12.0, 11.0, 10.0, 9.0, 8.0, 7.0, 6.0, 5.0, 4.0, 3.0, 2.0, 1.0, -7.0852, -7.1445, -7.6499, -7.7851, -7.7997, -7.976, -7.2839, -8.1068, -8.1686, -8.1901, -8.1901, -7.3041, -8.2345, -7.9827, -5.5389, -8.584, -7.8788, -8.7219, -8.7219, -8.7219, -8.7595, -7.9789, -7.3832, -8.8818, -8.8818, -8.8818, -8.8818, -8.8822, -8.9261, -8.2345, -5.526, -5.7152, -7.3938, -5.8656, -7.953, -7.7492, -4.4477, -7.6494, -8.0223, -6.9822, -5.4314, -6.213, -5.7563, -7.0547, -5.7998, -5.9357, -6.2289, -6.7315, -5.4176, -5.5973, -5.6933, -7.2779, -5.2913, -7.2948, -5.3851, -5.2451, -4.8107, -6.8051, -6.2862, -6.1245, -6.4165, -6.105, -5.702, -5.9722, -6.488, -5.5388, -5.9164, -6.0345, -5.4006, -4.9496, -5.184, -5.4081, -5.3268, -5.1159, -5.4965, -5.4702, -5.4456, -5.774, -5.6927, -5.6098, -5.8072, -5.8209, -6.6282, -7.419, -7.5212, -7.5561, -7.1119, -7.9574, -8.0839, -8.0839, -8.1981, -8.2288, -8.2932, -8.3983, -8.1776, -8.5158, -8.5583, -5.507, -8.6976, -8.6976, -8.6976, -8.7487, -8.7487, -8.8026, -8.8595, -7.3219, -7.4223, -8.1139, -8.1981, -8.9842, -8.9842, -8.9842, -6.3832, -7.8666, -7.1612, -5.7835, -6.8127, -7.9282, -6.4785, -7.6197, -6.5607, -6.7261, -6.1983, -4.8279, -5.8027, -6.8307, -4.5094, -6.6881, -7.0286, -7.4113, -7.5743, -7.6467, -4.1517, -6.0993, -4.9524, -5.3445, -7.3043, -7.4285, -6.1175, -6.1545, -4.9088, -6.3121, -5.3793, -4.7459, -4.9106, -5.9737, -5.1772, -4.9758, -5.3088, -5.9618, -5.3682, -5.9575, -5.9084, -5.5225, -5.6297, -5.829, -5.6253, -5.6702, -5.7704, -5.9118, -5.7888, -5.8897, -5.793, -5.962, -7.5688, -7.717, -7.717, -7.717, -7.3328, -8.0177, -8.0451, -8.1626, -8.1626, -8.227, -8.2958, -8.4089, -8.4496, -7.5021, -8.6825, -8.7376, -7.3395, -8.6437, -8.9179, -8.9179, -8.9179, -8.9179, -8.9179, -8.9179, -8.9179, -7.5184, -8.9866, -8.9874, -5.7935, -9.0603, -7.3724, -8.3019, -7.0213, -7.8592, -7.6533, -8.3001, -8.3746, -7.9034, -8.4508, -8.4508, -7.6829, -7.8883, -5.5809, -7.491, -7.0516, -6.5088, -5.8662, -5.8571, -3.7023, -5.923, -4.7026, -6.6628, -7.307, -4.5106, -5.5559, -6.4813, -4.8278, -6.2214, -6.866, -5.0151, -5.6951, -5.1991, -6.9392, -5.0439, -5.7593, -5.5527, -5.9353, -6.7742, -6.3322, -5.8246, -4.997, -6.2444, -4.9172, -5.5508, -5.2814, -6.2813, -5.5499, -5.8437, -5.5344, -5.4489, -5.631, -5.6369, -5.5523, -5.8228, -5.8603, -5.8717, -6.7339, -7.0719, -7.1815, -7.6309, -7.6539, -7.6773, -5.8836, -6.2422, -8.082, -8.1559, -5.5222, -6.9089, -6.7906, -8.2358, -7.5039, -8.2782, -8.2782, -7.3968, -7.0509, -8.3689, -8.3285, -8.4687, -8.4687, -8.4687, -8.4687, -8.4687, -7.2588, -7.7783, -7.3402, -6.5338, -5.9807, -6.5226, -7.8314, -7.6869, -7.8087, -3.7862, -3.7736, -6.917, -7.2031, -6.341, -5.4454, -5.907, -6.8638, -5.7771, -6.815, -4.2172, -6.5696, -6.6162, -6.6811, -6.2854, -6.0474, -6.7024, -6.7353, -4.1547, -5.5014, -6.6433, -5.2767, -6.4986, -6.3812, -6.3673, -5.6676, -6.2771, -5.3809, -6.1877, -6.1482, -6.1357, -5.5098, -5.4449, -5.6051, -5.8811, -5.691, -5.7184, -5.7013, -5.7729, -5.715, -5.9118, -5.9452, -5.8778, -5.9905, -6.0076, -6.0849, -6.0774, -5.6476, -6.7389, -5.5853, -6.967, -6.9799, -7.473, -7.4945, -7.5388, -7.5618, -7.5853, -5.4955, -7.7962, -7.826, -6.3357, -6.1489, -5.9598, -7.8884, -6.781, -7.2125, -6.5378, -7.2818, -8.0639, -8.103, -8.103, -8.1437, -8.2305, -6.9854, -8.2768, -8.1126, -8.3766, -5.3446, -6.5372, -7.0989, -6.3684, -6.9738, -6.2843, -7.7405, -4.8004, -6.0701, -6.0779, -5.1335, -6.4694, -5.1465, -6.8454, -5.6144, -7.2468, -5.2546, -6.6148, -5.5905, -5.7143, -5.2481, -5.3341, -5.0792, -6.1508, -6.4578, -5.8982, -6.0053, -5.8802, -5.4697, -5.849, -5.242, -5.9992, -6.1377, -5.574, -5.8694, -5.6604, -6.0312, -5.7787, -5.9281, -5.8715, -5.9481, -5.9356, -6.0025, -6.1829, -6.189, -6.2073, -6.3181, -6.3897, -6.499, -6.5157, -6.4994, -7.0896, -6.1223, -6.2797, -7.2511, -6.4163, -5.9818, -7.4656, -7.5326, -7.6048, -6.4985, -7.656, -7.7099, -7.7674, -7.7968, -7.9257, -4.5486, -8.1145, -8.1145, -8.0385, -7.1451, -8.2012, -8.2476, -3.6622, -7.1951, -6.5344, -5.9717, -7.1959, -7.1565, -5.2999, -5.8591, -5.7738, -5.15, -5.5131, -4.9368, -5.4621, -6.5525, -5.8802, -5.5751, -6.102, -5.2325, -6.3157, -6.0368, -5.7501, -5.6601, -5.5317, -5.2364, -6.1398, -4.9852, -5.0278, -5.6237, -5.7222, -5.2525, -5.3515, -5.5604, -5.5083, -5.3949, -5.8156, -5.7043, -5.5915, -5.673, -5.6914, -5.6986, -5.8365, -4.8652, -4.3494, -6.9658, -7.3046, -7.4715, -6.0196, -7.6718, -7.6718, -6.9013, -7.9589, -6.8041, -6.5505, -7.7992, -8.2581, -8.3631, -7.4799, -7.0908, -8.42, -8.42, -8.42, -8.42, -8.4804, -8.5447, -8.6134, -8.6134, -7.8254, -8.7667, -8.7667, -7.1744, -8.8532, -4.9087, -6.0419, -5.725, -6.0211, -5.8318, -5.4316, -6.5544, -7.8208, -5.628, -6.905, -7.4543, -5.7724, -4.5749, -6.844, -5.2799, -6.1827, -6.2239, -5.5466, -6.4069, -4.3123, -4.1634, -3.8036, -5.7977, -6.1313, -6.2023, -5.5437, -5.192, -5.5292, -5.7561, -5.6856, -5.6418, -5.4227, -5.3338, -4.9939, -5.0809, -5.2358, -5.8305, -5.3913, -5.6694, -5.8103, -5.7083, -5.8295, -6.8715, -6.9784, -7.1164, -7.4413, -7.4673, -7.4673, -7.7032, -7.7032, -7.737, -7.772, -7.8083, -7.8459, -8.0125, -8.0589, -8.1587, -8.1587, -8.2125, -8.2125, -7.9402, -8.3299, -6.6651, -8.3941, -8.3941, -8.3941, -8.4628, -8.4647, -7.7734, -8.5365, -8.5365, -8.5365, -7.9258, -7.5122, -7.9314, -6.1782, -7.3361, -7.5668, -7.2279, -6.8382, -6.7947, -6.8448, -7.6254, -5.2618, -7.0749, -6.2235, -4.8477, -6.3933, -5.964, -7.0864, -5.3786, -7.0063, -5.9111, -6.6814, -6.6303, -5.3697, -5.8815, -5.1596, -6.2225, -5.9232, -5.7058, -5.6792, -6.1518, -5.8289, -5.7963, -6.2945, -5.158, -5.5996, -5.4979, -5.4879, -5.4497, -5.4675, -5.4748, -5.668, -6.1869, -5.4271, -5.9329, -5.9691, -6.0124, -5.7808, -5.7399, -5.8564, -5.9695, -5.9717, -5.996, -6.3881, -6.4992, -6.6141, -6.7052, -7.0462, -7.1533, -7.2115, -7.2949, -6.108, -7.2356, -6.2611, -7.657, -7.7903, -7.8265, -7.8265, -7.8642, -7.9865, -7.9865, -8.1258, -8.1258, -8.1258, -8.1769, -7.2416, -8.2308, -8.2308, -8.1808, -8.0854, -8.2877, -7.8851, -7.599, -7.0872, -5.2379, -5.2503, -6.4806, -6.9559, -6.3744, -5.7152, -5.9746, -6.9009, -7.4138, -4.1596, -7.2363, -6.5699, -5.4431, -6.3216, -6.9143, -5.4748, -6.3996, -5.802, -5.3174, -4.8489, -6.5583, -5.5008, -5.1331, -5.6844, -5.2514, -6.5062, -5.465, -4.9804, -4.9176, -6.2717, -5.9015, -5.547, -5.8756, -6.0796, -5.6585, -5.8133, -5.3671, -5.9933, -6.0289, -5.9, -5.9341, -5.6629, -5.7731, -5.9673, -5.9407, -6.6589, -7.4477, -7.4775, -7.5086, -7.6065, -7.6415, -7.7552, -7.8377, -6.3534, -6.77, -8.0281, -8.082, -7.3652, -8.1389, -6.3732, -8.3323, -8.406, -8.406, -8.406, -6.938, -8.4856, -8.4856, -8.5721, -7.2783, -8.6668, -8.6668, -8.4996, -7.977, -7.3376, -8.7715, -8.0289, -7.2197, -6.5501, -6.5545, -6.6273, -7.5907, -7.756, -7.0685, -6.535, -7.5457, -5.3755, -5.5885, -6.819, -7.1049, -5.5884, -6.6721, -4.636, -6.1042, -6.9229, -5.6915, -4.9356, -6.3079, -6.8116, -6.6088, -5.9342, -6.1998, -5.3676, -6.37, -5.4638, -5.5638, -5.4572, -5.2947, -5.5896, -6.1174, -5.1093, -5.1484, -5.3646, -5.8283, -5.6937, -5.7006, -5.6275, -5.8694, -5.7169, -5.6415, -5.5634, -5.8964, -5.6916, -5.7176, -5.8981, -5.7952, -5.8446, -5.8476, -4.5873, -6.3889, -6.4344, -6.7141, -6.8452, -6.8455, -6.2258, -7.0379, -5.5967, -7.1989, -7.2242, -7.3041, -6.5845, -6.7887, -7.3909, -7.4216, -7.4533, -7.5199, -7.6288, -7.6288, -7.6679, -7.7511, -7.7954, -5.9002, -7.8418, -7.8904, -7.8904, -7.9415, -7.9415, -7.9954, -6.8802, -6.4999, -7.3337, -6.4755, -7.2454, -5.5578, -7.1572, -5.9809, -6.2442, -6.8823, -6.46, -6.6828, -6.7738, -5.88, -6.9914, -6.2211, -6.4135, -5.6773, -5.5251, -5.7456, -5.4566, -6.86, -5.3606, -5.1536, -5.8668, -6.4135, -6.2186, -5.9586, -5.0091, -5.2734, -5.2258, -5.3419, -5.6211, -5.9641, -5.4694, -5.829, -5.6237, -6.0388, -5.7697, -5.6947, -5.7496, -5.733, -5.8184, -5.924, -5.8308, -5.9176, -5.9367, -4.3052, -5.8751, -6.8331, -6.855, -7.1059, -7.0558, -7.2598, -7.3286, -7.1433, -7.4416, -6.1517, -7.6641, -7.0241, -6.9987, -7.417, -7.826, -4.8105, -5.6984, -8.0194, -5.8479, -8.0931, -7.4025, -5.2162, -7.3016, -7.8464, -8.0295, -8.0317, -8.1779, -8.2592, -8.3539, -7.6164, -5.7881, -5.3691, -6.1078, -5.0967, -6.4541, -6.3285, -7.0333, -5.0729, -6.2458, -5.4207, -6.9789, -6.5832, -6.0003, -6.2602, -5.2252, -6.3716, -5.3484, -5.3581, -5.7127, -6.4422, -5.3964, -5.9005, -6.2198, -5.9022, -6.2459, -5.7268, -6.1804, -5.7864, -5.6544, -5.4852, -5.5983, -5.9123, -5.7008, -5.7597, -5.9181, -5.732, -5.8456, -5.8298, -4.7769, -6.5447, -6.6571, -6.6811, -6.7057, -5.6506, -7.0267, -6.9641, -7.1356, -7.2579, -7.3022, -6.3125, -6.6169, -5.6817, -7.5022, -7.5591, -6.8681, -6.5685, -6.3497, -6.6335, -7.8262, -7.5242, -6.7836, -7.9058, -7.9058, -7.9923, -8.087, -8.087, -8.087, -8.087, -5.66, -7.0014, -6.9167, -7.1378, -5.368, -6.1887, -3.8291, -5.2378, -6.2523, -6.2972, -6.0769, -6.0301, -6.0115, -5.8316, -4.8561, -5.3369, -5.4223, -5.8571, -6.3015, -4.8335, -6.5238, -5.1161, -5.2142, -4.7396, -5.8966, -5.7575, -5.4363, -5.4574, -5.7455, -5.7354, -5.495, -5.781, -5.5717, -5.7548, -5.9332, -5.8969, -5.9731, -5.9742, -6.3797, -6.4629, -6.5538, -5.0894, -6.5778, -6.0017, -6.7647, -6.9584, -5.2926, -7.1122, -7.1122, -5.9488, -7.1546, -6.3819, -7.199, -7.399, -7.4559, -7.4559, -7.5163, -7.5163, -7.5805, -7.5805, -7.6492, -7.723, -7.0327, -6.5819, -7.8891, -7.8891, -7.8891, -7.9838, -6.8363, -6.1858, -7.5163, -7.3824, -7.0031, -6.1819, -6.5633, -6.3823, -4.843, -5.2863, -6.2283, -7.199, -5.4701, -6.7141, -5.8222, -5.4582, -5.8186, -6.0821, -5.1487, -6.2125, -5.8505, -6.1116, -5.29, -5.1876, -5.0735, -4.7164, -5.4797, -5.1603, -5.2641, -5.3926, -5.4729, -5.4546, -5.9356, -6.0001, -5.9919, -5.791, -5.8191, -5.8727, -5.8922, -5.9579, -5.9367, -5.6905, -6.6318, -5.4495, -6.9839, -7.1505, -7.2455, -7.2455, -7.2966, -7.2966, -7.2966, -7.2989, -7.3505, -7.5321, -6.2481, -5.6551, -7.6745, -7.7541, -7.7541, -7.8406, -7.8406, -7.8406, -7.8406, -7.0729, -7.9353, -7.9353, -5.5196, -8.04, -8.04, -8.04, -7.2966, -7.5119, -6.0633, -5.9535, -5.9012, -3.8087, -6.022, -6.554, -5.1056, -6.1801, -7.3069, -6.9876, -6.5448, -6.2159, -5.0454, -6.726, -5.9515, -5.4197, -6.6916, -5.5294, -5.5072, -5.846, -6.2761, -6.7236, -6.236, -4.5377, -5.8817, -6.2238, -6.0561, -5.1588, -5.8647, -5.5549, -5.5152, -4.9051, -5.5153, -5.6724, -5.5245, -5.5704, -5.2878, -5.8335, -5.8013, -5.5912, -5.5609, -5.7291, -5.7905, -5.834, -5.8402, -5.8548], \"loglift\": [30.0, 29.0, 28.0, 27.0, 26.0, 25.0, 24.0, 23.0, 22.0, 21.0, 20.0, 19.0, 18.0, 17.0, 16.0, 15.0, 14.0, 13.0, 12.0, 11.0, 10.0, 9.0, 8.0, 7.0, 6.0, 5.0, 4.0, 3.0, 2.0, 1.0, 1.8748, 1.8744, 1.8699, 1.8683, 1.8681, 1.8655, 1.8644, 1.8634, 1.8622, 1.8618, 1.8618, 1.8613, 1.861, 1.8593, 1.857, 1.8526, 1.8487, 1.8484, 1.8484, 1.8484, 1.8472, 1.8461, 1.8455, 1.8428, 1.8428, 1.8428, 1.8428, 1.8425, 1.8411, 1.8408, 1.8374, 1.8359, 1.8366, 1.8201, 1.8385, 1.8355, 1.7844, 1.8338, 1.8369, 1.8142, 1.7653, 1.7427, 1.7171, 1.7761, 1.6765, 1.6602, 1.6707, 1.7111, 1.5519, 1.5726, 1.5711, 1.7602, 1.4357, 1.7556, 1.4037, 1.3399, 1.2174, 1.6425, 1.5085, 1.4584, 1.5268, 1.4131, 1.2618, 1.3146, 1.5134, 1.0764, 1.1943, 1.2445, 0.8394, 0.5132, 0.6656, 0.7594, 0.615, 0.415, 0.5909, 0.3917, 0.18, 0.7673, 0.5371, -0.1388, 0.3843, -0.0229, 2.192, 2.1917, 2.1904, 2.1863, 2.1841, 2.183, 2.1801, 2.1801, 2.1773, 2.1764, 2.1746, 2.1714, 2.1695, 2.1674, 2.1658, 2.1613, 2.1602, 2.1602, 2.1602, 2.1579, 2.1579, 2.1554, 2.1527, 2.1522, 2.1518, 2.1502, 2.1481, 2.146, 2.146, 2.146, 2.1387, 2.1439, 2.1348, 2.1026, 2.1122, 2.1256, 2.0651, 2.1115, 2.0531, 2.0364, 1.9665, 1.7911, 1.896, 1.9949, 1.7019, 1.9142, 1.9624, 2.0252, 2.0546, 2.0685, 1.3194, 1.6878, 1.3224, 1.4057, 1.9758, 2.0092, 1.5327, 1.5448, 1.033, 1.5488, 1.1061, 0.7851, 0.7151, 1.2548, 0.6684, 0.487, 0.4892, 1.0482, 0.3941, 1.0332, 0.9528, 0.3394, 0.4577, 0.6348, 0.2243, 0.2301, 0.4561, 0.693, 0.1031, 0.5266, -0.0359, 0.2295, 2.2567, 2.2543, 2.2543, 2.2543, 2.2528, 2.2481, 2.2474, 2.2444, 2.2444, 2.2426, 2.2405, 2.2368, 2.2353, 2.2271, 2.2258, 2.2221, 2.2218, 2.2168, 2.2139, 2.2139, 2.2139, 2.2139, 2.2139, 2.2139, 2.2139, 2.2119, 2.2099, 2.2091, 2.2073, 2.2053, 2.2005, 2.2037, 2.1814, 2.1955, 2.1907, 2.2029, 2.1977, 2.1769, 2.1957, 2.1945, 2.1603, 2.1665, 2.0327, 2.1271, 2.0839, 2.033, 1.9183, 1.9112, 1.6163, 1.8327, 1.5626, 1.9229, 2.0517, 1.4057, 1.6145, 1.8414, 1.4044, 1.7681, 1.9149, 1.3481, 1.5513, 1.354, 1.9269, 1.2217, 1.4444, 1.3466, 1.4816, 1.8464, 1.6284, 1.3344, 0.8487, 1.5425, 0.6138, 0.8624, 0.6105, 1.3897, 0.6416, 0.9451, 0.4133, 0.1767, 0.1313, 0.1203, -0.0895, 0.4415, 0.04, -0.0737, 2.4957, 2.4923, 2.491, 2.4835, 2.483, 2.4825, 2.4814, 2.4808, 2.4719, 2.4695, 2.4685, 2.4684, 2.4667, 2.4666, 2.4659, 2.465, 2.465, 2.465, 2.463, 2.4614, 2.4576, 2.457, 2.457, 2.457, 2.457, 2.4569, 2.4569, 2.4534, 2.4533, 2.4522, 2.4517, 2.4428, 2.4521, 2.4503, 2.4483, 2.3631, 2.3575, 2.4185, 2.4278, 2.3907, 2.309, 2.3378, 2.3955, 2.3213, 2.3898, 2.1744, 2.3602, 2.3558, 2.3566, 2.3002, 2.2665, 2.3497, 2.3536, 1.8812, 2.0765, 2.3242, 1.7233, 2.2055, 2.0785, 2.0688, 1.4079, 1.8795, 0.9353, 1.7129, 1.5668, 1.4959, 0.3904, 0.1808, 0.3426, 0.7408, 0.0662, 0.1273, 0.061, 0.2553, -0.2522, 0.337, 0.4296, -0.0159, 0.3432, 0.4056, 0.0749, -0.6064, 2.5847, 2.5786, 2.5782, 2.5762, 2.576, 2.5686, 2.5682, 2.5673, 2.5668, 2.5663, 2.5651, 2.5614, 2.5606, 2.5602, 2.5597, 2.5597, 2.5588, 2.5573, 2.5572, 2.5542, 2.5539, 2.5534, 2.552, 2.552, 2.5506, 2.5473, 2.5462, 2.5454, 2.543, 2.541, 2.5328, 2.5398, 2.5374, 2.5071, 2.5213, 2.4639, 2.5347, 2.3679, 2.4455, 2.4144, 2.3098, 2.4351, 2.2376, 2.456, 2.2515, 2.5081, 2.0075, 2.3369, 1.9899, 1.9443, 1.7323, 1.7267, 1.5905, 2.0869, 2.2248, 1.8076, 1.8372, 1.7276, 1.2489, 1.5846, 0.7861, 1.6674, 1.849, 0.2716, 1.0585, 0.1892, 1.4283, -0.3159, 0.5573, -0.0096, 0.3162, -0.0192, 0.1573, 2.6289, 2.6289, 2.6288, 2.6281, 2.6275, 2.6269, 2.6266, 2.6265, 2.6207, 2.6201, 2.6196, 2.6183, 2.6162, 2.6154, 2.6141, 2.6131, 2.6116, 2.611, 2.6104, 2.609, 2.6071, 2.6067, 2.603, 2.6027, 2.5966, 2.5966, 2.5955, 2.5947, 2.5932, 2.5913, 2.5872, 2.5908, 2.5825, 2.5733, 2.5758, 2.5675, 2.4593, 2.4931, 2.4801, 2.4361, 2.4353, 2.3746, 2.396, 2.4973, 2.4076, 2.3057, 2.3874, 2.1887, 2.396, 2.3088, 2.1896, 2.1293, 2.0076, 1.7737, 2.3283, 1.2896, 1.2883, 1.5689, 1.5918, 0.6893, 0.8599, 0.9718, 0.7238, -0.0763, 1.3049, 0.5613, -0.0605, 0.0842, 0.2005, 0.0638, 0.7854, 2.6478, 2.6434, 2.6419, 2.637, 2.6339, 2.6299, 2.6294, 2.6294, 2.6293, 2.6212, 2.6205, 2.6167, 2.6165, 2.6099, 2.6051, 2.6032, 2.6027, 2.6023, 2.6023, 2.6023, 2.6023, 2.5991, 2.5955, 2.5915, 2.5914, 2.5906, 2.5814, 2.5814, 2.5779, 2.5751, 2.5569, 2.5672, 2.5445, 2.549, 2.5089, 2.4931, 2.4892, 2.5644, 2.3936, 2.4869, 2.5266, 2.3796, 2.2504, 2.47, 2.2891, 2.3793, 2.3494, 2.2234, 2.3751, 1.9231, 1.8725, 1.6674, 2.1691, 2.2082, 2.2002, 1.8899, 1.6292, 1.758, 1.8747, 1.7559, 1.6539, 1.4513, 1.288, 0.8041, 0.3819, 0.5265, 1.5905, 0.2344, 0.418, 1.1516, 0.1373, 0.0324, 2.7753, 2.7738, 2.7717, 2.7655, 2.7649, 2.7649, 2.7588, 2.7588, 2.7578, 2.7567, 2.7556, 2.7543, 2.7483, 2.7465, 2.7422, 2.7422, 2.7397, 2.7397, 2.7378, 2.7339, 2.7315, 2.7304, 2.7304, 2.7304, 2.7264, 2.7245, 2.724, 2.7218, 2.7218, 2.7218, 2.7152, 2.6951, 2.707, 2.5344, 2.6159, 2.6164, 2.5656, 2.502, 2.4579, 2.4491, 2.6077, 1.9368, 2.445, 2.182, 1.7384, 2.2065, 2.0399, 2.4288, 1.8102, 2.3656, 1.8587, 2.1852, 2.1589, 1.4501, 1.6955, 1.2536, 1.8232, 1.5363, 1.3599, 1.2903, 1.6459, 1.3301, 1.2873, 1.7105, 0.5992, 1.0231, 0.877, 0.6718, 0.498, 0.4327, 0.4415, 0.5976, 1.3773, -0.1084, 0.689, 0.7506, 0.8615, -0.0185, -0.2771, 0.0355, 0.3882, 0.2603, 0.5092, 2.7888, 2.7878, 2.7859, 2.7858, 2.7813, 2.7796, 2.7786, 2.7769, 2.7765, 2.7741, 2.7698, 2.7685, 2.7645, 2.7633, 2.7633, 2.762, 2.7576, 2.7576, 2.7519, 2.7519, 2.7519, 2.7496, 2.7477, 2.747, 2.747, 2.7456, 2.7456, 2.7442, 2.7411, 2.741, 2.74, 2.7012, 2.6982, 2.7221, 2.7308, 2.7091, 2.6722, 2.6738, 2.7033, 2.723, 2.5717, 2.7137, 2.6692, 2.5723, 2.6277, 2.6771, 2.5036, 2.5689, 2.466, 2.3524, 2.1316, 2.5753, 2.224, 2.0224, 2.222, 2.0288, 2.515, 1.9935, 1.7383, 1.6685, 2.3802, 2.0878, 1.8047, 1.9742, 2.1454, 1.6035, 1.767, 0.5332, 1.7302, 1.8107, 1.2901, 1.2957, 0.1867, 0.3866, 0.9204, 0.2891, 2.9227, 2.9215, 2.9207, 2.9195, 2.917, 2.9159, 2.9114, 2.909, 2.9067, 2.9062, 2.9009, 2.8984, 2.8962, 2.8955, 2.888, 2.8846, 2.8799, 2.8799, 2.8799, 2.8755, 2.8744, 2.8744, 2.868, 2.8607, 2.8604, 2.8604, 2.8601, 2.8589, 2.8541, 2.8511, 2.8507, 2.8317, 2.8175, 2.8148, 2.8102, 2.8371, 2.838, 2.7968, 2.7471, 2.8208, 2.6539, 2.6093, 2.6636, 2.6899, 2.3217, 2.568, 2.0337, 2.4023, 2.6157, 2.1591, 1.8573, 2.291, 2.4946, 2.3751, 1.9383, 2.0557, 1.4598, 2.1514, 1.4641, 1.4697, 1.3397, 1.1906, 1.4228, 1.8678, 0.6479, 0.3826, 0.5273, 1.1821, 0.9268, 0.8847, 0.7302, 1.1914, 0.7883, 0.3003, 0.0623, 0.9528, 0.1703, 0.1826, 0.9469, 0.0544, -0.0823, -0.3848, 3.0406, 3.0398, 3.0393, 3.0358, 3.0338, 3.0336, 3.0315, 3.0304, 3.0293, 3.027, 3.0264, 3.0244, 3.024, 3.0237, 3.0221, 3.0213, 3.0203, 3.0183, 3.0147, 3.0147, 3.0133, 3.0102, 3.0084, 3.0073, 3.0065, 3.0044, 3.0044, 3.002, 3.002, 2.9994, 2.9983, 2.9844, 2.9943, 2.9731, 2.9797, 2.8953, 2.9732, 2.8857, 2.8953, 2.9475, 2.8929, 2.8905, 2.9014, 2.7371, 2.9205, 2.71, 2.7538, 2.4675, 2.3583, 2.3475, 2.175, 2.8544, 2.0784, 1.467, 2.0014, 2.5139, 2.1989, 1.8386, 0.3096, 0.6268, 0.5314, 0.55, 0.8841, 1.5449, 0.3286, 1.1201, 0.1386, 1.5193, 0.588, 0.2217, 0.1981, -0.1073, 0.3512, 0.5122, -0.368, 0.3145, 0.2898, 3.3084, 3.302, 3.2891, 3.2886, 3.2826, 3.2785, 3.2781, 3.2759, 3.2729, 3.2719, 3.266, 3.2626, 3.2592, 3.2586, 3.2579, 3.2545, 3.2532, 3.2474, 3.243, 3.2421, 3.2381, 3.237, 3.2354, 3.2333, 3.2333, 3.2323, 3.23, 3.2268, 3.2256, 3.2176, 3.2173, 3.16, 3.1343, 3.1581, 3.0908, 3.1552, 3.1256, 3.1714, 2.9987, 3.0739, 2.944, 3.1352, 3.008, 2.7974, 2.8686, 2.4413, 2.8369, 2.2595, 2.1073, 2.1191, 2.6879, 1.616, 2.1057, 2.3339, 1.887, 2.35, 1.298, 2.0803, 1.0333, 0.5151, -0.1666, 0.1589, 1.2081, 0.1911, 0.3896, 1.1574, -0.1063, 0.3809, -0.367, 3.5722, 3.5565, 3.5541, 3.5536, 3.553, 3.5505, 3.544, 3.5419, 3.5403, 3.5356, 3.5338, 3.532, 3.5268, 3.5266, 3.5245, 3.5215, 3.5196, 3.5086, 3.5083, 3.5079, 3.5051, 3.5014, 3.5008, 3.4993, 3.4993, 3.4926, 3.4846, 3.4846, 3.4846, 3.4846, 3.4619, 3.4716, 3.4689, 3.4614, 3.3792, 3.392, 3.2301, 3.3042, 3.3466, 3.3506, 3.2955, 3.2256, 3.1803, 3.1129, 2.7081, 2.6692, 2.5606, 2.7828, 3.0366, 1.5297, 3.1801, 1.297, 1.401, 0.5791, 2.2915, 1.9918, 0.8798, 0.8082, 1.4471, 1.2646, 0.2622, 1.229, 0.3286, 0.4147, 1.3957, 0.0449, 0.58, -0.0579, 3.6765, 3.6748, 3.6728, 3.6723, 3.6723, 3.669, 3.6674, 3.6614, 3.6577, 3.6558, 3.6558, 3.6555, 3.654, 3.653, 3.6522, 3.6427, 3.6396, 3.6396, 3.6362, 3.6362, 3.6324, 3.6324, 3.628, 3.623, 3.6196, 3.6184, 3.6103, 3.6103, 3.6103, 3.6022, 3.5909, 3.4891, 3.5795, 3.5582, 3.5097, 3.3918, 3.4233, 3.3398, 2.9324, 2.9948, 3.1922, 3.5207, 2.8105, 3.3194, 2.9113, 2.6815, 2.8353, 2.914, 1.962, 2.767, 2.3985, 2.5823, 1.6379, 1.4276, 1.2013, 0.6022, 1.4695, 0.5969, 0.6278, 0.457, 0.3251, 0.0082, 1.639, 1.6827, 1.594, 0.1508, 0.3504, 0.6804, 0.4871, 1.0459, 0.6486, 3.7376, 3.722, 3.7217, 3.711, 3.7044, 3.7001, 3.7001, 3.6976, 3.6976, 3.6976, 3.6952, 3.6949, 3.6845, 3.6792, 3.6783, 3.6751, 3.6692, 3.6692, 3.6624, 3.6624, 3.6624, 3.6624, 3.6562, 3.6542, 3.6542, 3.651, 3.6443, 3.6443, 3.6443, 3.6441, 3.6403, 3.6172, 3.6123, 3.6034, 3.5202, 3.59, 3.5986, 3.5039, 3.5659, 3.6333, 3.5997, 3.5427, 3.5018, 3.3066, 3.5458, 3.3958, 3.2865, 3.5301, 3.1907, 3.1788, 3.1735, 3.2758, 3.4638, 3.2143, 2.2551, 2.9763, 3.1766, 3.0429, 2.3536, 2.8363, 2.4013, 2.2719, 1.4581, 2.2566, 2.192, 1.6437, 1.4631, 0.1832, 2.1329, 1.8315, 0.2068, -0.2423, 0.1712, 0.5433, 0.8847, 0.3293, 0.3049]}, \"token.table\": {\"Topic\": [6, 8, 2, 6, 7, 4, 7, 1, 5, 8, 9, 12, 15, 1, 2, 3, 4, 5, 6, 7, 8, 9, 10, 11, 12, 13, 14, 15, 3, 6, 11, 12, 13, 15, 14, 5, 6, 4, 5, 11, 1, 2, 7, 13, 15, 5, 4, 13, 14, 15, 4, 5, 6, 8, 9, 10, 11, 12, 13, 2, 4, 5, 6, 8, 9, 10, 11, 12, 13, 14, 15, 1, 1, 11, 3, 15, 8, 9, 5, 2, 3, 4, 6, 8, 9, 10, 11, 12, 13, 14, 15, 9, 5, 5, 1, 2, 5, 6, 8, 9, 10, 11, 8, 4, 5, 6, 8, 9, 10, 11, 12, 13, 14, 2, 5, 8, 10, 11, 5, 9, 6, 6, 13, 6, 6, 1, 2, 3, 4, 6, 8, 10, 14, 15, 4, 6, 8, 9, 10, 12, 13, 6, 4, 5, 11, 6, 5, 8, 4, 6, 11, 12, 13, 5, 6, 6, 2, 5, 3, 4, 5, 13, 14, 5, 7, 5, 10, 13, 2, 4, 6, 8, 9, 10, 12, 13, 14, 15, 1, 2, 3, 4, 5, 6, 7, 8, 9, 10, 11, 12, 13, 14, 15, 5, 11, 5, 7, 10, 1, 2, 3, 4, 5, 6, 7, 8, 9, 10, 11, 13, 14, 1, 2, 3, 4, 5, 6, 7, 8, 9, 10, 11, 12, 13, 14, 15, 2, 1, 2, 4, 6, 9, 10, 1, 2, 5, 6, 14, 9, 13, 1, 8, 13, 1, 2, 3, 4, 5, 6, 7, 8, 9, 10, 11, 12, 13, 14, 1, 4, 5, 8, 9, 10, 11, 14, 1, 4, 8, 10, 11, 1, 2, 15, 9, 3, 5, 12, 14, 1, 2, 3, 4, 5, 6, 7, 8, 9, 10, 11, 12, 13, 14, 15, 2, 11, 14, 15, 3, 4, 5, 6, 8, 9, 11, 12, 13, 14, 15, 1, 2, 3, 4, 5, 6, 7, 8, 9, 10, 11, 12, 13, 14, 15, 1, 2, 3, 4, 5, 6, 7, 8, 9, 10, 11, 12, 14, 15, 12, 13, 2, 9, 14, 15, 7, 3, 5, 8, 9, 10, 11, 12, 13, 14, 15, 12, 11, 1, 2, 3, 4, 5, 6, 7, 8, 11, 13, 15, 2, 3, 5, 7, 8, 9, 3, 5, 6, 8, 9, 13, 14, 15, 8, 8, 8, 15, 1, 2, 3, 5, 6, 8, 9, 10, 11, 12, 13, 14, 15, 2, 3, 4, 5, 6, 10, 11, 13, 15, 3, 11, 15, 1, 2, 3, 4, 5, 6, 7, 8, 12, 13, 1, 2, 3, 4, 6, 7, 8, 9, 11, 13, 1, 2, 3, 4, 5, 6, 7, 8, 9, 10, 11, 13, 13, 1, 2, 3, 4, 5, 6, 7, 8, 9, 10, 11, 12, 13, 14, 15, 1, 2, 4, 5, 6, 9, 10, 11, 12, 13, 14, 15, 8, 4, 5, 7, 8, 10, 12, 13, 14, 5, 7, 2, 5, 7, 13, 1, 2, 3, 4, 5, 6, 7, 8, 9, 10, 11, 12, 13, 15, 1, 2, 4, 5, 7, 10, 12, 14, 15, 2, 4, 9, 10, 12, 15, 3, 2, 3, 4, 5, 6, 8, 9, 2, 12, 14, 15, 2, 12, 1, 1, 2, 3, 4, 5, 6, 7, 8, 9, 11, 13, 14, 15, 1, 2, 3, 4, 5, 8, 9, 11, 12, 13, 14, 15, 2, 4, 7, 12, 1, 2, 3, 4, 5, 6, 7, 8, 9, 10, 11, 12, 13, 14, 15, 1, 2, 6, 10, 14, 3, 4, 5, 6, 7, 8, 9, 10, 13, 1, 2, 3, 5, 9, 10, 13, 14, 1, 2, 3, 5, 6, 8, 9, 10, 11, 13, 14, 15, 10, 1, 3, 12, 3, 2, 9, 10, 12, 14, 1, 2, 3, 4, 5, 6, 7, 8, 9, 10, 11, 12, 13, 14, 15, 1, 2, 3, 4, 5, 6, 7, 8, 9, 10, 11, 12, 13, 14, 15, 11, 1, 2, 3, 5, 6, 7, 10, 11, 15, 8, 9, 4, 8, 9, 15, 2, 4, 12, 4, 12, 4, 3, 14, 2, 3, 4, 6, 4, 6, 7, 12, 4, 6, 1, 2, 3, 4, 5, 6, 7, 8, 9, 10, 12, 13, 14, 3, 4, 9, 4, 5, 7, 12, 14, 2, 4, 7, 4, 4, 12, 1, 2, 8, 10, 11, 4, 9, 1, 3, 5, 8, 9, 13, 2, 8, 9, 1, 2, 3, 4, 5, 6, 8, 9, 10, 11, 13, 14, 15, 1, 2, 3, 4, 5, 6, 7, 8, 9, 10, 11, 12, 13, 14, 15, 9, 11, 1, 1, 2, 3, 4, 5, 8, 9, 10, 11, 12, 13, 14, 15, 2, 3, 10, 1, 2, 3, 4, 5, 6, 7, 8, 9, 10, 11, 12, 13, 14, 15, 3, 5, 12, 13, 15, 14, 1, 3, 6, 8, 9, 11, 13, 14, 3, 8, 11, 13, 14, 15, 9, 2, 3, 4, 5, 6, 7, 8, 10, 11, 12, 13, 14, 1, 2, 3, 4, 6, 7, 8, 9, 10, 11, 12, 13, 2, 3, 9, 13, 15, 15, 1, 11, 13, 1, 2, 3, 4, 5, 6, 7, 8, 9, 10, 11, 12, 13, 14, 15, 1, 2, 3, 4, 5, 6, 9, 10, 11, 12, 14, 15, 1, 4, 1, 3, 4, 5, 6, 7, 8, 10, 13, 14, 7, 10, 14, 7, 8, 1, 3, 4, 5, 6, 7, 8, 9, 10, 11, 13, 14, 4, 7, 3, 5, 11, 12, 14, 12, 12, 12, 1, 2, 3, 4, 5, 6, 7, 8, 10, 11, 12, 13, 14, 15, 3, 11, 14, 12, 1, 3, 4, 5, 7, 8, 11, 13, 15, 6, 1, 2, 3, 4, 5, 6, 7, 8, 9, 10, 11, 12, 13, 14, 15, 1, 2, 3, 4, 5, 6, 7, 8, 9, 10, 11, 12, 13, 14, 15, 1, 8, 1, 8, 13, 2, 3, 5, 6, 7, 8, 9, 10, 11, 12, 13, 14, 15, 1, 2, 3, 4, 5, 6, 7, 8, 9, 10, 11, 12, 13, 14, 15, 2, 15, 15, 9, 15, 11, 10, 3, 12, 9, 9, 9, 12, 3, 13, 3, 1, 2, 7, 9, 10, 3, 5, 11, 1, 2, 3, 4, 5, 6, 7, 8, 9, 10, 11, 12, 13, 14, 15, 9, 1, 2, 3, 4, 5, 6, 7, 8, 9, 10, 11, 12, 13, 14, 15, 6, 6, 3, 6, 13, 15, 1, 4, 6, 8, 1, 2, 6, 13, 6, 3, 2, 6, 13, 14, 6, 2, 6, 14, 6, 13, 9, 1, 2, 6, 10, 13, 14, 1, 2, 5, 6, 7, 12, 13, 7, 4, 12, 1, 2, 3, 4, 5, 6, 7, 8, 9, 10, 11, 12, 13, 14, 15, 10, 3, 4, 5, 7, 8, 10, 13, 14, 15, 14, 1, 9, 10, 11, 3, 9, 4, 15, 2, 9, 15, 1, 5, 9, 13, 14, 1, 1, 2, 3, 4, 5, 6, 7, 8, 9, 10, 11, 12, 13, 14, 15, 13, 4, 8, 9, 2, 1, 8, 12, 5, 8, 14, 15, 1, 2, 3, 4, 5, 6, 7, 8, 9, 10, 11, 12, 13, 14, 14, 1, 2, 3, 4, 5, 6, 7, 9, 10, 11, 12, 13, 14, 15, 13, 10, 4, 5, 2, 1, 3, 4, 5, 6, 8, 9, 10, 12, 13, 14, 5, 10, 12, 1, 3, 4, 5, 7, 8, 10, 12, 1, 2, 3, 4, 5, 6, 7, 8, 9, 10, 11, 12, 13, 14, 15, 11, 1, 2, 4, 6, 7, 8, 11, 12, 13, 14, 15, 1, 2, 4, 5, 7, 8, 12, 13, 15, 1, 8, 1, 2, 3, 4, 5, 6, 7, 8, 9, 10, 11, 12, 13, 14, 15, 1, 2, 3, 4, 5, 6, 7, 8, 9, 10, 11, 12, 13, 14, 15, 2, 5, 14, 1, 2, 3, 4, 5, 6, 7, 8, 9, 10, 11, 12, 13, 14, 15, 1, 3, 6, 8, 10, 11, 12, 1, 2, 3, 4, 6, 7, 10, 11, 13, 12, 1, 2, 3, 4, 5, 8, 9, 10, 13, 15, 1, 15, 3, 13, 14, 15, 2, 3, 5, 6, 7, 8, 9, 13, 1, 2, 3, 4, 5, 7, 8, 9, 10, 11, 12, 13, 14, 1, 2, 3, 6, 9, 12, 13, 15, 3, 11, 12, 13, 1, 2, 3, 4, 7, 2, 14, 15, 2, 2, 14, 13, 14, 2, 1, 2, 5, 11, 4, 2, 4, 6, 13, 15, 4, 6, 7, 13, 1, 9, 9, 1, 2, 6, 10, 11, 1, 2, 3, 4, 5, 6, 7, 8, 9, 10, 11, 12, 13, 14, 15, 5, 14, 7, 1, 2, 3, 4, 5, 6, 7, 8, 9, 10, 11, 12, 13, 14, 15, 14, 1, 2, 3, 4, 5, 6, 7, 8, 9, 10, 11, 12, 13, 14, 15, 1, 3, 9, 3, 15, 14, 1, 3, 10, 6, 11, 15, 11, 13, 2, 9, 14, 15, 2, 10, 15, 8, 15, 1, 2, 3, 4, 5, 6, 7, 8, 9, 10, 11, 12, 13, 14, 15, 1, 2, 3, 4, 5, 6, 7, 8, 9, 10, 11, 12, 13, 14, 15, 2, 15, 13, 3, 5, 6, 8, 10, 11, 12, 13, 14, 2, 3, 4, 5, 6, 7, 8, 11, 15, 4, 11, 1, 3, 5, 6, 7, 8, 13, 8, 2, 4, 5, 6, 10, 11, 12, 13, 14, 5, 1, 2, 3, 4, 5, 6, 7, 8, 9, 10, 11, 12, 13, 14, 15, 4, 13, 1, 2, 6, 3, 4, 9, 10, 12, 13, 2, 6, 10, 1, 2, 5, 6, 10, 12, 13, 6, 3, 4, 7, 9, 11, 13, 15, 13, 15, 1, 2, 5, 6, 9, 13, 14, 1, 4, 7, 1, 2, 3, 4, 5, 6, 7, 8, 9, 10, 11, 12, 13, 14, 15, 1, 2, 3, 4, 5, 6, 7, 8, 9, 10, 11, 12, 13, 14, 15, 8, 8, 2, 6, 10, 12, 13, 14, 2, 7, 11, 12, 14, 3, 6, 8, 9, 13, 14, 3, 4, 5, 6, 9, 10, 11, 12, 13, 14, 1, 2, 3, 4, 5, 6, 7, 8, 9, 10, 11, 12, 13, 14, 15, 3, 8, 10, 11, 12, 3, 6, 14, 14, 13, 11, 10, 1, 2, 3, 4, 5, 6, 7, 8, 9, 10, 11, 12, 13, 14, 15, 2, 6, 15, 4, 7, 1, 2, 3, 4, 5, 6, 7, 8, 9, 10, 11, 12, 13, 14, 15, 4, 7, 13, 1, 8, 8, 9, 1, 2, 3, 4, 5, 6, 8, 9, 10, 11, 12, 13, 14, 15, 4, 7, 1, 2, 4, 5, 9, 15, 4, 6, 15, 1, 2, 4, 7, 8, 9, 10, 2, 15, 1, 2, 3, 5, 6, 9, 10, 11, 12, 13, 14, 15, 8, 13, 3, 13, 15, 15, 15, 1, 3, 1, 3, 4, 7, 8, 10, 13, 1, 3, 4, 5, 6, 7, 8, 8, 1, 2, 3, 4, 5, 6, 7, 8, 9, 10, 11, 12, 13, 14, 15, 1, 2, 3, 4, 5, 6, 8, 9, 10, 11, 12, 13, 14, 9, 5, 7, 7, 13, 5, 13, 1, 3, 4, 5, 7, 8, 11, 1, 3, 5, 6, 7, 1, 2, 3, 4, 5, 6, 7, 8, 9, 10, 11, 12, 13, 14, 15, 1, 1, 14, 4, 8, 9, 1, 1, 2, 3, 4, 5, 6, 7, 8, 9, 10, 11, 12, 13, 15, 3, 5, 8, 9, 11, 12, 1, 2, 3, 4, 6, 7, 11, 15, 15, 3, 8, 9, 11, 2, 9, 2, 5, 8, 9, 13, 15, 1, 2, 3, 4, 5, 6, 8, 9, 10, 11, 12, 13, 14, 15, 6, 13, 15, 8, 11, 5, 8, 10, 5, 10, 11, 12, 1, 2, 3, 4, 5, 7, 9, 10, 11, 12, 13, 14, 2, 3, 13, 15, 3, 4, 5, 7, 10, 14, 14, 3, 11, 1, 2, 3, 4, 5, 6, 7, 8, 9, 10, 11, 12, 13, 14, 15, 1, 2, 3, 4, 5, 6, 7, 8, 9, 11, 12, 13, 15, 1, 2, 3, 4, 5, 7, 8, 9, 10, 11, 12, 13, 14, 1, 2, 3, 4, 5, 6, 7, 8, 9, 10, 11, 12, 13, 14, 15, 4, 7, 1, 2, 3, 6, 7, 8, 12, 13, 14, 15, 1, 10, 11, 14, 4, 3, 5, 6, 9, 12, 13, 14, 1, 2, 3, 4, 5, 6, 7, 8, 9, 10, 11, 12, 13, 14, 15, 2, 3, 4, 5, 6, 7, 8, 9, 10, 11, 13, 14, 15, 1, 2, 3, 4, 5, 6, 7, 8, 9, 10, 11, 12, 13, 14, 15, 1, 2, 3, 6, 8, 10, 15, 1, 2, 5, 6, 8, 9, 10, 11, 12, 13, 14, 15, 9, 10, 11, 14, 15, 1, 2, 3, 4, 5, 6, 7, 8, 9, 10, 11, 12, 13, 14, 15, 1, 2, 3, 4, 6, 9, 10, 11, 13, 14, 15, 8, 11, 13, 13, 1, 6, 2, 3, 5, 6, 7, 8, 9, 10, 11, 12, 13, 14, 15, 10, 1, 2, 3, 4, 5, 6, 7, 8, 9, 10, 12, 13, 14, 15, 1, 2, 6, 7, 11, 13, 14, 15, 1, 2, 1, 2, 3, 5, 7, 8, 9, 10, 11, 12, 13, 15, 1, 4, 7, 10, 15, 1, 2, 3, 4, 5, 6, 7, 8, 9, 10, 11, 12, 13, 14, 15, 1, 2, 3, 4, 5, 6, 7, 8, 9, 10, 11, 12, 13, 14, 15, 9, 1, 2, 3, 4, 5, 6, 7, 8, 9, 10, 11, 12, 13, 14, 15, 12, 1, 3, 5, 6, 8, 10, 11, 13, 1, 2, 3, 4, 5, 6, 7, 8, 9, 10, 11, 12, 13, 15, 1, 2, 4, 6, 7, 12, 9, 11, 12, 1, 2, 3, 4, 5, 6, 7, 8, 9, 10, 11, 12, 13, 14, 15, 13, 2, 6, 10, 14, 2, 2, 6, 2, 3, 6, 13, 14, 15, 6, 10, 2, 4, 6, 14, 2, 6, 15, 6, 1, 2, 3, 4, 5, 6, 7, 8, 9, 10, 11, 12, 13, 14, 15, 2, 3, 4, 8, 9, 10, 11, 12, 13, 14, 15, 3, 1, 2, 3, 4, 8, 9, 11, 12, 15, 12, 2, 15, 2, 10, 1, 4, 6, 8, 9, 10, 14, 8, 15, 11, 15, 14, 2, 2, 4, 5, 11, 12, 3, 4, 5, 7, 8, 10, 3, 6, 7, 8, 9, 15, 1, 2, 3, 5, 6, 8, 9, 10, 11, 12, 13, 14, 15, 1, 3, 4, 8, 1, 4, 6, 8, 11, 12, 10, 2, 4, 7, 12, 1, 2, 3, 4, 8, 9, 11, 12, 13, 15, 5, 7, 10, 11, 12, 4, 10, 14, 2, 4, 6, 8, 10, 15, 3, 4, 8, 9, 10, 11, 12, 13, 7, 14, 1, 2, 3, 4, 5, 6, 7, 8, 9, 10, 11, 12, 13, 14, 15, 4, 5, 8, 9, 13, 5, 9, 3, 5, 7, 10, 11, 1, 2, 3, 4, 5, 6, 8, 9, 10, 11, 12, 13, 14, 15, 1, 2, 3, 4, 5, 6, 7, 8, 9, 11, 13, 14, 15, 1, 2, 3, 4, 5, 6, 7, 8, 10, 11, 12, 13, 14, 15, 3, 4, 5, 8, 9, 10, 11, 12, 13, 15, 1, 2, 3, 4, 5, 6, 7, 8, 9, 10, 11, 12, 13, 14, 15, 1, 2, 3, 4, 5, 6, 7, 8, 9, 10, 11, 12, 13, 14, 15, 1, 4, 5, 6, 7, 8, 10, 11, 12, 13, 14, 8, 5, 8, 9, 9, 9, 1, 2, 3, 4, 5, 7, 9, 10, 11, 12, 13, 14, 15, 5, 7, 1, 2, 6, 3, 1, 1, 4, 7, 1, 4, 5, 7, 8, 9, 12, 1, 2, 7, 2, 3, 4, 5, 6, 7, 8, 9, 1, 2, 4, 7, 12, 1, 2, 4, 5, 6, 7, 9, 10, 11, 12, 13, 11, 13, 1, 3, 4, 5, 6, 10, 1, 2, 3, 6, 7, 12, 2, 11, 1, 2, 3, 4, 5, 6, 7, 8, 9, 12, 15, 11, 10, 10, 1, 2, 3, 5, 6, 8, 9, 13, 1, 2, 3, 4, 5, 7, 9, 13, 2, 10, 2, 15, 1, 2, 3, 4, 5, 6, 7, 8, 9, 10, 11, 12, 13, 14, 15, 1, 2, 3, 4, 5, 6, 7, 8, 9, 10, 11, 12, 13, 14, 15, 2, 5, 9, 11, 12, 11, 3, 10, 11, 12, 6, 9, 14, 3, 6, 12, 1, 2, 3, 4, 5, 6, 7, 8, 9, 10, 11, 12, 13, 14, 15, 1, 2, 4, 7, 11, 12, 1, 2, 6, 7, 1, 2, 4, 6, 7, 9, 10, 4, 10, 3, 1, 2, 3, 4, 5, 6, 7, 9, 10, 11, 12, 13, 14, 1, 2, 3, 4, 5, 6, 7, 8, 9, 10, 11, 12, 13, 14, 15, 5, 6, 9, 11, 12, 1, 2, 4, 7, 8, 15, 10, 1, 3, 4, 5, 6, 7, 8, 9, 10, 11, 12, 13, 14, 15, 1, 2, 3, 4, 5, 6, 7, 8, 9, 10, 11, 13, 14, 15, 3, 13, 4, 10, 11, 11, 9, 2, 1, 2, 6, 7, 8, 13, 14, 3, 5, 6, 13, 6, 11, 1, 2, 4, 6, 7, 10, 11, 12, 13, 14, 1, 2, 12, 3, 10, 12, 1, 2, 4, 5, 7, 10, 13, 14, 15, 8, 11, 3, 4, 6, 9, 10, 13, 15, 4, 7, 10, 12, 2, 9, 3, 7, 2, 7, 7, 9, 1, 2, 3, 4, 5, 6, 10, 13, 6, 15, 6, 4, 10, 11, 1, 2, 3, 4, 5, 6, 7, 8, 9, 10, 11, 12, 13, 14, 15, 2, 9, 11, 2, 3, 6, 9, 12, 13, 15, 7, 10, 14, 1, 2, 3, 4, 5, 6, 7, 8, 9, 10, 11, 12, 13, 14, 15, 4, 1, 2, 3, 4, 5, 6, 7, 8, 9, 10, 11, 12, 13, 14, 15, 4, 9, 1, 2, 3, 4, 5, 6, 7, 8, 9, 10, 11, 12, 13, 14, 15, 1, 2, 3, 4, 5, 6, 7, 8, 9, 10, 11, 12, 13, 14, 15, 13, 1, 4, 7, 12, 15, 1, 2, 15, 1, 9, 15, 3, 1, 2, 3, 4, 5, 6, 7, 8, 9, 10, 11, 12, 13, 14, 15, 4, 7, 10, 8, 13, 8, 7, 7, 1, 4, 7, 10, 11, 12, 14, 8, 1, 3, 4, 5, 6, 7, 10, 12, 10, 6, 10, 8, 5, 10, 1, 2, 3, 4, 5, 6, 7, 8, 9, 10, 11, 12, 13, 14, 15, 2, 15, 15, 4, 7, 7, 4, 10, 1, 2, 4, 6, 7, 7, 1, 3, 5, 6, 8, 9, 10, 12, 14, 15, 15, 5, 10, 2, 8, 8, 1, 1, 3, 8, 10, 13, 1, 9, 1, 3, 8, 1, 2, 3, 4, 5, 6, 7, 8, 9, 10, 11, 12, 13, 14, 15, 4, 6, 1, 2, 3, 4, 5, 6, 7, 8, 9, 10, 11, 12, 13, 9, 9, 1, 2, 3, 4, 5, 6, 8, 9, 10, 11, 12, 13, 14, 1, 2, 4, 5, 6, 8, 9, 10, 11, 12, 14, 15, 10, 12, 8, 12, 1, 2, 3, 4, 5, 6, 7, 8, 9, 10, 11, 12, 13, 14, 15, 3, 4, 14, 2, 3, 5, 10, 13, 3, 13, 1, 3, 5, 9, 11, 1, 2, 3, 4, 5, 6, 7, 8, 9, 10, 11, 12, 13, 14, 15, 14, 1, 2, 5, 7, 13, 15, 15, 1, 1, 2, 3, 4, 5, 6, 7, 8, 9, 10, 11, 12, 13, 14, 15, 10, 9, 10, 11, 14, 15, 2, 3, 7, 13, 10, 12, 2, 3, 4, 5, 6, 8, 9, 11, 13, 1, 2, 3, 4, 6, 7, 10, 13, 14, 1, 3, 4, 5, 6, 7, 8, 10, 11, 13, 14, 15, 1, 2, 3, 5, 6, 7, 8, 10, 11, 1, 2, 3, 4, 5, 6, 8, 9, 10, 11, 13, 14, 15, 2, 5, 10, 11, 14, 15, 2, 3, 5, 6, 8, 10, 11, 12, 13, 14, 15, 3, 1, 3, 4, 5, 6, 7, 8, 10, 13, 14, 3, 5, 11, 15, 8, 3, 13, 3, 4, 13, 5, 9, 14, 3, 7, 9, 13, 15, 1, 3, 8, 10, 13, 10, 3, 8, 1, 2, 3, 4, 5, 6, 7, 8, 10, 11, 12, 13, 14, 15, 3, 4, 5, 9, 10, 11, 12, 13, 15, 3, 8, 5, 12, 2, 3, 4, 6, 7, 8, 9, 10, 11, 12, 13, 14, 15, 8, 10, 7, 2, 4, 10, 11, 12, 14, 5, 1, 2, 6, 12, 6, 8, 9, 12, 1, 2, 4, 6, 7, 8, 11, 1, 2, 4, 6, 7, 13, 14, 10, 14, 1, 2, 3, 4, 5, 6, 7, 8, 9, 10, 11, 12, 14, 11, 3, 10, 3, 8, 9, 2, 4, 5, 7, 8, 11, 12, 13, 14, 1, 2, 4, 5, 7, 8, 9, 10, 11, 12, 4, 7, 12, 4, 5, 1, 8, 15, 3, 4, 8, 9, 10, 11, 12, 14, 4, 5, 7, 14, 1, 3, 6, 12, 13, 15, 4, 1, 2, 3, 4, 5, 6, 7, 8, 9, 10, 11, 12, 13, 14, 15, 3, 4, 7, 12, 2, 3, 4, 7, 2, 3, 4, 5, 6, 7, 8, 9, 11, 12, 13, 14, 15, 1, 2, 3, 4, 5, 6, 7, 8, 9, 10, 11, 12, 13, 14, 15, 3, 13, 14, 1, 2, 3, 4, 5, 6, 7, 8, 9, 10, 11, 12, 13, 14, 15, 3, 7, 8, 9, 15, 1, 2, 3, 9, 13, 15, 1, 2, 3, 4, 5, 6, 7, 8, 9, 10, 11, 12, 13, 15, 1, 2, 3, 4, 5, 6, 7, 8, 9, 10, 11, 12, 13, 14, 15, 9, 14, 4, 15, 7, 1, 2, 3, 4, 5, 6, 7, 8, 9, 10, 11, 12, 13, 14, 15, 3, 8, 14, 12, 3, 1, 4, 5, 7, 8, 9, 10, 12, 13, 5, 9, 10, 13, 5, 14, 14, 14, 2, 3, 4, 6, 8, 9, 10, 11, 12, 13, 14, 15, 3, 10, 11, 12, 14, 11, 1, 5, 8, 9, 10, 11, 12, 14, 15, 9, 1, 1, 2, 3, 4, 5, 6, 7, 8, 9, 10, 11, 12, 13, 14, 15, 1, 2, 3, 4, 5, 8, 9, 13, 10, 11, 12, 15, 10, 12, 15, 1, 2, 3, 5, 8, 9, 11, 5, 3, 1, 2, 3, 4, 5, 6, 7, 9, 10, 11, 12, 13, 14, 15, 1, 2, 6, 9, 11, 13, 14, 15, 1, 2, 3, 4, 5, 6, 10, 11, 12, 13, 14, 15, 3, 10, 5, 4, 9, 2, 3, 5, 8, 9, 10, 11, 12, 13, 15, 4, 1, 2, 4, 9, 12, 1, 8, 5, 12, 12, 1, 6, 11, 12, 14, 1, 2, 3, 5, 8, 9, 1, 2, 3, 4, 5, 6, 7, 8, 9, 10, 11, 12, 13, 14, 15, 1, 3, 4, 5, 6, 7, 8, 10, 11, 12, 13, 15, 4, 3, 11, 1, 2, 3, 4, 5, 6, 7, 8, 9, 10, 11, 12, 13, 14, 15, 1, 3, 4, 5, 6, 7, 8, 9, 10, 11, 13, 14, 15, 1, 2, 3, 4, 5, 7, 8, 9, 10, 11, 12, 14, 15, 7, 2, 3, 7, 8, 9, 14, 10, 15, 1, 2, 3, 4, 5, 6, 7, 8, 9, 10, 11, 12, 13, 14, 15, 1, 3, 4, 8, 9, 13, 1, 5, 1, 12, 5, 12, 15, 5, 9, 1, 2, 3, 4, 5, 6, 7, 8, 9, 10, 11, 12, 13, 14, 15, 4, 8, 15, 4, 9, 8, 1, 2, 3, 4, 6, 10, 11, 1, 2, 3, 4, 5, 6, 7, 8, 9, 10, 11, 12, 13, 14, 15, 15, 3, 13, 15, 2, 4, 7, 11, 9, 11, 5, 7, 8, 14, 1, 7, 4, 1, 2, 4, 7, 8, 9, 12, 1, 8, 3, 4, 5, 9, 11, 12, 13, 14, 15, 4, 6, 12, 3, 6, 7, 8, 3, 13, 14, 15, 2, 3, 4, 5, 6, 7, 8, 9, 10, 11, 12, 13, 14, 15, 1, 2, 11, 12, 2, 4, 11, 12, 15, 1, 2, 4, 5, 6, 7, 9, 10, 11, 11, 1, 7, 3, 8, 1, 3, 4, 6, 7, 10, 11, 12, 13, 14, 15, 1, 9, 1, 8, 10, 8, 1, 2, 3, 4, 6, 7, 8, 1, 2, 3, 4, 5, 6, 7, 12, 14, 15, 2, 8, 8, 3, 10, 3, 11, 11, 14, 15, 12, 5, 7, 14, 6, 7, 4, 2, 6, 15, 5, 3, 13, 15, 9, 11, 4, 6, 13, 15, 2, 3, 7, 10, 12, 13, 14, 15, 5, 2, 2, 5, 6, 7, 8, 10, 4, 9, 3, 4, 5, 7, 8, 9, 1, 1, 2, 4, 7, 9, 10, 1, 3, 3, 5, 8, 9, 11, 12, 1, 3, 4, 5, 6, 7, 8, 9, 10, 11, 12, 13, 15, 5, 10, 12, 15, 9, 3, 6, 9, 10, 11, 12, 14, 12, 7, 1, 3, 4, 5, 6, 7, 8, 10, 11, 13, 4, 7, 3, 4, 6, 10, 11, 12, 14, 13, 1, 2, 3, 4, 5, 6, 7, 9, 10, 12, 13, 14, 1, 2, 3, 4, 5, 6, 8, 10, 11, 13, 14, 15, 1, 2, 5, 6, 9, 10, 13, 14, 14, 13, 15, 6, 2, 6, 6, 3, 2, 15, 2, 3, 4, 5, 6, 7, 8, 9, 10, 11, 12, 13, 14, 15, 3, 4, 6, 8, 14, 15, 8, 11, 11, 1, 2, 3, 8, 11, 12, 13, 15, 12, 13, 1, 2, 9, 11, 1, 2, 3, 4, 5, 6, 7, 8, 9, 10, 11, 12, 13, 14, 15, 15, 15, 6, 14, 1, 2, 3, 4, 5, 6, 9, 10, 13, 14, 1, 2, 4, 5, 6, 8, 9, 10, 11, 13, 14, 14, 2, 13, 8, 14, 6, 1, 2, 3, 4, 5, 6, 7, 8, 9, 10, 11, 12, 13, 14, 15, 1, 2, 3, 4, 5, 6, 9, 10, 11, 13, 14, 1, 2, 3, 4, 5, 6, 7, 8, 9, 10, 11, 12, 13, 15, 1, 7, 5, 7, 14, 4, 7, 9, 11, 12, 13, 1, 2, 3, 4, 6, 7, 8, 9, 12, 13, 4, 4, 6, 9, 1, 2, 4, 8, 9, 12, 2, 4, 7, 14, 15, 2, 4, 7, 12, 1, 2, 3, 4, 6, 9, 12, 4, 2, 4, 7, 8, 12, 13, 12, 2, 4, 2, 4, 4, 10, 13, 1, 2, 3, 4, 5, 6, 7, 8, 9, 10, 11, 12, 13, 14, 15, 3, 4, 10, 13, 15, 2, 3, 8, 10, 12, 13, 14, 15, 9, 11, 15, 8, 3, 10, 3, 14, 9, 1, 7, 8, 9, 10, 14, 7, 8, 14, 1, 1, 2, 3, 4, 5, 6, 7, 8, 9, 10, 11, 12, 13, 14, 15, 1, 3, 5, 9, 10, 12, 13, 15, 2, 3, 5, 8, 9, 10, 13, 1, 2, 3, 4, 5, 6, 7, 8, 9, 10, 11, 12, 13, 14, 15, 1, 2, 3, 4, 5, 6, 7, 9, 10, 11, 12, 13, 14, 15, 1, 2, 3, 4, 5, 6, 7, 8, 9, 10, 11, 12, 13, 14, 15, 1, 2, 3, 4, 5, 6, 7, 8, 9, 10, 11, 13, 14, 15, 3, 4, 6, 9, 10, 13, 10, 12, 9, 1, 2, 3, 4, 5, 6, 7, 8, 9, 10, 11, 12, 13, 15, 1, 2, 3, 4, 5, 6, 7, 8, 9, 10, 11, 12, 13, 14, 15, 2, 8, 11, 15, 3, 9, 1, 2, 3, 4, 5, 6, 8, 10, 11, 12, 13, 14, 1, 1, 3, 4, 5, 6, 7, 8, 9, 11, 12, 13, 8, 9, 14, 4, 6, 10, 12, 13, 3, 7, 15, 3, 9, 2, 1, 3, 5, 8, 13, 15, 10, 15, 5, 1, 2, 3, 4, 5, 7, 8, 9, 10, 11, 12, 13, 14, 15, 2, 3, 9, 1, 2, 3, 8, 1, 2, 3, 4, 5, 6, 7, 8, 9, 10, 11, 12, 13, 14, 15, 12, 10, 10, 15, 10, 11, 1, 3, 4, 5, 6, 7, 9, 10, 11, 12, 13, 14, 15, 1, 3, 4, 5, 9, 10, 11, 12, 14, 15, 14, 1, 2, 3, 4, 5, 8, 11, 5, 1, 7, 13, 14, 6, 7, 14, 4, 1, 7, 10, 7], \"Freq\": [0.9653965915123413, 0.015826173631349857, 0.015578420154009166, 0.93470520924055, 0.03115684030801833, 0.031118774140516454, 0.9335632242154936, 0.8816238170586392, 0.01588511382087638, 0.06354045528350552, 0.023827670731314574, 0.00794255691043819, 0.9373746430070354, 0.22129538788193923, 0.03271323125211276, 0.08466953971135066, 0.07504800110778809, 0.10198830919776329, 0.05003200073852539, 0.08082092426992563, 0.05965353934208796, 0.028864615810687725, 0.026940308089975207, 0.04425907757638784, 0.03463753897282527, 0.00769723088285006, 0.001924307720712515, 0.14624738677415114, 0.025623238217275447, 0.025623238217275447, 0.051246476434550894, 0.025623238217275447, 0.025623238217275447, 0.7943203847355389, 0.9023683109204325, 0.006828741139357698, 0.9833387240675086, 0.010591833614772974, 0.9744486925591137, 0.010591833614772974, 0.7009650147328425, 0.06038275407811002, 0.22840433064328575, 0.005250674267661741, 0.0026253371338308706, 0.9764333447845519, 0.02155925090619418, 0.007186416968731394, 0.9629798738100067, 0.007186416968731394, 0.01177591446185434, 0.01177591446185434, 0.7222560869937328, 0.04710365784741736, 0.019626524103090567, 0.054954267488653584, 0.01177591446185434, 0.10598323015668905, 0.01177591446185434, 0.009183703353482361, 0.025714369389750608, 0.007346962682785888, 0.8191863391306266, 0.007346962682785888, 0.001836740670696472, 0.029387850731143552, 0.005510222012089416, 0.040408294755322385, 0.016530666036268248, 0.025714369389750608, 0.009183703353482361, 0.9745426130295396, 0.9730415829455868, 0.9694539818007437, 0.057266707061138046, 0.9353562153319214, 0.9845829685162361, 0.9914515196321905, 0.9669757933652957, 0.00837330958270819, 0.009768861179826222, 0.022328825553888508, 0.7717400332062715, 0.019537722359652444, 0.005582206388472127, 0.053030960690485206, 0.009768861179826222, 0.08094199263284584, 0.011164412776944254, 0.005582206388472127, 0.0027911031942360635, 0.9704886997360748, 0.9795075615132511, 0.987576315147159, 0.019204905153063726, 0.019204905153063726, 0.028807357729595588, 0.16324169380104167, 0.06721716803572303, 0.019204905153063726, 0.6817741329337622, 0.9631348435621795, 0.957649334977811, 0.018310960065818043, 0.015695108627844036, 0.6408836023036315, 0.05493288019745413, 0.010463405751896025, 0.11248161183288227, 0.0052317028759480124, 0.09678650320503823, 0.0052317028759480124, 0.03923777156961009, 0.03277717191525423, 0.05462861985875704, 0.010925723971751409, 0.8740579177401127, 0.021851447943502817, 0.8653191051314874, 0.13026309109506262, 0.9935547880374842, 0.9830327209036571, 0.015603693982597732, 0.9935372047233368, 0.9911492768092119, 0.07507804060067397, 0.01185442746326431, 0.003951475821088103, 0.003951475821088103, 0.8693246806393827, 0.007902951642176206, 0.01185442746326431, 0.007902951642176206, 0.007902951642176206, 0.002183688729907128, 0.838536472284337, 0.004367377459814256, 0.008734754919628511, 0.05895959570749245, 0.06551066189721383, 0.01965319856916415, 0.9936377383838434, 0.016314034321052162, 0.9543710077815515, 0.024471051481578243, 0.9948257680638734, 0.9454141099782741, 0.983958752148226, 0.005837015949191748, 0.9864556954134054, 0.9589510074312412, 0.023703304636477022, 0.9481321854590808, 0.042445188973728426, 0.9507722330115167, 0.9926852438849746, 0.9681158074995827, 0.9490634316443088, 0.0046707950054653505, 0.009341590010930701, 0.9715253611367929, 0.0046707950054653505, 0.0046707950054653505, 0.9485475572432698, 0.948522780464659, 0.9638348837170616, 0.012851131782894156, 0.012851131782894156, 0.9681158071680723, 0.04685606986531393, 0.7201038105616667, 0.012330544701398403, 0.007398326820839042, 0.06905105032783106, 0.0887799218500685, 0.024661089402796807, 0.022194980462517125, 0.0049322178805593616, 0.2966420308070364, 0.13813102197884902, 0.06308091167652355, 0.052729172324478664, 0.0909012111851442, 0.03267267732989169, 0.06178694425751794, 0.02846728321812345, 0.07343265102856844, 0.05531710716248989, 0.016174592737570142, 0.033966644748897296, 0.009704755642542084, 0.03914251442491974, 0.008087296368785071, 0.9579969491427804, 0.017418126348050553, 0.9707045384185276, 0.005643631037317021, 0.016930893111951062, 0.11442269446947305, 0.13621749341603934, 0.08990354565458596, 0.07083309657634046, 0.0204326240124059, 0.042227422958972194, 0.408652480248118, 0.006810874670801967, 0.00817304960496236, 0.01634609920992472, 0.0013621749341603934, 0.08036832111546321, 0.00408652480248118, 0.5817793689450435, 0.12081033299438837, 0.04251983786953334, 0.0695165603263799, 0.025646886334004235, 0.03172114888679471, 0.041844919808112176, 0.015523115412686774, 0.004049508368526984, 0.017547869596950268, 0.0033745903071058206, 0.008099016737053969, 0.01012377092131746, 0.005399344491369313, 0.02159737796547725, 0.9891220482677829, 0.08189872246263502, 0.7895036845398016, 0.006551897797010801, 0.10810631365067822, 0.0032759488985054006, 0.009827846695516201, 0.2709245528154478, 0.6612514214335801, 0.0006982591567408449, 0.06354158326341688, 0.0027930366269633797, 0.04729785461594064, 0.9223081650108426, 0.33602075613174975, 0.24437873173218164, 0.41867826833528177, 0.05462113828622255, 0.02225305633883141, 0.02832207170396725, 0.0910352304770376, 0.06878217413820618, 0.020230051217119464, 0.15172538412839598, 0.01213803073027168, 0.032368081947391145, 0.2346685941185858, 0.12542631754614067, 0.010115025608559732, 0.014161035851983625, 0.13351833803298846, 0.016682853428355335, 0.05560951142785112, 0.3725837265666025, 0.016682853428355335, 0.011121902285570225, 0.1779504365691236, 0.016682853428355335, 0.3280961174243216, 0.007842327915646872, 0.8626560707211559, 0.03136931166258749, 0.07842327915646873, 0.015684655831293744, 0.004682351900858463, 0.9364703801716927, 0.05618822281030156, 0.9600201935531569, 0.08102135564202949, 0.06076601673152211, 0.08102135564202949, 0.7697028785992801, 0.2253238341054434, 0.15491013594749234, 0.10054421085809756, 0.08056637091560913, 0.07434376503188321, 0.03471559071973401, 0.07270623716774481, 0.039955679884976884, 0.038973163166493845, 0.062226058837259075, 0.039628174312149204, 0.027510468117525066, 0.022270378952282198, 0.01015267275765806, 0.015392761922900929, 0.968514787319318, 0.03693256391092195, 0.0738651278218439, 0.8494489699512048, 0.0659016529805935, 0.019970197872907124, 0.0818778112789192, 0.041937415533104955, 0.07588675191704707, 0.6410433517203186, 0.013979138511034985, 0.031952316596651396, 0.0019970197872907123, 0.0019970197872907123, 0.019970197872907124, 0.011112824728850827, 0.03889488655097789, 0.055564123644254136, 0.15669082867679665, 0.03889488655097789, 0.02444821440347182, 0.22225649457701654, 0.22336777704990163, 0.0711220782646453, 0.052230276225598886, 0.018891802039046408, 0.027782061822127068, 0.030004626767897235, 0.018891802039046408, 0.008890259783080662, 0.05484793582640646, 0.028976267983761902, 0.1510905402010442, 0.03208086812487925, 0.08485907052387415, 0.0641617362497585, 0.0869288039512857, 0.011383533850763605, 0.003104600141117347, 0.21732200987821426, 0.048638735544171766, 0.18420627503962925, 0.030011134697467686, 0.003104600141117347, 0.9339540438810274, 0.03891475182837614, 0.029828233189180427, 0.07457058297295106, 0.014914116594590214, 0.8799328790808226, 0.9700574892472708, 0.011942998259371722, 0.3980999419790574, 0.025876496228638732, 0.011942998259371722, 0.037819494488010454, 0.0457814933275916, 0.4199954387879056, 0.001990499709895287, 0.009952498549476435, 0.03184799535832459, 0.9201098296282947, 0.9437581356645843, 0.09304885248455448, 0.08684559565225085, 0.4528377487581651, 0.020160584704986804, 0.001550814208075908, 0.029465469953442253, 0.032567098369594066, 0.18609770496910896, 0.06668501094726405, 0.001550814208075908, 0.027914655745366345, 0.007317579953306873, 0.007317579953306873, 0.007317579953306873, 0.029270319813227492, 0.14635159906613746, 0.7976162149104491, 0.0026566345483154774, 0.559221572420408, 0.006641586370788694, 0.12220518922251196, 0.30285633850796445, 0.0013283172741577387, 0.0026566345483154774, 0.0013283172741577387, 0.9392959138780875, 0.9753458830482464, 0.9602167944860037, 0.9055934937197581, 0.1746646966898618, 0.045367453685678384, 0.015878608789987435, 0.03402559026425879, 0.09980839810849244, 0.009073490737135677, 0.08166141663422109, 0.013610236105703515, 0.2971568216411934, 0.0589776897913819, 0.040830708317110546, 0.08846653468707286, 0.040830708317110546, 0.050790035786979104, 0.030474021472187463, 0.02031601431479164, 0.003386002385798607, 0.06772004771597213, 0.7110605010177075, 0.11512408111715264, 0.8895192392581182, 0.9432265129874412, 0.9531726774330594, 0.026477018817584984, 0.013238509408792492, 0.09285269688045845, 0.005461923345909321, 0.04915731011318389, 0.021847693383637283, 0.07919788851568516, 0.297674822352058, 0.0764669268427305, 0.013654808364773303, 0.0027309616729546604, 0.36321790250296987, 0.025308353723214154, 0.008436117907738051, 0.02109029476934513, 0.016872235815476103, 0.06327088430803539, 0.016872235815476103, 0.0970153559389876, 0.31635442154017696, 0.4260239543407716, 0.012654176861607077, 0.04398036108169628, 0.02199018054084814, 0.0027487725676060173, 0.19791162486763322, 0.013743862838030085, 0.032985270811272206, 0.03848281594648424, 0.03023649824366619, 0.49203028960147704, 0.041231588514090256, 0.06597054162254441, 0.01924140797324212, 0.8895192396410269, 0.053604525056921086, 0.142216086885709, 0.09025251667746917, 0.1258065383988964, 0.06071532940120653, 0.09079950162702959, 0.08368869728274414, 0.1476859363813132, 0.03500703677186683, 0.08095377253494204, 0.021879397982416768, 0.013127638789450061, 0.02789623242758138, 0.011486683940768804, 0.014768593638131319, 0.4472844554991931, 0.1899045977469358, 0.001391242474336526, 0.003478106185841315, 0.10782129176108075, 0.002086863711504789, 0.008347454846019156, 0.012521182269028734, 0.004869348660177841, 0.11338626165842687, 0.10364756433807118, 0.004869348660177841, 0.9728566816048086, 0.0748388716520125, 0.7579426150288925, 0.01751548059940718, 0.025477062690046806, 0.04617717612570984, 0.0015923164181279254, 0.03503096119881436, 0.04140022687132606, 0.9462211702854328, 0.027034890579583793, 0.020005220537555508, 0.9202401447275533, 0.053347254766814685, 0.006668406845851836, 0.008083214316507624, 0.04688264303574422, 0.10669842897790065, 0.1616642863301525, 0.054965857352251846, 0.004849928589904575, 0.037182785855935076, 0.07274892884856862, 0.4478100731345224, 0.006466571453206099, 0.008083214316507624, 0.004849928589904575, 0.017783071496316773, 0.0193997143596183, 0.010113375460079618, 0.005056687730039809, 0.005056687730039809, 0.12136050552095541, 0.2326076355818312, 0.5157821484640606, 0.015170063190119426, 0.04045350184031847, 0.05056687730039809, 0.1471512237214786, 0.833856934421712, 0.0030656504941974708, 0.0061313009883949415, 0.009196951482592412, 0.9651025062004384, 0.9508846773691619, 0.0861481104165743, 0.03589504600690596, 0.007179009201381192, 0.007179009201381192, 0.007179009201381192, 0.007179009201381192, 0.8471230857629807, 0.9107746329506634, 0.014011917430010207, 0.014011917430010207, 0.05604766972004083, 0.9534259704933217, 0.9677358634984903, 0.9727536264401889, 0.9815746857233165, 0.026108716477936153, 0.06645855103474657, 0.07595262975399608, 0.47233041628266315, 0.09731430687230748, 0.016614637758686643, 0.1898815743849902, 0.016614637758686643, 0.0023735196798123775, 0.011867598399061888, 0.014241118078874265, 0.007120559039437133, 0.011169109189806873, 0.0027922772974517183, 0.039091882164324056, 0.03629960486687234, 0.3406578302891096, 0.3406578302891096, 0.06422237784138952, 0.027922772974517184, 0.008376831892355155, 0.008376831892355155, 0.013961386487258592, 0.10331426000571357, 0.9851924938694162, 0.09827524012665542, 0.8992184471588972, 0.998661411254914, 0.03781684103774493, 0.011242844632843087, 0.05928045351862719, 0.45789039959215483, 0.09914144812597996, 0.02044153569607834, 0.029640226759313593, 0.019419458911274425, 0.10731806240441129, 0.0030662303544117513, 0.001022076784803917, 0.006132460708823503, 0.09914144812597996, 0.043949301746568435, 0.004088307139215668, 0.014163903540365891, 0.8639981159623193, 0.014163903540365891, 0.07081951770182945, 0.028327807080731782, 0.0036522918629188312, 0.01278302152021591, 0.5496699253692842, 0.01278302152021591, 0.005478437794378247, 0.049305940149404225, 0.35792460256604547, 0.005478437794378247, 0.0018261459314594156, 0.01062719351926329, 0.04782237083668481, 0.02125438703852658, 0.005313596759631645, 0.8820570620988532, 0.005313596759631645, 0.005313596759631645, 0.015940790278894935, 0.013295374215530174, 0.45470179817113193, 0.021272598744848277, 0.07445409560696897, 0.0026590748431060346, 0.005318149686212069, 0.06647687107765086, 0.04786334717590862, 0.01595444905863621, 0.026590748431060348, 0.007977224529318105, 0.2605893346243914, 0.9655271631691232, 0.960422175056931, 0.009509130446108226, 0.019018260892216452, 0.9868881339729505, 0.01794061413969508, 0.07176245655878032, 0.8611494787053637, 0.01794061413969508, 0.01794061413969508, 0.057957392430093825, 0.09161007190563218, 0.06605896341494565, 0.08163890761658378, 0.07914611654432167, 0.10407402726694268, 0.02866709733101415, 0.1022044339627461, 0.05608779912589725, 0.11529158709212213, 0.1146683893240566, 0.03302948170747282, 0.0324062839394073, 0.022435119650358902, 0.01371035089744155, 0.07089897445887391, 0.05776953474426764, 0.04901657493453011, 0.09015548604029647, 0.17243330825182915, 0.008752959809737521, 0.07264956642082142, 0.13216969312703655, 0.07002367847790017, 0.13479558106995781, 0.03413654325797633, 0.02625887942921256, 0.022757695505317553, 0.035011839238950085, 0.02100710354337005, 0.982308983786434, 0.02305185850828297, 0.018441486806626377, 0.04149334531490934, 0.12448003594472803, 0.11986966424307144, 0.036882973613252754, 0.5809068344087308, 0.04149334531490934, 0.009220743403313188, 0.058579767338961274, 0.9177496883103933, 0.013642317860180149, 0.06821158930090074, 0.8867506609117096, 0.027284635720360297, 0.023099927143125993, 0.8951221767961322, 0.08084974500094097, 0.9654815303994749, 0.017879287599990277, 0.9881435109460895, 0.9190103033913497, 0.03403741864412406, 0.9534259710904948, 0.042253233268734876, 0.9190078235949836, 0.03168992495155116, 0.5362760231887428, 0.005456296747559883, 0.457549455831093, 0.00038973548196856304, 0.9504128235676098, 0.04709252729389058, 0.0038939424017299996, 0.028370151784032856, 0.010569272233267143, 0.719266789348127, 0.0038939424017299996, 0.035601759101531426, 0.10235505741690284, 0.038939424017299995, 0.012794382177112856, 0.01613204709288143, 0.0038939424017299996, 0.025032486868264283, 0.0005562774859614285, 0.014687645682916266, 0.8592272724506016, 0.11750116546333013, 0.84819470020979, 0.0035489318000409623, 0.0070978636000819245, 0.13840834020159754, 0.0035489318000409623, 0.02202190738262476, 0.9662111864126613, 0.01101095369131238, 0.9644988769310132, 0.9766082926712013, 0.020012465013754126, 0.1333575639812206, 0.030774822457204754, 0.051291370762007925, 0.6360129974488983, 0.1436158381336222, 0.9540926971950718, 0.027259791348430627, 0.015684137249018747, 0.002614022874836458, 0.01307011437418229, 0.047052411747056246, 0.9096799604430874, 0.010456091499345833, 0.008209956101780299, 0.06567964881424239, 0.9195150833993934, 0.03564068207448022, 0.04989695490427231, 0.08910170518620054, 0.003564068207448022, 0.04276881848937626, 0.05702509131916835, 0.23522850169156945, 0.03564068207448022, 0.09979390980854462, 0.014256272829792088, 0.014256272829792088, 0.2744332519734977, 0.04989695490427231, 0.02795264799313846, 0.024519866660647774, 0.3496532985808372, 0.0627708586512583, 0.04315496532274008, 0.1255417173025166, 0.04315496532274008, 0.11181059197255384, 0.02697185332671255, 0.01275033066353684, 0.037270197324184615, 0.014711919996388663, 0.0627708586512583, 0.02697185332671255, 0.028933442659564372, 0.009768075559113229, 0.9768075559113228, 0.974542613544043, 0.009996364220349678, 0.015994182752559486, 0.4138494787224767, 0.013994909908489549, 0.0019992728440699358, 0.13794982624082555, 0.011995637064419614, 0.07397309523058762, 0.09596509651535691, 0.07997091376279743, 0.08197018660686736, 0.0019992728440699358, 0.06197745816616801, 0.021611073020872607, 0.08644429208349043, 0.8860539938557769, 0.029485429782565624, 0.03804571584847177, 0.518943564173155, 0.011984400492268609, 0.02796360114862675, 0.06638977415558324, 0.010272343279087378, 0.05516628798028407, 0.012364857650753326, 0.0203544579789324, 0.06448748836315965, 0.030817029837262134, 0.049839887761498024, 0.04527440185968141, 0.01845217218650881, 0.14708059289771394, 0.004596268528053561, 0.836520872105748, 0.004596268528053561, 0.004596268528053561, 0.9194860473267819, 0.011320435476808836, 0.03962152416883093, 0.7867702656382141, 0.016980653215213252, 0.033961306430426504, 0.016980653215213252, 0.08490326607606627, 0.005660217738404418, 0.15553255100977817, 0.01829794717762096, 0.00914897358881048, 0.6770240455719756, 0.11893665665453625, 0.00914897358881048, 0.9424961562171463, 0.03359669594410291, 0.7010510553669473, 0.03359669594410291, 0.022397797296068608, 0.07615251080663327, 0.022397797296068608, 0.015678458107248026, 0.024637577025675466, 0.004479559459213721, 0.03359669594410291, 0.011198898648034304, 0.020158017566461746, 0.0037760457248186188, 0.0037760457248186188, 0.787305533624682, 0.0018880228624093094, 0.05475266300986997, 0.03398441152336757, 0.009440114312046548, 0.03776045724818619, 0.05475266300986997, 0.005664068587227928, 0.0037760457248186188, 0.0037760457248186188, 0.015924430552003495, 0.11147101386402446, 0.015924430552003495, 0.015924430552003495, 0.8280703887041817, 0.8849655678119549, 0.979113578290497, 0.060378646886435905, 0.9056797032965386, 0.2753463539945505, 0.17439970260459606, 0.11202616190836406, 0.07673586914602226, 0.04390768983221595, 0.031186770348116, 0.10669158276987054, 0.01682444189832574, 0.03159712258953858, 0.04390768983221595, 0.029955713623848263, 0.03282817931380632, 0.010669158276987053, 0.006565635862761264, 0.007796692587029, 0.03471342966760936, 0.02892785805634113, 0.046284572890145814, 0.023142286445072907, 0.08099800255775517, 0.011571143222536454, 0.011571143222536454, 0.05785571611268226, 0.1562104335042421, 0.011571143222536454, 0.4570601572901899, 0.07521243094648694, 0.0258826457445871, 0.9576578925497228, 0.009747620842480681, 0.0048738104212403405, 0.038990483369922724, 0.024369052106201702, 0.048738104212403405, 0.7603144257134931, 0.05361191463364374, 0.02924286252744204, 0.009747620842480681, 0.009747620842480681, 0.9699957992048418, 0.011547569038152879, 0.023095138076305758, 0.8270341997902791, 0.15506891246067733, 0.09097354447078704, 0.0017164819711469254, 0.10041419531209514, 0.029180193509497732, 0.012015373798028478, 0.667711486776154, 0.02574722956720388, 0.002574722956720388, 0.033471398437365046, 0.0017164819711469254, 0.0077241688701611645, 0.026605470552777344, 0.026781284117972887, 0.9641262282470239, 0.003351185648252493, 0.17761283935738212, 0.010053556944757479, 0.8042845555805983, 0.003351185648252493, 0.9675110662744199, 0.8894386499156097, 0.9750443790158752, 0.0017061090018984024, 0.17061090018984024, 0.139900938155669, 0.04947716105505367, 0.027297744030374438, 0.039240507043663254, 0.02047330802278083, 0.054595488060748876, 0.025591635028476035, 0.032416071036069645, 0.09554210410631053, 0.030709962034171243, 0.0631260330702409, 0.24738580527526835, 0.09398221874669559, 0.8834328562189385, 0.018796443749339118, 0.9688640985712959, 0.056439175982020466, 0.104815612538038, 0.056439175982020466, 0.029563377895344054, 0.6154557761848898, 0.11825351158137622, 0.005375159617335283, 0.0026875798086676414, 0.005375159617335283, 0.9737135350666075, 0.06915506183351623, 0.04295996265415403, 0.09220674911135499, 0.19698714582880383, 0.048198982490026465, 0.06705945389916726, 0.052390198358724424, 0.12992769192963657, 0.04400776662132851, 0.06077263009612033, 0.0272429031465367, 0.13411890779833452, 0.014669255540442839, 0.008382431737395907, 0.011525843638919373, 0.15050916030246939, 0.0679441352222576, 0.06020366412098775, 0.056763454742645596, 0.05074308833054682, 0.13932847982285737, 0.04558277426303359, 0.0524631930197179, 0.01290078516878309, 0.2253337142814113, 0.09460575790440932, 0.009460575790440932, 0.01290078516878309, 0.019781203925467405, 0.0017201046891710786, 0.9804193333302686, 0.9775135189920778, 0.01781256588784455, 0.0356251317756891, 0.9262534261679166, 0.002113745505340938, 0.07926545645028518, 0.18389585896466162, 0.08243607470829659, 0.024308073311420788, 0.05072989212818252, 0.015853091290057037, 0.22828451457682133, 0.06024174690221674, 0.09089105672966034, 0.052843637633523455, 0.028535564322102667, 0.10145978425636504, 0.010784506934012608, 0.044336306284274055, 0.11024162643657333, 0.1401985901421639, 0.07429326998986463, 0.13061236175637492, 0.08268121982743, 0.2324660383553829, 0.055120813218286664, 0.04193974918782681, 0.03954319209137956, 0.016775899675130726, 0.001198278548223623, 0.010784506934012608, 0.008387949837565363, 0.9464496599094356, 0.036401909996516754, 0.9430324454779418, 0.9627499527152154, 0.9512949376895156, 0.9778189749343201, 0.9701957658147703, 0.03505185673730985, 0.911348275170056, 0.9278321445752373, 0.9381794342457183, 0.951782090795549, 0.028841881539259057, 0.9775136505983467, 0.9864257566162574, 0.9550139366162239, 0.07714334766779059, 0.023143004300337177, 0.09257201720134871, 0.7560048071443477, 0.05400034336745341, 0.059142468821705076, 0.011828493764341017, 0.9226225136185993, 0.07648709818797304, 0.13401585579943995, 0.3994326238705259, 0.012420981757021264, 0.011113509993124288, 0.0889080799449943, 0.04380030409054867, 0.003922415291690925, 0.0013074717638969751, 0.026803171159887992, 0.041185360562754715, 0.022880755868197065, 0.04968392702808506, 0.04903019114613657, 0.03791668115301228, 0.9504654488729981, 0.2798137735559285, 0.20806665213133146, 0.09207547249489956, 0.040656702140605, 0.028698848569838824, 0.029296741248377133, 0.121970106421815, 0.010762068213689559, 0.021524136427379117, 0.05919137517529257, 0.057995589818215953, 0.0203283510703025, 0.002989463392691544, 0.013153638927842794, 0.012555746249304485, 0.9782475221967358, 0.9753198414085708, 0.08662881262538878, 0.002840288938537337, 0.11219141307222481, 0.7952809027904544, 0.011229333920085058, 0.011229333920085058, 0.022458667840170116, 0.9432640492871448, 0.019165585357875284, 0.019165585357875284, 0.9391136825358889, 0.014374189018406463, 0.9614009720328814, 0.9626255358476465, 0.015458592962826726, 0.9691348665156756, 0.007134735213612335, 0.007134735213612335, 0.9541387891312046, 0.01633738209448692, 0.9475681614802414, 0.01633738209448692, 0.9614009721038056, 0.9472681651010074, 0.9381794341264499, 0.15574637254188725, 0.18066579214858922, 0.6401175911471566, 0.0046723911762566175, 0.014017173528769853, 0.0015574637254188726, 0.8146103151590837, 0.0032913548087235706, 0.008228387021808926, 0.12342580532713389, 0.016456774043617853, 0.0016456774043617853, 0.03126787068287392, 0.9710361786550681, 0.13889232255380976, 0.8611323998336206, 0.1795873524227361, 0.10194620381892162, 0.07696600818117262, 0.08979367621136805, 0.12422583776610317, 0.05738693592455853, 0.022954774369823412, 0.03578244240001885, 0.037132723245302576, 0.12692639945667064, 0.06008749761512599, 0.015528229720762897, 0.011477387184911706, 0.04725982958493055, 0.012152527607553571, 0.9532354450786221, 0.08216500308964174, 0.17297895387292997, 0.04108250154482087, 0.35460685543950643, 0.04973144923846737, 0.04324473846823249, 0.20541250772410433, 0.04756921231505574, 0.004324473846823249, 0.9754237906546089, 0.05729646945400651, 0.8840026715761005, 0.05320386449300604, 0.9590615793460255, 0.04707653439905406, 0.9179924207815542, 0.042561454879762664, 0.893790552475016, 0.10006844052901334, 0.025017110132253335, 0.8630902995627401, 0.014830205613432606, 0.029660411226865212, 0.07415102806716303, 0.04449061684029782, 0.8156613087387934, 0.9848254872531389, 0.12858640556833745, 0.17323446305734352, 0.06965096968284945, 0.012501456096921697, 0.010715533797361456, 0.08036650348021092, 0.06786504738328922, 0.03571844599120485, 0.025002912193843395, 0.11965679407053624, 0.21609659824678934, 0.01428737839648194, 0.005357766898680728, 0.03214660139208436, 0.005357766898680728, 0.9965511100468327, 0.034541502908538656, 0.017270751454269328, 0.949891329984813, 0.9756317929762391, 0.038869996471315726, 0.9328799153115774, 0.9325533227691527, 0.11688833484170791, 0.8015200103431399, 0.016698333548815416, 0.050095000646446244, 0.06072592167355273, 0.09361912924672712, 0.07843764882833894, 0.07843764882833894, 0.03542345430957242, 0.037953701045970456, 0.0025302467363980305, 0.01771172715478621, 0.5617147754803627, 0.015181480418388182, 0.0025302467363980305, 0.010120986945592122, 0.0025302467363980305, 0.005060493472796061, 0.9099729667613983, 0.26599170110112036, 0.28645260118582194, 0.0320257566543155, 0.033804965357333024, 0.07116834812070111, 0.16635601373213885, 0.011564856569613929, 0.004448021757543819, 0.05070744803599954, 0.016902482678666512, 0.011564856569613929, 0.007116834812070111, 0.036473778411859316, 0.005337626109052583, 0.9532612029938253, 0.9241530696111638, 0.04280913563282151, 0.9560706957996804, 0.9631691568069177, 0.1389138472369252, 0.07479976389680587, 0.010685680556686554, 0.10685680556686554, 0.1121996458452088, 0.05877124306177604, 0.021371361113373108, 0.010685680556686554, 0.010685680556686554, 0.026714201391716385, 0.42208438198911885, 0.11505907077680422, 0.023011814155360844, 0.8284253095929903, 0.009091300743415619, 0.05909345483220153, 0.022728251858539047, 0.8409453187659448, 0.045456503717078094, 0.0045456503717078095, 0.0045456503717078095, 0.013636951115123428, 0.07500019620587756, 0.055882499133791126, 0.4916679529051973, 0.0622550648244866, 0.05343151232967748, 0.0318628284534774, 0.025490262762781917, 0.021078486515377352, 0.043137367752400166, 0.012254934020568228, 0.06176486746366387, 0.02303927595866827, 0.004901973608227292, 0.0318628284534774, 0.006862763051518208, 0.976771923157827, 0.035223985955574855, 0.018786125842973258, 0.3757225168594651, 0.12445808370969783, 0.0328757202252032, 0.0657514404504064, 0.02348265730371657, 0.30292627921794374, 0.007044797191114971, 0.0023482657303716572, 0.007044797191114971, 0.010084044429807688, 0.16638673309182683, 0.3579835772581729, 0.010084044429807688, 0.015126066644711531, 0.03529415550432691, 0.38319368833269213, 0.005042022214903844, 0.020168088859615376, 0.9801819598828987, 0.008910745089844534, 0.059284440662997324, 0.10647603522060714, 0.11620930159811416, 0.08730444993157815, 0.054270333741251287, 0.07816107848604124, 0.027135166870625643, 0.1120800370743233, 0.04276738256783389, 0.10028213843492086, 0.08052065821392174, 0.04276738256783389, 0.03627853831616254, 0.04512696229571438, 0.011502951173417392, 0.0360423403590603, 0.07445588732069036, 0.4197035686548469, 0.0175469288590162, 0.04268171884625562, 0.14796329200035283, 0.020392376782099906, 0.037939305641116104, 0.011856033012848783, 0.02845447923083708, 0.06497106091041133, 0.03841354696163006, 0.018495411500044103, 0.026557513948781274, 0.01470148093593249, 0.005950917608546384, 0.011901835217092769, 0.9759504878016071, 0.08818418793495826, 0.11506961108586017, 0.09463668949117472, 0.07958085252666965, 0.048931470134641476, 0.09840064873230099, 0.042478968578425015, 0.09087273025004845, 0.048931470134641476, 0.10861710952964371, 0.08549564561986807, 0.05000688706067755, 0.013442711575450954, 0.022583755446757604, 0.012905003112432917, 0.0514949776023888, 0.00514949776023888, 0.16478392832764416, 0.015448493280716642, 0.015448493280716642, 0.731228681953921, 0.01029899552047776, 0.03228455465375504, 0.14348690957224464, 0.021523036435836692, 0.0035871727393061155, 0.007174345478612231, 0.010761518217918346, 0.40893769228089716, 0.36589161940922377, 0.9533837007732416, 0.9061971080933916, 0.09787495564895043, 0.11146869948908245, 0.002718748768026401, 0.002718748768026401, 0.010874995072105605, 0.002718748768026401, 0.7449371624392339, 0.005437497536052802, 0.008156246304079203, 0.010874995072105605, 0.0525650512121853, 0.8936058706071501, 0.05387827969665937, 0.08081741954498906, 0.026939139848329685, 0.8081741954498906, 0.047962009710035274, 0.016927768132953627, 0.047962009710035274, 0.022570357510604832, 0.025391652199430438, 0.016927768132953627, 0.7984263969376459, 0.022570357510604832, 0.567801543711806, 0.1674810308790219, 0.040849031921712665, 0.04493393511388393, 0.07488989185647321, 0.06263518227995941, 0.001361634397390422, 0.00680817198695211, 0.008169806384342533, 0.01361634397390422, 0.005446537589561688, 0.004084903192171267, 0.004084903192171267, 0.8990931059200393, 0.02550618740198693, 0.006376546850496732, 0.006376546850496732, 0.006376546850496732, 0.019129640551490197, 0.012753093700993465, 0.019129640551490197, 0.01731601220296921, 0.9004326345543989, 0.03463202440593842, 0.01731601220296921, 0.04380837026040032, 0.04123140730390618, 0.005153925912988273, 0.059270147999365135, 0.850397775643065, 0.9571508358764057, 0.015952513931273428, 0.023928770896910142, 0.9832653948938257, 0.9520682653280474, 0.04022823656315694, 0.01476909244870533, 0.9747601016145518, 0.9847332116505765, 0.9764390430626693, 0.015185677186044622, 0.0015185677186044624, 0.006074270874417849, 0.9496908562814762, 0.004990052340983979, 0.8133785315803885, 0.1646717272524713, 0.009980104681967958, 0.004990052340983979, 0.922486025915826, 0.042576278119191964, 0.014192092706397322, 0.9204703761750523, 0.013457152196464978, 0.9823721103419434, 0.9278321442526959, 0.010153517428409272, 0.9848911905556994, 0.029700121984188466, 0.9652539644861251, 0.98230124469014, 0.325859278793557, 0.1315884672890762, 0.10046957299774062, 0.08668834838300628, 0.0386763400478028, 0.0386763400478028, 0.07468534629920541, 0.025339671065801837, 0.012892113349267601, 0.06134867731720445, 0.023561448534868374, 0.025339671065801837, 0.01111389081833414, 0.026673337964001932, 0.017782225309334623, 0.12648608297194947, 0.8432405531463297, 0.9876233795438737, 0.03153809053634125, 0.034341476361793806, 0.09601596452175001, 0.13456251962172266, 0.062375334616319354, 0.11423797238719163, 0.07709311019994528, 0.17100653535260588, 0.08199903539448725, 0.05536687005268797, 0.0378457086436095, 0.020324547234531025, 0.04555501966360402, 0.005606771650905111, 0.030837244079978107, 0.9539178218887748, 0.14948300440233117, 0.1408033460821958, 0.10512030632163934, 0.11428216788178222, 0.06654404712103774, 0.039058462440609114, 0.10319149336160927, 0.05979320176093247, 0.022181349040345917, 0.05111354344079711, 0.04098727540063919, 0.04870252724075951, 0.007233048600112799, 0.026038974960406077, 0.024592365240383517, 0.052648930369030914, 0.8950318162735255, 0.03509928691268727, 0.9550139364734261, 0.943226512055985, 0.9194860439334384, 0.023590592556186656, 0.04718118511237331, 0.9200331096912796, 0.9835060431914271, 0.8177391469484294, 0.16971944559307026, 0.03514804963239477, 0.9489973400746586, 0.3824791075752496, 0.022834573586582068, 0.01712593018993655, 0.5708643396645516, 0.051109230394027566, 0.9370025572238386, 0.017036410131342522, 0.05259167478072825, 0.8940584712723804, 0.0851598789382274, 0.15658429353157943, 0.14559592205567912, 0.0813139489216623, 0.08351162321684237, 0.04834883449396137, 0.10219185472587289, 0.05494185737950156, 0.042854648756011214, 0.06593022885540187, 0.028020347263545794, 0.03406395157529096, 0.015933138640055453, 0.04065697446083115, 0.014284882918670404, 0.10316917295068262, 0.16364765364591036, 0.1176958668431638, 0.08686370021422417, 0.05069519705335267, 0.07648749029102332, 0.1191781825464782, 0.060478480695227745, 0.0376508188641859, 0.04832349192804962, 0.05425275474130724, 0.027571072081647944, 0.018380714721098628, 0.017787788439772866, 0.017787788439772866, 0.06498367607288892, 0.909771465020445, 0.9160011323184413, 0.034361870936453744, 0.05154280640468062, 0.16321888694815528, 0.02577140320234031, 0.02577140320234031, 0.017180935468226872, 0.6442850800585077, 0.008590467734113436, 0.02577140320234031, 0.0788141008122636, 0.0337774717766844, 0.0168887358883422, 0.1013324153300532, 0.0225183145177896, 0.08444367944171101, 0.0112591572588948, 0.0225183145177896, 0.6305128064981088, 0.013879487700311052, 0.9715641390217735, 0.04532929701400464, 0.01133232425350116, 0.0566616212675058, 0.07366010764775754, 0.0283308106337529, 0.7762642113648295, 0.01133232425350116, 0.9805915502429053, 0.15537001371946987, 0.03699286040939759, 0.02959428832751807, 0.007398572081879518, 0.13317429747383133, 0.06658714873691567, 0.11837715331007229, 0.05918857665503614, 0.3921243203396145, 0.9383291008495612, 0.3282052026340177, 0.19511411652652233, 0.10207957089798189, 0.053624078383117064, 0.06008481071843238, 0.024550782874198176, 0.07623664155672065, 0.011629318203567557, 0.025196856107729707, 0.04134868694601798, 0.03618010107776573, 0.03165758844304502, 0.007752878802378371, 0.0038764394011891854, 0.002584292934126124, 0.9325105741087325, 0.9062799271544892, 0.9486226634376719, 0.02710350466964777, 0.013551752334823884, 0.008632201117415212, 0.017264402234830424, 0.8027947039196146, 0.017264402234830424, 0.12948301676122817, 0.025896603352245633, 0.11114830163472117, 0.7965628283821684, 0.08891864130777694, 0.017906637887717784, 0.017906637887717784, 0.025069293042804898, 0.85593729103291, 0.025069293042804898, 0.003581327577543557, 0.050138586085609796, 0.9948657815761353, 0.09171881528746019, 0.3168468164475897, 0.01667614823408367, 0.008338074117041835, 0.008338074117041835, 0.05836651881929285, 0.4919463729054683, 0.7562463906700989, 0.24112203760495907, 0.09517872763663318, 0.022661601818245995, 0.0045323203636492, 0.7795591025476623, 0.0045323203636492, 0.013596961090947598, 0.0770494461820364, 0.01101379016665222, 0.9692135346653954, 0.01101379016665222, 0.0363599438888179, 0.032723949499936116, 0.5175232013508415, 0.11513982231459002, 0.06423590087024496, 0.02908795511105432, 0.01090798316664537, 0.032723949499936116, 0.02060396820366348, 0.00727198877776358, 0.0630239027406177, 0.027875956981427058, 0.006059990648136317, 0.033935947629563375, 0.0012119981296272635, 0.05036558397417813, 0.1388456639288154, 0.10719701994504129, 0.12080933993806241, 0.028585871985344343, 0.045260963976795215, 0.052407431973131295, 0.09494593195132228, 0.10413424794661154, 0.06295697996772266, 0.08848007995463726, 0.029947103984646457, 0.03879511198011018, 0.008848007995463725, 0.027905255985693288, 0.9665774942978199, 0.9439478430662154, 0.8707826209431411, 0.019138079581167936, 0.019138079581167936, 0.009569039790583968, 0.014353559685875952, 0.06219875863879579, 0.9023911435069291, 0.002479096548095959, 0.08924747573145451, 0.002479096548095959, 0.9666381336343598, 0.479430734681358, 0.01053693922376611, 0.005268469611883055, 0.03161081767129833, 0.45308838662194273, 0.026342348059415276, 0.7037141878091189, 0.06987233070445152, 0.009981761529207359, 0.06987233070445152, 0.0049908807646036795, 0.019963523058414718, 0.04491792688143312, 0.0249544038230184, 0.009981761529207359, 0.02994528458762208, 0.1105093299134227, 0.10062165302643225, 0.14424375693962543, 0.06863211015675726, 0.08375443951333089, 0.06572396989587771, 0.09189723224379362, 0.03664256728708227, 0.08782583587856226, 0.05234652469583181, 0.07910141509592362, 0.033152798974026815, 0.008724420782638635, 0.01803046961745318, 0.018612097669629086, 0.04651428948985186, 0.03721143159188149, 0.2697828790411408, 0.009302857897970373, 0.623291479164015, 0.9120523070367458, 0.022245178220408432, 0.0667355346612253, 0.9194860475772827, 0.9743141019827459, 0.9560576220304834, 0.9655271660708159, 0.002396438506176155, 0.07908247070381312, 0.39181769575980135, 0.0802806899569012, 0.0011982192530880776, 0.06710027817293235, 0.00479287701235231, 0.046730550870435025, 0.154570283648362, 0.013180411783968853, 0.035946577592642324, 0.027559042821025784, 0.01917150804940924, 0.015576850290145008, 0.061109181907491955, 0.8119631889837742, 0.08246501138116456, 0.10149539862297177, 0.9458351464107557, 0.044685125027279796, 0.17376060137870977, 0.1197017476164445, 0.02780169622059356, 0.06023700847795272, 0.10734543818506959, 0.056375661780648054, 0.041702544330890344, 0.13051351836889755, 0.07722693394609323, 0.06641516319364017, 0.052514315083343394, 0.029346234899515426, 0.023168080183827967, 0.0023168080183827966, 0.031663042917898225, 0.9670089732756856, 0.029303302220475322, 0.9326397004118195, 0.15550913715893516, 0.8293820648476542, 0.9912205449688584, 0.9739163737975046, 0.055866009728332465, 0.08633837867105926, 0.040629825256969065, 0.005078728157121133, 0.017775548549923966, 0.10665329129954379, 0.0025393640785605666, 0.017775548549923966, 0.533266456497719, 0.040629825256969065, 0.0304723689427268, 0.027933004864166232, 0.0304723689427268, 0.0025393640785605666, 0.8592886873823121, 0.13525840449536394, 0.013928201117089829, 0.06964100558544915, 0.013928201117089829, 0.013928201117089829, 0.013928201117089829, 0.8496202681424796, 0.2779127625838229, 0.010688952407070112, 0.7054708588666274, 0.21522252290440233, 0.012228552437750131, 0.007337131462650079, 0.024457104875500263, 0.017119973412850185, 0.36196515215740394, 0.3644108626449539, 0.0632440502408147, 0.9275794035319489, 0.018584205820350228, 0.3148990430670455, 0.012389470546900152, 0.008259647031266767, 0.42330691035242185, 0.0041298235156333836, 0.030973676367250378, 0.0041298235156333836, 0.037168411640700456, 0.09601839673847617, 0.03407104400397542, 0.016519294062533534, 0.9353311364291319, 0.03897213068454716, 0.30535667897783597, 0.6717846937512392, 0.0152678339488918, 0.943226512645135, 0.9228013692345443, 0.9711472576835188, 0.9550139367497509, 0.9076369732777184, 0.007113142423806571, 0.0009484189898408761, 0.0023710474746021903, 0.07966719514663359, 0.00047420949492043803, 0.0014226284847613142, 0.02643644279938155, 0.0528728855987631, 0.13879132469675315, 0.006609110699845388, 0.019827332099536164, 0.204882431695207, 0.5485561880871671, 0.9480169463536766, 0.25466810822781283, 0.17952014186550738, 0.0942645542965761, 0.06350222888510604, 0.054712993053257455, 0.039991023034911075, 0.10305379012842468, 0.046582949908797515, 0.02636770749554576, 0.035596405118986776, 0.032739903473635985, 0.025269053016564687, 0.011645737477199379, 0.025049322120768474, 0.00659192687388644, 0.0413976029456978, 0.11932250260818779, 0.05844367474686749, 0.02435153114452812, 0.002435153114452812, 0.12662796195154624, 0.02191637803007531, 0.04626790917460343, 0.07548974654803718, 0.35066204848120497, 0.026786684258980932, 0.05844367474686749, 0.04626790917460343, 0.9756566217188829, 0.005121460598250034, 0.9935633560605066, 0.975737216027183, 0.01283864757930504, 0.988073227642116, 0.9678270926865816, 0.21705712622926635, 0.4864171744414884, 0.0026151460991477873, 0.17652236169247565, 0.05884078723082521, 0.05491806808210353, 0.0026151460991477873, 0.008648141801202266, 0.8302216129154175, 0.01729628360240453, 0.10377770161442719, 0.03459256720480906, 0.03582767781669107, 0.4498363992540101, 0.06528599068819262, 0.03184682472594762, 0.08996727985080202, 0.09713281541414023, 0.027865971635204163, 0.03662384843483976, 0.003184682472594762, 0.023088947926312022, 0.004777023708892142, 0.009554047417784284, 0.04458555461632666, 0.027069801017055473, 0.053343431415962254, 0.9763842461909438, 0.9517608973240778, 0.0221339743563739, 0.9595009449608874, 0.012625012433695888, 0.012625012433695888, 0.9906181288109963, 0.038219520109517395, 0.027299657221083854, 0.20019748628794826, 0.06551917733060125, 0.05277933729409545, 0.030939611517228367, 0.16925787477071988, 0.33487579524529526, 0.023659702924939338, 0.003639954296144514, 0.0054599314442167705, 0.016379794332650313, 0.020019748628794826, 0.012739840036505799, 0.058312839732379614, 0.7143322867216503, 0.15064150264198067, 0.04373462979928471, 0.019437613244126538, 0.012148508277579087, 0.1868331297015184, 0.2884923326273446, 0.0013737730125111646, 0.10715429497587085, 0.037091871337801445, 0.36817116735299216, 0.0013737730125111646, 0.009616411087578153, 0.9498753370214849, 0.9370447210915533, 0.030586029471831117, 0.011122192535211316, 0.016683288802816974, 0.9657663386177979, 0.9652913447582882, 0.025396833163562837, 0.8030236771717011, 0.002418746015577413, 0.043537428280393434, 0.0036281190233661193, 0.12214667378665936, 0.017447189564024183, 0.018278008114692, 0.06646548405342546, 0.0016616371013356366, 0.046525838837397825, 0.054834024344076006, 0.03738683478005182, 0.00996982260801382, 0.3356506944697986, 0.0315711049253771, 0.07809694376277491, 0.05649566144541164, 0.01993964521602764, 0.22432100868031093, 0.017062123139327867, 0.8872304032450491, 0.08531061569663934, 0.04678087213408992, 0.9356174426817985, 0.9810182538129092, 0.08885373563070059, 0.888537356307006, 0.9732040479595491, 0.00680562271300384, 0.00680562271300384, 0.00680562271300384, 0.026733485594822727, 0.9356719958187955, 0.0024725894748813017, 0.06428732634691384, 0.05934214739715124, 0.1879168000909789, 0.02719848422369432, 0.03708884212321952, 0.4994630739260229, 0.056869557922269935, 0.017308126324169112, 0.04697920002274473, 0.057742888630055854, 0.07217861078756982, 0.793964718663268, 0.057742888630055854, 0.10674147839544777, 0.7415723762210056, 0.06741567056554595, 0.03370783528277298, 0.03932580782990181, 0.01123594509425766, 0.9895936676928021, 0.9788170576333994, 0.9855542836089878, 0.2820226918382088, 0.31004758825986733, 0.004966437340547074, 0.00709491048649582, 0.006385419437846237, 0.14296244630289076, 0.006385419437846237, 0.006385419437846237, 0.04789064578384678, 0.0709491048649582, 0.03653878900545347, 0.016318294118940386, 0.029089132994632862, 0.02873438747030807, 0.004256946291897492, 0.6402382686868743, 0.04434214011561584, 0.022560036199172972, 0.00933518739276123, 0.01322484880641174, 0.031117291309204098, 0.05056559837745666, 0.047453869246536245, 0.10113119675491332, 0.005445525979110717, 0.017892442502792354, 0.0077793228273010245, 0.00933518739276123, 0.005483748502717087, 0.07403060478668066, 0.00822562275407563, 0.021934994010868347, 0.47708611973638654, 0.00822562275407563, 0.005483748502717087, 0.043869988021736694, 0.2467686826222689, 0.00822562275407563, 0.052095610775812325, 0.043869988021736694, 0.00822562275407563, 0.23076678897706107, 0.24182289405547278, 0.19054138539390364, 0.043283475200590456, 0.03528544173961178, 0.06751281186179055, 0.04657678309628756, 0.016231303200221422, 0.012702759026260243, 0.07692226299235369, 0.015290358087165107, 0.007762797182714593, 0.0037637804522252572, 0.00493996184354565, 0.0065866157913942, 0.0817369767864512, 0.9144324277984227, 0.8483357242588059, 0.07548054799981639, 0.008204407391284389, 0.019690577739082536, 0.013127051826055024, 0.004922644434770634, 0.004922644434770634, 0.001640881478256878, 0.013127051826055024, 0.009845288869541268, 0.05848629705317602, 0.865597196387005, 0.011697259410635203, 0.04678903764254081, 0.9325105740557418, 0.06900224351233984, 0.06900224351233984, 0.2185071044557428, 0.011500373918723307, 0.011500373918723307, 0.011500373918723307, 0.6095198176923352, 0.15876478153577853, 0.14852189240443797, 0.04545282052032369, 0.032009028535439216, 0.05569570965166424, 0.18949344892980016, 0.02944830625260408, 0.016004514267719608, 0.06593859878300479, 0.09602708560631765, 0.06337787650016966, 0.03328938967685679, 0.026887583969768942, 0.028808125681895298, 0.011523250272758119, 0.0015428733001178368, 0.04705763565359403, 0.07020073515536157, 0.2622884610200323, 0.01928591625147296, 0.027771719402121062, 0.10337251110789507, 0.3471464925265133, 0.013885859701060531, 0.013885859701060531, 0.022371662851708635, 0.013114423051001613, 0.057086312104359965, 0.05255350561276048, 0.09926773282410313, 0.1318008553462882, 0.03336730515095904, 0.06673461030191807, 0.0483825924688906, 0.07173970607456193, 0.09843355019532916, 0.058392784014178314, 0.20020383090575422, 0.03420148777973302, 0.017517835204253495, 0.01668365257547952, 0.0483825924688906, 0.02252293097689735, 0.008583279938509554, 0.06008295956956687, 0.005722186625673036, 0.15163794558033544, 0.014305466564182589, 0.7438842613374946, 0.008583279938509554, 0.14989594442603818, 0.5198004524451324, 0.004835353046001232, 0.1208838261500308, 0.016923735661004313, 0.02901211827600739, 0.07736564873601971, 0.002417676523000616, 0.03142979479900801, 0.033847471322008625, 0.007253029569001848, 0.004835353046001232, 0.038825430237418836, 0.7117995543526786, 0.14235991087053573, 0.051767240316558445, 0.038825430237418836, 0.029916929560027394, 0.1320471373683968, 0.10367763519940529, 0.20838688865950117, 0.03920149390624279, 0.25996780169403116, 0.036106639124170996, 0.033527593472444495, 0.005673900433798299, 0.023211410865538497, 0.019084937822776097, 0.009800373476560698, 0.06757099607523429, 0.014442655649668398, 0.0175375104317402, 0.03743774199549814, 0.0842349194898708, 0.08891463723930808, 0.014039153248311802, 0.2012278632258025, 0.004679717749437267, 0.44925290394597767, 0.06551604849212174, 0.028078306496623604, 0.009359435498874535, 0.004679717749437267, 0.027902576480743454, 0.009300858826914483, 0.9486876003452774, 0.976813631284709, 0.965021495275189, 0.01723252670134266, 0.019419450412033766, 0.03398403822105909, 0.31394778166121257, 0.043693763427075975, 0.0016182875343361473, 0.2864368935774981, 0.02265602548070606, 0.059876638770437446, 0.0857692393198158, 0.012946300274689179, 0.02912917561805065, 0.03883890082406753, 0.051785201098756714, 0.9704432228747508, 0.21367517827356197, 0.3098796424251657, 0.14886374979248157, 0.024304285680405154, 0.1093692855618232, 0.012152142840202577, 0.05772267849096224, 0.012152142840202577, 0.061773392771029764, 0.015190178550253222, 0.004050714280067526, 0.01316482141021946, 0.012152142840202577, 0.0060760714201012886, 0.17690145825772383, 0.516305418868473, 0.2468392440805449, 0.006170981102013622, 0.010284968503356036, 0.026740918108725694, 0.008227974802684829, 0.008227974802684829, 0.06092280899947391, 0.9341497379919332, 0.0083861577945277, 0.0027953859315092335, 0.013976929657546168, 0.025158473383583103, 0.013976929657546168, 0.0335446311781108, 0.0083861577945277, 0.0167723155890554, 0.13138313878093397, 0.29910629467148797, 0.40253557413732965, 0.044726174904147736, 0.026544555260662468, 0.9556039893838488, 0.01090774437159181, 0.8726195497273448, 0.1090774437159181, 0.5381770704685286, 0.08772483383095063, 0.04534092535082842, 0.014785084353531005, 0.04928361451177002, 0.015770756643766405, 0.02464180725588501, 0.03745554702894521, 0.05519764825318242, 0.05421197596294702, 0.03745554702894521, 0.01774210122423721, 0.009856722902354004, 0.004928361451177002, 0.007885378321883203, 0.2607134224849976, 0.09983762639625135, 0.09084750837952729, 0.08327688268123336, 0.07570625698293941, 0.019399728351878223, 0.07523309287679604, 0.0643503184354985, 0.08138422625665986, 0.04873590293276724, 0.02507769762559868, 0.030282502793175764, 0.01798023603344811, 0.008043789804437313, 0.018453400139591482, 0.9381794342399846, 0.18256941527104875, 0.22549650158123868, 0.12309212700994222, 0.09800822717808425, 0.047581830608885226, 0.035169179145697775, 0.08895733548617674, 0.03180741937441784, 0.022239333871544184, 0.05585693158434353, 0.04240989249922379, 0.03284180699635013, 0.0010343876219322875, 0.0077579071644921565, 0.00543053501514451, 0.9431031708877345, 0.023695690362533092, 0.32186646075774117, 0.5252544697028169, 0.011847845181266546, 0.07108707108759928, 0.003949281727088849, 0.003949281727088849, 0.03751817640734406, 0.10279612786707253, 0.06357128960200538, 0.05951354771251567, 0.06898161212132499, 0.04057741889489705, 0.013525806298299017, 0.004057741889489705, 0.12714257920401076, 0.46393515603165625, 0.005410322519319607, 0.004057741889489705, 0.021641290077278427, 0.01623096755795882, 0.00811548377897941, 0.24469642702462271, 0.14218846435214563, 0.33397755580387695, 0.005511180788842854, 0.15651753440313707, 0.11573479656569993, 0.005744924310820187, 0.9900419562313454, 0.0019149747702733955, 0.06693782714658367, 0.1816883879692985, 0.023906366838065594, 0.054984643727550866, 0.026297003521872152, 0.004781273367613119, 0.04064082362471151, 0.023906366838065594, 0.43987714982040693, 0.028687640205678714, 0.023906366838065594, 0.019125093470452475, 0.031078276889485272, 0.026297003521872152, 0.009562546735226237, 0.9808409418509287, 0.025747448035868425, 0.5406964087532369, 0.014712827449067671, 0.4119591685738948, 0.9876398886144591, 0.1794212702382182, 0.8205884565306744, 0.03969228427731413, 0.007938456855462827, 0.8732302541009109, 0.015876913710925655, 0.007938456855462827, 0.04763074113277696, 0.9774279065595313, 0.01685220528550916, 0.20009933132381227, 0.00482167063430873, 0.7883431487094773, 0.002410835317154365, 0.3735888175262217, 0.6031433921507676, 0.02250535045338685, 0.967567385533041, 0.00125309177746799, 0.00626545888733995, 0.4373290303363285, 0.016290193107083868, 0.10901898463971513, 0.10400661752984316, 0.07142623131567542, 0.04009893687897568, 0.02631492732682779, 0.02004946843948784, 0.04135202865644367, 0.04260512043391166, 0.008771642442275929, 0.007518550664807939, 0.06766695598327145, 0.0036059611676283153, 0.263235165236867, 0.014423844670513261, 0.010817883502884946, 0.03605961167628315, 0.03245365050865484, 0.20553978655481397, 0.29208285457789357, 0.06490730101730968, 0.018029805838141576, 0.06130133984968136, 0.9827536771540438, 0.03866817547345391, 0.02416760967090869, 0.18850735543308778, 0.014500565802545214, 0.14500565802545215, 0.07250282901272607, 0.08700339481527128, 0.37701471086617555, 0.04833521934181738, 0.9717431698061166, 0.9906222442966264, 0.006309695823545391, 0.9837898197040289, 0.9764645510073215, 0.20839902177336425, 0.01667192174186914, 0.020839902177336424, 0.5460054370462143, 0.14587931524135497, 0.004167980435467285, 0.05418374566107471, 0.9764658722916253, 0.9653327250609084, 0.9758845404538116, 0.9228013710027037, 0.9571985163693641, 0.9586019380138103, 0.04302234612082802, 0.07170391020138003, 0.014340782040276006, 0.007170391020138003, 0.8604469224165604, 0.0436503570629306, 0.014550119020976865, 0.04001282730768638, 0.8948323197900772, 0.003637529755244216, 0.003637529755244216, 0.08532123155215668, 0.01599773091602938, 0.01599773091602938, 0.2133030788803917, 0.6612395445292143, 0.005332576972009792, 0.20205936641172695, 0.16223035668633845, 0.0019428785231896822, 0.00971439261594841, 0.18263058117983014, 0.0038857570463793644, 0.012628710400732934, 0.11462983286819126, 0.14474444997763133, 0.00971439261594841, 0.03691469194060396, 0.10782975803702737, 0.010685831877543251, 0.9569918799224282, 0.02205050414567807, 0.008820201658271227, 0.01176026887769497, 0.9811239104275319, 0.009852886866999736, 0.049264434334998684, 0.02955866060099921, 0.03941154746799894, 0.8572011574289771, 0.9678146307095279, 0.004346589840121384, 0.8236787747030021, 0.16299711900455185, 0.010866474600303457, 0.01103397713242088, 0.01655096569863132, 0.12689073702284012, 0.1103397713242088, 0.00551698856621044, 0.06620386279452528, 0.00551698856621044, 0.00551698856621044, 0.0827548284931566, 0.5682498223196754, 0.014835855312456837, 0.05934342124982735, 0.029671710624913673, 0.8604796081224966, 0.029671710624913673, 0.9418820345480118, 0.05016665824627872, 0.9280831775561564, 0.8623171880748914, 0.015398521215623061, 0.015398521215623061, 0.020531361620830746, 0.035929882836453805, 0.046195563646869185, 0.021498148666519994, 0.032247222999779994, 0.010749074333259997, 0.032247222999779994, 0.021498148666519994, 0.8491768723275398, 0.021498148666519994, 0.9888635442977978, 0.027642507152007903, 0.9536664967442726, 0.21221075485567548, 0.06946809463885341, 0.017604928093408054, 0.08231493405836739, 0.01855654582818687, 0.0009516177347788138, 0.4815185737980798, 0.016177501491239834, 0.027596914308585598, 0.03806470939115255, 0.010467795082566952, 0.008564559613009323, 0.0038064709391152553, 0.009040368480398731, 0.0023790443369470344, 0.020592339707196858, 0.8580141544665358, 0.027456452942929144, 0.048048792650126, 0.041184679414393716, 0.7771709932771081, 0.21588083146586337, 0.1025619593468228, 0.023668144464651413, 0.8441638192392338, 0.015778762976434275, 0.007889381488217138, 0.020297195087378414, 0.11461945461107811, 0.11342550195887938, 0.015521384478583493, 0.023879053043974606, 0.009551621217589842, 0.04178834282695556, 0.4608657237487099, 0.0394004375225581, 0.06089158526213524, 0.008357668565391113, 0.051339964044545404, 0.013133479174186034, 0.026266958348372067, 0.02179371509642585, 0.0740986313278479, 0.002905828679523447, 0.11332731850141443, 0.004358743019285171, 0.02179371509642585, 0.14674434831593408, 0.13512103359784028, 0.3704931566392395, 0.015982057737378957, 0.026152458115711024, 0.03777577283380481, 0.030511201134996193, 0.01575251155182858, 0.06751076379355105, 0.018002870344946947, 0.09226471051785311, 0.04725753465548574, 0.04500717586236737, 0.1350215275871021, 0.10801722206968169, 0.05625896982795921, 0.05625896982795921, 0.2407883908636654, 0.022503587931183684, 0.0067510763793551054, 0.09451506931097148, 0.14162868842951717, 0.009767495753759806, 0.20348949486999596, 0.14488452034743712, 0.07651205007111847, 0.030930403220239384, 0.043953730891919125, 0.301164452407594, 0.01953499150751961, 0.029302487261279417, 0.09087411855678561, 0.12116549140904748, 0.131856564180434, 0.06860105028306365, 0.056128132049779345, 0.06993743437948696, 0.06949197301401253, 0.05434628658788159, 0.05479174795335603, 0.04410067518196949, 0.06726466618664033, 0.06102820706999818, 0.04231882972007173, 0.0351914478724807, 0.032518679679634066, 0.03580234397713125, 0.028394962464621337, 0.11357984985848535, 0.09629595966262888, 0.05308623417298772, 0.04691341624589612, 0.09382683249179224, 0.37654189355258727, 0.06666643361258923, 0.01234563585418319, 0.011111072268764871, 0.009876508683346552, 0.020987580952111423, 0.014814763025019828, 0.020987580952111423, 0.0019221925579806832, 0.36521658601632984, 0.0019221925579806832, 0.015377540463845466, 0.009610962789903416, 0.10572059068893758, 0.0019221925579806832, 0.41711578508180824, 0.0461326213915364, 0.02498850325374888, 0.009610962789903416, 0.9646503307101509, 0.029027622933378305, 0.06333299549100721, 0.905134060558978, 0.974337921790608, 0.9627499526498657, 0.17694385116713718, 0.09289552186274702, 0.10174271442110389, 0.04644776093137351, 0.12607249395658524, 0.03096517395424901, 0.07298933860644409, 0.05529495348973037, 0.00884719255835686, 0.011058990697946074, 0.03317697209383822, 0.015482586977124504, 0.2256034102380999, 0.9686866565029356, 0.9700574892577719, 0.09359340312352482, 0.8189422773308421, 0.08189422773308422, 0.9508976215693754, 0.9866281363845696, 0.950008222470224, 0.03333362184106049, 0.9730028947974567, 0.9365006184181953, 0.01232237655813415, 0.0246447531162683, 0.006161188279067075, 0.006161188279067075, 0.01232237655813415, 0.9064865356617722, 0.7867667303305798, 0.07389521776585556, 0.13475010298479542, 0.16901876120950343, 0.011524006446102507, 0.11524006446102507, 0.009603338705085422, 0.22855946118103304, 0.4590395901030832, 0.003841335482034169, 0.003841335482034169, 0.006072650687457398, 0.11538036306169057, 0.10930771237423317, 0.7590813359321747, 0.006072650687457398, 0.8908625026120099, 0.00995377097890514, 0.011197992351268282, 0.01617487784072085, 0.00497688548945257, 0.022395984702536564, 0.02488442744726285, 0.0074653282341788545, 0.0074653282341788545, 0.0037326641170894273, 0.0012442213723631425, 0.03025104357641161, 0.93778235086876, 0.9559114873875451, 0.01418792560129937, 0.0017734907001624213, 0.015961416301461792, 0.008867453500812106, 0.0017734907001624213, 0.8011979094750261, 0.1613523567692761, 0.005563874371354348, 0.005563874371354348, 0.020400872694965943, 0.0037092495809028987, 0.9798579854337222, 0.9618888728391359, 0.13270903550360771, 0.4127494710237415, 0.0006646529324053808, 0.04453174647116052, 0.0006646529324053808, 0.00022155097746846028, 0.3726487441019502, 0.00044310195493692055, 0.001550856842279222, 0.005538774436711507, 0.028358525115962915, 0.9737559150720935, 0.9454122772690958, 0.9598543389688572, 0.013029551053157642, 0.021047736316639268, 0.011025004737287234, 0.4249638189645262, 0.0060136389476112195, 0.008018185263481626, 0.5141661300207593, 0.0010022731579352032, 0.6554069542217105, 0.18307456821835486, 0.016476711139651937, 0.021968948186202583, 0.007322982728734195, 0.10252175820227873, 0.0036614913643670975, 0.009153728410917742, 0.986070948594982, 0.9598543407542948, 0.4312577158451301, 0.5621752367266875, 0.1189814381642783, 0.09824155444756924, 0.14736233167135385, 0.030564039161465984, 0.012007301099147352, 0.03493033047024684, 0.07859324355805539, 0.24014602198294702, 0.11570671968269265, 0.0010915728271952137, 0.021831456543904275, 0.006549436963171282, 0.012007301099147352, 0.048029204396589406, 0.03602190329744205, 0.3221699111672872, 0.22097551599294699, 0.10876676488126362, 0.052318190702379974, 0.01858672564426657, 0.01789832839818262, 0.08880324474482916, 0.01789832839818262, 0.020651917382518408, 0.06677453287014286, 0.01376794492167894, 0.02960108158160972, 0.002065191738251841, 0.015144739413846834, 0.0048187807225876286, 0.02483905757472183, 0.9687232454141514, 0.02679717199519724, 0.8575095038463116, 0.10718868798078895, 0.954368855553669, 0.8688131458724064, 0.028026230512013108, 0.056052461024026216, 0.04203934576801966, 0.9908990632950283, 0.06294106107038945, 0.912645385520647, 0.010396331293048868, 0.18713396327487963, 0.7901211782717139, 0.24117569741116415, 0.18701094267343227, 0.12771479011844153, 0.09350547133671613, 0.03934071659898422, 0.050173667546530604, 0.08096205445008348, 0.021095746582064003, 0.015394193451776436, 0.049033356920473094, 0.035349629407782926, 0.03135854221658163, 0.005131397817258812, 0.01653450407783395, 0.006841863756345082, 0.03551836214495511, 0.7458856050440572, 0.13192534510983325, 0.060888620819923044, 0.005074051734993586, 0.015222155204980761, 0.0010147686875761253, 0.007103380813032877, 0.0020295373751522505, 0.9893994703867222, 0.9414859829702443, 0.016232516947762832, 0.002029064618470354, 0.008116258473881416, 0.012174387710822125, 0.006087193855411063, 0.016232516947762832, 0.09447151315068643, 0.88173412273974, 0.977294654162701, 0.7336042866150199, 0.03195372573277763, 0.006657026194328674, 0.007988431433194408, 0.09452977195946717, 0.065238856704421, 0.0053256209554629385, 0.0013314052388657346, 0.010651241910925877, 0.009319836672060143, 0.0053256209554629385, 0.003994215716597204, 0.025296699538448958, 0.042806203008793474, 0.03646454330378704, 0.11256445976386432, 0.03170829852503221, 0.020610394041270932, 0.16646856725641906, 0.0015854149262516102, 0.012683319410012881, 0.020610394041270932, 0.05707493734505797, 0.37891416737413486, 0.023781223893774153, 0.06817284182881925, 0.025366638820025763, 0.00475624477875483, 0.017856185008151282, 0.16070566507336154, 0.035712370016302564, 0.7410316778382783, 0.035712370016302564, 0.52961063397028, 0.20941236802396274, 0.004053142606915408, 0.218869700773432, 0.001351047535638469, 0.03647828346223867, 0.879603226244266, 0.047754110689233256, 0.012614293389608785, 0.15047049971890478, 0.16849091884691733, 0.015317356258810666, 0.30003997848140895, 0.14596539493690164, 0.016218377215211296, 0.05856636216604079, 0.02072348199721443, 0.006307146694804392, 0.040545943038028234, 0.01441633530241004, 0.0027030628692018823, 0.014121138851919698, 0.005431207250738345, 0.028242277703839396, 0.002172482900295338, 0.4225479241074433, 0.009776173051329022, 0.03584596785487308, 0.14990132012037835, 0.0738644186100415, 0.1727123905734794, 0.001086241450147669, 0.03475972640472541, 0.03910469220531609, 0.009776173051329022, 0.9640520293010866, 0.9838690846481469, 0.024515770556644882, 0.024515770556644882, 0.9315992811525055, 0.9493286626860983, 0.9217957263131988, 0.9657663388482496, 0.0019301726742852008, 0.014958838225710307, 0.9539878442654605, 0.0033778021799991016, 0.0004825431685713002, 0.014476295057139005, 0.010615949708568604, 0.005047995610245027, 0.005047995610245027, 0.9793111483875352, 0.005047995610245027, 0.9645855197097016, 0.9767719227688315, 0.2698924530584662, 0.09814271020307863, 0.007010193585934187, 0.5345272609274818, 0.0017525483964835468, 0.0035050967929670935, 0.0560815486874735, 0.007010193585934187, 0.01752548396483547, 0.0017525483964835468, 0.021662623243367932, 0.9314927994648211, 0.021662623243367932, 0.9775136506826491, 0.9454122772826726, 0.9425457933697242, 0.8091598769959061, 0.09800383603366565, 0.03518086421721331, 0.015077513235948562, 0.015077513235948562, 0.02010335098126475, 0.0025129188726580936, 0.005025837745316187, 0.0025129188726580936, 0.03442814946976936, 0.9571025552595881, 0.008254089435297337, 0.8584253012709231, 0.04127044717648669, 0.008254089435297337, 0.008254089435297337, 0.0660327154823787, 0.008254089435297337, 0.015109158443068023, 0.9518769819132854, 0.015109158443068023, 0.015109158443068023, 0.9335455052000659, 0.04149091134222515, 0.986888133976135, 0.9710364233933443, 0.06410235373905504, 0.9294841292162981, 0.9700574891686339, 0.9847734867517886, 0.01486291495915945, 0.08917748975495669, 0.08174603227537697, 0.11147186219369587, 0.007431457479579725, 0.007431457479579725, 0.5647907684480591, 0.11147186219369587, 0.0179249245690239, 0.9769083890118024, 0.9685039018042111, 0.833379978329093, 0.043862104122583845, 0.11696561099355693, 0.3527538433133423, 0.09129537137242327, 0.09272933008507914, 0.06166022464420211, 0.06787404573237751, 0.021509380689837945, 0.07982370167117638, 0.0334590366286368, 0.03776091276660439, 0.044452720092331754, 0.04301876137967589, 0.028201188015565305, 0.013861600889006676, 0.01003771098859104, 0.021509380689837945, 0.010390678722219817, 0.005195339361109909, 0.9767237998886628, 0.9602829036317051, 0.20711172260727004, 0.0032530637058733516, 0.0010843545686244505, 0.08024223807820934, 0.7069991787431417, 0.0010843545686244505, 0.9588637426914193, 0.1371344487464538, 0.8228066924787228, 0.08439028588031935, 0.04307420841807967, 0.08351122040239936, 0.14944113124639885, 0.09757626804911924, 0.06592991084399949, 0.05977645249855954, 0.05977645249855954, 0.07999495849071939, 0.13625514907759895, 0.055381125108959574, 0.017581309558399864, 0.013185982168799898, 0.046590470329759645, 0.007911589301279939, 0.9592340751932622, 0.1287961831239905, 0.07216240047372517, 0.08860446640444736, 0.06759515993741345, 0.0977389474770708, 0.040191716719543136, 0.015528617823459847, 0.05754723075752767, 0.15345928202007378, 0.07855653722456157, 0.10413308422790721, 0.022836202681558598, 0.010047929179885784, 0.03927826861228079, 0.023749650788820943, 0.9325105739715949, 0.9871930381957071, 0.11052533163433315, 0.21525050009252053, 0.2410290030976128, 0.0928026108183322, 0.09860277399447796, 0.02513404042996497, 0.08055782189091337, 0.027711890730474198, 0.013533714077673446, 0.007733550901527684, 0.03898998579520207, 0.01578933309061902, 0.020945033691637475, 0.0035445441632001883, 0.00741131961396403, 0.0314240612852457, 0.12384777094773305, 0.3964977144520707, 0.04990880321774317, 0.022181690318996965, 0.04343914354136905, 0.03419677257512032, 0.07763591611648937, 0.0009242370966248735, 0.009242370966248735, 0.06562083386036602, 0.06931778224686551, 0.02403016451224671, 0.013863556449373102, 0.03789372096161982, 0.9685808933627515, 0.04643944860730028, 0.04643944860730028, 0.04643944860730028, 0.06191926480973371, 0.7739908101216714, 0.02391544595673186, 0.1195772297836593, 0.8609560544423469, 0.04481329912016068, 0.1120332478004017, 0.8066393841628923, 0.9828477045134458, 0.005128329458985772, 0.023932204141933606, 0.0444455219778767, 0.08119854976727472, 0.10427603233271071, 0.012820823647464431, 0.35898306212900405, 0.1162421344036775, 0.03333414148340752, 0.09401937341473916, 0.06068523193133164, 0.024786925718431232, 0.016239709953454945, 0.01367554522396206, 0.011966102070966803, 0.016719730767488145, 0.20063676920985773, 0.7691076153044546, 0.04435103285448548, 0.9313716899441952, 0.983958752408472, 0.9667651582974377, 0.9485227802564884, 0.13722523635387165, 0.0036111904303650433, 0.6933485626300884, 0.11375249855649887, 0.00902797607591261, 0.028889523442920347, 0.01083357129109513, 0.9480169458855482, 0.03121172075319137, 0.10924102263616979, 0.07412783678882949, 0.11704395282446763, 0.015605860376595684, 0.639840275440423, 0.007802930188297842, 0.003901465094148921, 0.9783193182065948, 0.04903717049629819, 0.9415136735289252, 0.957649334765422, 0.04947628995751245, 0.8905732192352241, 0.14309338219697232, 0.09634716507028061, 0.15593967087300972, 0.11525975673222459, 0.057808299042168367, 0.054596726873159016, 0.05994934715484127, 0.10134294399985072, 0.0431778036055702, 0.02569257735207483, 0.057808299042168367, 0.03318624574642999, 0.014630495436598168, 0.01605786084504677, 0.02569257735207483, 0.42828134083048414, 0.5635280800401107, 0.9702073371686689, 0.13280731452057273, 0.8632475443837229, 0.9846377398716659, 0.9913219862532109, 0.9800600211578501, 0.00325623311120659, 0.05535596289051203, 0.02930609800085931, 0.00325623311120659, 0.9068609214710353, 0.9808048526780322, 0.016802099874100297, 0.005600699958033432, 0.050406299622300886, 0.07840979941246805, 0.11761469911870207, 0.12881609903476893, 0.016802099874100297, 0.09521189928656834, 0.08401049937050148, 0.4032503969784071, 0.8849655743874715, 0.9844382192742523, 0.9302122135029909, 0.9577063583801516, 0.029021404799398534, 0.9775135175968911, 0.9940859908362637, 0.3814900488248515, 0.18201812787068078, 0.4263712310395399, 0.0012466995059635668, 0.007480197035781401, 0.9810483854340473, 0.008759360584232564, 0.2625008176940403, 0.019444505014373357, 0.7194466855318142, 0.13851406653026319, 0.02938177168823765, 0.10073750293110051, 0.07275486322801702, 0.040574827569471034, 0.3525812602588518, 0.08534705109440459, 0.08534705109440459, 0.013991319851541737, 0.002798263970308347, 0.01958784779215843, 0.0013991319851541736, 0.044772223524933555, 0.005596527940616694, 0.004197395955462521, 0.9419114225018217, 0.023547785562545543, 0.7340275805754901, 0.0060563331730651, 0.0363379990383906, 0.01695773288458228, 0.00363379990383906, 0.05692953182681194, 0.00242253326922604, 0.12960552990359314, 0.00121126663461302, 0.0060563331730651, 0.00121126663461302, 0.00121126663461302, 0.00363379990383906, 0.9862122127751617, 0.9914523219161518, 0.001700377658462012, 0.005101132975386035, 0.34687704232625044, 0.017003776584620118, 0.006801510633848048, 0.20574569667390344, 0.04761057443693634, 0.056112462729246394, 0.0425094414615503, 0.22274947325852357, 0.006801510633848048, 0.006801510633848048, 0.034007553169240236, 0.009634241834804562, 0.012845655779739418, 0.009634241834804562, 0.06743969284363194, 0.032114139449348544, 0.006422827889869709, 0.12203372990752447, 0.06422827889869709, 0.5587860264186647, 0.04817120917402282, 0.04817120917402282, 0.016057069724674272, 0.026555036683042234, 0.9559813205895205, 0.945270211164793, 0.03375965039874261, 0.18768544471076679, 0.1740098721062134, 0.13486944016904345, 0.058474862171193666, 0.0462140039740079, 0.041498289282782604, 0.07592300652872726, 0.03536786018418972, 0.03253843136945454, 0.07073572036837944, 0.06319057686241897, 0.05328757601084584, 0.005658857629470355, 0.017919715826656125, 0.0028294288147351775, 0.9166556971039139, 0.033950211003848665, 0.9617053569190196, 0.09448100880307814, 0.040491860915604916, 0.013497286971868305, 0.013497286971868305, 0.8368317922558349, 0.018469280042356373, 0.9696372022237096, 0.006608965191893187, 0.03304482595946593, 0.07930758230271824, 0.026435860767572747, 0.8459475445623279, 0.16694761945245148, 0.10499850280028396, 0.12494821833233791, 0.11497336056631094, 0.09502364503425698, 0.07087398939019167, 0.058799161568159015, 0.06457407922217463, 0.04987428883013488, 0.030974558326083767, 0.029924573298080927, 0.015749775420042595, 0.014174797878038334, 0.017324752962046854, 0.040424423578109325, 0.930836245274383, 0.955079528343758, 0.012244609337740487, 0.012244609337740487, 0.9420587150717128, 0.08957702976298916, 0.9047280006061905, 0.9228013715526935, 0.9739295106958735, 0.014833594411487887, 0.06427890911644751, 0.04944531470495962, 0.04573691610208765, 0.06180664338119953, 0.06180664338119953, 0.10012676227754325, 0.10507129374803921, 0.22126778330469432, 0.12237715389477508, 0.030903321690599766, 0.03832011889634371, 0.029667188822975775, 0.029667188822975775, 0.023486524484855824, 0.952931589103514, 0.13393743834227267, 0.1480361160625119, 0.7119832248720811, 0.909972966998011, 0.946051139496905, 0.021685868503474884, 0.8891206086424702, 0.04337173700694977, 0.021685868503474884, 0.04725419785687226, 0.8978297592805728, 0.010437481678286386, 0.0800206928668623, 0.05566656895086072, 0.01391664223771518, 0.034791605594287955, 0.11481229846115024, 0.5218740839143193, 0.01391664223771518, 0.15308306461486698, 0.017348707796282583, 0.08922192580945329, 0.2156196540395121, 0.10161385994965513, 0.34449576909761126, 0.0793083784972918, 0.016109514382262397, 0.1189625677459377, 0.016109514382262397, 0.0027891425952160554, 0.03625885373780872, 0.06415027968996927, 0.03625885373780872, 0.052993709309105054, 0.21197483723642022, 0.4741542411867294, 0.005578285190432111, 0.013945712976080276, 0.09483084823734587, 0.0027891425952160554, 0.0027891425952160554, 0.002838991058090584, 0.053940830103721096, 0.002838991058090584, 0.002838991058090584, 0.04542385692944934, 0.7693665767425483, 0.09936468703317043, 0.014194955290452919, 0.002838991058090584, 0.13715597625687584, 0.1814679070475588, 0.0021100919424134747, 0.029541287193788644, 0.014770643596894322, 0.008440367769653899, 0.008440367769653899, 0.5633945486243978, 0.004220183884826949, 0.018990827481721272, 0.0021100919424134747, 0.0021100919424134747, 0.025321103308961694, 0.015547700337742212, 0.07773850168871106, 0.09328620202645327, 0.07773850168871106, 0.6996465151983996, 0.015547700337742212, 0.01101892574090933, 0.6963961068254696, 0.01101892574090933, 0.028649206926364253, 0.039668132667273585, 0.017630281185454927, 0.059502199000910375, 0.06170598414909224, 0.02424163663000052, 0.002203785148181866, 0.04848327326000104, 0.964871160548482, 0.0022074324928710266, 0.16997230195106908, 0.04194121736454951, 0.01986689243583924, 0.02869662240732335, 0.6489851529040819, 0.024281757421581295, 0.006622297478613081, 0.052978379828904645, 0.0022074324928710266, 0.03686994703378348, 0.9463286405337761, 0.004915992937837797, 0.009831985875675594, 0.9602167946290737, 0.9849543994546812, 0.8895192393247162, 0.0057246720435679506, 0.9789189194501196, 0.011449344087135901, 0.9416646208022635, 0.037170971873773564, 0.012390323957924521, 0.12144865804007736, 0.007144038708239845, 0.007144038708239845, 0.6286754063251063, 0.22860923866367505, 0.8718293917547942, 0.010632065753107246, 0.10897867396934928, 0.005316032876553623, 0.0026580164382768116, 0.936023277977952, 0.922204559405848, 0.9392959142623699, 0.029503470894195315, 0.006808493283275842, 0.09077991044367789, 0.13616986566551684, 0.043120457460747, 0.013616986566551683, 0.03858146193856311, 0.31999918431396457, 0.011347488805459736, 0.20425479849827527, 0.022694977610919473, 0.03631196417747116, 0.03858146193856311, 0.011347488805459736, 0.06342705404327703, 0.01761862612313251, 0.6060807386357583, 0.0035237252246265015, 0.12333038286192756, 0.014094900898506006, 0.13742528376043356, 0.014094900898506006, 0.014094900898506006, 0.07577667804804818, 0.9093201365765781, 0.10077277366746187, 0.8817617695902914, 0.019585112780478833, 0.6441325981135261, 0.039170225560957665, 0.07834045112191533, 0.008704494569101703, 0.013056741853652555, 0.015232865495927981, 0.04569859648778394, 0.06528370926826277, 0.036994101918682236, 0.013056741853652555, 0.017408989138203407, 0.004352247284550852, 0.029386776059532615, 0.9599680179447321, 0.9588617777390692, 0.03671255576490721, 0.13461270447132642, 0.7464886338864466, 0.03671255576490721, 0.024475037176604805, 0.012237518588302403, 0.963233084364401, 0.046326702484424, 0.880207347204056, 0.046326702484424, 0.030884468322949332, 0.03183924340962179, 0.7535287606943823, 0.15919621704810896, 0.05306540568270298, 0.17341740558789612, 0.010446831661921454, 0.39071150415586237, 0.1128257819487517, 0.30086875186333784, 0.006268098997152872, 0.0041787326647685814, 0.12650829293204421, 0.0022194437356498984, 0.18199438632329168, 0.15758050523114278, 0.03773054350604827, 0.02663332482779878, 0.4660831844864787, 0.8210675706580739, 0.17022132562423484, 0.5147371208962797, 0.09668240437570993, 0.011988618142588031, 0.10557718557827525, 0.16513354667371255, 0.0007734592350056794, 0.07618573464805943, 0.006961133115051115, 0.009281510820068154, 0.0030938369400227176, 0.0011601888525085192, 0.0023203777050170384, 0.006187673880045435, 0.9669701369500151, 0.9133575750400816, 0.07025827500308321, 0.9550139370000656, 0.04062009690107814, 0.9545722771753362, 0.018506706225144394, 0.11104023735086636, 0.012337804150096263, 0.012337804150096263, 0.04318231452533692, 0.14805364980115515, 0.5983835012796687, 0.03701341245028879, 0.018506706225144394, 0.6878417972183746, 0.09050549963399665, 0.03620219985359866, 0.015838462435949413, 0.027151649890198994, 0.0022626374908499163, 0.029414287381048912, 0.09050549963399665, 0.013575824945099497, 0.004525274981699833, 0.1341155822583317, 0.8493986876361007, 0.011176298521527642, 0.016305988112194233, 0.9620532986194597, 0.07826987811741457, 0.8414011897622067, 0.07826987811741457, 0.6484017965539115, 0.05371375829440687, 0.007673394042058124, 0.046040364252348746, 0.03836697021029062, 0.09208072850469749, 0.042203667231319686, 0.061387152336464995, 0.6511672664234961, 0.10559469185245882, 0.2199889413592892, 0.017599115308743137, 0.006606082531573034, 0.7068508308783147, 0.17836422835247193, 0.07266690784730337, 0.006606082531573034, 0.026424330126292136, 0.9531265288823023, 0.00034582984208907384, 0.024553918788324244, 0.4205290879803138, 0.06674515952319125, 0.07366175636497273, 0.06639932968110218, 0.05637026426051904, 0.09579486625867346, 0.04115375120859979, 0.0224789397357898, 0.05913690299723163, 0.0224789397357898, 0.026283067998769612, 0.01348736384147388, 0.01072072510476129, 0.007153767302099981, 0.007153767302099981, 0.035768836510499905, 0.9371435165750975, 0.013393323357775069, 0.9375326350442548, 0.026786646715550137, 0.013393323357775069, 0.003410282612052176, 0.2444035871970726, 0.12277017403387833, 0.07673135877117396, 0.10912904358566963, 0.07275269572377975, 0.2154161849946291, 0.029555782637785525, 0.008525706530130439, 0.01534627175423479, 0.10230847836156527, 0.0005683804353420293, 0.0005683804353420293, 0.008013220574222499, 0.008013220574222499, 0.5262014843739441, 0.04807932344533499, 0.0053421470494816655, 0.08547435279170665, 0.008013220574222499, 0.0053421470494816655, 0.05075039697007582, 0.013355367623704165, 0.18163299968237664, 0.010684294098963331, 0.032052882296889997, 0.008013220574222499, 0.016026441148444998, 0.9461642969651621, 0.10516855934767404, 0.8939327544552294, 0.0068283568383951665, 0.03414178419197583, 0.10583953099512508, 0.11181434322872084, 0.047798497868766165, 0.06316230075515529, 0.09559699573753233, 0.2620381936734145, 0.007681901443194562, 0.04950558707836496, 0.013656713676790333, 0.1024253525759275, 0.04438431944956858, 0.011949624467191541, 0.043530774844769186, 0.15726941000341854, 0.006552892083475773, 0.02621156833390309, 0.34730328042421593, 0.46525533792677987, 0.06132927200286071, 0.005110772666905059, 0.12776931667262648, 0.005110772666905059, 0.015332318000715177, 0.7819482180364741, 0.21626585708506196, 0.0410631374212143, 0.00547508498949524, 0.06296347737919525, 0.15330237970586671, 0.01642525496848572, 0.00273754249474762, 0.02190033995798096, 0.04927576490545715, 0.33945526934870485, 0.01642525496848572, 0.01095016997899048, 0.0410631374212143, 0.024637882452728577, 0.011034880039251743, 0.048553472172707675, 0.11696972841606848, 0.03531161612560558, 0.04193254414915663, 0.0728302082590615, 0.033104640117755234, 0.3950487054052124, 0.039725568141306275, 0.013241856047102093, 0.019862784070653138, 0.05958835221195941, 0.048553472172707675, 0.024276736086353837, 0.03751859213345593, 0.03941757156024649, 0.9460217174459156, 0.9462342037737939, 0.9055934946404851, 0.9644602306174378, 0.18392514569559837, 0.10070426228200063, 0.030071411653652968, 0.03636542804627801, 0.045456785057847504, 0.05734548268836147, 0.006993351547361155, 0.03846343351048635, 0.03986210381995858, 0.13217434424512584, 0.20560453549241794, 0.06923418031887543, 0.006993351547361155, 0.025875400725236274, 0.020980054642083464, 0.14793436836582488, 0.8382947540730076, 0.9785210316922903, 0.9637739403713891, 0.9673960350688166, 0.04555131651536402, 0.07085760346834402, 0.15689897910847606, 0.06073508868715202, 0.5567383129655602, 0.020245029562384005, 0.010122514781192003, 0.055673831296556016, 0.020245029562384005, 0.9770978060838255, 0.008855871354234067, 0.005903914236156045, 0.0029519571180780225, 0.9914373614037711, 0.006544140999364826, 0.9772155182514123, 0.9804223508378601, 0.05167769706293185, 0.6511389829929413, 0.010335539412586369, 0.08268431530069095, 0.0361743879440523, 0.03100661823775911, 0.025838848531465924, 0.020671078825172738, 0.015503309118879555, 0.020671078825172738, 0.020671078825172738, 0.025838848531465924, 0.008601765234605225, 0.01720353046921045, 0.4042829660264456, 0.533309444545524, 0.02580529570381568, 0.9543688555177843, 0.06001522508043055, 0.15203857020375738, 0.01200304501608611, 0.03600913504825833, 0.016004060021448146, 0.020005075026810183, 0.6921755959276323, 0.0040010150053620365, 0.0040010150053620365, 0.9332286625089893, 0.9745424031821677, 0.17484218628735632, 0.12488727591954021, 0.16014956559093982, 0.0700348253195853, 0.10333809889812935, 0.06758605520351588, 0.10774588510705431, 0.01665163678927203, 0.03036474943926076, 0.0553422046231688, 0.026446717253549693, 0.017631144835699795, 0.023997947137480276, 0.013223358626774847, 0.008325818394636015, 0.0015624964630532232, 0.06171861029060231, 0.037499915113277354, 0.003906241157633058, 0.07578107845808132, 0.01484371639900562, 0.7984356926201971, 0.007031234083739504, 0.026649478262360873, 0.011844212561049278, 0.9445759517436798, 0.014805265701311597, 0.016526717374566326, 0.9337595316629974, 0.04131679343641582, 0.9870427033702243, 0.0060028895305232095, 0.05702745053997049, 0.7038387974538464, 0.03901878194840086, 0.15907657255886506, 0.033015892417877654, 0.9959029350150929, 0.9775136505129209, 0.4174568898512267, 0.38662930413913615, 0.024405172022071715, 0.0051379309520150985, 0.017982758332052845, 0.029543102974086813, 0.021836206546064166, 0.011560344642033971, 0.011560344642033971, 0.0025689654760075492, 0.007706896428022647, 0.01412931011804152, 0.0038534482140113236, 0.04367241309212833, 0.6927201456660907, 0.17804855149650525, 0.04173012925699342, 0.005564017234265789, 0.011128034468531578, 0.008346025851398682, 0.027820086171328945, 0.03338410340559473, 0.17194149304457976, 0.46477934838612966, 0.024179272459394028, 0.0026865858288215587, 0.016119514972929353, 0.013432929144107793, 0.024179272459394028, 0.013432929144107793, 0.010746343315286235, 0.013432929144107793, 0.04298537326114494, 0.19880735133279534, 0.9404682279843015, 0.03918617616601256, 0.9485475574354061, 0.038400155145985965, 0.9600038786496492, 0.15041153856902695, 0.34206495061665804, 0.019407940460519604, 0.004851985115129901, 0.012129962787824753, 0.012129962787824753, 0.15041153856902695, 0.009703970230259802, 0.08490973951477326, 0.2110613525081507, 0.9825801476195646, 0.0214861100577209, 0.20626665655412066, 0.6488805237431712, 0.11602499431169287, 0.00429722201154418, 0.9682774330172682, 0.028478748029919655, 0.06982653498028145, 0.9295657469249967, 0.9916959280809136, 0.8865569173780818, 0.01569127287394835, 0.0941476372436901, 0.9742834768198646, 0.9209822553393925, 0.018160644602259707, 0.11986025437491407, 0.05811406272723106, 0.07627470732949077, 0.0036321289204519413, 0.7191615262494844, 0.2240327564953848, 0.13888209498189505, 0.1958009863679176, 0.06875802079431524, 0.059195647041463455, 0.013205182801557233, 0.07422223436737341, 0.017758694112439036, 0.05418678459949347, 0.05054397555078803, 0.03551738822487807, 0.036883441618142616, 0.009107022621763609, 0.006374915835234527, 0.015937289588086316, 0.026807246528483826, 0.026807246528483826, 0.01419207169155026, 0.36741696712569005, 0.04730690563850087, 0.4651845721119252, 0.01419207169155026, 0.01419207169155026, 0.01103827798231687, 0.0015768968546166955, 0.006307587418466782, 0.006307587418466782, 0.932510574256129, 0.9406141204651044, 0.04703070602325522, 0.004054000384706519, 0.050675004808831484, 0.035134670000789826, 0.07094500673236408, 0.0614856725013822, 0.007432334038628617, 0.03040500288529889, 0.34999536654632946, 0.3236443640457371, 0.004054000384706519, 0.009459334230981878, 0.002702666923137679, 0.022297002115885853, 0.008783667500197457, 0.019594335192748173, 0.006302474643177392, 0.1463574667137861, 0.1715673652864957, 0.011904674326001742, 0.15756186607943481, 0.25490008556850785, 0.12254811806178263, 0.0028010998414121743, 0.0028010998414121743, 0.03781484785906435, 0.032912923136593046, 0.011204399365648697, 0.04201649762118262, 0.06979656600008581, 0.029081902500035752, 0.11341941975013943, 0.06688837575008223, 0.03199009275003933, 0.052347424500064355, 0.38097292275046835, 0.17158322475021093, 0.020357331750025028, 0.023265522000028602, 0.03199009275003933, 0.005816380500007151, 0.0029081902500035753, 0.9533692023710563, 0.019183218975040724, 0.028774828462561085, 0.028774828462561085, 0.019183218975040724, 0.8824280728518733, 0.019183218975040724, 0.920094878105105, 0.07460228741392744, 0.1131676175528062, 0.014264825741950362, 0.009509883827966907, 0.021872732804323888, 0.2168253512776455, 0.030431628249494105, 0.16832494375501428, 0.006656918679576835, 0.0009509883827966908, 0.2263352351056124, 0.02567668633551065, 0.010460872210763599, 0.02662767471830734, 0.12743244329475656, 0.0009509883827966908, 0.8433658375174399, 0.06054934218073927, 0.030274671090369635, 0.05622438916782932, 0.004324953012909948, 0.004324953012909948, 0.9745426131106915, 0.9514487299392298, 0.9804193335047174, 0.9769414547821593, 0.022935679412616344, 0.9518306956235782, 0.011467839706308172, 0.06474427672723698, 0.9249182389605284, 0.10046719553481985, 0.4142415894711538, 0.009898245865499493, 0.0009898245865499493, 0.010393158158774467, 0.26032386626263665, 0.002969473759649848, 0.004454210639474772, 0.004454210639474772, 0.04503701868802269, 0.02969473759649848, 0.027220176130123605, 0.006433859812574671, 0.08265035297692076, 0.001484736879824924, 0.8898083008908474, 0.05561301880567796, 0.04634418233806497, 0.08292001376928092, 0.9121201514620901, 0.9392959146034957, 0.007832735984521765, 0.5110860229900451, 0.01958183996130441, 0.09595101581039162, 0.350514935307349, 0.005874551988391324, 0.007832735984521765, 0.07053236933483056, 0.12216611339334288, 0.18966120366590802, 0.050621317704423845, 0.054671023120777755, 0.08774361735433467, 0.031385216976742784, 0.06378286030757405, 0.05028384225306102, 0.08875604370842315, 0.08200653468116663, 0.04420928412853016, 0.01079921444361042, 0.04657161228806994, 0.006412033575893687, 0.9343115845848639, 0.041058009710729225, 0.8211601942145844, 0.13490488904953887, 0.014047937071695955, 0.3652463638640948, 0.035119842679239885, 0.5829893884753822, 0.028498644091949125, 0.9404552550343211, 0.8807216296489583, 0.08807216296489583, 0.017614432592979165, 0.01174295506198611, 0.06035070315040011, 0.9052605472560017, 0.9325092755417557, 0.015092005740689834, 0.2892634433632218, 0.45276017222069503, 0.08049069728367911, 0.002515334290114972, 0.1534353916970133, 0.002515334290114972, 0.29075558132795004, 0.6952850857842283, 0.6976262317330785, 0.024265260234194036, 0.006066315058548509, 0.04246420540983956, 0.1395252463466157, 0.006066315058548509, 0.012132630117097018, 0.05459683552693658, 0.018198945175645527, 0.1308205219255007, 0.02378554944100013, 0.8324942304350045, 0.17789976833034188, 0.054987201120287495, 0.7601171919569153, 0.006469082484739705, 0.048763441378681195, 0.7021935558530092, 0.02925806482720872, 0.21455914206619725, 0.0021072554906592356, 0.17490220572471654, 0.08639747511702865, 0.061110409229117826, 0.07375394217307324, 0.010536277453296177, 0.1601514172901019, 0.3434826449774554, 0.010536277453296177, 0.014750788434614649, 0.012643532943955413, 0.029501576869229298, 0.012643532943955413, 0.008429021962636942, 0.11287431615729852, 0.008682639704407578, 0.8595813307363502, 0.008682639704407578, 0.7858912449679822, 0.02993871409401837, 0.13472421342308266, 0.007484678523504593, 0.03742339261752296, 0.1869768279042215, 0.004155040620093811, 0.008310081240187622, 0.008310081240187622, 0.03324032496075049, 0.6357212148743531, 0.037395365580844296, 0.08725585302197003, 0.991144582873199, 0.9944793975003763, 0.9629600167488294, 0.0356651858055122, 0.9393714423660544, 0.039140476765252265, 0.006706756602435873, 0.053654052819486986, 0.16766891506089682, 0.21126283297673001, 0.04024053961461524, 0.0368871613133973, 0.13078175374749954, 0.0033533783012179366, 0.2749770206998708, 0.026827026409743493, 0.043593917915833176, 0.0450230462671326, 0.9304762895207404, 0.06728330240056013, 0.5321497553498846, 0.391466486694168, 0.9934674362887709, 0.6206340488660395, 0.008275120651547192, 0.2656313729146649, 0.05461579630021147, 0.005792584456083034, 0.004965072390928315, 0.040548091192581244, 0.6263408201795324, 0.22822829885993923, 0.0034320044941344246, 0.09609612583576388, 0.0017160022470672123, 0.013728017976537698, 0.013728017976537698, 0.012012015729470485, 0.0034320044941344246, 0.0017160022470672123, 0.9681158072220613, 0.943960769854458, 0.9516062976360171, 0.9550139366685331, 0.9595574922595117, 0.955013936525113, 0.9891035339397435, 0.9846138486759588, 0.8597709445718127, 0.061412210326558046, 0.942426651993482, 0.9158139653851403, 0.04820073502027054, 0.01606691167342351, 0.9852503613309956, 0.9630607625787653, 0.9887250568857686, 0.9099878053803251, 0.047068334761051295, 0.03137888984070086, 0.9816113657989144, 0.032947429051956294, 0.88958058440282, 0.032947429051956294, 0.03635954400472057, 0.9453481441227348, 0.2883797808167763, 0.05925611934591294, 0.007900815912788392, 0.6439164968922539, 0.9739879726328824, 0.10663471948098882, 0.011848302164554313, 0.10663471948098882, 0.011848302164554313, 0.1658762303037604, 0.011848302164554313, 0.5805668060631614, 0.9835360487195329, 0.9534259704486874, 0.05080476133092439, 0.06350595166365548, 0.025402380665462194, 0.012701190332731097, 0.7112666586329415, 0.11431071299457987, 0.9561085364652137, 0.019918927843025284, 0.9157107061523161, 0.009249603092447638, 0.009249603092447638, 0.018499206184895277, 0.036998412369790554, 0.009249603092447638, 0.9927796928319466, 0.1232342167497635, 0.049293686699905394, 0.009858737339981079, 0.7394053004985809, 0.009858737339981079, 0.06408179270987702, 0.9692305038752492, 0.01563275006250402, 0.14846776716836171, 0.6928495801190213, 0.05498806191420804, 0.03299283714852482, 0.005498806191420804, 0.05498806191420804, 0.9745426130645136, 0.0431710948699096, 0.005631012374336035, 0.4223259280752026, 0.0037540082495573566, 0.037540082495573564, 0.03566307837079489, 0.02064704537256546, 0.04692510311946695, 0.01126202474867207, 0.3491227672088342, 0.005631012374336035, 0.015016032998229427, 0.23578539211064722, 0.02387700173272377, 0.7312331780646655, 0.002984625216590471, 0.950465448873913, 0.008741249807634834, 0.034964999230539334, 0.039335624134356754, 0.04370624903817417, 0.8566424811482137, 0.004370624903817417, 0.004370624903817417, 0.9334844489433591, 0.9700574891147481, 0.03802741341387595, 0.019013706706937975, 0.7871674576672322, 0.01521096536555038, 0.03422467207248835, 0.026619189389713166, 0.03042193073110076, 0.026619189389713166, 0.01521096536555038, 0.00760548268277519, 0.9518979516947468, 0.03339992812964024, 0.04513702479456523, 0.06018269972608697, 0.022568512397282615, 0.015045674931521742, 0.20311661157554353, 0.19559377410978265, 0.45889308541141316, 0.8895192394464461, 0.24874258337753738, 0.05628481813652306, 0.016340753652538953, 0.007262557178906201, 0.09986016120996026, 0.3159212372824197, 0.0036312785894531004, 0.05446917884179651, 0.0435753430734372, 0.0108938357683593, 0.014525114357812402, 0.1270947506308585, 0.0023926817961304626, 0.17466577111752377, 0.004785363592260925, 0.0023926817961304626, 0.0191414543690437, 0.02871218155356555, 0.13159749878717544, 0.45460954126478786, 0.007178045388391388, 0.00957072718452185, 0.09331459004908804, 0.07178045388391388, 0.22448172055976026, 0.003680028205897709, 0.029440225647181673, 0.18768143850078317, 0.003680028205897709, 0.018400141029488545, 0.03680028205897709, 0.49680380779619077, 0.9464160174973817, 0.9275826771868625, 0.05456368689334485, 0.9884859591934517, 0.0331463020287222, 0.9612427588329437, 0.9945643184317958, 0.9550139365193075, 0.22284646834126481, 0.7428215611375494, 0.0047678617628781296, 0.019071447051512518, 0.2526966734325409, 0.00635714901717084, 0.049267904883074004, 0.40685753709893374, 0.038142894103025037, 0.12396440583483137, 0.019071447051512518, 0.02066073430580523, 0.04132146861161046, 0.0047678617628781296, 0.0047678617628781296, 0.00635714901717084, 0.03993065972967799, 0.1863430787384973, 0.7364988350140608, 0.017746959879856885, 0.004436739969964221, 0.013310219909892665, 0.9741457917924183, 0.9699871344995091, 0.9493286625931898, 0.009552616925875968, 0.009552616925875968, 0.7880908963847674, 0.08119724386994573, 0.06209201001819379, 0.009552616925875968, 0.0286578507776279, 0.004776308462937984, 0.9538392070660932, 0.027252548773316947, 0.011911725701484832, 0.845732524805423, 0.11911725701484832, 0.017867588552227247, 0.0011529659654610943, 0.050730502480288146, 0.18447455447377506, 0.0807076175822766, 0.009223727723688754, 0.26402920609059055, 0.03574194492929392, 0.06687202599674347, 0.004611863861844377, 0.023059319309221882, 0.03574194492929392, 0.12221439233887599, 0.06456609406582127, 0.0023059319309221885, 0.05418940037667143, 0.9373746419489923, 0.8849655743874715, 0.9834750155319292, 0.9678187957668555, 0.043164413555799044, 0.7337950304485837, 0.012332689587371156, 0.026720827439304172, 0.002055448264561859, 0.05960799967229392, 0.006166344793685578, 0.002055448264561859, 0.018499034381056732, 0.09043972364072181, 0.5034875205799669, 0.25003121770297676, 0.00114169505800446, 0.00228339011600892, 0.044526107262173945, 0.00114169505800446, 0.00228339011600892, 0.006850170348026761, 0.00114169505800446, 0.011416950580044601, 0.17696273399069132, 0.9734443071119848, 0.07475848847480791, 0.897101861697695, 0.9480169455021344, 0.9666381343250641, 0.9500124988161148, 0.06903466607917949, 0.33356573167461945, 0.025047976188020876, 0.0390992799032521, 0.13134914342498752, 0.09224986352173542, 0.007942041230348083, 0.013440377466742908, 0.044597616139646926, 0.17228120207370456, 0.014051303715231223, 0.015273156212207852, 0.024437049939532562, 0.012829451218254595, 0.004887409987906512, 0.13145548094949094, 0.6052526207674442, 0.0013935209994645683, 0.0013935209994645683, 0.01811577299303939, 0.16954505493485583, 0.0162577449937533, 0.04552168598250923, 0.0009290139996430456, 0.0013935209994645683, 0.008825632996608932, 0.2397989655938388, 0.10744239367516153, 0.05917117332834983, 0.029585586664174914, 0.02024276982285652, 0.007785680701098662, 0.3456842231287806, 0.024914178243515717, 0.0482712203468117, 0.037371267365273575, 0.017128497542417055, 0.04204267578593277, 0.01401422526197759, 0.009342816841318394, 0.02230741496305286, 0.959218843411273, 0.877959604121164, 0.06125299563636028, 0.05104416303030024, 0.9004808211636461, 0.019575670025296657, 0.019575670025296657, 0.039151340050593314, 0.009787835012648329, 0.009787835012648329, 0.004286368390251485, 0.10930239395141288, 0.00042863683902514855, 0.8632745937966492, 0.0017145473561005942, 0.0017145473561005942, 0.0008572736780502971, 0.006429552585377227, 0.010287284136603564, 0.0017145473561005942, 0.9876359544086547, 0.9411315844765541, 0.03647796839056411, 0.014591187356225645, 0.035742082942341206, 0.27943810300375854, 0.5361312441351181, 0.0032492802674855643, 0.009747840802456692, 0.13322049096690813, 0.5973355434405013, 0.013473734062567699, 0.13024609593815442, 0.02919309046889668, 0.22905347906365087, 0.016394630050434244, 0.652141950895051, 0.31878447320288805, 0.012751378928115523, 0.0008730820035962316, 0.06460806826612113, 0.0021827050089905787, 0.8682800525764522, 0.0043654100179811575, 0.005238492021577389, 0.05369454322116824, 0.9897657428194725, 0.028160395421120178, 0.8659321591994454, 0.07744108740808049, 0.0070400988552800445, 0.0070400988552800445, 0.0070400988552800445, 0.9649452760841087, 0.03089702605786278, 0.9578078077937462, 0.7994879911205692, 0.1998719977801423, 0.03718486304972026, 0.8924367131932862, 0.03718486304972026, 0.003784617139037095, 0.019463745286476486, 0.39684414000760393, 0.022167043242931554, 0.013516489782275338, 0.10650993948432967, 0.002703297956455068, 0.040008809755535, 0.013516489782275338, 0.021085724060349528, 0.05514727831168338, 0.04703738444231818, 0.12921764231855223, 0.02757363915584169, 0.10110334357141953, 0.01311403540577184, 0.24916667270966497, 0.01311403540577184, 0.09179824784040289, 0.6294736994770483, 0.038217656496605676, 0.16720224717264984, 0.0047772070620757095, 0.009554414124151419, 0.0047772070620757095, 0.7595759228700378, 0.0047772070620757095, 0.0047772070620757095, 0.05142283601008401, 0.9256110481815122, 0.9512949377321624, 0.9705550340377552, 0.9460036281845978, 0.036384754930176844, 0.021257774902387404, 0.9565998706074332, 0.9332646049714932, 0.053617856890975674, 0.09383124955920744, 0.08042678533646351, 0.013404464222743918, 0.013404464222743918, 0.7372455322509155, 0.2759695051132996, 0.021228423470253815, 0.6793095510481221, 0.9730415829377991, 0.15388042829255924, 0.07332557321323292, 0.02685161835977544, 0.0784893459747282, 0.04544120030115843, 0.10327545522990553, 0.027884372912074493, 0.09398066425921403, 0.06403078224254143, 0.17143725568164317, 0.05576874582414899, 0.04027742753966316, 0.01755682738908394, 0.024786109255177328, 0.022720600150579216, 0.010810949316132346, 0.8000102493937936, 0.021621898632264692, 0.043243797264529385, 0.010810949316132346, 0.06486569589679407, 0.032432847948397035, 0.021621898632264692, 0.010954146680478232, 0.06572488008286939, 0.06572488008286939, 0.657248800828694, 0.142403906846217, 0.021908293360956465, 0.032862440041434696, 0.1490081631809986, 0.18003872912178387, 0.09585679775767333, 0.052844132097178885, 0.054073065401764445, 0.054073065401764445, 0.1573034629869511, 0.02242803280868639, 0.031030565940785276, 0.045470532269665555, 0.06574793179532722, 0.023042499460979166, 0.0064518998490741665, 0.03441013252839555, 0.028879932657760555, 0.022773055025527317, 0.043475832321461245, 0.11386527512763658, 0.05796777642861499, 0.45753137824013973, 0.01656222183674714, 0.060038054158208384, 0.024843332755120708, 0.026913610484714103, 0.09730305329088945, 0.012421666377560354, 0.014491944107153747, 0.026913610484714103, 0.026913610484714103, 0.017441111314487726, 0.15081431548409974, 0.06463470663604275, 0.009233529519434678, 0.09849098154063657, 0.14978836775971813, 0.005129738621908155, 0.07899797477738559, 0.04411575214841013, 0.1456845768621916, 0.04411575214841013, 0.051297386219081545, 0.03283032718021219, 0.07079039298233254, 0.03590817035335708, 0.01183306534855592, 0.1041309750672921, 0.17039614101920528, 0.01183306534855592, 0.10886420120671447, 0.007099839209133553, 0.007099839209133553, 0.06389855288220198, 0.3739248650143671, 0.06389855288220198, 0.02366613069711184, 0.018932904557689475, 0.0023666130697111844, 0.030765969906245395, 0.604846406586127, 0.02199441478495007, 0.33816412731860734, 0.013746509240593795, 0.005498603696237518, 0.013746509240593795, 0.8997794527144027, 0.04735681330075804, 0.9790333029680497, 0.0728072559996667, 0.06296843762133336, 0.12593687524266672, 0.10035594745900005, 0.09150101091850005, 0.08362995621583337, 0.22235729535033344, 0.10822700216166671, 0.024597045945833344, 0.03246810064850002, 0.018693754918833343, 0.045258564540333356, 0.009838818378333338, 0.0019677636756666676, 0.11160765600924398, 0.07146419080433804, 0.10499060130513861, 0.08822739605473832, 0.08778625907446463, 0.0683762319424222, 0.0635237251594116, 0.12043039561471781, 0.08999194397583309, 0.04323142406682178, 0.04631938292873762, 0.03573209540216902, 0.014998657329305515, 0.02205684901368458, 0.0317618625797058, 0.013298197905408576, 0.02659639581081715, 0.07978918743245146, 0.877681061756966, 0.97667130738766, 0.013564879269273055, 0.015246834754506357, 0.04878987121442034, 0.054888605116222886, 0.02439493560721017, 0.015246834754506357, 0.006098733901802543, 0.19211011790678012, 0.0030493669509012713, 0.493997446046006, 0.009148100852703815, 0.10977721023244577, 0.01829620170540763, 0.9804193333287036, 0.04939169253768852, 0.4826915407092287, 0.04939169253768852, 0.05163676947121981, 0.04490153867062593, 0.08531292347418926, 0.04490153867062593, 0.026940923202375556, 0.0628621541388763, 0.004490153867062593, 0.09878338507537704, 0.023367580736494534, 0.973649197353939, 0.9209822553393925, 0.13640862094272754, 0.06820431047136377, 0.040922586282818266, 0.7366065530907288, 0.9204703763151708, 0.9324341512642186, 0.043369030291359, 0.0216845151456795, 0.9552398237259094, 0.031319338482816705, 0.9891220475061229, 0.23299747725439784, 0.010590794420654448, 0.021181588841308895, 0.04236317768261779, 0.5824936931359946, 0.09531714978589002, 0.9655271623891908, 0.9849401552289715, 0.9953482527392683, 0.0025723743013467307, 0.13762202512205007, 0.03729942736952759, 0.11189828210858278, 0.025723743013467307, 0.2520926815319796, 0.1440529608754169, 0.2225103770664922, 0.0077171229040401915, 0.012861871506733654, 0.01672043295875375, 0.0012861871506733653, 0.023151368712120576, 0.0038585614520200958, 0.8413640623511409, 0.10517050779389261, 0.04674244790839672, 0.7197660227511989, 0.0069398927813476485, 0.04857924946943354, 0.2240593955120812, 0.036724867327345416, 0.04039735406007996, 0.17444311980489072, 0.22585793406317428, 0.0018362433663672707, 0.018362433663672708, 0.09181216831836353, 0.02937989386187633, 0.05692354435738539, 0.05692354435738539, 0.047742327525549036, 0.05325105762465085, 0.044069840792814494, 0.12302830554660714, 0.9228013712968282, 0.984305852740836, 0.9356652113067664, 0.9727605651503757, 0.013510563404866328, 0.9598765650506821, 0.026663237918074505, 0.07639492117015426, 0.014691330994260433, 0.002938266198852087, 0.3687524079559369, 0.002938266198852087, 0.0609690236261808, 0.002938266198852087, 0.4003387695935968, 0.0036728327485651083, 0.0168950306433995, 0.019098730292538564, 0.02277156304110367, 0.007345665497130217, 0.01597338516850854, 0.025557416269613664, 0.07028289474143758, 0.07667224880884099, 0.006389354067403416, 0.09584031101105124, 0.2332114234602247, 0.054309509572929036, 0.36099850480829304, 0.06069886364033245, 0.9734443065971226, 0.13171980702994027, 0.03039687854537083, 0.050661464242284716, 0.03039687854537083, 0.010132292848456943, 0.709260499391986, 0.03039687854537083, 0.9805833810738246, 0.06873433905147737, 0.027493735620590945, 0.7973183329971375, 0.10997494248236378, 0.015957378366460755, 0.9734000803541062, 0.005319126122153585, 0.9496908780146032, 0.02013955950441635, 0.8861406181943194, 0.0805582380176654, 0.9780519615297549], \"Term\": [\"001\", \"001\", \"102\", \"102\", \"102\", \"10\\uc2dc\\uac04\", \"10\\uc2dc\\uac04\", \"119\", \"119\", \"119\", \"119\", \"119\", \"174\\ub9cc\", \"1\\ub144\", \"1\\ub144\", \"1\\ub144\", \"1\\ub144\", \"1\\ub144\", \"1\\ub144\", \"1\\ub144\", \"1\\ub144\", \"1\\ub144\", \"1\\ub144\", \"1\\ub144\", \"1\\ub144\", \"1\\ub144\", \"1\\ub144\", \"1\\ub144\", \"200\\ub9cc\", \"200\\ub9cc\", \"200\\ub9cc\", \"200\\ub9cc\", \"200\\ub9cc\", \"200\\ub9cc\", \"326\", \"aid\", \"aid\", \"and\", \"and\", \"and\", \"cctv\", \"cctv\", \"cctv\", \"cctv\", \"cctv\", \"center\", \"cj\", \"cj\", \"cj\", \"cj\", \"co\", \"co\", \"co\", \"co\", \"co\", \"co\", \"co\", \"co\", \"co\", \"com\", \"com\", \"com\", \"com\", \"com\", \"com\", \"com\", \"com\", \"com\", \"com\", \"com\", \"com\", \"crps\", \"ct\", \"gdi\", \"gm\", \"gm\", \"gp\", \"gtx\", \"have\", \"http\", \"http\", \"http\", \"http\", \"http\", \"http\", \"http\", \"http\", \"http\", \"http\", \"http\", \"http\", \"ic\", \"ico\", \"in\", \"kbs\", \"kbs\", \"kbs\", \"kbs\", \"kbs\", \"kbs\", \"kbs\", \"kfa\", \"khk\", \"kr\", \"kr\", \"kr\", \"kr\", \"kr\", \"kr\", \"kr\", \"kr\", \"kr\", \"kr\", \"kt\", \"kt\", \"kt\", \"kt\", \"kt\", \"lh\", \"lh\", \"lsd\", \"main\", \"main\", \"mid\", \"mode\", \"naver\", \"naver\", \"naver\", \"naver\", \"naver\", \"naver\", \"naver\", \"naver\", \"naver\", \"news\", \"news\", \"news\", \"news\", \"news\", \"news\", \"news\", \"nhn\", \"of\", \"of\", \"of\", \"oid\", \"permanent\", \"phc\", \"read\", \"read\", \"rec\", \"sds\", \"sds\", \"sec\", \"sec\", \"sid1\", \"srf\", \"that\", \"the\", \"the\", \"the\", \"the\", \"the\", \"this\", \"tm\", \"to\", \"to\", \"to\", \"volte\", \"www\", \"www\", \"www\", \"www\", \"www\", \"www\", \"www\", \"www\", \"www\", \"\\uac00\\ub2e4\", \"\\uac00\\ub2e4\", \"\\uac00\\ub2e4\", \"\\uac00\\ub2e4\", \"\\uac00\\ub2e4\", \"\\uac00\\ub2e4\", \"\\uac00\\ub2e4\", \"\\uac00\\ub2e4\", \"\\uac00\\ub2e4\", \"\\uac00\\ub2e4\", \"\\uac00\\ub2e4\", \"\\uac00\\ub2e4\", \"\\uac00\\ub2e4\", \"\\uac00\\ub2e4\", \"\\uac00\\ub2e4\", \"\\uac00\\ub9f9\", \"\\uac00\\ub9f9\", \"\\uac00\\uc0c1\", \"\\uac00\\uc0c1\", \"\\uac00\\uc0c1\", \"\\uac00\\uc815\", \"\\uac00\\uc815\", \"\\uac00\\uc815\", \"\\uac00\\uc815\", \"\\uac00\\uc815\", \"\\uac00\\uc815\", \"\\uac00\\uc815\", \"\\uac00\\uc815\", \"\\uac00\\uc815\", \"\\uac00\\uc815\", \"\\uac00\\uc815\", \"\\uac00\\uc815\", \"\\uac00\\uc815\", \"\\uac00\\uc871\", \"\\uac00\\uc871\", \"\\uac00\\uc871\", \"\\uac00\\uc871\", \"\\uac00\\uc871\", \"\\uac00\\uc871\", \"\\uac00\\uc871\", \"\\uac00\\uc871\", \"\\uac00\\uc871\", \"\\uac00\\uc871\", \"\\uac00\\uc871\", \"\\uac00\\uc871\", \"\\uac00\\uc871\", \"\\uac00\\uc871\", \"\\uac00\\uc871\", \"\\uac00\\ucd95\", \"\\uac00\\ud574\", \"\\uac00\\ud574\", \"\\uac00\\ud574\", \"\\uac00\\ud574\", \"\\uac00\\ud574\", \"\\uac00\\ud574\", \"\\uac00\\ud574\\uc790\", \"\\uac00\\ud574\\uc790\", \"\\uac00\\ud574\\uc790\", \"\\uac00\\ud574\\uc790\", \"\\uac00\\ud574\\uc790\", \"\\uac01\\uc8fc\", \"\\uac01\\uc8fc\", \"\\uac04\\ud638\\uc0ac\", \"\\uac04\\ud638\\uc0ac\", \"\\uac04\\ud638\\uc0ac\", \"\\uac10\\uc0ac\", \"\\uac10\\uc0ac\", \"\\uac10\\uc0ac\", \"\\uac10\\uc0ac\", \"\\uac10\\uc0ac\", \"\\uac10\\uc0ac\", \"\\uac10\\uc0ac\", \"\\uac10\\uc0ac\", \"\\uac10\\uc0ac\", \"\\uac10\\uc0ac\", \"\\uac10\\uc0ac\", \"\\uac10\\uc0ac\", \"\\uac10\\uc0ac\", \"\\uac10\\uc0ac\", \"\\uac11\\uc9c8\", \"\\uac11\\uc9c8\", \"\\uac11\\uc9c8\", \"\\uac11\\uc9c8\", \"\\uac11\\uc9c8\", \"\\uac11\\uc9c8\", \"\\uac11\\uc9c8\", \"\\uac11\\uc9c8\", \"\\uac15\\uc0ac\", \"\\uac15\\uc0ac\", \"\\uac15\\uc0ac\", \"\\uac15\\uc0ac\", \"\\uac15\\uc0ac\", \"\\uac15\\uc544\\uc9c0\", \"\\uac15\\uc544\\uc9c0\", \"\\uac15\\uc544\\uc9c0\", \"\\uac15\\uc740\\ud76c\", \"\\uac15\\ud0c8\", \"\\uac15\\ud0c8\", \"\\uac15\\ud0c8\", \"\\uac15\\ud0c8\", \"\\uac19\\ub2e4\", \"\\uac19\\ub2e4\", \"\\uac19\\ub2e4\", \"\\uac19\\ub2e4\", \"\\uac19\\ub2e4\", \"\\uac19\\ub2e4\", \"\\uac19\\ub2e4\", \"\\uac19\\ub2e4\", \"\\uac19\\ub2e4\", \"\\uac19\\ub2e4\", \"\\uac19\\ub2e4\", \"\\uac19\\ub2e4\", \"\\uac19\\ub2e4\", \"\\uac19\\ub2e4\", \"\\uac19\\ub2e4\", \"\\uac1c\\uacbd\", \"\\uac1c\\uace0\\uae30\", \"\\uac1c\\uace0\\uae30\", \"\\uac1c\\uace0\\uae30\", \"\\uac1c\\ubc1c\", \"\\uac1c\\ubc1c\", \"\\uac1c\\ubc1c\", \"\\uac1c\\ubc1c\", \"\\uac1c\\ubc1c\", \"\\uac1c\\ubc1c\", \"\\uac1c\\ubc1c\", \"\\uac1c\\ubc1c\", \"\\uac1c\\ubc1c\", \"\\uac1c\\ubc1c\", \"\\uac1c\\ubc1c\", \"\\uac1c\\uc120\", \"\\uac1c\\uc120\", \"\\uac1c\\uc120\", \"\\uac1c\\uc120\", \"\\uac1c\\uc120\", \"\\uac1c\\uc120\", \"\\uac1c\\uc120\", \"\\uac1c\\uc120\", \"\\uac1c\\uc120\", \"\\uac1c\\uc120\", \"\\uac1c\\uc120\", \"\\uac1c\\uc120\", \"\\uac1c\\uc120\", \"\\uac1c\\uc120\", \"\\uac1c\\uc120\", \"\\uac1c\\uc778\", \"\\uac1c\\uc778\", \"\\uac1c\\uc778\", \"\\uac1c\\uc778\", \"\\uac1c\\uc778\", \"\\uac1c\\uc778\", \"\\uac1c\\uc778\", \"\\uac1c\\uc778\", \"\\uac1c\\uc778\", \"\\uac1c\\uc778\", \"\\uac1c\\uc778\", \"\\uac1c\\uc778\", \"\\uac1c\\uc778\", \"\\uac1c\\uc778\", \"\\uac1c\\uc885\", \"\\uac1c\\uc885\", \"\\uac1c\\uccb4\", \"\\uac1c\\uccb4\", \"\\uac1c\\uccb4\", \"\\uac1c\\uccb4\", \"\\uac1c\\ud3ec\", \"\\uac70\\ub798\", \"\\uac70\\ub798\", \"\\uac70\\ub798\", \"\\uac70\\ub798\", \"\\uac70\\ub798\", \"\\uac70\\ub798\", \"\\uac70\\ub798\", \"\\uac70\\ub798\", \"\\uac70\\ub798\", \"\\uac70\\ub798\", \"\\uac70\\ub798\\ub7c9\", \"\\uac70\\ucc3d\", \"\\uac74\\uac15\", \"\\uac74\\uac15\", \"\\uac74\\uac15\", \"\\uac74\\uac15\", \"\\uac74\\uac15\", \"\\uac74\\uac15\", \"\\uac74\\uac15\", \"\\uac74\\uac15\", \"\\uac74\\uac15\", \"\\uac74\\uac15\", \"\\uac74\\uac15\", \"\\uac74\\ub9bd\", \"\\uac74\\ub9bd\", \"\\uac74\\ub9bd\", \"\\uac74\\ub9bd\", \"\\uac74\\ub9bd\", \"\\uac74\\ub9bd\", \"\\uac74\\uc124\", \"\\uac74\\uc124\", \"\\uac74\\uc124\", \"\\uac74\\uc124\", \"\\uac74\\uc124\", \"\\uac74\\uc124\", \"\\uac74\\uc124\", \"\\uac74\\uc124\", \"\\uac74\\uc6b0\", \"\\uac74\\ucd95\\uc0ac\", \"\\uac74\\ucd95\\ud559\", \"\\uac78\\ud3ec\", \"\\uac80\\ucc30\", \"\\uac80\\ucc30\", \"\\uac80\\ucc30\", \"\\uac80\\ucc30\", \"\\uac80\\ucc30\", \"\\uac80\\ucc30\", \"\\uac80\\ucc30\", \"\\uac80\\ucc30\", \"\\uac80\\ucc30\", \"\\uac80\\ucc30\", \"\\uac80\\ucc30\", \"\\uac80\\ucc30\", \"\\uac80\\ucc30\", \"\\uac8c\\uc784\", \"\\uac8c\\uc784\", \"\\uac8c\\uc784\", \"\\uac8c\\uc784\", \"\\uac8c\\uc784\", \"\\uac8c\\uc784\", \"\\uac8c\\uc784\", \"\\uac8c\\ud1a0\", \"\\uacac\\ubbf8\\ub9ac\", \"\\uacb0\\ud575\", \"\\uacb0\\ud575\", \"\\uacb0\\ud575\", \"\\uacb0\\ud63c\", \"\\uacb0\\ud63c\", \"\\uacb0\\ud63c\", \"\\uacb0\\ud63c\", \"\\uacb0\\ud63c\", \"\\uacb0\\ud63c\", \"\\uacb0\\ud63c\", \"\\uacb0\\ud63c\", \"\\uacb0\\ud63c\", \"\\uacb0\\ud63c\", \"\\uacbd\\uae30\", \"\\uacbd\\uae30\", \"\\uacbd\\uae30\", \"\\uacbd\\uae30\", \"\\uacbd\\uae30\", \"\\uacbd\\uae30\", \"\\uacbd\\uae30\", \"\\uacbd\\uae30\", \"\\uacbd\\uae30\", \"\\uacbd\\uae30\", \"\\uacbd\\uae30\\ub3c4\", \"\\uacbd\\uae30\\ub3c4\", \"\\uacbd\\uae30\\ub3c4\", \"\\uacbd\\uae30\\ub3c4\", \"\\uacbd\\uae30\\ub3c4\", \"\\uacbd\\uae30\\ub3c4\", \"\\uacbd\\uae30\\ub3c4\", \"\\uacbd\\uae30\\ub3c4\", \"\\uacbd\\uae30\\ub3c4\", \"\\uacbd\\uae30\\ub3c4\", \"\\uacbd\\uae30\\ub3c4\", \"\\uacbd\\uae30\\ub3c4\", \"\\uacbd\\ube44\\uc815\", \"\\uacbd\\uc6b0\", \"\\uacbd\\uc6b0\", \"\\uacbd\\uc6b0\", \"\\uacbd\\uc6b0\", \"\\uacbd\\uc6b0\", \"\\uacbd\\uc6b0\", \"\\uacbd\\uc6b0\", \"\\uacbd\\uc6b0\", \"\\uacbd\\uc6b0\", \"\\uacbd\\uc6b0\", \"\\uacbd\\uc6b0\", \"\\uacbd\\uc6b0\", \"\\uacbd\\uc6b0\", \"\\uacbd\\uc6b0\", \"\\uacbd\\uc6b0\", \"\\uacbd\\ucc30\", \"\\uacbd\\ucc30\", \"\\uacbd\\ucc30\", \"\\uacbd\\ucc30\", \"\\uacbd\\ucc30\", \"\\uacbd\\ucc30\", \"\\uacbd\\ucc30\", \"\\uacbd\\ucc30\", \"\\uacbd\\ucc30\", \"\\uacbd\\ucc30\", \"\\uacbd\\ucc30\", \"\\uacbd\\ucc30\", \"\\uacbd\\ucd98\\uc120\", \"\\uacc4\\uc57d\", \"\\uacc4\\uc57d\", \"\\uacc4\\uc57d\", \"\\uacc4\\uc57d\", \"\\uacc4\\uc57d\", \"\\uacc4\\uc57d\", \"\\uacc4\\uc57d\", \"\\uacc4\\uc57d\", \"\\uacc4\\uc57d\\uae08\", \"\\uacc4\\uc57d\\uae08\", \"\\uacc4\\uc57d\\uc11c\", \"\\uacc4\\uc57d\\uc11c\", \"\\uacc4\\uc57d\\uc11c\", \"\\uacc4\\uc57d\\uc11c\", \"\\uacc4\\ud68d\", \"\\uacc4\\ud68d\", \"\\uacc4\\ud68d\", \"\\uacc4\\ud68d\", \"\\uacc4\\ud68d\", \"\\uacc4\\ud68d\", \"\\uacc4\\ud68d\", \"\\uacc4\\ud68d\", \"\\uacc4\\ud68d\", \"\\uacc4\\ud68d\", \"\\uacc4\\ud68d\", \"\\uacc4\\ud68d\", \"\\uacc4\\ud68d\", \"\\uacc4\\ud68d\", \"\\uace0\\uac1d\", \"\\uace0\\uac1d\", \"\\uace0\\uac1d\", \"\\uace0\\uac1d\", \"\\uace0\\uac1d\", \"\\uace0\\uac1d\", \"\\uace0\\uac1d\", \"\\uace0\\uac1d\", \"\\uace0\\uac1d\", \"\\uace0\\ub4f1\\ud559\\uad50\", \"\\uace0\\ub4f1\\ud559\\uad50\", \"\\uace0\\ub4f1\\ud559\\uad50\", \"\\uace0\\ub4f1\\ud559\\uad50\", \"\\uace0\\ub4f1\\ud559\\uad50\", \"\\uace0\\ub798\\uace0\\uae30\", \"\\uace0\\ub839\\ubcf4\", \"\\uace0\\uc18d\\ub3c4\\ub85c\", \"\\uace0\\uc18d\\ub3c4\\ub85c\", \"\\uace0\\uc18d\\ub3c4\\ub85c\", \"\\uace0\\uc18d\\ub3c4\\ub85c\", \"\\uace0\\uc18d\\ub3c4\\ub85c\", \"\\uace0\\uc18d\\ub3c4\\ub85c\", \"\\uace0\\uc18d\\ub3c4\\ub85c\", \"\\uace0\\uc591\\uc774\", \"\\uace0\\uc591\\uc774\", \"\\uace0\\uc591\\uc774\", \"\\uace0\\uc591\\uc774\", \"\\uace0\\ud615\", \"\\uace8\\ub4dc\\ub9cc\\uc0ad\\uc2a4\", \"\\uace8\\uc218\", \"\\uace8\\uc808\", \"\\uacf5\\uacf5\", \"\\uacf5\\uacf5\", \"\\uacf5\\uacf5\", \"\\uacf5\\uacf5\", \"\\uacf5\\uacf5\", \"\\uacf5\\uacf5\", \"\\uacf5\\uacf5\", \"\\uacf5\\uacf5\", \"\\uacf5\\uacf5\", \"\\uacf5\\uacf5\", \"\\uacf5\\uacf5\", \"\\uacf5\\uacf5\", \"\\uacf5\\uae09\", \"\\uacf5\\uae09\", \"\\uacf5\\uae09\", \"\\uacf5\\uae09\", \"\\uacf5\\uae09\", \"\\uacf5\\uae09\", \"\\uacf5\\uae09\", \"\\uacf5\\uae09\", \"\\uacf5\\uae09\", \"\\uacf5\\uae09\", \"\\uacf5\\uae09\", \"\\uacf5\\uae09\", \"\\uacf5\\uae30\\uccad\\uc815\\uae30\", \"\\uacf5\\ub9bd\", \"\\uacf5\\ub9bd\", \"\\uacf5\\ub9e4\\ub3c4\", \"\\uacf5\\ubb34\\uc6d0\", \"\\uacf5\\ubb34\\uc6d0\", \"\\uacf5\\ubb34\\uc6d0\", \"\\uacf5\\ubb34\\uc6d0\", \"\\uacf5\\ubb34\\uc6d0\", \"\\uacf5\\ubb34\\uc6d0\", \"\\uacf5\\ubb34\\uc6d0\", \"\\uacf5\\ubb34\\uc6d0\", \"\\uacf5\\ubb34\\uc6d0\", \"\\uacf5\\ubb34\\uc6d0\", \"\\uacf5\\ubb34\\uc6d0\", \"\\uacf5\\ubb34\\uc6d0\", \"\\uacf5\\ubb34\\uc6d0\", \"\\uacf5\\ubb34\\uc6d0\", \"\\uacf5\\ubb34\\uc6d0\", \"\\uacf5\\ubc94\", \"\\uacf5\\ubc94\", \"\\uacf5\\ubc94\", \"\\uacf5\\ubc94\", \"\\uacf5\\ubc94\", \"\\uacf5\\uc0ac\", \"\\uacf5\\uc0ac\", \"\\uacf5\\uc0ac\", \"\\uacf5\\uc0ac\", \"\\uacf5\\uc0ac\", \"\\uacf5\\uc0ac\", \"\\uacf5\\uc0ac\", \"\\uacf5\\uc0ac\", \"\\uacf5\\uc0ac\", \"\\uacf5\\uc6d0\", \"\\uacf5\\uc6d0\", \"\\uacf5\\uc6d0\", \"\\uacf5\\uc6d0\", \"\\uacf5\\uc6d0\", \"\\uacf5\\uc6d0\", \"\\uacf5\\uc6d0\", \"\\uacf5\\uc6d0\", \"\\uacf5\\uc7a5\", \"\\uacf5\\uc7a5\", \"\\uacf5\\uc7a5\", \"\\uacf5\\uc7a5\", \"\\uacf5\\uc7a5\", \"\\uacf5\\uc7a5\", \"\\uacf5\\uc7a5\", \"\\uacf5\\uc7a5\", \"\\uacf5\\uc7a5\", \"\\uacf5\\uc7a5\", \"\\uacf5\\uc7a5\", \"\\uacf5\\uc7a5\", \"\\uacf5\\ud68c\", \"\\uacfc\\uc2e4\", \"\\uacfc\\uc2e4\", \"\\uacfc\\uc2e4\", \"\\uad00\\uad11\\ud1b5\\uc5ed\\uc548\\ub0b4\\uc0ac\", \"\\uad00\\ub78c\", \"\\uad00\\ub78c\", \"\\uad00\\ub78c\", \"\\uad00\\ub78c\", \"\\uad00\\ub78c\", \"\\uad00\\ub828\", \"\\uad00\\ub828\", \"\\uad00\\ub828\", \"\\uad00\\ub828\", \"\\uad00\\ub828\", \"\\uad00\\ub828\", \"\\uad00\\ub828\", \"\\uad00\\ub828\", \"\\uad00\\ub828\", \"\\uad00\\ub828\", \"\\uad00\\ub828\", \"\\uad00\\ub828\", \"\\uad00\\ub828\", \"\\uad00\\ub828\", \"\\uad00\\ub828\", \"\\uad00\\ub9ac\", \"\\uad00\\ub9ac\", \"\\uad00\\ub9ac\", \"\\uad00\\ub9ac\", \"\\uad00\\ub9ac\", \"\\uad00\\ub9ac\", \"\\uad00\\ub9ac\", \"\\uad00\\ub9ac\", \"\\uad00\\ub9ac\", \"\\uad00\\ub9ac\", \"\\uad00\\ub9ac\", \"\\uad00\\ub9ac\", \"\\uad00\\ub9ac\", \"\\uad00\\ub9ac\", \"\\uad00\\ub9ac\", \"\\uad00\\ub9ac\\uc0ac\", \"\\uad11\\uace0\", \"\\uad11\\uace0\", \"\\uad11\\uace0\", \"\\uad11\\uace0\", \"\\uad11\\uace0\", \"\\uad11\\uace0\", \"\\uad11\\uace0\", \"\\uad11\\uace0\", \"\\uad11\\uace0\", \"\\uad11\\uba85\", \"\\uad11\\uba85\", \"\\uad11\\uc5ed\", \"\\uad11\\uc5ed\", \"\\uad11\\uc5ed\", \"\\uad11\\uc5ed\", \"\\uad50\\uac10\", \"\\uad50\\uac10\", \"\\uad50\\uac10\", \"\\uad50\\uacfc\", \"\\uad50\\uacfc\", \"\\uad50\\uad8c\", \"\\uad50\\ubbfc\", \"\\uad50\\ubbfc\", \"\\uad50\\ubcf4\", \"\\uad50\\ubcf5\", \"\\uad50\\ubcf5\", \"\\uad50\\ubcf5\", \"\\uad50\\uc0ac\", \"\\uad50\\uc0ac\", \"\\uad50\\uc0ac\", \"\\uad50\\uc0ac\", \"\\uad50\\uc6d0\", \"\\uad50\\uc6d0\", \"\\uad50\\uc721\", \"\\uad50\\uc721\", \"\\uad50\\uc721\", \"\\uad50\\uc721\", \"\\uad50\\uc721\", \"\\uad50\\uc721\", \"\\uad50\\uc721\", \"\\uad50\\uc721\", \"\\uad50\\uc721\", \"\\uad50\\uc721\", \"\\uad50\\uc721\", \"\\uad50\\uc721\", \"\\uad50\\uc721\", \"\\uad50\\uc721\\uac10\", \"\\uad50\\uc721\\uac10\", \"\\uad50\\uc721\\uac10\", \"\\uad50\\uc721\\ubd80\", \"\\uad50\\uc721\\ubd80\", \"\\uad50\\uc721\\ubd80\", \"\\uad50\\uc721\\ubd80\", \"\\uad50\\uc721\\ubd80\", \"\\uad50\\uc721\\uccad\", \"\\uad50\\uc721\\uccad\", \"\\uad50\\uc721\\uccad\", \"\\uad50\\uc721\\ud65c\\ub3d9\", \"\\uad50\\uc7a5\", \"\\uad50\\uc7a5\", \"\\uad50\\uc815\", \"\\uad50\\uc815\", \"\\uad50\\uc815\", \"\\uad50\\uc815\", \"\\uad50\\uc815\", \"\\uad50\\uc9c1\", \"\\uad50\\uc9c1\", \"\\uad50\\ud1b5\", \"\\uad50\\ud1b5\", \"\\uad50\\ud1b5\", \"\\uad50\\ud1b5\", \"\\uad50\\ud1b5\", \"\\uad50\\ud1b5\", \"\\uad6c\\uac04\", \"\\uad6c\\uac04\", \"\\uad6c\\uac04\", \"\\uad6c\\ub9e4\", \"\\uad6c\\ub9e4\", \"\\uad6c\\ub9e4\", \"\\uad6c\\ub9e4\", \"\\uad6c\\ub9e4\", \"\\uad6c\\ub9e4\", \"\\uad6c\\ub9e4\", \"\\uad6c\\ub9e4\", \"\\uad6c\\ub9e4\", \"\\uad6c\\ub9e4\", \"\\uad6c\\ub9e4\", \"\\uad6c\\ub9e4\", \"\\uad6c\\ub9e4\", \"\\uad6d\\uac00\", \"\\uad6d\\uac00\", \"\\uad6d\\uac00\", \"\\uad6d\\uac00\", \"\\uad6d\\uac00\", \"\\uad6d\\uac00\", \"\\uad6d\\uac00\", \"\\uad6d\\uac00\", \"\\uad6d\\uac00\", \"\\uad6d\\uac00\", \"\\uad6d\\uac00\", \"\\uad6d\\uac00\", \"\\uad6d\\uac00\", \"\\uad6d\\uac00\", \"\\uad6d\\uac00\", \"\\uad6d\\uac00\\ub300\\ud45c\", \"\\uad6d\\uac00\\ub300\\ud45c\", \"\\uad6d\\uacfc\\uc218\", \"\\uad6d\\ub0b4\", \"\\uad6d\\ub0b4\", \"\\uad6d\\ub0b4\", \"\\uad6d\\ub0b4\", \"\\uad6d\\ub0b4\", \"\\uad6d\\ub0b4\", \"\\uad6d\\ub0b4\", \"\\uad6d\\ub0b4\", \"\\uad6d\\ub0b4\", \"\\uad6d\\ub0b4\", \"\\uad6d\\ub0b4\", \"\\uad6d\\ub0b4\", \"\\uad6d\\ub0b4\", \"\\uad6d\\ub9bd\\uacf5\\uc6d0\", \"\\uad6d\\ub9bd\\uacf5\\uc6d0\", \"\\uad6d\\ub9bd\\uacf5\\uc6d0\", \"\\uad6d\\ubbfc\", \"\\uad6d\\ubbfc\", \"\\uad6d\\ubbfc\", \"\\uad6d\\ubbfc\", \"\\uad6d\\ubbfc\", \"\\uad6d\\ubbfc\", \"\\uad6d\\ubbfc\", \"\\uad6d\\ubbfc\", \"\\uad6d\\ubbfc\", \"\\uad6d\\ubbfc\", \"\\uad6d\\ubbfc\", \"\\uad6d\\ubbfc\", \"\\uad6d\\ubbfc\", \"\\uad6d\\ubbfc\", \"\\uad6d\\ubbfc\", \"\\uad6d\\ubbfc\\uc5f0\\uae08\", \"\\uad6d\\ubbfc\\uc5f0\\uae08\", \"\\uad6d\\ubbfc\\uc5f0\\uae08\", \"\\uad6d\\ubbfc\\uc5f0\\uae08\", \"\\uad6d\\ubbfc\\uc5f0\\uae08\", \"\\uad6d\\ubbfc\\ud22c\\ud45c\\ubc95\", \"\\uad6d\\ubc29\", \"\\uad6d\\ubc29\", \"\\uad6d\\ubc29\", \"\\uad6d\\ubc29\", \"\\uad6d\\ubc29\", \"\\uad6d\\ubc29\", \"\\uad6d\\ubc29\", \"\\uad6d\\ubc29\", \"\\uad6d\\uc801\", \"\\uad6d\\uc801\", \"\\uad6d\\uc801\", \"\\uad6d\\uc801\", \"\\uad6d\\uc801\", \"\\uad6d\\uc801\", \"\\uad6d\\uc81c\\uacf5\\ud56d\", \"\\uad6d\\ud68c\", \"\\uad6d\\ud68c\", \"\\uad6d\\ud68c\", \"\\uad6d\\ud68c\", \"\\uad6d\\ud68c\", \"\\uad6d\\ud68c\", \"\\uad6d\\ud68c\", \"\\uad6d\\ud68c\", \"\\uad6d\\ud68c\", \"\\uad6d\\ud68c\", \"\\uad6d\\ud68c\", \"\\uad6d\\ud68c\", \"\\uad6d\\ud68c\\uc758\\uc6d0\", \"\\uad6d\\ud68c\\uc758\\uc6d0\", \"\\uad6d\\ud68c\\uc758\\uc6d0\", \"\\uad6d\\ud68c\\uc758\\uc6d0\", \"\\uad6d\\ud68c\\uc758\\uc6d0\", \"\\uad6d\\ud68c\\uc758\\uc6d0\", \"\\uad6d\\ud68c\\uc758\\uc6d0\", \"\\uad6d\\ud68c\\uc758\\uc6d0\", \"\\uad6d\\ud68c\\uc758\\uc6d0\", \"\\uad6d\\ud68c\\uc758\\uc6d0\", \"\\uad6d\\ud68c\\uc758\\uc6d0\", \"\\uad6d\\ud68c\\uc758\\uc6d0\", \"\\uad70\\uc0b0\", \"\\uad70\\uc0b0\", \"\\uad70\\uc0b0\", \"\\uad70\\uc0b0\", \"\\uad70\\uc0b0\", \"\\uad70\\uc0b0\\uc2dc\", \"\\uad70\\uc758\\uad00\", \"\\uadc0\\ud654\", \"\\uadc0\\ud654\", \"\\uadf8\\ub807\\ub2e4\", \"\\uadf8\\ub807\\ub2e4\", \"\\uadf8\\ub807\\ub2e4\", \"\\uadf8\\ub807\\ub2e4\", \"\\uadf8\\ub807\\ub2e4\", \"\\uadf8\\ub807\\ub2e4\", \"\\uadf8\\ub807\\ub2e4\", \"\\uadf8\\ub807\\ub2e4\", \"\\uadf8\\ub807\\ub2e4\", \"\\uadf8\\ub807\\ub2e4\", \"\\uadf8\\ub807\\ub2e4\", \"\\uadf8\\ub807\\ub2e4\", \"\\uadf8\\ub807\\ub2e4\", \"\\uadf8\\ub807\\ub2e4\", \"\\uadf8\\ub807\\ub2e4\", \"\\uadf8\\ub8f9\", \"\\uadf8\\ub8f9\", \"\\uadf8\\ub8f9\", \"\\uadf8\\ub8f9\", \"\\uadf8\\ub8f9\", \"\\uadf8\\ub8f9\", \"\\uadf8\\ub8f9\", \"\\uadf8\\ub8f9\", \"\\uadf8\\ub8f9\", \"\\uadf8\\ub8f9\", \"\\uadf8\\ub8f9\", \"\\uadf8\\ub8f9\", \"\\uadf9\\uc7a5\", \"\\uadf9\\uc7a5\", \"\\uadfc\\ub85c\", \"\\uadfc\\ub85c\", \"\\uadfc\\ub85c\", \"\\uadfc\\ub85c\", \"\\uadfc\\ub85c\", \"\\uadfc\\ub85c\", \"\\uadfc\\ub85c\", \"\\uadfc\\ub85c\", \"\\uadfc\\ub85c\", \"\\uadfc\\ub85c\", \"\\uadfc\\ub85c\\uae30\\uc900\\ubc95\", \"\\uadfc\\ub85c\\uae30\\uc900\\ubc95\", \"\\uadfc\\ub85c\\uae30\\uc900\\ubc95\", \"\\uadfc\\ub85c\\uc2dc\\uac04\", \"\\uadfc\\ub85c\\uc2dc\\uac04\", \"\\uadfc\\ubb34\", \"\\uadfc\\ubb34\", \"\\uadfc\\ubb34\", \"\\uadfc\\ubb34\", \"\\uadfc\\ubb34\", \"\\uadfc\\ubb34\", \"\\uadfc\\ubb34\", \"\\uadfc\\ubb34\", \"\\uadfc\\ubb34\", \"\\uadfc\\ubb34\", \"\\uadfc\\ubb34\", \"\\uadfc\\ubb34\", \"\\uadfc\\ubb34\\uc2dc\\uac04\", \"\\uadfc\\ubb34\\uc2dc\\uac04\", \"\\uae08\\uc735\", \"\\uae08\\uc735\", \"\\uae08\\uc735\", \"\\uae08\\uc735\", \"\\uae08\\uc735\", \"\\uae08\\uc735\\uc2dc\\uc7a5\", \"\\uae08\\uc735\\uc2e4\\uba85\\uc81c\", \"\\uae08\\uc735\\uc704\", \"\\uae08\\uc9c0\", \"\\uae08\\uc9c0\", \"\\uae08\\uc9c0\", \"\\uae08\\uc9c0\", \"\\uae08\\uc9c0\", \"\\uae08\\uc9c0\", \"\\uae08\\uc9c0\", \"\\uae08\\uc9c0\", \"\\uae08\\uc9c0\", \"\\uae08\\uc9c0\", \"\\uae08\\uc9c0\", \"\\uae08\\uc9c0\", \"\\uae08\\uc9c0\", \"\\uae08\\uc9c0\", \"\\uae08\\ud638\", \"\\uae08\\ud638\", \"\\uae08\\ud638\", \"\\uae09\\ub77d\", \"\\uae09\\uc5ec\", \"\\uae09\\uc5ec\", \"\\uae09\\uc5ec\", \"\\uae09\\uc5ec\", \"\\uae09\\uc5ec\", \"\\uae09\\uc5ec\", \"\\uae09\\uc5ec\", \"\\uae09\\uc5ec\", \"\\uae09\\uc5ec\", \"\\uae09\\uc9c4\", \"\\uae30\\uad00\", \"\\uae30\\uad00\", \"\\uae30\\uad00\", \"\\uae30\\uad00\", \"\\uae30\\uad00\", \"\\uae30\\uad00\", \"\\uae30\\uad00\", \"\\uae30\\uad00\", \"\\uae30\\uad00\", \"\\uae30\\uad00\", \"\\uae30\\uad00\", \"\\uae30\\uad00\", \"\\uae30\\uad00\", \"\\uae30\\uad00\", \"\\uae30\\uad00\", \"\\uae30\\uc0ac\", \"\\uae30\\uc0ac\", \"\\uae30\\uc0ac\", \"\\uae30\\uc0ac\", \"\\uae30\\uc0ac\", \"\\uae30\\uc0ac\", \"\\uae30\\uc0ac\", \"\\uae30\\uc0ac\", \"\\uae30\\uc0ac\", \"\\uae30\\uc0ac\", \"\\uae30\\uc0ac\", \"\\uae30\\uc0ac\", \"\\uae30\\uc0ac\", \"\\uae30\\uc0ac\", \"\\uae30\\uc0ac\", \"\\uae30\\uc11d\", \"\\uae30\\uc220\\uc0ac\", \"\\uae30\\uc220\\uc790\", \"\\uae30\\uc220\\uc790\", \"\\uae30\\uc220\\uc790\", \"\\uae30\\uc5c5\", \"\\uae30\\uc5c5\", \"\\uae30\\uc5c5\", \"\\uae30\\uc5c5\", \"\\uae30\\uc5c5\", \"\\uae30\\uc5c5\", \"\\uae30\\uc5c5\", \"\\uae30\\uc5c5\", \"\\uae30\\uc5c5\", \"\\uae30\\uc5c5\", \"\\uae30\\uc5c5\", \"\\uae30\\uc5c5\", \"\\uae30\\uc5c5\", \"\\uae30\\uc900\", \"\\uae30\\uc900\", \"\\uae30\\uc900\", \"\\uae30\\uc900\", \"\\uae30\\uc900\", \"\\uae30\\uc900\", \"\\uae30\\uc900\", \"\\uae30\\uc900\", \"\\uae30\\uc900\", \"\\uae30\\uc900\", \"\\uae30\\uc900\", \"\\uae30\\uc900\", \"\\uae30\\uc900\", \"\\uae30\\uc900\", \"\\uae30\\uc900\", \"\\uae38\\uace0\\uc591\\uc774\", \"\\uae38\\uace0\\uc591\\uc774\", \"\\uae38\\uba4d\", \"\\uae40\\uae30\\ub3d9\", \"\\uae40\\ubbf8\\uc601\", \"\\uae40\\ubcf4\\ub984\", \"\\uae40\\uc0ac\\ub791\", \"\\uae40\\uc0c1\\uace4\", \"\\uae40\\uc0c1\\uace4\", \"\\uae40\\uc0c1\\ub3c8\", \"\\uae40\\uc131\\uc81c\", \"\\uae40\\uc5b4\\uc900\", \"\\uae40\\uc5b4\\uc900\", \"\\uae40\\uc815\\uc740\", \"\\uae40\\uc81c\\uc2dc\", \"\\uae40\\uc885\\ud544\", \"\\uae40\\ud3ec\", \"\\uae40\\ud3ec\", \"\\uae40\\ud3ec\", \"\\uae40\\ud3ec\", \"\\uae40\\ud3ec\", \"\\ub098\\uacbd\\uc6d0\", \"\\ub098\\uacbd\\uc6d0\", \"\\ub098\\uacbd\\uc6d0\", \"\\ub098\\ub77c\", \"\\ub098\\ub77c\", \"\\ub098\\ub77c\", \"\\ub098\\ub77c\", \"\\ub098\\ub77c\", \"\\ub098\\ub77c\", \"\\ub098\\ub77c\", \"\\ub098\\ub77c\", \"\\ub098\\ub77c\", \"\\ub098\\ub77c\", \"\\ub098\\ub77c\", \"\\ub098\\ub77c\", \"\\ub098\\ub77c\", \"\\ub098\\ub77c\", \"\\ub098\\ub77c\", \"\\ub098\\ub8e8\", \"\\ub098\\uc624\\ub2e4\", \"\\ub098\\uc624\\ub2e4\", \"\\ub098\\uc624\\ub2e4\", \"\\ub098\\uc624\\ub2e4\", \"\\ub098\\uc624\\ub2e4\", \"\\ub098\\uc624\\ub2e4\", \"\\ub098\\uc624\\ub2e4\", \"\\ub098\\uc624\\ub2e4\", \"\\ub098\\uc624\\ub2e4\", \"\\ub098\\uc624\\ub2e4\", \"\\ub098\\uc624\\ub2e4\", \"\\ub098\\uc624\\ub2e4\", \"\\ub098\\uc624\\ub2e4\", \"\\ub098\\uc624\\ub2e4\", \"\\ub098\\uc624\\ub2e4\", \"\\ub099\\ud0dc\", \"\\ub099\\ud0dc\\uc8c4\", \"\\ub09c\\ubbfc\", \"\\ub09c\\ubbfc\", \"\\ub09c\\ubbfc\", \"\\ub09c\\ubbfc\", \"\\ub09c\\uc784\", \"\\ub09c\\uc784\", \"\\ub09c\\uc784\", \"\\ub09c\\uc784\", \"\\ub0a8\\ub140\", \"\\ub0a8\\ub140\", \"\\ub0a8\\ub140\", \"\\ub0a8\\ub140\", \"\\ub0a8\\ub140\\ud3c9\\ub4f1\", \"\\ub0a8\\ubd81\\uc815\\uc0c1\\ud68c\\ub2f4\", \"\\ub0a8\\uc131\", \"\\ub0a8\\uc131\", \"\\ub0a8\\uc131\", \"\\ub0a8\\uc131\", \"\\ub0a8\\uc131\\ub9cc\", \"\\ub0a8\\uc131\\uc740\", \"\\ub0a8\\uc131\\uc740\", \"\\ub0a8\\uc131\\uc740\", \"\\ub0a8\\uc131\\ud610\\uc624\", \"\\ub0a8\\uc601\\ub3d9\", \"\\ub0a8\\uc774\\uba74\", \"\\ub0a8\\uc790\", \"\\ub0a8\\uc790\", \"\\ub0a8\\uc790\", \"\\ub0a8\\uc790\", \"\\ub0a8\\uc790\", \"\\ub0a8\\uc790\", \"\\ub0a8\\ud3b8\", \"\\ub0a8\\ud3b8\", \"\\ub0a8\\ud3b8\", \"\\ub0a8\\ud3b8\", \"\\ub0a8\\ud3b8\", \"\\ub0a8\\ud3b8\", \"\\ub0a8\\ud3b8\", \"\\ub0ae\\uc7a0\", \"\\ub0b4\\uc2e0\", \"\\ub0b4\\uc2e0\", \"\\ub0b4\\uc6a9\", \"\\ub0b4\\uc6a9\", \"\\ub0b4\\uc6a9\", \"\\ub0b4\\uc6a9\", \"\\ub0b4\\uc6a9\", \"\\ub0b4\\uc6a9\", \"\\ub0b4\\uc6a9\", \"\\ub0b4\\uc6a9\", \"\\ub0b4\\uc6a9\", \"\\ub0b4\\uc6a9\", \"\\ub0b4\\uc6a9\", \"\\ub0b4\\uc6a9\", \"\\ub0b4\\uc6a9\", \"\\ub0b4\\uc6a9\", \"\\ub0b4\\uc6a9\", \"\\ub0c9\\ubc29\", \"\\ub178\\ub3d9\\uc790\", \"\\ub178\\ub3d9\\uc790\", \"\\ub178\\ub3d9\\uc790\", \"\\ub178\\ub3d9\\uc790\", \"\\ub178\\ub3d9\\uc790\", \"\\ub178\\ub3d9\\uc790\", \"\\ub178\\ub3d9\\uc790\", \"\\ub178\\ub3d9\\uc790\", \"\\ub178\\ub3d9\\uc790\", \"\\ub178\\ub974\\ub515\", \"\\ub178\\uc120\", \"\\ub178\\uc120\", \"\\ub178\\uc120\", \"\\ub178\\uc120\\uc601\", \"\\ub179\\uc9c0\", \"\\ub179\\uc9c0\", \"\\ub18d\\uc778\", \"\\ub18d\\uc778\", \"\\ub18d\\uc7a5\", \"\\ub18d\\uc7a5\", \"\\ub18d\\uc7a5\", \"\\ub18d\\ud611\", \"\\ub18d\\ud611\", \"\\ub18d\\ud611\", \"\\ub18d\\ud611\", \"\\ub18d\\ud611\", \"\\ub1cc\\ucd9c\\ud608\", \"\\ub274\\uc2a4\", \"\\ub274\\uc2a4\", \"\\ub274\\uc2a4\", \"\\ub274\\uc2a4\", \"\\ub274\\uc2a4\", \"\\ub274\\uc2a4\", \"\\ub274\\uc2a4\", \"\\ub274\\uc2a4\", \"\\ub274\\uc2a4\", \"\\ub274\\uc2a4\", \"\\ub274\\uc2a4\", \"\\ub274\\uc2a4\", \"\\ub274\\uc2a4\", \"\\ub274\\uc2a4\", \"\\ub274\\uc2a4\", \"\\ub2e4\\ubb38\\ud654\", \"\\ub2e4\\uc0b0\", \"\\ub2e4\\uc0b0\", \"\\ub2e4\\uc0b0\", \"\\ub2e4\\uc774\\uc625\\uc2e0\", \"\\ub2e5\\ud130\", \"\\ub2e5\\ud130\", \"\\ub2e8\\uad6d\\ub300\\ud559\\uad50\", \"\\ub2e8\\ub9d0\\uae30\", \"\\ub2e8\\ub9d0\\uae30\", \"\\ub2e8\\ub9d0\\uae30\", \"\\ub2e8\\ub9d0\\uae30\", \"\\ub2e8\\uc9c0\", \"\\ub2e8\\uc9c0\", \"\\ub2e8\\uc9c0\", \"\\ub2e8\\uc9c0\", \"\\ub2e8\\uc9c0\", \"\\ub2e8\\uc9c0\", \"\\ub2e8\\uc9c0\", \"\\ub2e8\\uc9c0\", \"\\ub2e8\\uc9c0\", \"\\ub2e8\\uc9c0\", \"\\ub2e8\\uc9c0\", \"\\ub2e8\\uc9c0\", \"\\ub2e8\\uc9c0\", \"\\ub2e8\\uc9c0\", \"\\ub2f9\\uc0b0\", \"\\ub2f9\\ud558\\ub2e4\", \"\\ub2f9\\ud558\\ub2e4\", \"\\ub2f9\\ud558\\ub2e4\", \"\\ub2f9\\ud558\\ub2e4\", \"\\ub2f9\\ud558\\ub2e4\", \"\\ub2f9\\ud558\\ub2e4\", \"\\ub2f9\\ud558\\ub2e4\", \"\\ub2f9\\ud558\\ub2e4\", \"\\ub2f9\\ud558\\ub2e4\", \"\\ub2f9\\ud558\\ub2e4\", \"\\ub2f9\\ud558\\ub2e4\", \"\\ub2f9\\ud558\\ub2e4\", \"\\ub2f9\\ud558\\ub2e4\", \"\\ub2f9\\ud558\\ub2e4\", \"\\ub300\\uacf5\\ubd84\\uc2e4\", \"\\ub300\\uad6c\\ud14d\", \"\\ub300\\uae08\", \"\\ub300\\uae08\", \"\\ub300\\uae30\\uc624\\uc5fc\", \"\\ub300\\ubc95\\uc6d0\", \"\\ub300\\ubc95\\uc6d0\", \"\\ub300\\ubc95\\uc6d0\", \"\\ub300\\ubc95\\uc6d0\", \"\\ub300\\ubc95\\uc6d0\", \"\\ub300\\ubc95\\uc6d0\", \"\\ub300\\ubc95\\uc6d0\", \"\\ub300\\ubc95\\uc6d0\", \"\\ub300\\ubc95\\uc6d0\", \"\\ub300\\ubc95\\uc6d0\", \"\\ub300\\ubc95\\uc6d0\", \"\\ub300\\ucc28\", \"\\ub300\\ucc28\", \"\\ub300\\ucc28\", \"\\ub300\\ucd9c\", \"\\ub300\\ucd9c\", \"\\ub300\\ucd9c\", \"\\ub300\\ucd9c\", \"\\ub300\\ucd9c\", \"\\ub300\\ucd9c\", \"\\ub300\\ucd9c\", \"\\ub300\\ucd9c\", \"\\ub300\\ud1b5\\ub839\", \"\\ub300\\ud1b5\\ub839\", \"\\ub300\\ud1b5\\ub839\", \"\\ub300\\ud1b5\\ub839\", \"\\ub300\\ud1b5\\ub839\", \"\\ub300\\ud1b5\\ub839\", \"\\ub300\\ud1b5\\ub839\", \"\\ub300\\ud1b5\\ub839\", \"\\ub300\\ud1b5\\ub839\", \"\\ub300\\ud1b5\\ub839\", \"\\ub300\\ud1b5\\ub839\", \"\\ub300\\ud1b5\\ub839\", \"\\ub300\\ud1b5\\ub839\", \"\\ub300\\ud1b5\\ub839\", \"\\ub300\\ud1b5\\ub839\", \"\\ub300\\ud45c\\ud300\", \"\\ub300\\ud559\", \"\\ub300\\ud559\", \"\\ub300\\ud559\", \"\\ub300\\ud559\", \"\\ub300\\ud559\", \"\\ub300\\ud559\", \"\\ub300\\ud559\", \"\\ub300\\ud559\", \"\\ub300\\ud559\", \"\\ub300\\ud559\", \"\\ub300\\ud559\", \"\\ub300\\ud559\\uad50\", \"\\ub300\\ud559\\uad50\", \"\\ub300\\ud559\\uad50\", \"\\ub300\\ud559\\uad50\", \"\\ub300\\ud559\\uad50\", \"\\ub300\\ud559\\uad50\", \"\\ub300\\ud559\\uad50\", \"\\ub300\\ud559\\uad50\", \"\\ub300\\ud559\\uad50\", \"\\ub300\\ud559\\ubcd1\\uc6d0\", \"\\ub300\\ud559\\ubcd1\\uc6d0\", \"\\ub300\\ud55c\", \"\\ub300\\ud55c\", \"\\ub300\\ud55c\", \"\\ub300\\ud55c\", \"\\ub300\\ud55c\", \"\\ub300\\ud55c\", \"\\ub300\\ud55c\", \"\\ub300\\ud55c\", \"\\ub300\\ud55c\", \"\\ub300\\ud55c\", \"\\ub300\\ud55c\", \"\\ub300\\ud55c\", \"\\ub300\\ud55c\", \"\\ub300\\ud55c\", \"\\ub300\\ud55c\", \"\\ub300\\ud55c\\ubbfc\\uad6d\", \"\\ub300\\ud55c\\ubbfc\\uad6d\", \"\\ub300\\ud55c\\ubbfc\\uad6d\", \"\\ub300\\ud55c\\ubbfc\\uad6d\", \"\\ub300\\ud55c\\ubbfc\\uad6d\", \"\\ub300\\ud55c\\ubbfc\\uad6d\", \"\\ub300\\ud55c\\ubbfc\\uad6d\", \"\\ub300\\ud55c\\ubbfc\\uad6d\", \"\\ub300\\ud55c\\ubbfc\\uad6d\", \"\\ub300\\ud55c\\ubbfc\\uad6d\", \"\\ub300\\ud55c\\ubbfc\\uad6d\", \"\\ub300\\ud55c\\ubbfc\\uad6d\", \"\\ub300\\ud55c\\ubbfc\\uad6d\", \"\\ub300\\ud55c\\ubbfc\\uad6d\", \"\\ub300\\ud55c\\ubbfc\\uad6d\", \"\\ub300\\ud55c\\ud56d\\uacf5\", \"\\ub300\\ud55c\\ud56d\\uacf5\", \"\\ub300\\ud55c\\ud56d\\uacf5\", \"\\ub300\\ud574\", \"\\ub300\\ud574\", \"\\ub300\\ud574\", \"\\ub300\\ud574\", \"\\ub300\\ud574\", \"\\ub300\\ud574\", \"\\ub300\\ud574\", \"\\ub300\\ud574\", \"\\ub300\\ud574\", \"\\ub300\\ud574\", \"\\ub300\\ud574\", \"\\ub300\\ud574\", \"\\ub300\\ud574\", \"\\ub300\\ud574\", \"\\ub300\\ud574\", \"\\ub300\\ud68c\", \"\\ub300\\ud68c\", \"\\ub300\\ud68c\", \"\\ub300\\ud68c\", \"\\ub300\\ud68c\", \"\\ub300\\ud68c\", \"\\ub300\\ud68c\", \"\\ub313\\uae00\", \"\\ub313\\uae00\", \"\\ub313\\uae00\", \"\\ub313\\uae00\", \"\\ub313\\uae00\", \"\\ub313\\uae00\", \"\\ub313\\uae00\", \"\\ub313\\uae00\", \"\\ub354\\ube59\", \"\\ub3c4\\ub07c\", \"\\ub3c4\\ub85c\", \"\\ub3c4\\ub85c\", \"\\ub3c4\\ub85c\", \"\\ub3c4\\ub85c\", \"\\ub3c4\\ub85c\", \"\\ub3c4\\ub85c\", \"\\ub3c4\\ub85c\", \"\\ub3c4\\ub85c\", \"\\ub3c4\\ub85c\", \"\\ub3c4\\ub85c\", \"\\ub3c4\\ub9e4\", \"\\ub3c4\\ub9e4\", \"\\ub3c4\\uc0b4\", \"\\ub3c4\\uc0b4\", \"\\ub3c4\\uc0b4\", \"\\ub3c4\\uc0b4\", \"\\ub3c4\\uc2dc\", \"\\ub3c4\\uc2dc\", \"\\ub3c4\\uc2dc\", \"\\ub3c4\\uc2dc\", \"\\ub3c4\\uc2dc\", \"\\ub3c4\\uc2dc\", \"\\ub3c4\\uc2dc\", \"\\ub3c4\\uc2dc\", \"\\ub3c4\\uc640\\uc8fc\\ub2e4\", \"\\ub3c4\\uc640\\uc8fc\\ub2e4\", \"\\ub3c4\\uc640\\uc8fc\\ub2e4\", \"\\ub3c4\\uc640\\uc8fc\\ub2e4\", \"\\ub3c4\\uc640\\uc8fc\\ub2e4\", \"\\ub3c4\\uc640\\uc8fc\\ub2e4\", \"\\ub3c4\\uc640\\uc8fc\\ub2e4\", \"\\ub3c4\\uc640\\uc8fc\\ub2e4\", \"\\ub3c4\\uc640\\uc8fc\\ub2e4\", \"\\ub3c4\\uc640\\uc8fc\\ub2e4\", \"\\ub3c4\\uc640\\uc8fc\\ub2e4\", \"\\ub3c4\\uc640\\uc8fc\\ub2e4\", \"\\ub3c4\\uc640\\uc8fc\\ub2e4\", \"\\ub3c4\\ucc29\", \"\\ub3c4\\ucc29\", \"\\ub3c4\\ucc29\", \"\\ub3c4\\ucc29\", \"\\ub3c4\\ucc29\", \"\\ub3c4\\ucc29\", \"\\ub3c4\\ucc29\", \"\\ub3c4\\ucc29\", \"\\ub3c5\\ub3c4\", \"\\ub3c5\\ub3c4\", \"\\ub3c5\\ub3c4\", \"\\ub3c5\\ub3c4\", \"\\ub3cc\\ubcf4\\ub2e4\", \"\\ub3cc\\ubcf4\\ub2e4\", \"\\ub3cc\\ubcf4\\ub2e4\", \"\\ub3cc\\ubcf4\\ub2e4\", \"\\ub3cc\\ubcf4\\ub2e4\", \"\\ub3d9\\ubb3c\", \"\\ub3d9\\ubb3c\", \"\\ub3d9\\ubb3c\", \"\\ub3d9\\ubb3c\\ubcf4\\ud638\", \"\\ub3d9\\ubb3c\\ubcf4\\ud638\\ubc95\", \"\\ub3d9\\ubb3c\\ubcf4\\ud638\\ubc95\", \"\\ub3d9\\ubb3c\\uc6d0\", \"\\ub3d9\\ubb3c\\uc6d0\", \"\\ub3d9\\ubb3c\\ud559\\ub300\", \"\\ub3d9\\uc0dd\", \"\\ub3d9\\uc0dd\", \"\\ub3d9\\uc0dd\", \"\\ub3d9\\uc0dd\", \"\\ub3d9\\uc131\\uacb0\\ud63c\", \"\\ub3d9\\uc131\\uc560\", \"\\ub3d9\\uc131\\uc560\", \"\\ub3d9\\uc131\\uc560\", \"\\ub3d9\\uc131\\uc560\", \"\\ub3d9\\uc131\\uc560\", \"\\ub3d9\\uc131\\uc560\\uc790\", \"\\ub3d9\\uc131\\uc560\\uc790\", \"\\ub3d9\\uc131\\uc560\\uc790\", \"\\ub3d9\\ucc9c\", \"\\ub3d9\\ud0c4\", \"\\ub3d9\\ud0c4\", \"\\ub3d9\\ud0c4\\uc2e0\\ub3c4\\uc2dc\", \"\\ub458\\uc9f8\\ub538\", \"\\ub458\\uc9f8\\ub538\", \"\\ub4dc\\ub77c\\ub9c8\", \"\\ub4dc\\ub77c\\ub9c8\", \"\\ub4dc\\ub8e8\", \"\\ub4e4\\ub2e4\", \"\\ub4e4\\ub2e4\", \"\\ub4e4\\ub2e4\", \"\\ub4e4\\ub2e4\", \"\\ub4e4\\ub2e4\", \"\\ub4e4\\ub2e4\", \"\\ub4e4\\ub2e4\", \"\\ub4e4\\ub2e4\", \"\\ub4e4\\ub2e4\", \"\\ub4e4\\ub2e4\", \"\\ub4e4\\ub2e4\", \"\\ub4e4\\ub2e4\", \"\\ub4e4\\ub2e4\", \"\\ub4e4\\ub2e4\", \"\\ub4e4\\ub2e4\", \"\\ub4f1\\uae30\\ubd80\", \"\\ub4f1\\uae30\\ubd80\", \"\\ub4f1\\uc6d0\", \"\\ub530\\ub974\\ub2e4\", \"\\ub530\\ub974\\ub2e4\", \"\\ub530\\ub974\\ub2e4\", \"\\ub530\\ub974\\ub2e4\", \"\\ub530\\ub974\\ub2e4\", \"\\ub530\\ub974\\ub2e4\", \"\\ub530\\ub974\\ub2e4\", \"\\ub530\\ub974\\ub2e4\", \"\\ub530\\ub974\\ub2e4\", \"\\ub530\\ub974\\ub2e4\", \"\\ub530\\ub974\\ub2e4\", \"\\ub530\\ub974\\ub2e4\", \"\\ub530\\ub974\\ub2e4\", \"\\ub530\\ub974\\ub2e4\", \"\\ub530\\ub974\\ub2e4\", \"\\ub545\\ucf69\", \"\\ub54c\\ubb38\", \"\\ub54c\\ubb38\", \"\\ub54c\\ubb38\", \"\\ub54c\\ubb38\", \"\\ub54c\\ubb38\", \"\\ub54c\\ubb38\", \"\\ub54c\\ubb38\", \"\\ub54c\\ubb38\", \"\\ub54c\\ubb38\", \"\\ub54c\\ubb38\", \"\\ub54c\\ubb38\", \"\\ub54c\\ubb38\", \"\\ub54c\\ubb38\", \"\\ub54c\\ubb38\", \"\\ub54c\\ubb38\", \"\\ub77c\\ub3c8\", \"\\ub77c\\ub3c8\", \"\\ub77c\\ub3c8\", \"\\ub79c\\uc2a4\", \"\\ub808\\ubc14\\ub17c\", \"\\ub85c\\uace0\", \"\\ub85c\\ub354\", \"\\ub85c\\ub354\", \"\\ub85c\\ub354\", \"\\ub9ac\\ubca4\\uc9c0\", \"\\ub9ac\\ucf5c\", \"\\ub9ac\\ucf5c\", \"\\ub9ac\\ud504\\ud2b8\", \"\\ub9ac\\ud504\\ud2b8\", \"\\ub9c8\\ub9ac\", \"\\ub9c8\\ub9ac\", \"\\ub9c8\\ub9ac\", \"\\ub9c8\\ub9ac\", \"\\ub9c8\\uc774\\ud06c\\ub85c\", \"\\ub9c8\\uc774\\ud06c\\ub85c\", \"\\ub9c8\\uc774\\ud06c\\ub85c\", \"\\ub9cc\\ub3c4\", \"\\ub9cc\\ub3c4\", \"\\ub9cc\\ub4e4\\ub2e4\", \"\\ub9cc\\ub4e4\\ub2e4\", \"\\ub9cc\\ub4e4\\ub2e4\", \"\\ub9cc\\ub4e4\\ub2e4\", \"\\ub9cc\\ub4e4\\ub2e4\", \"\\ub9cc\\ub4e4\\ub2e4\", \"\\ub9cc\\ub4e4\\ub2e4\", \"\\ub9cc\\ub4e4\\ub2e4\", \"\\ub9cc\\ub4e4\\ub2e4\", \"\\ub9cc\\ub4e4\\ub2e4\", \"\\ub9cc\\ub4e4\\ub2e4\", \"\\ub9cc\\ub4e4\\ub2e4\", \"\\ub9cc\\ub4e4\\ub2e4\", \"\\ub9cc\\ub4e4\\ub2e4\", \"\\ub9cc\\ub4e4\\ub2e4\", \"\\ub9ce\\ub2e4\", \"\\ub9ce\\ub2e4\", \"\\ub9ce\\ub2e4\", \"\\ub9ce\\ub2e4\", \"\\ub9ce\\ub2e4\", \"\\ub9ce\\ub2e4\", \"\\ub9ce\\ub2e4\", \"\\ub9ce\\ub2e4\", \"\\ub9ce\\ub2e4\", \"\\ub9ce\\ub2e4\", \"\\ub9ce\\ub2e4\", \"\\ub9ce\\ub2e4\", \"\\ub9ce\\ub2e4\", \"\\ub9ce\\ub2e4\", \"\\ub9ce\\ub2e4\", \"\\ub9d0\\ub808\\uc774\\uc2dc\\uc544\", \"\\ub9d0\\ub808\\uc774\\uc2dc\\uc544\", \"\\ub9dd\\uba85\", \"\\ub9e4\\ub3c4\", \"\\ub9e4\\ub3c4\", \"\\ub9e4\\ub3c4\", \"\\ub9e4\\ub3c4\", \"\\ub9e4\\ub3c4\", \"\\ub9e4\\ub3c4\", \"\\ub9e4\\ub3c4\", \"\\ub9e4\\ub3c4\", \"\\ub9e4\\ub3c4\", \"\\ub9e4\\uc7a5\", \"\\ub9e4\\uc7a5\", \"\\ub9e4\\uc7a5\", \"\\ub9e4\\uc7a5\", \"\\ub9e4\\uc7a5\", \"\\ub9e4\\uc7a5\", \"\\ub9e4\\uc7a5\", \"\\ub9e4\\uc7a5\", \"\\ub9e4\\uc7a5\", \"\\ub9e4\\ud06c\\ub85c\", \"\\ub9e4\\ud06c\\ub85c\", \"\\uba74\\ud5c8\", \"\\uba74\\ud5c8\", \"\\uba74\\ud5c8\", \"\\uba74\\ud5c8\", \"\\uba74\\ud5c8\", \"\\uba74\\ud5c8\", \"\\uba74\\ud5c8\", \"\\uba85\\uc758\\ub300\\uc5ec\", \"\\ubaa8\\ub378\", \"\\ubaa8\\ub378\", \"\\ubaa8\\ub378\", \"\\ubaa8\\ub378\", \"\\ubaa8\\ub378\", \"\\ubaa8\\ub378\", \"\\ubaa8\\ub378\", \"\\ubaa8\\ub378\", \"\\ubaa8\\ub378\", \"\\ubaa8\\ub378\\ud558\\uc6b0\\uc2a4\", \"\\ubaa8\\ub974\\ub2e4\", \"\\ubaa8\\ub974\\ub2e4\", \"\\ubaa8\\ub974\\ub2e4\", \"\\ubaa8\\ub974\\ub2e4\", \"\\ubaa8\\ub974\\ub2e4\", \"\\ubaa8\\ub974\\ub2e4\", \"\\ubaa8\\ub974\\ub2e4\", \"\\ubaa8\\ub974\\ub2e4\", \"\\ubaa8\\ub974\\ub2e4\", \"\\ubaa8\\ub974\\ub2e4\", \"\\ubaa8\\ub974\\ub2e4\", \"\\ubaa8\\ub974\\ub2e4\", \"\\ubaa8\\ub974\\ub2e4\", \"\\ubaa8\\ub974\\ub2e4\", \"\\ubaa8\\ub974\\ub2e4\", \"\\ubaa8\\uc81c\", \"\\ubaa8\\ud604\", \"\\ubaa9\\uaca9\\uc790\", \"\\ubaa9\\uaca9\\uc790\", \"\\ubaa9\\uaca9\\uc790\", \"\\ubaa9\\uc0ac\", \"\\ubaa9\\uc0ac\", \"\\ubaa9\\uc0ac\", \"\\ubaa9\\uc0ac\", \"\\ubaa9\\uc0ac\", \"\\ubaa9\\uc0ac\", \"\\ubab0\\uce74\", \"\\ubab0\\uce74\", \"\\ubab0\\uce74\", \"\\ubb34\\uace0\", \"\\ubb34\\uace0\", \"\\ubb34\\uace0\", \"\\ubb34\\uace0\", \"\\ubb34\\uace0\", \"\\ubb34\\uace0\", \"\\ubb34\\uace0\", \"\\ubb34\\uace0\\uc8c4\", \"\\ubb34\\uc0ac\", \"\\ubb34\\uc0ac\", \"\\ubb34\\uc0ac\", \"\\ubb34\\uc0ac\", \"\\ubb34\\uc0ac\", \"\\ubb34\\uc0ac\", \"\\ubb34\\uc0ac\", \"\\ubb34\\uc2ac\\ub9bc\", \"\\ubb34\\uc2ac\\ub9bc\", \"\\ubb34\\uc8c4\", \"\\ubb34\\uc8c4\", \"\\ubb34\\uc8c4\", \"\\ubb34\\uc8c4\", \"\\ubb34\\uc8c4\", \"\\ubb34\\uc8c4\", \"\\ubb34\\uc8c4\", \"\\ubb34\\uc9c1\", \"\\ubb34\\uc9c1\", \"\\ubb34\\uc9c1\", \"\\ubb38\\uc7ac\\uc778\", \"\\ubb38\\uc7ac\\uc778\", \"\\ubb38\\uc7ac\\uc778\", \"\\ubb38\\uc7ac\\uc778\", \"\\ubb38\\uc7ac\\uc778\", \"\\ubb38\\uc7ac\\uc778\", \"\\ubb38\\uc7ac\\uc778\", \"\\ubb38\\uc7ac\\uc778\", \"\\ubb38\\uc7ac\\uc778\", \"\\ubb38\\uc7ac\\uc778\", \"\\ubb38\\uc7ac\\uc778\", \"\\ubb38\\uc7ac\\uc778\", \"\\ubb38\\uc7ac\\uc778\", \"\\ubb38\\uc7ac\\uc778\", \"\\ubb38\\uc7ac\\uc778\", \"\\ubb38\\uc81c\", \"\\ubb38\\uc81c\", \"\\ubb38\\uc81c\", \"\\ubb38\\uc81c\", \"\\ubb38\\uc81c\", \"\\ubb38\\uc81c\", \"\\ubb38\\uc81c\", \"\\ubb38\\uc81c\", \"\\ubb38\\uc81c\", \"\\ubb38\\uc81c\", \"\\ubb38\\uc81c\", \"\\ubb38\\uc81c\", \"\\ubb38\\uc81c\", \"\\ubb38\\uc81c\", \"\\ubb38\\uc81c\", \"\\ubb3c\\ub9ac\\uce58\\ub8cc\\uc0ac\", \"\\ubbf8\\uad70\\uae30\\uc9c0\", \"\\ubbf8\\uc131\\ub144\", \"\\ubbf8\\uc131\\ub144\", \"\\ubbf8\\uc131\\ub144\", \"\\ubbf8\\uc131\\ub144\", \"\\ubbf8\\uc131\\ub144\", \"\\ubbf8\\uc131\\ub144\", \"\\ubbf8\\uc138\\uba3c\\uc9c0\", \"\\ubbf8\\uc138\\uba3c\\uc9c0\", \"\\ubbf8\\uc138\\uba3c\\uc9c0\", \"\\ubbf8\\uc138\\uba3c\\uc9c0\", \"\\ubbf8\\uc580\\ub9c8\", \"\\ubbfc\\uc871\", \"\\ubbfc\\uc871\", \"\\ubbfc\\uc871\", \"\\ubbfc\\uc871\", \"\\ubbfc\\uc871\", \"\\ubbfc\\uc871\", \"\\ubbfc\\uc8fc\\uc8fc\\uc758\", \"\\ubbfc\\uc8fc\\uc8fc\\uc758\", \"\\ubbfc\\uc8fc\\uc8fc\\uc758\", \"\\ubbfc\\uc8fc\\uc8fc\\uc758\", \"\\ubbfc\\uc8fc\\uc8fc\\uc758\", \"\\ubbfc\\uc8fc\\uc8fc\\uc758\", \"\\ubbfc\\uc8fc\\uc8fc\\uc758\", \"\\ubbfc\\uc8fc\\uc8fc\\uc758\", \"\\ubbfc\\uc8fc\\uc8fc\\uc758\", \"\\ubbfc\\uc8fc\\uc8fc\\uc758\", \"\\ubc14\\ub77c\\ub2e4\", \"\\ubc14\\ub77c\\ub2e4\", \"\\ubc14\\ub77c\\ub2e4\", \"\\ubc14\\ub77c\\ub2e4\", \"\\ubc14\\ub77c\\ub2e4\", \"\\ubc14\\ub77c\\ub2e4\", \"\\ubc14\\ub77c\\ub2e4\", \"\\ubc14\\ub77c\\ub2e4\", \"\\ubc14\\ub77c\\ub2e4\", \"\\ubc14\\ub77c\\ub2e4\", \"\\ubc14\\ub77c\\ub2e4\", \"\\ubc14\\ub77c\\ub2e4\", \"\\ubc14\\ub77c\\ub2e4\", \"\\ubc14\\ub77c\\ub2e4\", \"\\ubc14\\ub77c\\ub2e4\", \"\\ubc14\\uc774\\uc624\", \"\\ubc14\\uc774\\uc624\", \"\\ubc14\\uc774\\uc624\", \"\\ubc14\\uc774\\uc624\", \"\\ubc14\\uc774\\uc624\", \"\\ubc15\\uc815\\ud76c\", \"\\ubc15\\uc815\\ud76c\", \"\\ubc15\\uc815\\ud76c\", \"\\ubc15\\uc81c\", \"\\ubc15\\uc885\\ucca0\", \"\\ubc15\\uc9c0\\uc6b0\", \"\\ubc15\\ucc3d\\uc9c4\", \"\\ubc18\\ub300\", \"\\ubc18\\ub300\", \"\\ubc18\\ub300\", \"\\ubc18\\ub300\", \"\\ubc18\\ub300\", \"\\ubc18\\ub300\", \"\\ubc18\\ub300\", \"\\ubc18\\ub300\", \"\\ubc18\\ub300\", \"\\ubc18\\ub300\", \"\\ubc18\\ub300\", \"\\ubc18\\ub300\", \"\\ubc18\\ub300\", \"\\ubc18\\ub300\", \"\\ubc18\\ub300\", \"\\ubc18\\ub824\\ub3d9\\ubb3c\", \"\\ubc18\\ub824\\ub3d9\\ubb3c\", \"\\ubc18\\ub824\\ub3d9\\ubb3c\", \"\\ubc1c\\ub2ec\\uc7a5\\uc560\", \"\\ubc1c\\ub2ec\\uc7a5\\uc560\", \"\\ubc1c\\uc0dd\", \"\\ubc1c\\uc0dd\", \"\\ubc1c\\uc0dd\", \"\\ubc1c\\uc0dd\", \"\\ubc1c\\uc0dd\", \"\\ubc1c\\uc0dd\", \"\\ubc1c\\uc0dd\", \"\\ubc1c\\uc0dd\", \"\\ubc1c\\uc0dd\", \"\\ubc1c\\uc0dd\", \"\\ubc1c\\uc0dd\", \"\\ubc1c\\uc0dd\", \"\\ubc1c\\uc0dd\", \"\\ubc1c\\uc0dd\", \"\\ubc1c\\uc0dd\", \"\\ubc29\\uacfc\\ud6c4\", \"\\ubc29\\uacfc\\ud6c4\", \"\\ubc29\\uae00\\ub77c\\ub370\\uc2dc\", \"\\ubc29\\uc0ac\\uc120\", \"\\ubc29\\uc0ac\\uc120\", \"\\ubc29\\uc0ac\\uc120\\uc0ac\", \"\\ubc29\\uc0ac\\uccad\", \"\\ubc29\\uc1a1\", \"\\ubc29\\uc1a1\", \"\\ubc29\\uc1a1\", \"\\ubc29\\uc1a1\", \"\\ubc29\\uc1a1\", \"\\ubc29\\uc1a1\", \"\\ubc29\\uc1a1\", \"\\ubc29\\uc1a1\", \"\\ubc29\\uc1a1\", \"\\ubc29\\uc1a1\", \"\\ubc29\\uc1a1\", \"\\ubc29\\uc1a1\", \"\\ubc29\\uc1a1\", \"\\ubc29\\uc1a1\", \"\\ubc29\\ud559\", \"\\ubc29\\ud559\", \"\\ubc30\\ub2ec\", \"\\ubc30\\ub2ec\", \"\\ubc30\\ub2ec\", \"\\ubc30\\ub2ec\", \"\\ubc30\\ub2ec\", \"\\ubc30\\ub2ec\", \"\\ubc30\\uc1a1\", \"\\ubc30\\uc1a1\", \"\\ubc30\\uc1a1\", \"\\ubc84\\uc2a4\", \"\\ubc84\\uc2a4\", \"\\ubc84\\uc2a4\", \"\\ubc84\\uc2a4\", \"\\ubc84\\uc2a4\", \"\\ubc84\\uc2a4\", \"\\ubc84\\uc2a4\", \"\\ubc88\\uc2dd\", \"\\ubc88\\uc2dd\", \"\\ubc94\\uc8c4\", \"\\ubc94\\uc8c4\", \"\\ubc94\\uc8c4\", \"\\ubc94\\uc8c4\", \"\\ubc94\\uc8c4\", \"\\ubc94\\uc8c4\", \"\\ubc94\\uc8c4\", \"\\ubc94\\uc8c4\", \"\\ubc94\\uc8c4\", \"\\ubc94\\uc8c4\", \"\\ubc94\\uc8c4\", \"\\ubc94\\uc8c4\", \"\\ubca0\\ub4dc\\ud0c0\\uc6b4\", \"\\ubca0\\ub4dc\\ud0c0\\uc6b4\", \"\\ubca0\\ud2b8\\ub0a8\", \"\\ubca0\\ud2b8\\ub0a8\", \"\\ubca0\\ud2b8\\ub0a8\", \"\\ubcc0\\uc804\\uc18c\", \"\\ubcc0\\ud658\", \"\\ubcd1\\uc2e4\", \"\\ubcd1\\uc6a9\", \"\\ubcd1\\uc6d0\", \"\\ubcd1\\uc6d0\", \"\\ubcd1\\uc6d0\", \"\\ubcd1\\uc6d0\", \"\\ubcd1\\uc6d0\", \"\\ubcd1\\uc6d0\", \"\\ubcd1\\uc6d0\", \"\\ubcf4\\uac74\\ubcf5\\uc9c0\\ubd80\", \"\\ubcf4\\uac74\\ubcf5\\uc9c0\\ubd80\", \"\\ubcf4\\uac74\\ubcf5\\uc9c0\\ubd80\", \"\\ubcf4\\uac74\\ubcf5\\uc9c0\\ubd80\", \"\\ubcf4\\uac74\\ubcf5\\uc9c0\\ubd80\", \"\\ubcf4\\uac74\\ubcf5\\uc9c0\\ubd80\", \"\\ubcf4\\uac74\\ubcf5\\uc9c0\\ubd80\", \"\\ubcf4\\uacb8\", \"\\ubcf4\\ub2e4\", \"\\ubcf4\\ub2e4\", \"\\ubcf4\\ub2e4\", \"\\ubcf4\\ub2e4\", \"\\ubcf4\\ub2e4\", \"\\ubcf4\\ub2e4\", \"\\ubcf4\\ub2e4\", \"\\ubcf4\\ub2e4\", \"\\ubcf4\\ub2e4\", \"\\ubcf4\\ub2e4\", \"\\ubcf4\\ub2e4\", \"\\ubcf4\\ub2e4\", \"\\ubcf4\\ub2e4\", \"\\ubcf4\\ub2e4\", \"\\ubcf4\\ub2e4\", \"\\ubcf4\\ub3c4\", \"\\ubcf4\\ub3c4\", \"\\ubcf4\\ub3c4\", \"\\ubcf4\\ub3c4\", \"\\ubcf4\\ub3c4\", \"\\ubcf4\\ub3c4\", \"\\ubcf4\\ub3c4\", \"\\ubcf4\\ub3c4\", \"\\ubcf4\\ub3c4\", \"\\ubcf4\\ub3c4\", \"\\ubcf4\\ub3c4\", \"\\ubcf4\\ub3c4\", \"\\ubcf4\\ub3c4\", \"\\ubcf4\\ub77c\\ub3d9\", \"\\ubcf4\\uc721\", \"\\ubcf4\\uc721\", \"\\ubcf4\\uc721\\ub8cc\", \"\\ubcf4\\uc721\\ub8cc\", \"\\ubcf4\\uc99d\\uae08\", \"\\ubcf4\\ud2b8\", \"\\ubcf4\\ud5d8\", \"\\ubcf4\\ud5d8\", \"\\ubcf4\\ud5d8\", \"\\ubcf4\\ud5d8\", \"\\ubcf4\\ud5d8\", \"\\ubcf4\\ud5d8\", \"\\ubcf4\\ud5d8\", \"\\ubcf4\\ud5d8\\ub8cc\", \"\\ubcf4\\ud5d8\\ub8cc\", \"\\ubcf4\\ud5d8\\ub8cc\", \"\\ubcf4\\ud5d8\\ub8cc\", \"\\ubcf4\\ud5d8\\ub8cc\", \"\\ubcf4\\ud638\", \"\\ubcf4\\ud638\", \"\\ubcf4\\ud638\", \"\\ubcf4\\ud638\", \"\\ubcf4\\ud638\", \"\\ubcf4\\ud638\", \"\\ubcf4\\ud638\", \"\\ubcf4\\ud638\", \"\\ubcf4\\ud638\", \"\\ubcf4\\ud638\", \"\\ubcf4\\ud638\", \"\\ubcf4\\ud638\", \"\\ubcf4\\ud638\", \"\\ubcf4\\ud638\", \"\\ubcf4\\ud638\", \"\\ubcf5\\uc6a9\", \"\\ubcf5\\uc81c\", \"\\ubcf5\\uc81c\", \"\\ubcf5\\uc9c0\\uc0ac\", \"\\ubcf5\\uc9c0\\uc0ac\", \"\\ubcf5\\uc9c0\\uc0ac\", \"\\ubd80\\uac80\", \"\\ubd80\\ub2f4\", \"\\ubd80\\ub2f4\", \"\\ubd80\\ub2f4\", \"\\ubd80\\ub2f4\", \"\\ubd80\\ub2f4\", \"\\ubd80\\ub2f4\", \"\\ubd80\\ub2f4\", \"\\ubd80\\ub2f4\", \"\\ubd80\\ub2f4\", \"\\ubd80\\ub2f4\", \"\\ubd80\\ub2f4\", \"\\ubd80\\ub2f4\", \"\\ubd80\\ub2f4\", \"\\ubd80\\ub2f4\", \"\\ubd80\\ub3d9\\uc0b0\", \"\\ubd80\\ub3d9\\uc0b0\", \"\\ubd80\\ub3d9\\uc0b0\", \"\\ubd80\\ub3d9\\uc0b0\", \"\\ubd80\\ub3d9\\uc0b0\", \"\\ubd80\\ub3d9\\uc0b0\", \"\\ubd80\\ubaa8\", \"\\ubd80\\ubaa8\", \"\\ubd80\\ubaa8\", \"\\ubd80\\ubaa8\", \"\\ubd80\\ubaa8\", \"\\ubd80\\ubaa8\", \"\\ubd80\\ubaa8\", \"\\ubd80\\ubaa8\", \"\\ubd81\\uc120\", \"\\ubd81\\ud55c\", \"\\ubd81\\ud55c\", \"\\ubd81\\ud55c\", \"\\ubd81\\ud55c\", \"\\ubd84\\ub1e8\", \"\\ubd84\\ub2f9\\uc120\", \"\\ubd84\\uc591\", \"\\ubd84\\uc591\", \"\\ubd84\\uc591\", \"\\ubd84\\uc591\", \"\\ubd84\\uc591\", \"\\ubd84\\uc591\", \"\\ubd88\\ubc95\", \"\\ubd88\\ubc95\", \"\\ubd88\\ubc95\", \"\\ubd88\\ubc95\", \"\\ubd88\\ubc95\", \"\\ubd88\\ubc95\", \"\\ubd88\\ubc95\", \"\\ubd88\\ubc95\", \"\\ubd88\\ubc95\", \"\\ubd88\\ubc95\", \"\\ubd88\\ubc95\", \"\\ubd88\\ubc95\", \"\\ubd88\\ubc95\", \"\\ubd88\\ubc95\", \"\\ubd88\\ubc95\\uccb4\\ub958\\uc790\", \"\\ubd88\\ubc95\\uccb4\\ub958\\uc790\", \"\\ubd88\\ubc95\\uccb4\\ub958\\uc790\", \"\\ubd88\\uc18c\", \"\\ubd88\\uc18c\", \"\\ubd88\\uc2b9\", \"\\ube14\\ub799\\ub9ac\\uc2a4\\ud2b8\", \"\\ube14\\ub799\\ub9ac\\uc2a4\\ud2b8\", \"\\ube14\\ub85d\", \"\\ube14\\ub85d\", \"\\ube14\\ub85d\", \"\\ube14\\ub85d\", \"\\ube44\\ub2d0\", \"\\ube44\\ub2d0\", \"\\ube44\\ub9ac\", \"\\ube44\\ub9ac\", \"\\ube44\\ub9ac\", \"\\ube44\\ub9ac\", \"\\ube44\\ub9ac\", \"\\ube44\\ub9ac\", \"\\ube44\\ub9ac\", \"\\ube44\\ub9ac\", \"\\ube44\\ub9ac\", \"\\ube44\\ub9ac\", \"\\ube44\\uc790\", \"\\ube44\\uc790\", \"\\ube44\\uc790\", \"\\ube44\\uc790\", \"\\ube44\\uc815\\uaddc\\uc9c1\", \"\\ube44\\uc815\\uaddc\\uc9c1\", \"\\ube44\\uc815\\uaddc\\uc9c1\", \"\\ube44\\uc815\\uaddc\\uc9c1\", \"\\ube44\\uc815\\uaddc\\uc9c1\", \"\\ube44\\uc815\\uaddc\\uc9c1\", \"\\ube44\\ud504\", \"\\ube44\\ud575\\ud654\", \"\\ube59\\uc0c1\", \"\\uc0ac\\uac74\", \"\\uc0ac\\uac74\", \"\\uc0ac\\uac74\", \"\\uc0ac\\uac74\", \"\\uc0ac\\uac74\", \"\\uc0ac\\uac74\", \"\\uc0ac\\uac74\", \"\\uc0ac\\uac74\", \"\\uc0ac\\uac74\", \"\\uc0ac\\uac74\", \"\\uc0ac\\uac74\", \"\\uc0ac\\uac74\", \"\\uc0ac\\uac74\", \"\\uc0ac\\uac74\", \"\\uc0ac\\uac74\", \"\\uc0ac\\uace0\", \"\\uc0ac\\uace0\", \"\\uc0ac\\uace0\", \"\\uc0ac\\uace0\", \"\\uc0ac\\uace0\", \"\\uc0ac\\uace0\", \"\\uc0ac\\uace0\", \"\\uc0ac\\uace0\", \"\\uc0ac\\uace0\", \"\\uc0ac\\uace0\", \"\\uc0ac\\uace0\", \"\\uc0ac\\uace0\", \"\\uc0ac\\uace0\", \"\\uc0ac\\uae30\", \"\\uc0ac\\uae30\", \"\\uc0ac\\uae30\", \"\\uc0ac\\uae30\", \"\\uc0ac\\uae30\", \"\\uc0ac\\uae30\", \"\\uc0ac\\uae30\", \"\\uc0ac\\uae30\", \"\\uc0ac\\uae30\", \"\\uc0ac\\uae30\", \"\\uc0ac\\uae30\", \"\\uc0ac\\uae30\", \"\\uc0ac\\uae30\", \"\\uc0ac\\ub78c\", \"\\uc0ac\\ub78c\", \"\\uc0ac\\ub78c\", \"\\uc0ac\\ub78c\", \"\\uc0ac\\ub78c\", \"\\uc0ac\\ub78c\", \"\\uc0ac\\ub78c\", \"\\uc0ac\\ub78c\", \"\\uc0ac\\ub78c\", \"\\uc0ac\\ub78c\", \"\\uc0ac\\ub78c\", \"\\uc0ac\\ub78c\", \"\\uc0ac\\ub78c\", \"\\uc0ac\\ub78c\", \"\\uc0ac\\ub78c\", \"\\uc0ac\\ub9bd\", \"\\uc0ac\\ub9bd\", \"\\uc0ac\\ub9dd\", \"\\uc0ac\\ub9dd\", \"\\uc0ac\\ub9dd\", \"\\uc0ac\\ub9dd\", \"\\uc0ac\\ub9dd\", \"\\uc0ac\\ub9dd\", \"\\uc0ac\\ub9dd\", \"\\uc0ac\\ub9dd\", \"\\uc0ac\\ub9dd\", \"\\uc0ac\\ub9dd\", \"\\uc0ac\\ubb34\\uc7a5\", \"\\uc0ac\\ubb34\\uc7a5\", \"\\uc0ac\\ubb34\\uc7a5\", \"\\uc0ac\\ubb34\\uc7a5\", \"\\uc0ac\\ubc94\\ub300\", \"\\uc0ac\\ubc95\\ubd80\", \"\\uc0ac\\ubc95\\ubd80\", \"\\uc0ac\\ubc95\\ubd80\", \"\\uc0ac\\ubc95\\ubd80\", \"\\uc0ac\\ubc95\\ubd80\", \"\\uc0ac\\ubc95\\ubd80\", \"\\uc0ac\\ubc95\\ubd80\", \"\\uc0ac\\uc2e4\", \"\\uc0ac\\uc2e4\", \"\\uc0ac\\uc2e4\", \"\\uc0ac\\uc2e4\", \"\\uc0ac\\uc2e4\", \"\\uc0ac\\uc2e4\", \"\\uc0ac\\uc2e4\", \"\\uc0ac\\uc2e4\", \"\\uc0ac\\uc2e4\", \"\\uc0ac\\uc2e4\", \"\\uc0ac\\uc2e4\", \"\\uc0ac\\uc2e4\", \"\\uc0ac\\uc2e4\", \"\\uc0ac\\uc2e4\", \"\\uc0ac\\uc2e4\", \"\\uc0ac\\uc5c5\", \"\\uc0ac\\uc5c5\", \"\\uc0ac\\uc5c5\", \"\\uc0ac\\uc5c5\", \"\\uc0ac\\uc5c5\", \"\\uc0ac\\uc5c5\", \"\\uc0ac\\uc5c5\", \"\\uc0ac\\uc5c5\", \"\\uc0ac\\uc5c5\", \"\\uc0ac\\uc5c5\", \"\\uc0ac\\uc5c5\", \"\\uc0ac\\uc5c5\", \"\\uc0ac\\uc5c5\", \"\\uc0ac\\uc6a9\", \"\\uc0ac\\uc6a9\", \"\\uc0ac\\uc6a9\", \"\\uc0ac\\uc6a9\", \"\\uc0ac\\uc6a9\", \"\\uc0ac\\uc6a9\", \"\\uc0ac\\uc6a9\", \"\\uc0ac\\uc6a9\", \"\\uc0ac\\uc6a9\", \"\\uc0ac\\uc6a9\", \"\\uc0ac\\uc6a9\", \"\\uc0ac\\uc6a9\", \"\\uc0ac\\uc6a9\", \"\\uc0ac\\uc6a9\", \"\\uc0ac\\uc6a9\", \"\\uc0ac\\uc774\\ud2b8\", \"\\uc0ac\\uc774\\ud2b8\", \"\\uc0ac\\uc774\\ud2b8\", \"\\uc0ac\\uc774\\ud2b8\", \"\\uc0ac\\uc774\\ud2b8\", \"\\uc0ac\\uc774\\ud2b8\", \"\\uc0ac\\uc774\\ud2b8\", \"\\uc0ac\\uc9c4\", \"\\uc0ac\\uc9c4\", \"\\uc0ac\\uc9c4\", \"\\uc0ac\\uc9c4\", \"\\uc0ac\\uc9c4\", \"\\uc0ac\\uc9c4\", \"\\uc0ac\\uc9c4\", \"\\uc0ac\\uc9c4\", \"\\uc0ac\\uc9c4\", \"\\uc0ac\\uc9c4\", \"\\uc0ac\\uc9c4\", \"\\uc0ac\\uc9c4\", \"\\uc0ac\\ucc30\", \"\\uc0ac\\ucc30\", \"\\uc0ac\\ucc30\", \"\\uc0ac\\ucc30\", \"\\uc0ac\\ucc30\", \"\\uc0ac\\ud68c\", \"\\uc0ac\\ud68c\", \"\\uc0ac\\ud68c\", \"\\uc0ac\\ud68c\", \"\\uc0ac\\ud68c\", \"\\uc0ac\\ud68c\", \"\\uc0ac\\ud68c\", \"\\uc0ac\\ud68c\", \"\\uc0ac\\ud68c\", \"\\uc0ac\\ud68c\", \"\\uc0ac\\ud68c\", \"\\uc0ac\\ud68c\", \"\\uc0ac\\ud68c\", \"\\uc0ac\\ud68c\", \"\\uc0ac\\ud68c\", \"\\uc0ad\\uc81c\", \"\\uc0ad\\uc81c\", \"\\uc0ad\\uc81c\", \"\\uc0ad\\uc81c\", \"\\uc0ad\\uc81c\", \"\\uc0ad\\uc81c\", \"\\uc0ad\\uc81c\", \"\\uc0ad\\uc81c\", \"\\uc0ad\\uc81c\", \"\\uc0ad\\uc81c\", \"\\uc0ad\\uc81c\", \"\\uc0b0\\ub9bc\", \"\\uc0b0\\ub9bc\", \"\\uc0b0\\ub9bc\", \"\\uc0b0\\ub9bc\\uc870\\ud569\", \"\\uc0b0\\ubaa8\", \"\\uc0b0\\ubaa8\", \"\\uc0b0\\uc5c5\", \"\\uc0b0\\uc5c5\", \"\\uc0b0\\uc5c5\", \"\\uc0b0\\uc5c5\", \"\\uc0b0\\uc5c5\", \"\\uc0b0\\uc5c5\", \"\\uc0b0\\uc5c5\", \"\\uc0b0\\uc5c5\", \"\\uc0b0\\uc5c5\", \"\\uc0b0\\uc5c5\", \"\\uc0b0\\uc5c5\", \"\\uc0b0\\uc5c5\", \"\\uc0b0\\uc5c5\", \"\\uc0b0\\uccb4\\uc2a4\", \"\\uc0b4\\ub2e4\", \"\\uc0b4\\ub2e4\", \"\\uc0b4\\ub2e4\", \"\\uc0b4\\ub2e4\", \"\\uc0b4\\ub2e4\", \"\\uc0b4\\ub2e4\", \"\\uc0b4\\ub2e4\", \"\\uc0b4\\ub2e4\", \"\\uc0b4\\ub2e4\", \"\\uc0b4\\ub2e4\", \"\\uc0b4\\ub2e4\", \"\\uc0b4\\ub2e4\", \"\\uc0b4\\ub2e4\", \"\\uc0b4\\ub2e4\", \"\\uc0b4\\uc778\", \"\\uc0b4\\uc778\", \"\\uc0b4\\uc778\", \"\\uc0b4\\uc778\", \"\\uc0b4\\uc778\", \"\\uc0b4\\uc778\", \"\\uc0b4\\uc778\", \"\\uc0b4\\uc778\", \"\\uc0b4\\uc778\\uc790\", \"\\uc0b4\\uc778\\uc790\", \"\\uc0bc\\uc131\", \"\\uc0bc\\uc131\", \"\\uc0bc\\uc131\", \"\\uc0bc\\uc131\", \"\\uc0bc\\uc131\", \"\\uc0bc\\uc131\", \"\\uc0bc\\uc131\", \"\\uc0bc\\uc131\", \"\\uc0bc\\uc131\", \"\\uc0bc\\uc131\", \"\\uc0bc\\uc131\", \"\\uc0bc\\uc131\", \"\\uc0c1\\ub2f4\\uc0ac\", \"\\uc0c1\\ub2f4\\uc0ac\", \"\\uc0c1\\uc7a5\\ud3d0\\uc9c0\", \"\\uc0c1\\uc7a5\\ud3d0\\uc9c0\", \"\\uc0c1\\uc7a5\\ud3d0\\uc9c0\", \"\\uc0c1\\ud0dc\", \"\\uc0c1\\ud0dc\", \"\\uc0c1\\ud0dc\", \"\\uc0c1\\ud0dc\", \"\\uc0c1\\ud0dc\", \"\\uc0c1\\ud0dc\", \"\\uc0c1\\ud0dc\", \"\\uc0c1\\ud0dc\", \"\\uc0c1\\ud0dc\", \"\\uc0c1\\ud0dc\", \"\\uc0c1\\ud0dc\", \"\\uc0c1\\ud0dc\", \"\\uc0c1\\ud0dc\", \"\\uc0c1\\ud0dc\", \"\\uc0c1\\ud0dc\", \"\\uc0c1\\ud669\", \"\\uc0c1\\ud669\", \"\\uc0c1\\ud669\", \"\\uc0c1\\ud669\", \"\\uc0c1\\ud669\", \"\\uc0c1\\ud669\", \"\\uc0c1\\ud669\", \"\\uc0c1\\ud669\", \"\\uc0c1\\ud669\", \"\\uc0c1\\ud669\", \"\\uc0c1\\ud669\", \"\\uc0c1\\ud669\", \"\\uc0c1\\ud669\", \"\\uc0c1\\ud669\", \"\\uc0c1\\ud669\", \"\\uc0c8\\ub9cc\\uae08\", \"\\uc0dd\\uac01\", \"\\uc0dd\\uac01\", \"\\uc0dd\\uac01\", \"\\uc0dd\\uac01\", \"\\uc0dd\\uac01\", \"\\uc0dd\\uac01\", \"\\uc0dd\\uac01\", \"\\uc0dd\\uac01\", \"\\uc0dd\\uac01\", \"\\uc0dd\\uac01\", \"\\uc0dd\\uac01\", \"\\uc0dd\\uac01\", \"\\uc0dd\\uac01\", \"\\uc0dd\\uac01\", \"\\uc0dd\\uac01\", \"\\uc11c\\ub0a8\\ub300\", \"\\uc11c\\ubbfc\", \"\\uc11c\\ubbfc\", \"\\uc11c\\ubbfc\", \"\\uc11c\\ubbfc\", \"\\uc11c\\ubbfc\", \"\\uc11c\\ubbfc\", \"\\uc11c\\ubbfc\", \"\\uc11c\\ubbfc\", \"\\uc11c\\uc6b8\", \"\\uc11c\\uc6b8\", \"\\uc11c\\uc6b8\", \"\\uc11c\\uc6b8\", \"\\uc11c\\uc6b8\", \"\\uc11c\\uc6b8\", \"\\uc11c\\uc6b8\", \"\\uc11c\\uc6b8\", \"\\uc11c\\uc6b8\", \"\\uc11c\\uc6b8\", \"\\uc11c\\uc6b8\", \"\\uc11c\\uc6b8\", \"\\uc11c\\uc6b8\", \"\\uc11c\\uc6b8\", \"\\uc120\\uc0dd\\ub2d8\", \"\\uc120\\uc0dd\\ub2d8\", \"\\uc120\\uc0dd\\ub2d8\", \"\\uc120\\uc0dd\\ub2d8\", \"\\uc120\\uc0dd\\ub2d8\", \"\\uc120\\uc0dd\\ub2d8\", \"\\uc120\\uc218\", \"\\uc120\\uc218\", \"\\uc120\\uc218\", \"\\uc124\\uce58\", \"\\uc124\\uce58\", \"\\uc124\\uce58\", \"\\uc124\\uce58\", \"\\uc124\\uce58\", \"\\uc124\\uce58\", \"\\uc124\\uce58\", \"\\uc124\\uce58\", \"\\uc124\\uce58\", \"\\uc124\\uce58\", \"\\uc124\\uce58\", \"\\uc124\\uce58\", \"\\uc124\\uce58\", \"\\uc124\\uce58\", \"\\uc124\\uce58\", \"\\uc131\\uad6c\", \"\\uc131\\ub9e4\\ub9e4\", \"\\uc131\\ub9e4\\ub9e4\", \"\\uc131\\ub9e4\\ub9e4\", \"\\uc131\\ub9e4\\ub9e4\", \"\\uc131\\ubbfc\", \"\\uc131\\ubc94\\uc8c4\", \"\\uc131\\ubc94\\uc8c4\", \"\\uc131\\ubcc4\", \"\\uc131\\ubcc4\", \"\\uc131\\ubcc4\", \"\\uc131\\ubcc4\", \"\\uc131\\ubcc4\", \"\\uc131\\ubcc4\", \"\\uc131\\ucc28\\ubcc4\", \"\\uc131\\ucc28\\ubcc4\", \"\\uc131\\ud3ed\\ub825\", \"\\uc131\\ud3ed\\ub825\", \"\\uc131\\ud3ed\\ub825\", \"\\uc131\\ud3ed\\ub825\", \"\\uc131\\ud3ed\\ud589\", \"\\uc131\\ud3ed\\ud589\", \"\\uc131\\ud3ed\\ud589\", \"\\uc131\\ud589\\uc704\", \"\\uc138\\uae08\", \"\\uc138\\uae08\", \"\\uc138\\uae08\", \"\\uc138\\uae08\", \"\\uc138\\uae08\", \"\\uc138\\uae08\", \"\\uc138\\uae08\", \"\\uc138\\uae08\", \"\\uc138\\uae08\", \"\\uc138\\uae08\", \"\\uc138\\uae08\", \"\\uc138\\uae08\", \"\\uc138\\uae08\", \"\\uc138\\uae08\", \"\\uc138\\uae08\", \"\\uc138\\ub825\", \"\\uc138\\ub825\", \"\\uc138\\ub825\", \"\\uc138\\ub825\", \"\\uc138\\ub825\", \"\\uc138\\ub825\", \"\\uc138\\ub825\", \"\\uc138\\ub825\", \"\\uc138\\ub825\", \"\\uc138\\ub825\", \"\\uc138\\ub825\", \"\\uc138\\ube44\", \"\\uc138\\uc6d4\\ud638\", \"\\uc138\\uc6d4\\ud638\", \"\\uc138\\uc6d4\\ud638\", \"\\uc138\\uc6d4\\ud638\", \"\\uc138\\uc6d4\\ud638\", \"\\uc138\\uc6d4\\ud638\", \"\\uc138\\uc6d4\\ud638\", \"\\uc138\\uc6d4\\ud638\", \"\\uc138\\uc6d4\\ud638\", \"\\uc140\\ud2b8\\ub9ac\\uc628\", \"\\uc18c\\uac01\", \"\\uc18c\\uac01\", \"\\uc18c\\ub144\\ubc95\", \"\\uc18c\\ub77c\\ub137\", \"\\uc18c\\ubc29\", \"\\uc18c\\ubc29\", \"\\uc18c\\ubc29\", \"\\uc18c\\ubc29\", \"\\uc18c\\ubc29\", \"\\uc18c\\ubc29\", \"\\uc18c\\ubc29\", \"\\uc18c\\ubc29\\uccad\", \"\\uc18c\\uc544\\ub2f9\\ub1e8\", \"\\uc190\\uc5f0\\uc7ac\", \"\\uc1a1\\ub3c4\\uad6d\\uc81c\\ub3c4\\uc2dc\", \"\\uc1a1\\uc0b0\\uba74\", \"\\uc218\\uac04\", \"\\uc218\\ub2a5\", \"\\uc218\\ub2a5\", \"\\uc218\\ub2a5\", \"\\uc218\\ub2a5\", \"\\uc218\\ub2a5\", \"\\uc218\\ub2f9\", \"\\uc218\\ub2f9\", \"\\uc218\\ub2f9\", \"\\uc218\\ub2f9\", \"\\uc218\\ub2f9\", \"\\uc218\\ub2f9\", \"\\uc218\\ub3c4\\uad8c\", \"\\uc218\\ub3c4\\uad8c\", \"\\uc218\\ub3c4\\uad8c\", \"\\uc218\\ub3c4\\uad8c\", \"\\uc218\\ub3c4\\uad8c\", \"\\uc218\\ub3c4\\uad8c\", \"\\uc218\\uc0ac\", \"\\uc218\\uc0ac\", \"\\uc218\\uc0ac\", \"\\uc218\\uc0ac\", \"\\uc218\\uc0ac\", \"\\uc218\\uc0ac\", \"\\uc218\\uc0ac\", \"\\uc218\\uc0ac\", \"\\uc218\\uc0ac\", \"\\uc218\\uc0ac\", \"\\uc218\\uc0ac\", \"\\uc218\\uc0ac\", \"\\uc218\\uc0ac\", \"\\uc218\\uc220\", \"\\uc218\\uc220\", \"\\uc218\\uc220\", \"\\uc218\\uc220\", \"\\uc218\\uc220\\uc2e4\", \"\\uc218\\uc2dc\", \"\\uc218\\uc2dc\", \"\\uc218\\uc2dc\", \"\\uc218\\uc2dc\", \"\\uc218\\uc2dc\", \"\\uc218\\uc2e0\\ub8cc\", \"\\uc218\\uc5c5\", \"\\uc218\\uc5c5\", \"\\uc218\\uc5c5\", \"\\uc218\\uc5c5\", \"\\uc218\\uc6a9\", \"\\uc218\\uc6a9\", \"\\uc218\\uc6a9\", \"\\uc218\\uc6a9\", \"\\uc218\\uc6a9\", \"\\uc218\\uc6a9\", \"\\uc218\\uc6a9\", \"\\uc218\\uc6a9\", \"\\uc218\\uc6a9\", \"\\uc218\\uc6a9\", \"\\uc218\\ud5d8\\uc0dd\", \"\\uc218\\ud5d8\\uc0dd\", \"\\uc218\\ud5d8\\uc0dd\", \"\\uc218\\ud5d8\\uc0dd\", \"\\uc218\\ud5d8\\uc0dd\", \"\\uc219\\uba85\\uc5ec\\uace0\", \"\\uc2a4\\ub2d8\", \"\\uc2a4\\ub2d8\", \"\\uc2a4\\ub9c8\\ud2b8\\ud3f0\", \"\\uc2a4\\ub9c8\\ud2b8\\ud3f0\", \"\\uc2a4\\ub9c8\\ud2b8\\ud3f0\", \"\\uc2a4\\ub9c8\\ud2b8\\ud3f0\", \"\\uc2a4\\ub9c8\\ud2b8\\ud3f0\", \"\\uc2a4\\ub9c8\\ud2b8\\ud3f0\", \"\\uc2a4\\ud3ec\\uce20\", \"\\uc2a4\\ud3ec\\uce20\", \"\\uc2a4\\ud3ec\\uce20\", \"\\uc2a4\\ud3ec\\uce20\", \"\\uc2a4\\ud3ec\\uce20\", \"\\uc2a4\\ud3ec\\uce20\", \"\\uc2a4\\ud3ec\\uce20\", \"\\uc2b9\\uac15\\uae30\", \"\\uc2b9\\ubb34\\uc6d0\", \"\\uc2b9\\ubb34\\uc6d0\", \"\\uc2dc\\uac04\", \"\\uc2dc\\uac04\", \"\\uc2dc\\uac04\", \"\\uc2dc\\uac04\", \"\\uc2dc\\uac04\", \"\\uc2dc\\uac04\", \"\\uc2dc\\uac04\", \"\\uc2dc\\uac04\", \"\\uc2dc\\uac04\", \"\\uc2dc\\uac04\", \"\\uc2dc\\uac04\", \"\\uc2dc\\uac04\", \"\\uc2dc\\uac04\", \"\\uc2dc\\uac04\", \"\\uc2dc\\uac04\", \"\\uc2dc\\uacf5\", \"\\uc2dc\\uacf5\", \"\\uc2dc\\uacf5\", \"\\uc2dc\\uacf5\", \"\\uc2dc\\uacf5\", \"\\uc2dc\\uacf5\\uc0ac\", \"\\uc2dc\\uacf5\\uc0ac\", \"\\uc2dc\\uae09\", \"\\uc2dc\\uae09\", \"\\uc2dc\\uae09\", \"\\uc2dc\\uae09\", \"\\uc2dc\\uae09\", \"\\uc2dc\\ubbfc\", \"\\uc2dc\\ubbfc\", \"\\uc2dc\\ubbfc\", \"\\uc2dc\\ubbfc\", \"\\uc2dc\\ubbfc\", \"\\uc2dc\\ubbfc\", \"\\uc2dc\\ubbfc\", \"\\uc2dc\\ubbfc\", \"\\uc2dc\\ubbfc\", \"\\uc2dc\\ubbfc\", \"\\uc2dc\\ubbfc\", \"\\uc2dc\\ubbfc\", \"\\uc2dc\\ubbfc\", \"\\uc2dc\\ubbfc\", \"\\uc2dc\\uc124\", \"\\uc2dc\\uc124\", \"\\uc2dc\\uc124\", \"\\uc2dc\\uc124\", \"\\uc2dc\\uc124\", \"\\uc2dc\\uc124\", \"\\uc2dc\\uc124\", \"\\uc2dc\\uc124\", \"\\uc2dc\\uc124\", \"\\uc2dc\\uc124\", \"\\uc2dc\\uc124\", \"\\uc2dc\\uc124\", \"\\uc2dc\\uc124\", \"\\uc2dc\\uc2a4\\ud15c\", \"\\uc2dc\\uc2a4\\ud15c\", \"\\uc2dc\\uc2a4\\ud15c\", \"\\uc2dc\\uc2a4\\ud15c\", \"\\uc2dc\\uc2a4\\ud15c\", \"\\uc2dc\\uc2a4\\ud15c\", \"\\uc2dc\\uc2a4\\ud15c\", \"\\uc2dc\\uc2a4\\ud15c\", \"\\uc2dc\\uc2a4\\ud15c\", \"\\uc2dc\\uc2a4\\ud15c\", \"\\uc2dc\\uc2a4\\ud15c\", \"\\uc2dc\\uc2a4\\ud15c\", \"\\uc2dc\\uc2a4\\ud15c\", \"\\uc2dc\\uc2a4\\ud15c\", \"\\uc2dc\\uc7a5\", \"\\uc2dc\\uc7a5\", \"\\uc2dc\\uc7a5\", \"\\uc2dc\\uc7a5\", \"\\uc2dc\\uc7a5\", \"\\uc2dc\\uc7a5\", \"\\uc2dc\\uc7a5\", \"\\uc2dc\\uc7a5\", \"\\uc2dc\\uc7a5\", \"\\uc2dc\\uc7a5\", \"\\uc2dc\\ud0a4\\ub2e4\", \"\\uc2dc\\ud0a4\\ub2e4\", \"\\uc2dc\\ud0a4\\ub2e4\", \"\\uc2dc\\ud0a4\\ub2e4\", \"\\uc2dc\\ud0a4\\ub2e4\", \"\\uc2dc\\ud0a4\\ub2e4\", \"\\uc2dc\\ud0a4\\ub2e4\", \"\\uc2dc\\ud0a4\\ub2e4\", \"\\uc2dc\\ud0a4\\ub2e4\", \"\\uc2dc\\ud0a4\\ub2e4\", \"\\uc2dc\\ud0a4\\ub2e4\", \"\\uc2dc\\ud0a4\\ub2e4\", \"\\uc2dc\\ud0a4\\ub2e4\", \"\\uc2dc\\ud0a4\\ub2e4\", \"\\uc2dc\\ud0a4\\ub2e4\", \"\\uc2dc\\ud589\", \"\\uc2dc\\ud589\", \"\\uc2dc\\ud589\", \"\\uc2dc\\ud589\", \"\\uc2dc\\ud589\", \"\\uc2dc\\ud589\", \"\\uc2dc\\ud589\", \"\\uc2dc\\ud589\", \"\\uc2dc\\ud589\", \"\\uc2dc\\ud589\", \"\\uc2dc\\ud589\", \"\\uc2dc\\ud589\", \"\\uc2dc\\ud589\", \"\\uc2dc\\ud589\", \"\\uc2dc\\ud589\", \"\\uc2dc\\ud5d8\", \"\\uc2dc\\ud5d8\", \"\\uc2dc\\ud5d8\", \"\\uc2dc\\ud5d8\", \"\\uc2dc\\ud5d8\", \"\\uc2dc\\ud5d8\", \"\\uc2dc\\ud5d8\", \"\\uc2dc\\ud5d8\", \"\\uc2dc\\ud5d8\", \"\\uc2dc\\ud5d8\", \"\\uc2dc\\ud5d8\", \"\\uc2dd\\uc0ac\\ub3d9\", \"\\uc2e0\\ub3c4\\uc2dc\", \"\\uc2e0\\ub3c4\\uc2dc\", \"\\uc2e0\\ub3c4\\uc2dc\", \"\\uc2e0\\ubd84\\ub2f9\\uc120\", \"\\uc2e0\\uc548\\uc0b0\\uc120\", \"\\uc2e0\\uccad\", \"\\uc2e0\\uccad\", \"\\uc2e0\\uccad\", \"\\uc2e0\\uccad\", \"\\uc2e0\\uccad\", \"\\uc2e0\\uccad\", \"\\uc2e0\\uccad\", \"\\uc2e0\\uccad\", \"\\uc2e0\\uccad\", \"\\uc2e0\\uccad\", \"\\uc2e0\\uccad\", \"\\uc2e0\\uccad\", \"\\uc2e0\\uccad\", \"\\uc2e0\\ud0c1\", \"\\uc2e0\\ud14d\", \"\\uc2ec\\uc2e0\", \"\\uc2ec\\uc2e0\", \"\\uc2ec\\uc2e0\", \"\\uc2ec\\uc7ac\\ucca0\", \"\\uc2ec\\uc815\\uc9c0\", \"\\uc2ec\\ud3d0\\uc18c\\uc0dd\\uc220\", \"\\uc2ec\\ud3d0\\uc18c\\uc0dd\\uc220\", \"\\uc3d8\\ub80c\\ud1a0\", \"\\uc4f0\\ub7ec\\uc9c0\\ub2e4\", \"\\uc4f0\\ub7ec\\uc9c0\\ub2e4\", \"\\uc4f0\\ub7ec\\uc9c0\\ub2e4\", \"\\uc4f0\\ub7ec\\uc9c0\\ub2e4\", \"\\uc4f0\\ub7ec\\uc9c0\\ub2e4\", \"\\uc4f0\\ub7ec\\uc9c0\\ub2e4\", \"\\uc544\\uac00\\uc528\", \"\\uc544\\uae30\", \"\\uc544\\uae30\", \"\\uc544\\uae30\", \"\\uc544\\ub3d9\", \"\\uc544\\ub3d9\", \"\\uc544\\ub3d9\", \"\\uc544\\ub3d9\", \"\\uc544\\ub3d9\", \"\\uc544\\ub3d9\", \"\\uc544\\ub3d9\", \"\\uc544\\ub3d9\", \"\\uc544\\ub3d9\\ud559\\ub300\", \"\\uc544\\ub3d9\\ud559\\ub300\", \"\\uc544\\ub3d9\\ud559\\ub300\", \"\\uc544\\ub3d9\\ud559\\ub300\", \"\\uc544\\ub3d9\\ud559\\ub300\", \"\\uc544\\ub4e4\", \"\\uc544\\ub4e4\", \"\\uc544\\ub4e4\", \"\\uc544\\ub4e4\", \"\\uc544\\ub4e4\", \"\\uc544\\ub4e4\", \"\\uc544\\ub4e4\", \"\\uc544\\ub4e4\", \"\\uc544\\ub4e4\", \"\\uc544\\ub4e4\", \"\\uc544\\ub4e4\", \"\\uc544\\ub78d\", \"\\uc544\\ub78d\", \"\\uc544\\ubc84\\uc9c0\", \"\\uc544\\ubc84\\uc9c0\", \"\\uc544\\ubc84\\uc9c0\", \"\\uc544\\ubc84\\uc9c0\", \"\\uc544\\ubc84\\uc9c0\", \"\\uc544\\ubc84\\uc9c0\", \"\\uc544\\ube60\", \"\\uc544\\ube60\", \"\\uc544\\ube60\", \"\\uc544\\ube60\", \"\\uc544\\ube60\", \"\\uc544\\ube60\", \"\\uc544\\uc2a4\\ucf58\", \"\\uc544\\uc2dc\\uc548\", \"\\uc544\\uc774\", \"\\uc544\\uc774\", \"\\uc544\\uc774\", \"\\uc544\\uc774\", \"\\uc544\\uc774\", \"\\uc544\\uc774\", \"\\uc544\\uc774\", \"\\uc544\\uc774\", \"\\uc544\\uc774\", \"\\uc544\\uc774\", \"\\uc544\\uc774\", \"\\uc544\\uc774\\uc2a4\\ud558\\ud0a4\", \"\\uc544\\uc774\\uc988\", \"\\uc544\\uc774\\ud15c\", \"\\uc544\\ud30c\\ud2b8\", \"\\uc544\\ud30c\\ud2b8\", \"\\uc544\\ud30c\\ud2b8\", \"\\uc544\\ud30c\\ud2b8\", \"\\uc544\\ud30c\\ud2b8\", \"\\uc544\\ud30c\\ud2b8\", \"\\uc544\\ud30c\\ud2b8\", \"\\uc544\\ud30c\\ud2b8\", \"\\uc544\\ud504\\ub2e4\", \"\\uc544\\ud504\\ub2e4\", \"\\uc544\\ud504\\ub2e4\", \"\\uc544\\ud504\\ub2e4\", \"\\uc544\\ud504\\ub2e4\", \"\\uc544\\ud504\\ub2e4\", \"\\uc544\\ud504\\ub2e4\", \"\\uc544\\ud504\\ub2e4\", \"\\uc545\\ub9c8\", \"\\uc545\\ud50c\\ub7ec\", \"\\uc548\\ub77d\\uc0ac\", \"\\uc548\\ub77d\\uc0ac\", \"\\uc548\\uc804\", \"\\uc548\\uc804\", \"\\uc548\\uc804\", \"\\uc548\\uc804\", \"\\uc548\\uc804\", \"\\uc548\\uc804\", \"\\uc548\\uc804\", \"\\uc548\\uc804\", \"\\uc548\\uc804\", \"\\uc548\\uc804\", \"\\uc548\\uc804\", \"\\uc548\\uc804\", \"\\uc548\\uc804\", \"\\uc548\\uc804\", \"\\uc548\\uc804\", \"\\uc54c\\ub2e4\", \"\\uc54c\\ub2e4\", \"\\uc54c\\ub2e4\", \"\\uc54c\\ub2e4\", \"\\uc54c\\ub2e4\", \"\\uc54c\\ub2e4\", \"\\uc54c\\ub2e4\", \"\\uc54c\\ub2e4\", \"\\uc54c\\ub2e4\", \"\\uc54c\\ub2e4\", \"\\uc54c\\ub2e4\", \"\\uc54c\\ub2e4\", \"\\uc54c\\ub2e4\", \"\\uc54c\\ub2e4\", \"\\uc54c\\ub2e4\", \"\\uc554\\ud638\", \"\\uc554\\ud638\", \"\\uc57c\\uad6c\", \"\\uc57c\\uad6c\", \"\\uc57c\\uad6c\", \"\\uc57c\\uad6c\\ub2e8\", \"\\uc57c\\ub2f9\", \"\\uc57c\\ub2f9\", \"\\uc57c\\ub2f9\", \"\\uc57c\\ub2f9\", \"\\uc591\\uc131\\ud3c9\\ub4f1\", \"\\uc591\\uc2b9\\ud0dc\", \"\\uc591\\uc2b9\\ud0dc\", \"\\uc591\\uc721\\ube44\", \"\\uc591\\uc721\\ube44\", \"\\uc591\\uc721\\ube44\", \"\\uc5b4\\ub5bb\\ub2e4\", \"\\uc5b4\\ub5bb\\ub2e4\", \"\\uc5b4\\ub5bb\\ub2e4\", \"\\uc5b4\\ub5bb\\ub2e4\", \"\\uc5b4\\ub5bb\\ub2e4\", \"\\uc5b4\\ub5bb\\ub2e4\", \"\\uc5b4\\ub5bb\\ub2e4\", \"\\uc5b4\\ub5bb\\ub2e4\", \"\\uc5b4\\ub5bb\\ub2e4\", \"\\uc5b4\\ub5bb\\ub2e4\", \"\\uc5b4\\ub5bb\\ub2e4\", \"\\uc5b4\\ub5bb\\ub2e4\", \"\\uc5b4\\ub5bb\\ub2e4\", \"\\uc5b4\\ub5bb\\ub2e4\", \"\\uc5b4\\ub5bb\\ub2e4\", \"\\uc5b4\\ub978\", \"\\uc5b4\\ub978\", \"\\uc5b4\\ub978\", \"\\uc5b4\\ub978\", \"\\uc5b4\\ub978\", \"\\uc5b4\\ub978\", \"\\uc5b4\\ub9b0\\uc774\\uc9d1\", \"\\uc5b4\\ub9b0\\uc774\\uc9d1\", \"\\uc5b4\\ub9b0\\uc774\\uc9d1\", \"\\uc5b4\\ub9b0\\uc774\\uc9d1\", \"\\uc5b4\\uba38\\ub2c8\", \"\\uc5b4\\uba38\\ub2c8\", \"\\uc5b4\\uba38\\ub2c8\", \"\\uc5b4\\uba38\\ub2c8\", \"\\uc5b4\\uba38\\ub2c8\", \"\\uc5b4\\uba38\\ub2c8\", \"\\uc5b4\\uba38\\ub2c8\", \"\\uc5b4\\uc870\", \"\\uc5b4\\uc870\", \"\\uc5b5\\ub958\", \"\\uc5b5\\uc6b8\\ud558\\ub2e4\", \"\\uc5b5\\uc6b8\\ud558\\ub2e4\", \"\\uc5b5\\uc6b8\\ud558\\ub2e4\", \"\\uc5b5\\uc6b8\\ud558\\ub2e4\", \"\\uc5b5\\uc6b8\\ud558\\ub2e4\", \"\\uc5b5\\uc6b8\\ud558\\ub2e4\", \"\\uc5b5\\uc6b8\\ud558\\ub2e4\", \"\\uc5b5\\uc6b8\\ud558\\ub2e4\", \"\\uc5b5\\uc6b8\\ud558\\ub2e4\", \"\\uc5b5\\uc6b8\\ud558\\ub2e4\", \"\\uc5b5\\uc6b8\\ud558\\ub2e4\", \"\\uc5b5\\uc6b8\\ud558\\ub2e4\", \"\\uc5b5\\uc6b8\\ud558\\ub2e4\", \"\\uc5b8\\ub860\", \"\\uc5b8\\ub860\", \"\\uc5b8\\ub860\", \"\\uc5b8\\ub860\", \"\\uc5b8\\ub860\", \"\\uc5b8\\ub860\", \"\\uc5b8\\ub860\", \"\\uc5b8\\ub860\", \"\\uc5b8\\ub860\", \"\\uc5b8\\ub860\", \"\\uc5b8\\ub860\", \"\\uc5b8\\ub860\", \"\\uc5b8\\ub860\", \"\\uc5b8\\ub860\", \"\\uc5b8\\ub860\", \"\\uc5b8\\ub860\\uc0ac\", \"\\uc5b8\\ub860\\uc0ac\", \"\\uc5b8\\ub860\\uc0ac\", \"\\uc5b8\\ub860\\uc0ac\", \"\\uc5b8\\ub860\\uc0ac\", \"\\uc5c4\\ub9c8\", \"\\uc5c4\\ub9c8\", \"\\uc5c4\\ub9c8\", \"\\uc5c4\\ub9c8\", \"\\uc5c4\\ub9c8\", \"\\uc5c4\\ub9c8\", \"\\uc5c5\\ub85c\\ub4dc\", \"\\uc5c5\\ubb34\", \"\\uc5c5\\ubb34\", \"\\uc5c5\\ubb34\", \"\\uc5c5\\ubb34\", \"\\uc5c5\\ubb34\", \"\\uc5c5\\ubb34\", \"\\uc5c5\\ubb34\", \"\\uc5c5\\ubb34\", \"\\uc5c5\\ubb34\", \"\\uc5c5\\ubb34\", \"\\uc5c5\\ubb34\", \"\\uc5c5\\ubb34\", \"\\uc5c5\\ubb34\", \"\\uc5c5\\ubb34\", \"\\uc5c5\\uccb4\", \"\\uc5c5\\uccb4\", \"\\uc5c5\\uccb4\", \"\\uc5c5\\uccb4\", \"\\uc5c5\\uccb4\", \"\\uc5c5\\uccb4\", \"\\uc5c5\\uccb4\", \"\\uc5c5\\uccb4\", \"\\uc5c5\\uccb4\", \"\\uc5c5\\uccb4\", \"\\uc5c5\\uccb4\", \"\\uc5c5\\uccb4\", \"\\uc5c5\\uccb4\", \"\\uc5c5\\uccb4\", \"\\uc5d0\\uc5b4\\uc18c\\ud504\\ud2b8\", \"\\uc5d4\\uc9c0\\ub2c8\\uc5b4\\ub9c1\", \"\\uc5d4\\uc9c4\", \"\\uc5d4\\uc9c4\", \"\\uc5d4\\uc9c4\", \"\\uc5d4\\uc9c4\\uc624\\uc77c\", \"\\uc5ec\\uac1d\\uc120\", \"\\uc5ec\\ub9ac\\ub2e4\", \"\\uc5ec\\uc131\", \"\\uc5ec\\uc131\", \"\\uc5ec\\uc131\", \"\\uc5ec\\uc131\", \"\\uc5ec\\uc131\", \"\\uc5ec\\uc131\", \"\\uc5ec\\uc131\", \"\\uc5ec\\uc131\\uac00\\uc871\\ubd80\", \"\\uc5ec\\uc131\\uac00\\uc871\\ubd80\", \"\\uc5ec\\uc131\\uac00\\uc871\\ubd80\", \"\\uc5ec\\uc131\\uac00\\uc871\\ubd80\", \"\\uc5ec\\uc131\\ubd80\", \"\\uc5ec\\uc625\", \"\\uc5ec\\uc790\", \"\\uc5ec\\uc790\", \"\\uc5ec\\uc790\", \"\\uc5ec\\uc790\", \"\\uc5ec\\uc790\", \"\\uc5ec\\uc790\", \"\\uc5ec\\uc790\", \"\\uc5ec\\uc790\", \"\\uc5ec\\uc790\", \"\\uc5ec\\uc790\", \"\\uc5ec\\uc911\\uc0dd\", \"\\uc5ec\\uc911\\uc0dd\", \"\\uc5ec\\uc911\\uc0dd\", \"\\uc5ec\\ud589\\uc0ac\", \"\\uc5ec\\ud610\", \"\\uc5f0\\uae30\\uae08\", \"\\uc5f0\\ub77d\", \"\\uc5f0\\ub77d\", \"\\uc5f0\\ub77d\", \"\\uc5f0\\ub77d\", \"\\uc5f0\\ub77d\", \"\\uc5f0\\ub77d\", \"\\uc5f0\\ub77d\", \"\\uc5f0\\ub77d\", \"\\uc5f0\\ub77d\", \"\\uc5f0\\ub9f9\", \"\\uc5f0\\ub9f9\", \"\\uc5f0\\uc218\", \"\\uc5f0\\uc218\", \"\\uc5f0\\uc218\", \"\\uc5f0\\uc218\", \"\\uc5f0\\uc218\", \"\\uc5f0\\uc218\", \"\\uc5f0\\uc218\", \"\\uc5f0\\ucc28\", \"\\uc5f0\\ucc28\", \"\\uc5f0\\ucc28\", \"\\uc5f0\\ucc28\", \"\\uc5f0\\ud0c4\", \"\\uc5f0\\ud0c4\", \"\\uc601\\ub9ac\\ubcd1\\uc6d0\", \"\\uc601\\uc544\", \"\\uc601\\uc720\", \"\\uc601\\uc720\", \"\\uc601\\uc720\\uc544\\ubcf4\\uc721\\ubc95\", \"\\uc601\\uc885\\ub3c4\", \"\\uc601\\ud654\", \"\\uc601\\ud654\", \"\\uc601\\ud654\", \"\\uc601\\ud654\", \"\\uc601\\ud654\", \"\\uc601\\ud654\", \"\\uc601\\ud654\", \"\\uc601\\ud654\", \"\\uc608\\uba58\", \"\\uc608\\uba58\", \"\\uc608\\ube44\\uad70\", \"\\uc608\\uc220\", \"\\uc608\\uc220\", \"\\uc608\\uc220\", \"\\uc624\\ub2e4\", \"\\uc624\\ub2e4\", \"\\uc624\\ub2e4\", \"\\uc624\\ub2e4\", \"\\uc624\\ub2e4\", \"\\uc624\\ub2e4\", \"\\uc624\\ub2e4\", \"\\uc624\\ub2e4\", \"\\uc624\\ub2e4\", \"\\uc624\\ub2e4\", \"\\uc624\\ub2e4\", \"\\uc624\\ub2e4\", \"\\uc624\\ub2e4\", \"\\uc624\\ub2e4\", \"\\uc624\\ub2e4\", \"\\uc62c\\ub9bc\\ud53d\", \"\\uc62c\\ub9bc\\ud53d\", \"\\uc62c\\ub9bc\\ud53d\", \"\\uc644\\uc8fc\\uad70\", \"\\uc678\\uad6d\\uc778\", \"\\uc678\\uad6d\\uc778\", \"\\uc678\\uad6d\\uc778\", \"\\uc678\\uad6d\\uc778\", \"\\uc678\\uad6d\\uc778\", \"\\uc678\\uad6d\\uc778\", \"\\uc678\\ub798\\uc5b4\", \"\\uc678\\uc8fc\", \"\\uc678\\uc8fc\", \"\\uc694\\uad6c\", \"\\uc694\\uad6c\", \"\\uc694\\uad6c\", \"\\uc694\\uad6c\", \"\\uc694\\uad6c\", \"\\uc694\\uad6c\", \"\\uc694\\uad6c\", \"\\uc694\\uad6c\", \"\\uc694\\uad6c\", \"\\uc694\\uad6c\", \"\\uc694\\uad6c\", \"\\uc694\\uad6c\", \"\\uc694\\uad6c\", \"\\uc694\\uad6c\", \"\\uc694\\uad6c\", \"\\uc694\\uc591\\ubcf4\\ud638\\uc0ac\", \"\\uc694\\uccad\", \"\\uc694\\uccad\", \"\\uc694\\uccad\", \"\\uc694\\uccad\", \"\\uc694\\uccad\", \"\\uc694\\uccad\", \"\\uc694\\uccad\", \"\\uc694\\uccad\", \"\\uc694\\uccad\", \"\\uc694\\uccad\", \"\\uc694\\uccad\", \"\\uc694\\uccad\", \"\\uc694\\uccad\", \"\\uc694\\uccad\", \"\\uc694\\uccad\", \"\\uc6a9\\uc561\", \"\\uc6a9\\uc778\\uc2dc\", \"\\uc6b0\\ub9ac\", \"\\uc6b0\\ub9ac\", \"\\uc6b0\\ub9ac\", \"\\uc6b0\\ub9ac\", \"\\uc6b0\\ub9ac\", \"\\uc6b0\\ub9ac\", \"\\uc6b0\\ub9ac\", \"\\uc6b0\\ub9ac\", \"\\uc6b0\\ub9ac\", \"\\uc6b0\\ub9ac\", \"\\uc6b0\\ub9ac\", \"\\uc6b0\\ub9ac\", \"\\uc6b0\\ub9ac\", \"\\uc6b0\\ub9ac\", \"\\uc6b0\\ub9ac\", \"\\uc6b0\\ub9ac\\ub098\\ub77c\", \"\\uc6b0\\ub9ac\\ub098\\ub77c\", \"\\uc6b0\\ub9ac\\ub098\\ub77c\", \"\\uc6b0\\ub9ac\\ub098\\ub77c\", \"\\uc6b0\\ub9ac\\ub098\\ub77c\", \"\\uc6b0\\ub9ac\\ub098\\ub77c\", \"\\uc6b0\\ub9ac\\ub098\\ub77c\", \"\\uc6b0\\ub9ac\\ub098\\ub77c\", \"\\uc6b0\\ub9ac\\ub098\\ub77c\", \"\\uc6b0\\ub9ac\\ub098\\ub77c\", \"\\uc6b0\\ub9ac\\ub098\\ub77c\", \"\\uc6b0\\ub9ac\\ub098\\ub77c\", \"\\uc6b0\\ub9ac\\ub098\\ub77c\", \"\\uc6b0\\ub9ac\\ub098\\ub77c\", \"\\uc6b0\\ub9ac\\ub098\\ub77c\", \"\\uc6b0\\ub9ac\\uc740\\ud589\", \"\\uc6b0\\uc720\", \"\\uc6b0\\uc720\", \"\\uc6b0\\uc720\", \"\\uc6b0\\uc720\", \"\\uc6b0\\uc720\", \"\\uc6b0\\uc815\", \"\\uc6b0\\uc815\", \"\\uc6b0\\uc815\", \"\\uc6b0\\uccb4\\uad6d\", \"\\uc6b0\\uccb4\\uad6d\", \"\\uc6b0\\uccb4\\uad6d\", \"\\uc6b1\\uc77c\\uae30\", \"\\uc6b4\\uc601\", \"\\uc6b4\\uc601\", \"\\uc6b4\\uc601\", \"\\uc6b4\\uc601\", \"\\uc6b4\\uc601\", \"\\uc6b4\\uc601\", \"\\uc6b4\\uc601\", \"\\uc6b4\\uc601\", \"\\uc6b4\\uc601\", \"\\uc6b4\\uc601\", \"\\uc6b4\\uc601\", \"\\uc6b4\\uc601\", \"\\uc6b4\\uc601\", \"\\uc6b4\\uc601\", \"\\uc6b4\\uc601\", \"\\uc6b4\\uc601\\uc790\", \"\\uc6b4\\uc601\\uc790\", \"\\uc6b4\\uc601\\uc790\", \"\\uc6b4\\uc784\", \"\\uc6b4\\uc784\", \"\\uc6b4\\uc815\\uc2e0\\ub3c4\\uc2dc\", \"\\uc6cc\\ud0b9\\ub9d8\", \"\\uc6d0\\uc544\", \"\\uc6d0\\uc7a5\", \"\\uc6d0\\uc7a5\", \"\\uc6d0\\uc7a5\", \"\\uc6d0\\uc7a5\", \"\\uc6d0\\uc7a5\", \"\\uc6d0\\uc7a5\", \"\\uc6d0\\uc7a5\", \"\\uc6d0\\ud615\", \"\\uc6d4\\uae09\", \"\\uc6d4\\uae09\", \"\\uc6d4\\uae09\", \"\\uc6d4\\uae09\", \"\\uc6d4\\uae09\", \"\\uc6d4\\uae09\", \"\\uc6d4\\uae09\", \"\\uc6d4\\uae09\", \"\\uc6f9\\ud230\", \"\\uc6f9\\ud558\\ub4dc\", \"\\uc6f9\\ud558\\ub4dc\", \"\\uc704\\uc218\", \"\\uc704\\ud0a4\", \"\\uc704\\ud0a4\", \"\\uc704\\ud574\", \"\\uc704\\ud574\", \"\\uc704\\ud574\", \"\\uc704\\ud574\", \"\\uc704\\ud574\", \"\\uc704\\ud574\", \"\\uc704\\ud574\", \"\\uc704\\ud574\", \"\\uc704\\ud574\", \"\\uc704\\ud574\", \"\\uc704\\ud574\", \"\\uc704\\ud574\", \"\\uc704\\ud574\", \"\\uc704\\ud574\", \"\\uc704\\ud574\", \"\\uc720\\uae30\\ub3d9\\ubb3c\", \"\\uc720\\uae30\\ub3d9\\ubb3c\", \"\\uc720\\ubc29\", \"\\uc720\\uc544\", \"\\uc720\\uc544\", \"\\uc720\\uc544\\uad50\\uc721\", \"\\uc720\\uc740\\ud61c\", \"\\uc720\\uc800\", \"\\uc720\\uce58\\uc6d0\", \"\\uc720\\uce58\\uc6d0\", \"\\uc720\\uce58\\uc6d0\", \"\\uc720\\uce58\\uc6d0\", \"\\uc720\\uce58\\uc6d0\", \"\\uc720\\uce58\\uc6d0\\uad50\\uc0ac\", \"\\uc720\\ud1b5\", \"\\uc720\\ud1b5\", \"\\uc720\\ud1b5\", \"\\uc720\\ud1b5\", \"\\uc720\\ud1b5\", \"\\uc720\\ud1b5\", \"\\uc720\\ud1b5\", \"\\uc720\\ud1b5\", \"\\uc720\\ud1b5\", \"\\uc720\\ud1b5\", \"\\uc720\\ud1b5\\uc99d\\uba85\\uc11c\", \"\\uc720\\ud50c\\ub7ec\\uc2a4\", \"\\uc740\\uc815\", \"\\uc740\\ud3c9\", \"\\uc740\\ud3c9\", \"\\uc751\\uae09\\uad6c\\uc870\\uc0ac\", \"\\uc751\\uae09\\uc2e4\", \"\\uc758\\ub8cc\", \"\\uc758\\ub8cc\", \"\\uc758\\ub8cc\", \"\\uc758\\ub8cc\", \"\\uc758\\ub8cc\", \"\\uc758\\ub8cc\\uc0ac\", \"\\uc758\\ub8cc\\uc0ac\", \"\\uc758\\ub8cc\\uc778\", \"\\uc758\\ub8cc\\uc778\", \"\\uc758\\ub8cc\\uc778\", \"\\uc758\\ubb34\", \"\\uc758\\ubb34\", \"\\uc758\\ubb34\", \"\\uc758\\ubb34\", \"\\uc758\\ubb34\", \"\\uc758\\ubb34\", \"\\uc758\\ubb34\", \"\\uc758\\ubb34\", \"\\uc758\\ubb34\", \"\\uc758\\ubb34\", \"\\uc758\\ubb34\", \"\\uc758\\ubb34\", \"\\uc758\\ubb34\", \"\\uc758\\ubb34\", \"\\uc758\\ubb34\", \"\\uc758\\ubb34\\uad50\\uc721\", \"\\uc758\\ubb34\\uad50\\uc721\", \"\\uc758\\uc0ac\", \"\\uc758\\uc0ac\", \"\\uc758\\uc0ac\", \"\\uc758\\uc0ac\", \"\\uc758\\uc0ac\", \"\\uc758\\uc0ac\", \"\\uc758\\uc0ac\", \"\\uc758\\uc0ac\", \"\\uc758\\uc0ac\", \"\\uc758\\uc0ac\", \"\\uc758\\uc0ac\", \"\\uc758\\uc0ac\", \"\\uc758\\uc0ac\", \"\\uc758\\uc655\", \"\\uc758\\uc655\\uc2dc\", \"\\uc758\\uc6d0\", \"\\uc758\\uc6d0\", \"\\uc758\\uc6d0\", \"\\uc758\\uc6d0\", \"\\uc758\\uc6d0\", \"\\uc758\\uc6d0\", \"\\uc758\\uc6d0\", \"\\uc758\\uc6d0\", \"\\uc758\\uc6d0\", \"\\uc758\\uc6d0\", \"\\uc758\\uc6d0\", \"\\uc758\\uc6d0\", \"\\uc758\\uc6d0\", \"\\uc758\\ud639\", \"\\uc758\\ud639\", \"\\uc758\\ud639\", \"\\uc758\\ud639\", \"\\uc758\\ud639\", \"\\uc758\\ud639\", \"\\uc758\\ud639\", \"\\uc758\\ud639\", \"\\uc758\\ud639\", \"\\uc758\\ud639\", \"\\uc758\\ud639\", \"\\uc758\\ud639\", \"\\uc774\\uac74\\ud76c\", \"\\uc774\\uac74\\ud76c\", \"\\uc774\\uad6d\", \"\\uc774\\uad6d\", \"\\uc774\\ub807\\ub2e4\", \"\\uc774\\ub807\\ub2e4\", \"\\uc774\\ub807\\ub2e4\", \"\\uc774\\ub807\\ub2e4\", \"\\uc774\\ub807\\ub2e4\", \"\\uc774\\ub807\\ub2e4\", \"\\uc774\\ub807\\ub2e4\", \"\\uc774\\ub807\\ub2e4\", \"\\uc774\\ub807\\ub2e4\", \"\\uc774\\ub807\\ub2e4\", \"\\uc774\\ub807\\ub2e4\", \"\\uc774\\ub807\\ub2e4\", \"\\uc774\\ub807\\ub2e4\", \"\\uc774\\ub807\\ub2e4\", \"\\uc774\\ub807\\ub2e4\", \"\\uc774\\ub95c\\ucc28\", \"\\uc774\\ub95c\\ucc28\", \"\\uc774\\ub9e4\\ubc29\", \"\\uc774\\ubbfc\", \"\\uc774\\ubbfc\", \"\\uc774\\ubbfc\", \"\\uc774\\ubbfc\", \"\\uc774\\ubbfc\", \"\\uc774\\ubbfc\\uc790\", \"\\uc774\\ubbfc\\uc790\", \"\\uc774\\uc0ac\\uc7a5\", \"\\uc774\\uc0ac\\uc7a5\", \"\\uc774\\uc0ac\\uc7a5\", \"\\uc774\\uc0ac\\uc7a5\", \"\\uc774\\uc0ac\\uc7a5\", \"\\uc774\\uc0c1\", \"\\uc774\\uc0c1\", \"\\uc774\\uc0c1\", \"\\uc774\\uc0c1\", \"\\uc774\\uc0c1\", \"\\uc774\\uc0c1\", \"\\uc774\\uc0c1\", \"\\uc774\\uc0c1\", \"\\uc774\\uc0c1\", \"\\uc774\\uc0c1\", \"\\uc774\\uc0c1\", \"\\uc774\\uc0c1\", \"\\uc774\\uc0c1\", \"\\uc774\\uc0c1\", \"\\uc774\\uc0c1\", \"\\uc774\\uc0c1\\ubc94\", \"\\uc774\\uc1a1\", \"\\uc774\\uc1a1\", \"\\uc774\\uc1a1\", \"\\uc774\\uc2a4\\ud0c0\\ud56d\\uacf5\", \"\\uc774\\uc2ac\\ub78c\", \"\\uc774\\uc2ac\\ub78c\", \"\\uc774\\uc2ac\\ub78c\\uad50\", \"\\uc774\\uc2dd\", \"\\uc774\\uc6a9\", \"\\uc774\\uc6a9\", \"\\uc774\\uc6a9\", \"\\uc774\\uc6a9\", \"\\uc774\\uc6a9\", \"\\uc774\\uc6a9\", \"\\uc774\\uc6a9\", \"\\uc774\\uc6a9\", \"\\uc774\\uc6a9\", \"\\uc774\\uc6a9\", \"\\uc774\\uc6a9\", \"\\uc774\\uc6a9\", \"\\uc774\\uc6a9\", \"\\uc774\\uc6a9\", \"\\uc774\\uc6a9\", \"\\uc774\\uc740\\uc8fc\", \"\\uc774\\uc7ac\\uba85\", \"\\uc774\\uc7ac\\uba85\", \"\\uc774\\uc7ac\\uba85\", \"\\uc774\\uc7ac\\ud604\", \"\\uc774\\uc885\\uc778\", \"\\uc774\\uc8fc\", \"\\uc774\\uc8fc\", \"\\uc774\\uc8fc\", \"\\uc774\\uc8fc\", \"\\uc774\\ud76c\\uc9c4\", \"\\uc774\\ud76c\\uc9c4\", \"\\uc778\\uad6c\", \"\\uc778\\uad6c\", \"\\uc778\\uad6c\", \"\\uc778\\uad6c\", \"\\uc778\\uad6c\", \"\\uc778\\uad6c\", \"\\uc778\\uad6c\", \"\\uc778\\uad6c\", \"\\uc778\\uad6c\", \"\\uc778\\uad8c\", \"\\uc778\\uad8c\", \"\\uc778\\uad8c\", \"\\uc778\\uad8c\", \"\\uc778\\uad8c\", \"\\uc778\\uad8c\", \"\\uc778\\uad8c\", \"\\uc778\\uad8c\", \"\\uc778\\uad8c\", \"\\uc778\\ub825\", \"\\uc778\\ub825\", \"\\uc778\\ub825\", \"\\uc778\\ub825\", \"\\uc778\\ub825\", \"\\uc778\\ub825\", \"\\uc778\\ub825\", \"\\uc778\\ub825\", \"\\uc778\\ub825\", \"\\uc778\\ub825\", \"\\uc778\\ub825\", \"\\uc778\\ub825\", \"\\uc778\\uc99d\", \"\\uc778\\uc99d\", \"\\uc778\\uc99d\", \"\\uc778\\uc99d\", \"\\uc778\\uc99d\", \"\\uc778\\uc99d\", \"\\uc778\\uc99d\", \"\\uc778\\uc99d\", \"\\uc778\\uc99d\", \"\\uc778\\ucc9c\", \"\\uc778\\ucc9c\", \"\\uc778\\ucc9c\", \"\\uc778\\ucc9c\", \"\\uc778\\ucc9c\", \"\\uc778\\ucc9c\", \"\\uc778\\ucc9c\", \"\\uc778\\ucc9c\", \"\\uc778\\ucc9c\", \"\\uc778\\ucc9c\", \"\\uc778\\ucc9c\", \"\\uc778\\ucc9c\", \"\\uc778\\ucc9c\", \"\\uc77c\\uac00\", \"\\uc77c\\uac00\", \"\\uc77c\\uac00\", \"\\uc77c\\uac00\", \"\\uc77c\\uac00\", \"\\uc77c\\uac00\", \"\\uc77c\\ubcf8\", \"\\uc77c\\ubcf8\", \"\\uc77c\\ubcf8\", \"\\uc77c\\ubcf8\", \"\\uc77c\\ubcf8\", \"\\uc77c\\ubcf8\", \"\\uc77c\\ubcf8\", \"\\uc77c\\ubcf8\", \"\\uc77c\\ubcf8\", \"\\uc77c\\ubcf8\", \"\\uc77c\\ubcf8\", \"\\uc77c\\ubcf8\\uad70\", \"\\uc784\\uae08\", \"\\uc784\\uae08\", \"\\uc784\\uae08\", \"\\uc784\\uae08\", \"\\uc784\\uae08\", \"\\uc784\\uae08\", \"\\uc784\\uae08\", \"\\uc784\\uae08\", \"\\uc784\\uae08\", \"\\uc784\\uae08\", \"\\uc784\\ub300\", \"\\uc784\\ub300\", \"\\uc784\\ub300\", \"\\uc784\\ub300\", \"\\uc784\\ubd80\", \"\\uc784\\uc0c1\\uc2ec\\ub9ac\\uc0ac\", \"\\uc784\\uc5c5\", \"\\uc784\\uc6a9\", \"\\uc784\\uc6a9\", \"\\uc784\\uc6a9\", \"\\uc784\\ucc28\", \"\\uc784\\ucc28\", \"\\uc784\\ucc28\", \"\\uc785\\uad6d\", \"\\uc785\\uad6d\", \"\\uc785\\uad6d\", \"\\uc785\\uad6d\", \"\\uc785\\uad6d\", \"\\uc785\\uc6d0\", \"\\uc785\\uc6d0\", \"\\uc785\\uc6d0\", \"\\uc785\\uc6d0\", \"\\uc785\\uc6d0\", \"\\uc785\\uc7a5\\ub8cc\", \"\\uc785\\ud56d\", \"\\uc790\\uac04\", \"\\uc790\\uaca9\", \"\\uc790\\uaca9\", \"\\uc790\\uaca9\", \"\\uc790\\uaca9\", \"\\uc790\\uaca9\", \"\\uc790\\uaca9\", \"\\uc790\\uaca9\", \"\\uc790\\uaca9\", \"\\uc790\\uaca9\", \"\\uc790\\uaca9\", \"\\uc790\\uaca9\", \"\\uc790\\uaca9\", \"\\uc790\\uaca9\", \"\\uc790\\uaca9\", \"\\uc790\\uae08\", \"\\uc790\\uae08\", \"\\uc790\\uae08\", \"\\uc790\\uae08\", \"\\uc790\\uae08\", \"\\uc790\\uae08\", \"\\uc790\\uae08\", \"\\uc790\\uae08\", \"\\uc790\\uae08\", \"\\uc790\\uae09\", \"\\uc790\\uae09\", \"\\uc790\\ubcf8\\uc2dc\\uc7a5\", \"\\uc790\\ubcf8\\uc2dc\\uc7a5\", \"\\uc790\\uc720\", \"\\uc790\\uc720\", \"\\uc790\\uc720\", \"\\uc790\\uc720\", \"\\uc790\\uc720\", \"\\uc790\\uc720\", \"\\uc790\\uc720\", \"\\uc790\\uc720\", \"\\uc790\\uc720\", \"\\uc790\\uc720\", \"\\uc790\\uc720\", \"\\uc790\\uc720\", \"\\uc790\\uc720\", \"\\uc791\\uac00\", \"\\uc791\\uac00\", \"\\uc791\\uc0b4\", \"\\uc791\\ud488\", \"\\uc791\\ud488\", \"\\uc791\\ud488\", \"\\uc791\\ud488\", \"\\uc791\\ud488\", \"\\uc791\\ud488\", \"\\uc794\\uae08\", \"\\uc794\\uc778\\ud558\\ub2e4\", \"\\uc794\\uc778\\ud558\\ub2e4\", \"\\uc794\\uc778\\ud558\\ub2e4\", \"\\uc794\\uc778\\ud558\\ub2e4\", \"\\uc7a5\\ubcd1\", \"\\uc7a5\\ubcd1\", \"\\uc7a5\\ubcd1\", \"\\uc7a5\\ubcd1\", \"\\uc7a5\\uc560\", \"\\uc7a5\\uc560\", \"\\uc7a5\\uc560\", \"\\uc7a5\\uc560\", \"\\uc7a5\\uc560\", \"\\uc7a5\\uc560\", \"\\uc7a5\\uc560\", \"\\uc7a5\\uc560\\uc778\", \"\\uc7a5\\uc560\\uc778\", \"\\uc7a5\\uc560\\uc778\", \"\\uc7a5\\uc560\\uc778\", \"\\uc7a5\\uc560\\uc778\", \"\\uc7a5\\uc560\\uc778\", \"\\uc7a5\\uc560\\uc778\", \"\\uc800\\uc791\\uad8c\", \"\\uc800\\uc791\\uad8c\", \"\\uc800\\ud76c\", \"\\uc800\\ud76c\", \"\\uc800\\ud76c\", \"\\uc800\\ud76c\", \"\\uc800\\ud76c\", \"\\uc800\\ud76c\", \"\\uc800\\ud76c\", \"\\uc800\\ud76c\", \"\\uc800\\ud76c\", \"\\uc800\\ud76c\", \"\\uc800\\ud76c\", \"\\uc800\\ud76c\", \"\\uc800\\ud76c\", \"\\uc804\\uba85\\uaddc\", \"\\uc804\\ubc94\", \"\\uc804\\ubc94\", \"\\uc804\\uc6a9\\uae30\", \"\\uc804\\ucca0\", \"\\uc804\\ucca0\", \"\\uc804\\ud615\", \"\\uc804\\ud615\", \"\\uc804\\ud615\", \"\\uc804\\ud615\", \"\\uc804\\ud615\", \"\\uc804\\ud615\", \"\\uc804\\ud615\", \"\\uc804\\ud615\", \"\\uc804\\ud615\", \"\\uc804\\ud654\", \"\\uc804\\ud654\", \"\\uc804\\ud654\", \"\\uc804\\ud654\", \"\\uc804\\ud654\", \"\\uc804\\ud654\", \"\\uc804\\ud654\", \"\\uc804\\ud654\", \"\\uc804\\ud654\", \"\\uc804\\ud654\", \"\\uc810\\uc2ec\\uc2dc\\uac04\", \"\\uc810\\uc2ec\\uc2dc\\uac04\", \"\\uc810\\uc2ec\\uc2dc\\uac04\", \"\\uc810\\uc8fc\", \"\\uc810\\uc8fc\", \"\\uc811\\uc885\", \"\\uc811\\uc885\", \"\\uc811\\uc885\", \"\\uc815\\uad8c\", \"\\uc815\\uad8c\", \"\\uc815\\uad8c\", \"\\uc815\\uad8c\", \"\\uc815\\uad8c\", \"\\uc815\\uad8c\", \"\\uc815\\uad8c\", \"\\uc815\\uad8c\", \"\\uc815\\uaddc\\uc9c1\", \"\\uc815\\uaddc\\uc9c1\", \"\\uc815\\uaddc\\uc9c1\", \"\\uc815\\uaddc\\uc9c1\", \"\\uc815\\ub2f9\", \"\\uc815\\ub2f9\", \"\\uc815\\ub2f9\", \"\\uc815\\ub2f9\", \"\\uc815\\ub2f9\", \"\\uc815\\ub2f9\", \"\\uc815\\ub3d9\\uadf9\\uc7a5\", \"\\uc815\\ubd80\", \"\\uc815\\ubd80\", \"\\uc815\\ubd80\", \"\\uc815\\ubd80\", \"\\uc815\\ubd80\", \"\\uc815\\ubd80\", \"\\uc815\\ubd80\", \"\\uc815\\ubd80\", \"\\uc815\\ubd80\", \"\\uc815\\ubd80\", \"\\uc815\\ubd80\", \"\\uc815\\ubd80\", \"\\uc815\\ubd80\", \"\\uc815\\ubd80\", \"\\uc815\\ubd80\", \"\\uc815\\uc2dc\", \"\\uc815\\uc2dc\", \"\\uc815\\uc2dc\", \"\\uc815\\uc2dc\", \"\\uc815\\uc2e0\\uac74\\uac15\", \"\\uc815\\uc2e0\\uac74\\uac15\", \"\\uc815\\uc2e0\\uac74\\uac15\", \"\\uc815\\uc2e0\\uac74\\uac15\", \"\\uc815\\ucc45\", \"\\uc815\\ucc45\", \"\\uc815\\ucc45\", \"\\uc815\\ucc45\", \"\\uc815\\ucc45\", \"\\uc815\\ucc45\", \"\\uc815\\ucc45\", \"\\uc815\\ucc45\", \"\\uc815\\ucc45\", \"\\uc815\\ucc45\", \"\\uc815\\ucc45\", \"\\uc815\\ucc45\", \"\\uc815\\ucc45\", \"\\uc815\\uce58\", \"\\uc815\\uce58\", \"\\uc815\\uce58\", \"\\uc815\\uce58\", \"\\uc815\\uce58\", \"\\uc815\\uce58\", \"\\uc815\\uce58\", \"\\uc815\\uce58\", \"\\uc815\\uce58\", \"\\uc815\\uce58\", \"\\uc815\\uce58\", \"\\uc815\\uce58\", \"\\uc815\\uce58\", \"\\uc815\\uce58\", \"\\uc815\\uce58\", \"\\uc815\\uce58\\ubc94\", \"\\uc815\\ud615\\uc2dd\", \"\\uc815\\ud615\\uc2dd\", \"\\uc81c\\ub3c4\", \"\\uc81c\\ub3c4\", \"\\uc81c\\ub3c4\", \"\\uc81c\\ub3c4\", \"\\uc81c\\ub3c4\", \"\\uc81c\\ub3c4\", \"\\uc81c\\ub3c4\", \"\\uc81c\\ub3c4\", \"\\uc81c\\ub3c4\", \"\\uc81c\\ub3c4\", \"\\uc81c\\ub3c4\", \"\\uc81c\\ub3c4\", \"\\uc81c\\ub3c4\", \"\\uc81c\\ub3c4\", \"\\uc81c\\ub3c4\", \"\\uc81c\\uc8fc\", \"\\uc81c\\uc8fc\", \"\\uc81c\\uc8fc\", \"\\uc81c\\uc8fc\", \"\\uc81c\\uc8fc\", \"\\uc81c\\uc8fc\\ub3c4\", \"\\uc81c\\uc8fc\\ub3c4\", \"\\uc81c\\uc8fc\\ub3c4\", \"\\uc81c\\uc8fc\\ub3c4\", \"\\uc81c\\uc8fc\\ub3c4\", \"\\uc81c\\uc8fc\\ub3c4\", \"\\uc81c\\ucd9c\", \"\\uc81c\\ucd9c\", \"\\uc81c\\ucd9c\", \"\\uc81c\\ucd9c\", \"\\uc81c\\ucd9c\", \"\\uc81c\\ucd9c\", \"\\uc81c\\ucd9c\", \"\\uc81c\\ucd9c\", \"\\uc81c\\ucd9c\", \"\\uc81c\\ucd9c\", \"\\uc81c\\ucd9c\", \"\\uc81c\\ucd9c\", \"\\uc81c\\ucd9c\", \"\\uc81c\\ucd9c\", \"\\uc81c\\ud55c\", \"\\uc81c\\ud55c\", \"\\uc81c\\ud55c\", \"\\uc81c\\ud55c\", \"\\uc81c\\ud55c\", \"\\uc81c\\ud55c\", \"\\uc81c\\ud55c\", \"\\uc81c\\ud55c\", \"\\uc81c\\ud55c\", \"\\uc81c\\ud55c\", \"\\uc81c\\ud55c\", \"\\uc81c\\ud55c\", \"\\uc81c\\ud55c\", \"\\uc81c\\ud55c\", \"\\uc81c\\ud55c\", \"\\uc870\\uacc4\\uc885\", \"\\uc870\\uacc4\\uc885\", \"\\uc870\\uad50\", \"\\uc870\\ub958\\ub3c5\\uac10\", \"\\uc870\\ub9ac\\uc0ac\", \"\\uc870\\uc0ac\", \"\\uc870\\uc0ac\", \"\\uc870\\uc0ac\", \"\\uc870\\uc0ac\", \"\\uc870\\uc0ac\", \"\\uc870\\uc0ac\", \"\\uc870\\uc0ac\", \"\\uc870\\uc0ac\", \"\\uc870\\uc0ac\", \"\\uc870\\uc0ac\", \"\\uc870\\uc0ac\", \"\\uc870\\uc0ac\", \"\\uc870\\uc0ac\", \"\\uc870\\uc0ac\", \"\\uc870\\uc0ac\", \"\\uc870\\uc120\\uc18c\", \"\\uc870\\uc120\\uc18c\", \"\\uc870\\uc591\\ud638\", \"\\uc870\\uc704\", \"\\uc870\\uc778\", \"\\uc870\\uc815\", \"\\uc870\\uc815\", \"\\uc870\\uc815\", \"\\uc870\\uc815\", \"\\uc870\\uc815\", \"\\uc870\\uc815\", \"\\uc870\\uc815\", \"\\uc870\\uc815\", \"\\uc870\\uc815\", \"\\uc870\\ud569\", \"\\uc870\\ud569\", \"\\uc870\\ud569\", \"\\uc870\\ud569\", \"\\uc870\\ud569\\uc6d0\", \"\\uc870\\ud569\\uc6d0\", \"\\uc870\\ud604\\ubbfc\", \"\\uc870\\ud604\\uc544\", \"\\uc885\\uad50\", \"\\uc885\\uad50\", \"\\uc885\\uad50\", \"\\uc885\\uad50\", \"\\uc885\\uad50\", \"\\uc885\\uad50\", \"\\uc885\\uad50\", \"\\uc885\\uad50\", \"\\uc885\\uad50\", \"\\uc885\\uad50\", \"\\uc885\\uad50\", \"\\uc885\\uad50\", \"\\uc885\\ubaa9\", \"\\uc885\\ubaa9\", \"\\uc885\\ubaa9\", \"\\uc885\\ubaa9\", \"\\uc885\\ubaa9\", \"\\uc885\\ubd80\\uc138\", \"\\uc8fc\\uac00\", \"\\uc8fc\\uac00\", \"\\uc8fc\\uac00\", \"\\uc8fc\\uac00\", \"\\uc8fc\\uac00\", \"\\uc8fc\\uac00\", \"\\uc8fc\\uac00\", \"\\uc8fc\\uac00\", \"\\uc8fc\\uac00\", \"\\uc8fc\\uac70\\uc9c0\\uc5ed\", \"\\uc8fc\\uac80\", \"\\uc8fc\\ub2e4\", \"\\uc8fc\\ub2e4\", \"\\uc8fc\\ub2e4\", \"\\uc8fc\\ub2e4\", \"\\uc8fc\\ub2e4\", \"\\uc8fc\\ub2e4\", \"\\uc8fc\\ub2e4\", \"\\uc8fc\\ub2e4\", \"\\uc8fc\\ub2e4\", \"\\uc8fc\\ub2e4\", \"\\uc8fc\\ub2e4\", \"\\uc8fc\\ub2e4\", \"\\uc8fc\\ub2e4\", \"\\uc8fc\\ub2e4\", \"\\uc8fc\\ub2e4\", \"\\uc8fc\\ubbfc\", \"\\uc8fc\\ubbfc\", \"\\uc8fc\\ubbfc\", \"\\uc8fc\\ubbfc\", \"\\uc8fc\\ubbfc\", \"\\uc8fc\\ubbfc\", \"\\uc8fc\\ubbfc\", \"\\uc8fc\\ubbfc\", \"\\uc8fc\\uc2dd\", \"\\uc8fc\\uc2dd\", \"\\uc8fc\\uc2dd\", \"\\uc8fc\\uc2dd\", \"\\uc8fc\\uc2dd\\uc2dc\\uc7a5\", \"\\uc8fc\\uc2dd\\uc2dc\\uc7a5\", \"\\uc8fc\\uc2dd\\uc2dc\\uc7a5\", \"\\uc8fc\\uce58\\uc758\", \"\\uc8fc\\ud0dd\", \"\\uc8fc\\ud0dd\", \"\\uc8fc\\ud0dd\", \"\\uc8fc\\ud0dd\", \"\\uc8fc\\ud0dd\", \"\\uc8fc\\ud0dd\", \"\\uc8fc\\ud0dd\\uc870\\ud569\", \"\\uc8fc\\ud734\\uc218\\ub2f9\", \"\\uc8fd\\ub2e4\", \"\\uc8fd\\ub2e4\", \"\\uc8fd\\ub2e4\", \"\\uc8fd\\ub2e4\", \"\\uc8fd\\ub2e4\", \"\\uc8fd\\ub2e4\", \"\\uc8fd\\ub2e4\", \"\\uc8fd\\ub2e4\", \"\\uc8fd\\ub2e4\", \"\\uc8fd\\ub2e4\", \"\\uc8fd\\ub2e4\", \"\\uc8fd\\ub2e4\", \"\\uc8fd\\ub2e4\", \"\\uc8fd\\ub2e4\", \"\\uc8fd\\uc74c\", \"\\uc8fd\\uc74c\", \"\\uc8fd\\uc74c\", \"\\uc8fd\\uc74c\", \"\\uc8fd\\uc74c\", \"\\uc8fd\\uc74c\", \"\\uc8fd\\uc74c\", \"\\uc8fd\\uc74c\", \"\\uc8fd\\uc774\\ub2e4\", \"\\uc8fd\\uc774\\ub2e4\", \"\\uc8fd\\uc774\\ub2e4\", \"\\uc8fd\\uc774\\ub2e4\", \"\\uc8fd\\uc774\\ub2e4\", \"\\uc8fd\\uc774\\ub2e4\", \"\\uc8fd\\uc774\\ub2e4\", \"\\uc8fd\\uc774\\ub2e4\", \"\\uc8fd\\uc774\\ub2e4\", \"\\uc8fd\\uc774\\ub2e4\", \"\\uc8fd\\uc774\\ub2e4\", \"\\uc8fd\\uc774\\ub2e4\", \"\\uc904\\uae30\\uc138\\ud3ec\", \"\\uc904\\uae30\\uc138\\ud3ec\", \"\\uc911\\uac1c\\uc5c5\", \"\\uc911\\uad6c\\uccad\", \"\\uc911\\uad6c\\uccad\", \"\\uc911\\uad6d\", \"\\uc911\\uad6d\", \"\\uc911\\uad6d\", \"\\uc911\\uad6d\", \"\\uc911\\uad6d\", \"\\uc911\\uad6d\", \"\\uc911\\uad6d\", \"\\uc911\\uad6d\", \"\\uc911\\uad6d\", \"\\uc911\\uad6d\", \"\\uc911\\ub4f1\", \"\\uc911\\ud559\\uad50\", \"\\uc911\\ud559\\uad50\", \"\\uc911\\ud559\\uad50\", \"\\uc911\\ud559\\uad50\", \"\\uc911\\ud559\\uad50\", \"\\uc911\\ud658\\uc790\\uc2e4\", \"\\uc911\\ud658\\uc790\\uc2e4\", \"\\uc99d\\uad8c\", \"\\uc99d\\uad8c\", \"\\uc99d\\uad8c\\uc0ac\", \"\\uc99d\\uc0c1\", \"\\uc99d\\uc0c1\", \"\\uc99d\\uc0c1\", \"\\uc99d\\uc2dc\", \"\\uc99d\\uc81c\", \"\\uc9c0\\uad6c\", \"\\uc9c0\\uad6c\", \"\\uc9c0\\uad6c\", \"\\uc9c0\\uad6c\", \"\\uc9c0\\uad6c\", \"\\uc9c0\\uad6c\", \"\\uc9c0\\uae08\", \"\\uc9c0\\uae08\", \"\\uc9c0\\uae08\", \"\\uc9c0\\uae08\", \"\\uc9c0\\uae08\", \"\\uc9c0\\uae08\", \"\\uc9c0\\uae08\", \"\\uc9c0\\uae08\", \"\\uc9c0\\uae08\", \"\\uc9c0\\uae08\", \"\\uc9c0\\uae08\", \"\\uc9c0\\uae08\", \"\\uc9c0\\uae08\", \"\\uc9c0\\uae08\", \"\\uc9c0\\uae08\", \"\\uc9c0\\uae09\", \"\\uc9c0\\uae09\", \"\\uc9c0\\uae09\", \"\\uc9c0\\uae09\", \"\\uc9c0\\uae09\", \"\\uc9c0\\uae09\", \"\\uc9c0\\uae09\", \"\\uc9c0\\uae09\", \"\\uc9c0\\uae09\", \"\\uc9c0\\uae09\", \"\\uc9c0\\uae09\", \"\\uc9c0\\uae09\", \"\\uc9c0\\ubc29\\uc9c1\", \"\\uc9c0\\uc5e0\", \"\\uc9c0\\uc5e0\", \"\\uc9c0\\uc5ed\", \"\\uc9c0\\uc5ed\", \"\\uc9c0\\uc5ed\", \"\\uc9c0\\uc5ed\", \"\\uc9c0\\uc5ed\", \"\\uc9c0\\uc5ed\", \"\\uc9c0\\uc5ed\", \"\\uc9c0\\uc5ed\", \"\\uc9c0\\uc5ed\", \"\\uc9c0\\uc5ed\", \"\\uc9c0\\uc5ed\", \"\\uc9c0\\uc5ed\", \"\\uc9c0\\uc5ed\", \"\\uc9c0\\uc5ed\", \"\\uc9c0\\uc5ed\", \"\\uc9c0\\uc6d0\", \"\\uc9c0\\uc6d0\", \"\\uc9c0\\uc6d0\", \"\\uc9c0\\uc6d0\", \"\\uc9c0\\uc6d0\", \"\\uc9c0\\uc6d0\", \"\\uc9c0\\uc6d0\", \"\\uc9c0\\uc6d0\", \"\\uc9c0\\uc6d0\", \"\\uc9c0\\uc6d0\", \"\\uc9c0\\uc6d0\", \"\\uc9c0\\uc6d0\", \"\\uc9c0\\uc6d0\", \"\\uc9c0\\uc815\", \"\\uc9c0\\uc815\", \"\\uc9c0\\uc815\", \"\\uc9c0\\uc815\", \"\\uc9c0\\uc815\", \"\\uc9c0\\uc815\", \"\\uc9c0\\uc815\", \"\\uc9c0\\uc815\", \"\\uc9c0\\uc815\", \"\\uc9c0\\uc815\", \"\\uc9c0\\uc815\", \"\\uc9c0\\uc815\", \"\\uc9c0\\uc815\", \"\\uc9c0\\uc81c\\uc5ed\", \"\\uc9c0\\ud558\", \"\\uc9c0\\ud558\", \"\\uc9c0\\ud558\", \"\\uc9c0\\ud558\", \"\\uc9c0\\ud558\", \"\\uc9c0\\ud558\", \"\\uc9c1\\uc2a4\", \"\\uc9c1\\uc2a4\", \"\\uc9c1\\uc6d0\", \"\\uc9c1\\uc6d0\", \"\\uc9c1\\uc6d0\", \"\\uc9c1\\uc6d0\", \"\\uc9c1\\uc6d0\", \"\\uc9c1\\uc6d0\", \"\\uc9c1\\uc6d0\", \"\\uc9c1\\uc6d0\", \"\\uc9c1\\uc6d0\", \"\\uc9c1\\uc6d0\", \"\\uc9c1\\uc6d0\", \"\\uc9c1\\uc6d0\", \"\\uc9c1\\uc6d0\", \"\\uc9c1\\uc6d0\", \"\\uc9c1\\uc6d0\", \"\\uc9c4\\ub2e8\", \"\\uc9c4\\ub2e8\", \"\\uc9c4\\ub2e8\", \"\\uc9c4\\ub2e8\", \"\\uc9c4\\ub2e8\", \"\\uc9c4\\ub2e8\", \"\\uc9c4\\ub8cc\\uae30\\ub85d\", \"\\uc9c4\\uc5d0\\uc5b4\", \"\\uc9c4\\ud1b5\\uc81c\", \"\\ucc28\\uba85\\uacc4\\uc88c\", \"\\ucc28\\uc785\", \"\\ucc28\\uc785\", \"\\ucc28\\uc785\", \"\\ucc29\\uacf5\", \"\\ucc29\\uacf5\", \"\\ucc98\\ubc8c\", \"\\ucc98\\ubc8c\", \"\\ucc98\\ubc8c\", \"\\ucc98\\ubc8c\", \"\\ucc98\\ubc8c\", \"\\ucc98\\ubc8c\", \"\\ucc98\\ubc8c\", \"\\ucc98\\ubc8c\", \"\\ucc98\\ubc8c\", \"\\ucc98\\ubc8c\", \"\\ucc98\\ubc8c\", \"\\ucc98\\ubc8c\", \"\\ucc98\\ubc8c\", \"\\ucc98\\ubc8c\", \"\\ucc98\\ubc8c\", \"\\uccad\\uac01\\uc7a5\\uc560\", \"\\uccad\\uac01\\uc7a5\\uc560\", \"\\uccad\\uac01\\uc7a5\\uc560\", \"\\uccad\\ub77c\", \"\\uccad\\ub77c\", \"\\uccad\\ub7c9\\ub9ac\", \"\\uccad\\uc18c\\ub144\", \"\\uccad\\uc18c\\ub144\", \"\\uccad\\uc18c\\ub144\", \"\\uccad\\uc18c\\ub144\", \"\\uccad\\uc18c\\ub144\", \"\\uccad\\uc18c\\ub144\", \"\\uccad\\uc18c\\ub144\", \"\\uccad\\uc6d0\", \"\\uccad\\uc6d0\", \"\\uccad\\uc6d0\", \"\\uccad\\uc6d0\", \"\\uccad\\uc6d0\", \"\\uccad\\uc6d0\", \"\\uccad\\uc6d0\", \"\\uccad\\uc6d0\", \"\\uccad\\uc6d0\", \"\\uccad\\uc6d0\", \"\\uccad\\uc6d0\", \"\\uccad\\uc6d0\", \"\\uccad\\uc6d0\", \"\\uccad\\uc6d0\", \"\\uccad\\uc6d0\", \"\\uccad\\uc790\", \"\\uccb4\\ub958\", \"\\uccb4\\ub958\", \"\\uccb4\\ub958\", \"\\uccb4\\uc721\", \"\\uccb4\\uc721\", \"\\uccb4\\uc721\", \"\\uccb4\\uc721\", \"\\uccb4\\uc721\\ud68c\", \"\\uccb4\\uc721\\ud68c\", \"\\uccb4\\uc778\", \"\\uccb4\\uc778\", \"\\uccb4\\uc778\", \"\\uccb4\\uc778\", \"\\ucd08\\uacfc\\uadfc\\ubb34\", \"\\ucd08\\uacfc\\uadfc\\ubb34\", \"\\ucd08\\ub4f1\\uad50\\uc721\", \"\\ucd08\\ub4f1\\ud559\\uad50\", \"\\ucd08\\ub4f1\\ud559\\uad50\", \"\\ucd08\\ub4f1\\ud559\\uad50\", \"\\ucd08\\ub4f1\\ud559\\uad50\", \"\\ucd08\\ub4f1\\ud559\\uad50\", \"\\ucd08\\ub4f1\\ud559\\uad50\", \"\\ucd08\\ub4f1\\ud559\\uad50\", \"\\ucd08\\uc74c\\ud30c\", \"\\ucd08\\uc74c\\ud30c\", \"\\ucd1b\\ubd88\", \"\\ucd1b\\ubd88\", \"\\ucd1b\\ubd88\", \"\\ucd1b\\ubd88\", \"\\ucd1b\\ubd88\", \"\\ucd1b\\ubd88\", \"\\ucd1b\\ubd88\", \"\\ucd1b\\ubd88\", \"\\ucd1b\\ubd88\", \"\\ucd1d\\uc7a5\", \"\\ucd1d\\uc7a5\", \"\\ucd1d\\uc7a5\", \"\\ucd5c\\uc800\\uc784\\uae08\", \"\\ucd5c\\uc800\\uc784\\uae08\", \"\\ucd5c\\uc800\\uc784\\uae08\", \"\\ucd5c\\uc800\\uc784\\uae08\", \"\\ucd94\\ubc29\", \"\\ucd94\\ubc29\", \"\\ucd94\\ubc29\", \"\\ucd94\\ubc29\", \"\\ucd94\\uc9c4\", \"\\ucd94\\uc9c4\", \"\\ucd94\\uc9c4\", \"\\ucd94\\uc9c4\", \"\\ucd94\\uc9c4\", \"\\ucd94\\uc9c4\", \"\\ucd94\\uc9c4\", \"\\ucd94\\uc9c4\", \"\\ucd94\\uc9c4\", \"\\ucd94\\uc9c4\", \"\\ucd94\\uc9c4\", \"\\ucd94\\uc9c4\", \"\\ucd94\\uc9c4\", \"\\ucd94\\uc9c4\", \"\\ucd95\\uad6c\", \"\\ucd95\\uad6c\", \"\\ucd95\\uad6c\", \"\\ucd95\\uad6c\", \"\\ucd95\\uc81c\", \"\\ucd95\\uc81c\", \"\\ucd95\\uc81c\", \"\\ucd95\\uc81c\", \"\\ucd95\\uc81c\", \"\\ucd9c\\uadfc\", \"\\ucd9c\\uadfc\", \"\\ucd9c\\uadfc\", \"\\ucd9c\\uadfc\", \"\\ucd9c\\uadfc\", \"\\ucd9c\\uadfc\", \"\\ucd9c\\uadfc\", \"\\ucd9c\\uadfc\", \"\\ucd9c\\uc804\", \"\\ucd9c\\uc81c\", \"\\ucd9c\\ud608\", \"\\ucd9c\\ud608\", \"\\ucde8\\ub4dd\\uc138\", \"\\ucde8\\ub4dd\\uc138\", \"\\ucde8\\uc5c5\", \"\\ucde8\\uc5c5\", \"\\ucde8\\uc5c5\", \"\\ucde8\\uc5c5\", \"\\ucde8\\uc5c5\", \"\\ucde8\\uc5c5\", \"\\ucde8\\uc5c5\", \"\\ucde8\\uc5c5\", \"\\ucde8\\uc5c5\", \"\\ucde8\\uc5c5\", \"\\ucde8\\uc5c5\", \"\\uce35\\uac04\\uc18c\\uc74c\", \"\\uce35\\uac04\\uc18c\\uc74c\", \"\\uce58\\uacfc\", \"\\uce58\\uacfc\", \"\\uce58\\uacfc\", \"\\uce58\\uacfc\\uc704\\uc0dd\\uc0ac\", \"\\uce58\\ub8cc\", \"\\uce58\\ub8cc\", \"\\uce58\\ub8cc\", \"\\uce58\\ub8cc\", \"\\uce58\\ub8cc\", \"\\uce58\\ub8cc\", \"\\uce58\\ub8cc\", \"\\uce5c\\uad6c\", \"\\uce5c\\uad6c\", \"\\uce5c\\uad6c\", \"\\uce5c\\uad6c\", \"\\uce5c\\uad6c\", \"\\uce5c\\uad6c\", \"\\uce5c\\uad6c\", \"\\uce5c\\uad6c\", \"\\uce5c\\uad6c\", \"\\uce5c\\uad6c\", \"\\uce5c\\uad8c\", \"\\uce68\\uad6c\", \"\\uce68\\ub738\", \"\\uce68\\ub7b5\", \"\\uce74\\ud480\", \"\\uce7c\\ub77c\", \"\\uceec\\ub9c1\", \"\\ucf10\\ud2b8\\ub808\\uc77c\", \"\\ucf54\\ub808\\uc77c\", \"\\ucf54\\ub808\\uc77c\", \"\\ucf54\\uc2a4\\ud53c\", \"\\ucf54\\uc778\", \"\\ucf54\\uc778\", \"\\ucf54\\uc778\", \"\\ucf54\\ud53c\\ub178\", \"\\ucf58\\ub3c4\\ubbf8\\ub2c8\\uc5c4\", \"\\ucfe0\\ud321\", \"\\ud034\\uc5b4\", \"\\ud034\\uc5b4\", \"\\ud034\\uc5b4\", \"\\ud0c1\\uc0ac\", \"\\ud0dc\\uad6d\", \"\\ud0dc\\uad6d\", \"\\ud0dc\\uad6d\", \"\\ud0dc\\uc591\\uad11\", \"\\ud0dc\\uc591\\uad11\", \"\\ud0dd\\ubc30\", \"\\ud0dd\\ubc30\", \"\\ud0dd\\ubc30\", \"\\ud0dd\\ubc30\", \"\\ud140\\ube14\\ub7ec\", \"\\ud14c\\ub7ec\", \"\\ud14c\\ub7ec\", \"\\ud14c\\ub7ec\", \"\\ud14c\\ub7ec\", \"\\ud14c\\ub7ec\", \"\\ud14c\\ub7ec\", \"\\ud14c\\ub7ec\", \"\\ud14c\\ud06c\", \"\\ud1a1\\ubc29\", \"\\ud1b5\\uc2e0\", \"\\ud1b5\\uc2e0\", \"\\ud1b5\\uc2e0\", \"\\ud1b5\\uc2e0\", \"\\ud1b5\\uc2e0\", \"\\ud1b5\\uc2e0\", \"\\ud1b5\\uc6b4\", \"\\ud1b5\\uc6b4\", \"\\ud1b5\\uc77c\", \"\\ud1b5\\uc77c\", \"\\ud1b5\\uc77c\", \"\\ud1b5\\uc77c\", \"\\ud1b5\\uc77c\", \"\\ud1b5\\uc77c\", \"\\ud1b5\\uc99d\", \"\\ud1f4\\uadfc\", \"\\ud1f4\\uadfc\", \"\\ud1f4\\uadfc\", \"\\ud1f4\\uadfc\", \"\\ud1f4\\uadfc\", \"\\ud1f4\\uadfc\", \"\\ud1f4\\uc6d0\", \"\\ud1f4\\uc6d0\", \"\\ud22c\\uae30\", \"\\ud22c\\uae30\", \"\\ud22c\\uae30\", \"\\ud22c\\uae30\", \"\\ud22c\\uae30\", \"\\ud22c\\uae30\", \"\\ud22c\\uc11d\", \"\\ud22c\\uc790\", \"\\ud22c\\uc790\", \"\\ud22c\\uc790\", \"\\ud22c\\uc790\", \"\\ud22c\\uc790\", \"\\ud22c\\uc790\", \"\\ud22c\\uc790\", \"\\ud22c\\uc790\", \"\\ud22c\\uc790\", \"\\ud22c\\uc790\", \"\\ud22c\\uc790\", \"\\ud22c\\uc790\", \"\\ud22c\\uc790\\uc790\", \"\\ud22c\\uc790\\uc790\", \"\\ud22c\\uc790\\uc790\", \"\\ud22c\\uc790\\uc790\", \"\\ud2b8\\ub7a8\", \"\\ud2b9\\uac80\", \"\\ud2b9\\uac80\", \"\\ud2b9\\uac80\", \"\\ud2b9\\uac80\", \"\\ud2b9\\uac80\", \"\\ud2b9\\uac80\", \"\\ud2b9\\uac80\", \"\\ud2b9\\ubaa9\\uace0\", \"\\ud2b9\\ubcc4\\ud65c\\ub3d9\", \"\\ud2b9\\uc218\", \"\\ud2b9\\uc218\", \"\\ud2b9\\uc218\", \"\\ud2b9\\uc218\", \"\\ud2b9\\uc218\", \"\\ud2b9\\uc218\", \"\\ud2b9\\uc218\", \"\\ud2b9\\uc218\", \"\\ud2b9\\uc218\", \"\\ud2b9\\uc218\", \"\\ud2b9\\uc218\\uad50\\uc721\", \"\\ud2b9\\uc218\\uad50\\uc721\", \"\\ud30c\\uba74\", \"\\ud30c\\uba74\", \"\\ud30c\\uba74\", \"\\ud30c\\uba74\", \"\\ud30c\\uba74\", \"\\ud30c\\uba74\", \"\\ud30c\\uba74\", \"\\ud30c\\ud0a4\\uc2a4\\ud0c4\", \"\\ud310\\uacb0\", \"\\ud310\\uacb0\", \"\\ud310\\uacb0\", \"\\ud310\\uacb0\", \"\\ud310\\uacb0\", \"\\ud310\\uacb0\", \"\\ud310\\uacb0\", \"\\ud310\\uacb0\", \"\\ud310\\uacb0\", \"\\ud310\\uacb0\", \"\\ud310\\uacb0\", \"\\ud310\\uacb0\", \"\\ud310\\ub9e4\", \"\\ud310\\ub9e4\", \"\\ud310\\ub9e4\", \"\\ud310\\ub9e4\", \"\\ud310\\ub9e4\", \"\\ud310\\ub9e4\", \"\\ud310\\ub9e4\", \"\\ud310\\ub9e4\", \"\\ud310\\ub9e4\", \"\\ud310\\ub9e4\", \"\\ud310\\ub9e4\", \"\\ud310\\ub9e4\", \"\\ud310\\uc0ac\", \"\\ud310\\uc0ac\", \"\\ud310\\uc0ac\", \"\\ud310\\uc0ac\", \"\\ud310\\uc0ac\", \"\\ud310\\uc0ac\", \"\\ud310\\uc0ac\", \"\\ud310\\uc0ac\", \"\\ud314\\uad7d\\ud600\\ud3b4\\uae30\", \"\\ud328\\uc158\", \"\\ud328\\uc158\", \"\\ud398\\ubbf8\", \"\\ud398\\ubbf8\\ub2c8\\uc2a4\\ud2b8\", \"\\ud398\\ubbf8\\ub2c8\\uc2a4\\ud2b8\", \"\\ud398\\ubbf8\\ub2c8\\uc998\", \"\\ud398\\ud2b8\\ubcd1\", \"\\ud3ab\\uc0f5\", \"\\ud3ab\\uc0f5\", \"\\ud3c9\\uac00\", \"\\ud3c9\\uac00\", \"\\ud3c9\\uac00\", \"\\ud3c9\\uac00\", \"\\ud3c9\\uac00\", \"\\ud3c9\\uac00\", \"\\ud3c9\\uac00\", \"\\ud3c9\\uac00\", \"\\ud3c9\\uac00\", \"\\ud3c9\\uac00\", \"\\ud3c9\\uac00\", \"\\ud3c9\\uac00\", \"\\ud3c9\\uac00\", \"\\ud3c9\\uac00\", \"\\ud3c9\\ub4f1\", \"\\ud3c9\\ub4f1\", \"\\ud3c9\\ub4f1\", \"\\ud3c9\\ub4f1\", \"\\ud3c9\\ub4f1\", \"\\ud3c9\\ub4f1\", \"\\ud3c9\\uc900\\ud654\", \"\\ud3c9\\ucc3d\", \"\\ud3c9\\ucc3d\\ub3d9\\uacc4\\uc62c\\ub9bc\\ud53d\", \"\\ud3c9\\ud654\", \"\\ud3c9\\ud654\", \"\\ud3c9\\ud654\", \"\\ud3c9\\ud654\", \"\\ud3c9\\ud654\", \"\\ud3c9\\ud654\", \"\\ud3c9\\ud654\", \"\\ud3c9\\ud654\", \"\\ud3d0\\uad50\", \"\\ud3d0\\uad50\", \"\\ud3d0\\uae30\\ubb3c\", \"\\ud3d0\\uae30\\ubb3c\", \"\\ud3d0\\uae30\\ubb3c\", \"\\ud3d0\\uae30\\ubb3c\", \"\\ud3d0\\uc9c0\", \"\\ud3d0\\uc9c0\", \"\\ud3d0\\uc9c0\", \"\\ud3d0\\uc9c0\", \"\\ud3d0\\uc9c0\", \"\\ud3d0\\uc9c0\", \"\\ud3d0\\uc9c0\", \"\\ud3d0\\uc9c0\", \"\\ud3d0\\uc9c0\", \"\\ud3d0\\uc9c0\", \"\\ud3d0\\uc9c0\", \"\\ud3d0\\uc9c0\", \"\\ud3d0\\uc9c0\", \"\\ud3d0\\uc9c0\", \"\\ud3d0\\uc9c0\", \"\\ud3ec\\uacbd\", \"\\ud3ec\\uacbd\\uc5c5\", \"\\ud3ec\\ub974\\ub178\", \"\\ud3ec\\uc8fc\", \"\\ud3ed\\ub825\", \"\\ud3ed\\ub825\", \"\\ud3ed\\ub825\", \"\\ud3ed\\ub825\", \"\\ud3ed\\ub825\", \"\\ud3ed\\ub825\", \"\\ud3ed\\ub825\", \"\\ud3ed\\ub825\", \"\\ud3ed\\ub825\", \"\\ud3ed\\ub825\", \"\\ud3ed\\ud589\", \"\\ud3ed\\ud589\", \"\\ud3ed\\ud589\", \"\\ud3ed\\ud589\", \"\\ud3ed\\ud589\", \"\\ud3ed\\ud589\", \"\\ud3ed\\ud589\", \"\\ud3ed\\ud589\", \"\\ud3ed\\ud589\", \"\\ud3ed\\ud589\", \"\\ud3ed\\ud589\", \"\\ud3f0\\ud2b8\", \"\\ud45c\\uc808\", \"\\ud45c\\uc808\", \"\\ud48d\\ub3d9\", \"\\ud4e8\\ub9c8\", \"\\ud53c\\uc784\", \"\\ud53c\\ud574\", \"\\ud53c\\ud574\", \"\\ud53c\\ud574\", \"\\ud53c\\ud574\", \"\\ud53c\\ud574\", \"\\ud53c\\ud574\", \"\\ud53c\\ud574\", \"\\ud53c\\ud574\", \"\\ud53c\\ud574\", \"\\ud53c\\ud574\", \"\\ud53c\\ud574\", \"\\ud53c\\ud574\", \"\\ud53c\\ud574\", \"\\ud53c\\ud574\", \"\\ud53c\\ud574\", \"\\ud53c\\ud574\\uc790\", \"\\ud53c\\ud574\\uc790\", \"\\ud53c\\ud574\\uc790\", \"\\ud53c\\ud574\\uc790\", \"\\ud53c\\ud574\\uc790\", \"\\ud53c\\ud574\\uc790\", \"\\ud53c\\ud574\\uc790\", \"\\ud53c\\ud574\\uc790\", \"\\ud53c\\ud574\\uc790\", \"\\ud53c\\ud574\\uc790\", \"\\ud53c\\ud574\\uc790\", \"\\ud558\\ub8e8\", \"\\ud558\\ub8e8\", \"\\ud558\\ub8e8\", \"\\ud558\\ub8e8\", \"\\ud558\\ub8e8\", \"\\ud558\\ub8e8\", \"\\ud558\\ub8e8\", \"\\ud558\\ub8e8\", \"\\ud558\\ub8e8\", \"\\ud558\\ub8e8\", \"\\ud558\\ub8e8\", \"\\ud558\\ub8e8\", \"\\ud558\\ub8e8\", \"\\ud558\\ub8e8\", \"\\ud558\\uc6d0\", \"\\ud558\\uc6d0\", \"\\ud558\\uccad\", \"\\ud558\\uccad\", \"\\ud558\\uccad\", \"\\ud559\\uacfc\", \"\\ud559\\uacfc\", \"\\ud559\\uacfc\", \"\\ud559\\uacfc\", \"\\ud559\\uacfc\", \"\\ud559\\uacfc\", \"\\ud559\\uad50\", \"\\ud559\\uad50\", \"\\ud559\\uad50\", \"\\ud559\\uad50\", \"\\ud559\\uad50\", \"\\ud559\\uad50\", \"\\ud559\\uad50\", \"\\ud559\\uad50\", \"\\ud559\\uad50\", \"\\ud559\\uad50\", \"\\ud559\\uad50\\uc7a5\", \"\\ud559\\uae09\", \"\\ud559\\uae09\", \"\\ud559\\uae09\", \"\\ud559\\ub144\", \"\\ud559\\ub144\", \"\\ud559\\ub144\", \"\\ud559\\ub144\", \"\\ud559\\ub144\", \"\\ud559\\ub144\", \"\\ud559\\ub300\", \"\\ud559\\ub300\", \"\\ud559\\ub300\", \"\\ud559\\ub300\", \"\\ud559\\ub300\", \"\\ud559\\ubd80\\ubaa8\", \"\\ud559\\ubd80\\ubaa8\", \"\\ud559\\ubd80\\ubaa8\", \"\\ud559\\ubd80\\ubaa8\", \"\\ud559\\uc0dd\", \"\\ud559\\uc0dd\", \"\\ud559\\uc0dd\", \"\\ud559\\uc0dd\", \"\\ud559\\uc0dd\", \"\\ud559\\uc0dd\", \"\\ud559\\uc0dd\", \"\\ud559\\uc0dd\\uc778\\uad8c\", \"\\ud559\\uc2b5\", \"\\ud559\\uc2b5\", \"\\ud559\\uc2b5\", \"\\ud559\\uc2b5\", \"\\ud559\\uc2b5\", \"\\ud559\\uc2b5\", \"\\ud559\\uc885\", \"\\ud559\\ud3ed\", \"\\ud559\\ud3ed\", \"\\ud559\\ud3ed\\uc704\", \"\\ud559\\ud3ed\\uc704\", \"\\ud55c\\uaca8\\ub808\", \"\\ud55c\\uaca8\\ub808\", \"\\ud55c\\uaca8\\ub808\", \"\\ud55c\\uad6d\", \"\\ud55c\\uad6d\", \"\\ud55c\\uad6d\", \"\\ud55c\\uad6d\", \"\\ud55c\\uad6d\", \"\\ud55c\\uad6d\", \"\\ud55c\\uad6d\", \"\\ud55c\\uad6d\", \"\\ud55c\\uad6d\", \"\\ud55c\\uad6d\", \"\\ud55c\\uad6d\", \"\\ud55c\\uad6d\", \"\\ud55c\\uad6d\", \"\\ud55c\\uad6d\", \"\\ud55c\\uad6d\", \"\\ud55c\\uad6d\\uc5b4\", \"\\ud55c\\uad6d\\uc5b4\", \"\\ud55c\\uad6d\\uc5b4\", \"\\ud55c\\uad6d\\uc5b4\", \"\\ud55c\\uad6d\\uc5b4\", \"\\ud55c\\uad6d\\uc778\", \"\\ud55c\\uad6d\\uc778\", \"\\ud55c\\uad6d\\uc778\", \"\\ud55c\\uad6d\\uc778\", \"\\ud55c\\uad6d\\uc778\", \"\\ud55c\\uad6d\\uc778\", \"\\ud55c\\uad6d\\uc778\", \"\\ud55c\\uad6d\\uc778\", \"\\ud55c\\ub098\\ub77c\\ub2f9\", \"\\ud55c\\ub098\\ub77c\\ub2f9\", \"\\ud55c\\ub77c\", \"\\ud55c\\uc758\\uc0ac\", \"\\ud55c\\uc778\", \"\\ud55c\\uc778\", \"\\ud55c\\uc9c4\", \"\\ud55c\\uc9c4\", \"\\ud568\\uc7a5\", \"\\ud56d\\uacf5\", \"\\ud56d\\uacf5\", \"\\ud56d\\uacf5\", \"\\ud56d\\uacf5\", \"\\ud56d\\uacf5\", \"\\ud56d\\uacf5\", \"\\ud56d\\uacf5\\uc0ac\", \"\\ud56d\\uacf5\\uc0ac\", \"\\ud56d\\uacf5\\uc0ac\", \"\\ud56d\\uc554\\uc81c\", \"\\ud574\\ub2f9\", \"\\ud574\\ub2f9\", \"\\ud574\\ub2f9\", \"\\ud574\\ub2f9\", \"\\ud574\\ub2f9\", \"\\ud574\\ub2f9\", \"\\ud574\\ub2f9\", \"\\ud574\\ub2f9\", \"\\ud574\\ub2f9\", \"\\ud574\\ub2f9\", \"\\ud574\\ub2f9\", \"\\ud574\\ub2f9\", \"\\ud574\\ub2f9\", \"\\ud574\\ub2f9\", \"\\ud574\\ub2f9\", \"\\ud574\\uc0b0\", \"\\ud574\\uc0b0\", \"\\ud574\\uc0b0\", \"\\ud574\\uc0b0\", \"\\ud574\\uc0b0\", \"\\ud574\\uc0b0\", \"\\ud574\\uc0b0\", \"\\ud574\\uc0b0\", \"\\ud574\\uc81c\", \"\\ud574\\uc81c\", \"\\ud574\\uc81c\", \"\\ud574\\uc81c\", \"\\ud574\\uc81c\", \"\\ud574\\uc81c\", \"\\ud574\\uc81c\", \"\\ud574\\uc8fc\\ub2e4\", \"\\ud574\\uc8fc\\ub2e4\", \"\\ud574\\uc8fc\\ub2e4\", \"\\ud574\\uc8fc\\ub2e4\", \"\\ud574\\uc8fc\\ub2e4\", \"\\ud574\\uc8fc\\ub2e4\", \"\\ud574\\uc8fc\\ub2e4\", \"\\ud574\\uc8fc\\ub2e4\", \"\\ud574\\uc8fc\\ub2e4\", \"\\ud574\\uc8fc\\ub2e4\", \"\\ud574\\uc8fc\\ub2e4\", \"\\ud574\\uc8fc\\ub2e4\", \"\\ud574\\uc8fc\\ub2e4\", \"\\ud574\\uc8fc\\ub2e4\", \"\\ud574\\uc8fc\\ub2e4\", \"\\ud589\\uc0ac\", \"\\ud589\\uc0ac\", \"\\ud589\\uc0ac\", \"\\ud589\\uc0ac\", \"\\ud589\\uc0ac\", \"\\ud589\\uc0ac\", \"\\ud589\\uc0ac\", \"\\ud589\\uc0ac\", \"\\ud589\\uc0ac\", \"\\ud589\\uc0ac\", \"\\ud589\\uc0ac\", \"\\ud589\\uc0ac\", \"\\ud589\\uc0ac\", \"\\ud589\\uc0ac\", \"\\ud589\\uc704\", \"\\ud589\\uc704\", \"\\ud589\\uc704\", \"\\ud589\\uc704\", \"\\ud589\\uc704\", \"\\ud589\\uc704\", \"\\ud589\\uc704\", \"\\ud589\\uc704\", \"\\ud589\\uc704\", \"\\ud589\\uc704\", \"\\ud589\\uc704\", \"\\ud589\\uc704\", \"\\ud589\\uc704\", \"\\ud589\\uc704\", \"\\ud589\\uc704\", \"\\ud5c8\\uac00\", \"\\ud5c8\\uac00\", \"\\ud5c8\\uac00\", \"\\ud5c8\\uac00\", \"\\ud5c8\\uac00\", \"\\ud5c8\\uac00\", \"\\ud5c8\\uac00\", \"\\ud5c8\\uac00\", \"\\ud5c8\\uac00\", \"\\ud5c8\\uac00\", \"\\ud5c8\\uac00\", \"\\ud5c8\\uac00\", \"\\ud5c8\\uac00\", \"\\ud5c8\\uac00\", \"\\ud5cc\\ubc95\", \"\\ud5cc\\ubc95\", \"\\ud5cc\\ubc95\", \"\\ud5cc\\ubc95\", \"\\ud5cc\\ubc95\", \"\\ud5cc\\ubc95\", \"\\ud5cc\\ud608\", \"\\ud5cc\\ud608\", \"\\ud601\\uc2e0\\ub3c4\\uc2dc\", \"\\ud604\\uc2e4\", \"\\ud604\\uc2e4\", \"\\ud604\\uc2e4\", \"\\ud604\\uc2e4\", \"\\ud604\\uc2e4\", \"\\ud604\\uc2e4\", \"\\ud604\\uc2e4\", \"\\ud604\\uc2e4\", \"\\ud604\\uc2e4\", \"\\ud604\\uc2e4\", \"\\ud604\\uc2e4\", \"\\ud604\\uc2e4\", \"\\ud604\\uc2e4\", \"\\ud604\\uc2e4\", \"\\ud604\\uc7ac\", \"\\ud604\\uc7ac\", \"\\ud604\\uc7ac\", \"\\ud604\\uc7ac\", \"\\ud604\\uc7ac\", \"\\ud604\\uc7ac\", \"\\ud604\\uc7ac\", \"\\ud604\\uc7ac\", \"\\ud604\\uc7ac\", \"\\ud604\\uc7ac\", \"\\ud604\\uc7ac\", \"\\ud604\\uc7ac\", \"\\ud604\\uc7ac\", \"\\ud604\\uc7ac\", \"\\ud604\\uc7ac\", \"\\ud608\\ub2f9\", \"\\ud608\\ub2f9\", \"\\ud608\\ub2f9\", \"\\ud608\\ub2f9\", \"\\ud611\\uc815\", \"\\ud611\\uc815\", \"\\ud611\\ud68c\", \"\\ud611\\ud68c\", \"\\ud611\\ud68c\", \"\\ud611\\ud68c\", \"\\ud611\\ud68c\", \"\\ud611\\ud68c\", \"\\ud611\\ud68c\", \"\\ud611\\ud68c\", \"\\ud611\\ud68c\", \"\\ud611\\ud68c\", \"\\ud611\\ud68c\", \"\\ud611\\ud68c\", \"\\ud615\\ubd80\", \"\\ud61c\\ud0dd\", \"\\ud61c\\ud0dd\", \"\\ud61c\\ud0dd\", \"\\ud61c\\ud0dd\", \"\\ud61c\\ud0dd\", \"\\ud61c\\ud0dd\", \"\\ud61c\\ud0dd\", \"\\ud61c\\ud0dd\", \"\\ud61c\\ud0dd\", \"\\ud61c\\ud0dd\", \"\\ud61c\\ud0dd\", \"\\ud638\\uc120\", \"\\ud638\\uc120\", \"\\ud638\\uc99d\", \"\\ud638\\uce6d\", \"\\ud638\\uce6d\", \"\\ud638\\uce6d\", \"\\ud638\\uce6d\", \"\\ud63c\\ud608\", \"\\ud648\\uc1fc\\ud551\", \"\\ud648\\uc1fc\\ud551\", \"\\ud648\\uc1fc\\ud551\", \"\\ud64d\\uc900\\ud45c\", \"\\ud64d\\uc900\\ud45c\", \"\\ud654\\ub825\\ubc1c\\uc804\\uc18c\", \"\\ud654\\ubb3c\", \"\\ud654\\ubb3c\", \"\\ud654\\ubb3c\", \"\\ud654\\ubb3c\", \"\\ud654\\ubb3c\", \"\\ud654\\ubb3c\", \"\\ud654\\uc774\\ud2b8\", \"\\ud654\\uc7a5\\ud488\", \"\\ud654\\ud3d0\", \"\\ud658\\uacbd\", \"\\ud658\\uacbd\", \"\\ud658\\uacbd\", \"\\ud658\\uacbd\", \"\\ud658\\uacbd\", \"\\ud658\\uacbd\", \"\\ud658\\uacbd\", \"\\ud658\\uacbd\", \"\\ud658\\uacbd\", \"\\ud658\\uacbd\", \"\\ud658\\uacbd\", \"\\ud658\\uacbd\", \"\\ud658\\uacbd\", \"\\ud658\\uacbd\", \"\\ud658\\uacbd\\ubd80\", \"\\ud658\\uacbd\\ubd80\", \"\\ud658\\uacbd\\ubd80\", \"\\ud658\\uc790\", \"\\ud658\\uc790\", \"\\ud658\\uc790\", \"\\ud658\\uc790\", \"\\ud65c\\ub3d9\", \"\\ud65c\\ub3d9\", \"\\ud65c\\ub3d9\", \"\\ud65c\\ub3d9\", \"\\ud65c\\ub3d9\", \"\\ud65c\\ub3d9\", \"\\ud65c\\ub3d9\", \"\\ud65c\\ub3d9\", \"\\ud65c\\ub3d9\", \"\\ud65c\\ub3d9\", \"\\ud65c\\ub3d9\", \"\\ud65c\\ub3d9\", \"\\ud65c\\ub3d9\", \"\\ud65c\\ub3d9\", \"\\ud669\\ubc18\\ubcc0\\uc131\", \"\\ud669\\uc804\", \"\\ud68c\\uacc4\\uac10\\uc0ac\", \"\\ud68c\\uacc4\\ubc95\\uc778\", \"\\ud68c\\uacc4\\ubc95\\uc778\", \"\\ud68c\\uacc4\\uc0ac\", \"\\ud68c\\uacc4\\uc0ac\", \"\\ud68c\\uc0ac\", \"\\ud68c\\uc0ac\", \"\\ud68c\\uc0ac\", \"\\ud68c\\uc0ac\", \"\\ud68c\\uc0ac\", \"\\ud68c\\uc0ac\", \"\\ud68c\\uc0ac\", \"\\ud68c\\uc0ac\", \"\\ud68c\\uc0ac\", \"\\ud68c\\uc0ac\", \"\\ud68c\\uc0ac\", \"\\ud68c\\uc0ac\", \"\\ud68c\\uc0ac\", \"\\ud68c\\uc7a5\", \"\\ud68c\\uc7a5\", \"\\ud68c\\uc7a5\", \"\\ud68c\\uc7a5\", \"\\ud68c\\uc7a5\", \"\\ud68c\\uc7a5\", \"\\ud68c\\uc7a5\", \"\\ud68c\\uc7a5\", \"\\ud68c\\uc7a5\", \"\\ud68c\\uc7a5\", \"\\ud68c\\ud56d\", \"\\ud69f\\uc218\", \"\\ud69f\\uc218\", \"\\ud69f\\uc218\", \"\\ud69f\\uc218\", \"\\ud69f\\uc218\", \"\\ud69f\\uc218\", \"\\ud69f\\uc218\", \"\\ud718\\ubb38\\uc758\\uc219\", \"\\ud720\\uccb4\\uc5b4\", \"\\ud720\\uccb4\\uc5b4\", \"\\ud720\\uccb4\\uc5b4\", \"\\ud720\\uccb4\\uc5b4\", \"\\ud734\\uac8c\", \"\\ud734\\uac8c\", \"\\ud734\\uac8c\", \"\\ud734\\uad50\", \"\\ud734\\ubb34\", \"\\ud734\\ubb34\", \"\\ud734\\ubb34\", \"\\ud734\\uc2dd\\uc2dc\\uac04\"]}, \"R\": 30, \"lambda.step\": 0.01, \"plot.opts\": {\"xlab\": \"PC1\", \"ylab\": \"PC2\"}, \"topic.order\": [14, 5, 11, 3, 8, 13, 12, 4, 1, 6, 10, 7, 9, 15, 2]};\n",
              "\n",
              "function LDAvis_load_lib(url, callback){\n",
              "  var s = document.createElement('script');\n",
              "  s.src = url;\n",
              "  s.async = true;\n",
              "  s.onreadystatechange = s.onload = callback;\n",
              "  s.onerror = function(){console.warn(\"failed to load library \" + url);};\n",
              "  document.getElementsByTagName(\"head\")[0].appendChild(s);\n",
              "}\n",
              "\n",
              "if(typeof(LDAvis) !== \"undefined\"){\n",
              "   // already loaded: just create the visualization\n",
              "   !function(LDAvis){\n",
              "       new LDAvis(\"#\" + \"ldavis_el263133551521855104315449935\", ldavis_el263133551521855104315449935_data);\n",
              "   }(LDAvis);\n",
              "}else if(typeof define === \"function\" && define.amd){\n",
              "   // require.js is available: use it to load d3/LDAvis\n",
              "   require.config({paths: {d3: \"https://d3js.org/d3.v5\"}});\n",
              "   require([\"d3\"], function(d3){\n",
              "      window.d3 = d3;\n",
              "      LDAvis_load_lib(\"https://cdn.jsdelivr.net/gh/bmabey/pyLDAvis@3.4.0/pyLDAvis/js/ldavis.v3.0.0.js\", function(){\n",
              "        new LDAvis(\"#\" + \"ldavis_el263133551521855104315449935\", ldavis_el263133551521855104315449935_data);\n",
              "      });\n",
              "    });\n",
              "}else{\n",
              "    // require.js not available: dynamically load d3 & LDAvis\n",
              "    LDAvis_load_lib(\"https://d3js.org/d3.v5.js\", function(){\n",
              "         LDAvis_load_lib(\"https://cdn.jsdelivr.net/gh/bmabey/pyLDAvis@3.4.0/pyLDAvis/js/ldavis.v3.0.0.js\", function(){\n",
              "                 new LDAvis(\"#\" + \"ldavis_el263133551521855104315449935\", ldavis_el263133551521855104315449935_data);\n",
              "            })\n",
              "         });\n",
              "}\n",
              "</script>"
            ]
          },
          "metadata": {},
          "execution_count": 11
        }
      ],
      "source": [
        "import pyLDAvis\n",
        "\n",
        "pyLDAvis.enable_notebook()\n",
        "prepared_data = pyLDAvis.prepare(\n",
        "    topic_term_dists=LDA_model.components_ / LDA_model.components_.sum(axis=1)[:, np.newaxis],  # 주제-단어 분포\n",
        "    doc_topic_dists=LDA_model.transform(doc_cv),  # 문서-주제 분포\n",
        "    doc_lengths=doc_cv.sum(axis=1).A1,  # 각 문서의 총 단어 수\n",
        "    vocab=cv.get_feature_names_out(),  # 어휘 목록\n",
        "    term_frequency=np.asarray(doc_cv.sum(axis=0)).ravel(),  # 전체 데이터셋에서 각 단어의 빈도\n",
        "    mds='tsne'  # 차원 축소 기법 선택\n",
        ")\n",
        "pyLDAvis.display(prepared_data)\n"
      ]
    },
    {
      "cell_type": "markdown",
      "metadata": {
        "id": "ni9SyMAptcd-"
      },
      "source": []
    },
    {
      "cell_type": "markdown",
      "metadata": {
        "id": "GagdTU33qjHN"
      },
      "source": [
        "이 시각화는 특정 주제(Topic 15)에 대한 상위 30개의 관련 용어를 보여줍니다. 다음은 그래프에 대한 상세한 설명입니다.\n",
        "\n",
        "주요 구성 요소:\n",
        "제목:\n",
        "\n",
        "\"Top-30 Most Relevant Terms for Topic 15 (2.4% of tokens)\"는 이 차트가 Topic 15와 관련된 상위 30개 용어를 보여주며, 이 주제가 전체 데이터셋에서 2.4%를 차지한다는 것을 의미합니다.\n",
        "관련성 메트릭 슬라이더 (λ):\n",
        "\n",
        "상단의 슬라이더는 λ 값을 조정하여 관련성 메트릭을 설정합니다. 이 값은 0에서 1까지 조정 가능합니다. 현재 λ 값은 1로 설정되어 있습니다. 관련성 메트릭은 주제 내 용어 빈도와 전체 코퍼스에서의 용어 빈도의 균형을 결정합니다.\n",
        "λ = 1일 때, 관련성은 주제 내 용어의 빈도에만 기반합니다.\n",
        "\n",
        "λ = 0일 때, 해당 용어가 전체 코퍼스에서 나타나는 빈도 대비 특정 주제에서 얼마나 자주 나타나는지를 의미합니다. 쉽게 말해, 특정 주제에 대해 얼마나 독특한 용어인지를 보여줍니다.\n",
        "\n",
        "빨간색 막대: 선택된 주제(Topic 15) 내에서의 예상 용어 빈도를 나타냅니다.\n",
        "파란색 막대: 전체 코퍼스에서의 전체 용어 빈도를 나타냅니다.\n",
        "용어는 y축에 나열되어 있으며, 해당 용어의 빈도는 x축에 표시됩니다.\n",
        "용어와 빈도의 설명:\n",
        "난민, 불법, 한국, 택배, 제주도 등과 같은 용어들이 나열되어 있습니다. 각 용어의 빨간색 막대는 Topic 15에서 얼마나 자주 나타나는지를 나타내고, 파란색 막대는 데이터셋 전체에서의 빈도를 나타냅니다.\n",
        "\n",
        "예시 분석:\n",
        "\n",
        "아이: 이 용어는 파란색 막대가 크고, 빨간색 막대도 상당히 크기 때문에 전체 코퍼스에서 높은 빈도를 가지고 있으며 Topic 15에서도 높은 관련성을 가집니다.\n",
        "예멘: 이 용어는 파란색 막대가 작고 빨간색 막대가 크기 때문에, 전체 코퍼스에서는 자주 나타나지 않지만 Topic 15에서는 특히 관련성이 높습니다.\n",
        "공식:\n",
        "\n",
        "이 공식은 주제 내 용어의 확률과 그 용어의 독특성 간의 균형을 맞춥니다.\n",
        "해석:\n",
        "빨간색 막대가 파란색 막대에 비해 높은 용어는 Topic 15에 더 특화된 용어입니다.\n",
        "파란색 막대가 큰 용어는 전체 코퍼스에서 일반적으로 많이 나타나는 용어지만, 빨간색 막대도 크다면 Topic 15에서도 중요한 용어입니다.\n",
        "이 시각화는 주어진 코퍼스에서 Topic 15를 정의하는 주요 테마와 특정 용어를 이해하는 데 도움을 줍니다.\n",
        "\n",
        "\n",
        "\n",
        "\n",
        "\n"
      ]
    },
    {
      "cell_type": "markdown",
      "metadata": {
        "id": "NLGhhG09n2b3"
      },
      "source": [
        "#### λ의 의미\n",
        "*   λ = 1 일수록 토픽 별로 가장 자주 등장하는 단어들을 우선적으로 키워드로 선택한다는 의미 이고\n",
        "*   λ = 0 일수록 토픽 간에 차이가 많이 나는 단어를 선택한다는 의미(해당 토픽에서 많이 등장한 단어)"
      ]
    },
    {
      "cell_type": "code",
      "execution_count": null,
      "metadata": {
        "id": "6xJyorL3fwC4"
      },
      "outputs": [],
      "source": [
        "# Topic 11의 상위 빈도수 주제어들을 추출\n",
        "prepared_data.topic_info[prepared_data.topic_info['Category'] == 'Topic11']"
      ]
    },
    {
      "cell_type": "markdown",
      "metadata": {
        "id": "Ig6dyfqbc6bU"
      },
      "source": [
        "*   Term (용어): 주제와 관련된 단어 또는 구문.\n",
        "*   Freq (빈도): 해당 주제 내에서 용어가 나타난 빈도.\n",
        "*   Total (전체 빈도): 모든 주제에서 해당 용어가 나타난 빈도.\n",
        "*   Category (카테고리): 용어가 속한 주제.\n",
        "*   logprob (로그 확률): 해당 주어가 주제 내에서 나타날 확률의 로그값.\n",
        "*   loglift (로그 리프트): 용어가 주제 내에서 평균적으로 나타나는 빈도보다 얼마나 더 자주 나타나는지를 측정하는 리프트 점수의 로그값."
      ]
    },
    {
      "cell_type": "code",
      "execution_count": null,
      "metadata": {
        "id": "rYyNq9RDbTnH"
      },
      "outputs": [],
      "source": [
        "topic_list = prepared_data.topic_info['Category'].value_counts(ascending=False).index.tolist() # 토픽의 수를 정렬하고, 리스트로 변환"
      ]
    },
    {
      "cell_type": "code",
      "execution_count": null,
      "metadata": {
        "collapsed": true,
        "id": "zGbCFs4TcB9W"
      },
      "outputs": [],
      "source": [
        "for i in topic_list:\n",
        "    print(prepared_data.topic_info[prepared_data.topic_info['Category']==i])"
      ]
    },
    {
      "cell_type": "code",
      "execution_count": null,
      "metadata": {
        "id": "1YrCTHDCpQmU"
      },
      "outputs": [],
      "source": [
        "prepared_data.topic_info[prepared_data.topic_info['Category'] == 'Topic15']"
      ]
    },
    {
      "cell_type": "markdown",
      "metadata": {
        "id": "PC_UCYGMbO2o"
      },
      "source": []
    },
    {
      "cell_type": "code",
      "execution_count": null,
      "metadata": {
        "id": "CP6aVzRWgzhp"
      },
      "outputs": [],
      "source": [
        "#### 토픽별로 상위 10개 단어 추출하기\n",
        "dic = {}\n",
        "term_list = []\n",
        "sum = 0\n",
        "topic_list = ['Topic1','Topic2','Topic3','Topic4','Topic5','Topic6','Topic7','Topic8','Topic9','Topic10','Topic11','Topic12','Topic13','Topic14','Topic15']\n",
        "for top in topic_list:\n",
        "    for i in prepared_data.topic_info[prepared_data.topic_info['Category'] == top]['Term']:\n",
        "        term_list.append(i)\n",
        "        sum += 1\n",
        "        if sum == 10:\n",
        "           break\n",
        "    dic[top] = term_list\n",
        "    sum = 0\n",
        "    term_list = []\n",
        "\n",
        "topic_df = pd.DataFrame(dic)"
      ]
    },
    {
      "cell_type": "code",
      "execution_count": null,
      "metadata": {
        "id": "tZLRXzNNqUb3"
      },
      "outputs": [],
      "source": [
        "lam0_topic_df = topic_df.copy() # 람다 파라미터: 0일 경우\n",
        "lam0_topic_df"
      ]
    },
    {
      "cell_type": "code",
      "execution_count": null,
      "metadata": {
        "id": "pgBHYzxNos6L"
      },
      "outputs": [],
      "source": [
        "lam1_topic_df = pd.DataFrame()"
      ]
    },
    {
      "cell_type": "markdown",
      "metadata": {
        "id": "XPz8sBZaaQVe"
      },
      "source": [
        "#### 주제별로 무엇을 뽑아낼 수 있을까?\n",
        "\n",
        "\n",
        "*   인권/성평등\n",
        "*   육아/교육\n",
        "*   안전/환경\n",
        "*   교통/건축/국토\n",
        "*   정치개혁\n",
        "*   보건 복지\n",
        "*   기타\n",
        "*   문화/예술/체육/언론\n",
        "*   외교/통일/국방\n",
        "*   행정\n",
        "*   일자리\n",
        "*   경제민주화\n",
        "*   반려동물\n",
        "*   미래\n",
        "*   성장동력\n",
        "*   농산어촌\n",
        "*   저출산/고령화대책\n"
      ]
    },
    {
      "cell_type": "code",
      "execution_count": null,
      "metadata": {
        "id": "X8DefAf0eYh4"
      },
      "outputs": [],
      "source": [
        "topic_map = {\n",
        "    'Topic1': '보건 복지',\n",
        "    'Topic2': '안전/환경',\n",
        "    'Topic3': '외교/통일/국방',\n",
        "    'Topic4': '육아/교육',\n",
        "    'Topic5': '교통/건축/국토',\n",
        "    'Topic6': '인권/성평등',\n",
        "    'Topic7': '저출산/고령화대책',\n",
        "    'Topic8': '일자리',\n",
        "    'Topic9': '교통/건축/국토',\n",
        "    'Topic10': '문화/예술/체육/언론',\n",
        "    'Topic11': '문화/예술/체육/언론',\n",
        "    'Topic12': '경제민주화',\n",
        "    'Topic13': '농산어촌',\n",
        "    'Topic14': '인권/성평등',\n",
        "    'Topic15': '외교/통일/국방'\n",
        " }"
      ]
    },
    {
      "cell_type": "code",
      "execution_count": null,
      "metadata": {
        "id": "3Gf7JEv8hBua"
      },
      "outputs": [],
      "source": [
        "topic_df_copy = topic_df.copy()\n",
        "topic_df_copy = topic_df_copy.rename(columns=topic_map)\n",
        "topic_df_copy"
      ]
    },
    {
      "cell_type": "markdown",
      "metadata": {
        "id": "trWbsb0NrSpJ"
      },
      "source": [
        "#### 주제별로 무엇을 뽑아낼 수 있을까?\n",
        "\n",
        "\n",
        "*   인권/성평등: 무고죄, 페미니즘\n",
        "*   육아/교육: 교권,유은혜\n",
        "*   안전/환경: 소각발전소, 성민이 사건, 동물학대(길고양이),\n",
        "*   교통/건축/국토:\n",
        "*   정치개혁\n",
        "*   보건 복지\n",
        "*   기타\n",
        "*   문화/예술/체육/언론\n",
        "*   외교/통일/국방\n",
        "*   행정\n",
        "*   일자리\n",
        "*   경제민주화\n",
        "*   반려동물\n",
        "*   미래\n",
        "*   성장동력\n",
        "*   농산어촌\n",
        "*   저출산/고령화대책\n"
      ]
    },
    {
      "cell_type": "code",
      "execution_count": null,
      "metadata": {
        "id": "ceHEwITqZa2G"
      },
      "outputs": [],
      "source": [
        "df_copy_18['category'].value_counts()"
      ]
    },
    {
      "cell_type": "markdown",
      "metadata": {
        "id": "5Qt98ORa2El8"
      },
      "source": [
        "#### 해석\n",
        " * 2018년 <u>청원 데이터들에 대한 토픽모델링(잠재 디리클레 기법)을 적용한 결과, 해당 데이터 프레임과 같은 상위 단어들이 각각의 Topic 별로 구분됨</u>\n",
        " * 예를 들어, Topic11의 경우 선수, 빙상,출전, 컬링등을 통해 **'문화/예술/체육/언론'**에 해당하는 토픽이라는 것을 알 수 있음. 이때 <u>그 당시에 문제가 된 컬링 국가대표내에 있었던, 특정 선수간의 갑질, 욕설 문제등이 청원에서 두드러지게 나타났음</u>을 알 수 있다."
      ]
    },
    {
      "cell_type": "code",
      "execution_count": null,
      "metadata": {
        "id": "ZYg9Xo0RiAzf"
      },
      "outputs": [],
      "source": [
        "user_input = input('키워드를 입력하시오')\n",
        "\n",
        "for title in df_copy_18['title']:\n",
        "    if user_input in title:\n",
        "        print(title)"
      ]
    },
    {
      "cell_type": "code",
      "execution_count": null,
      "metadata": {
        "id": "Nx74AXf4Q9iA"
      },
      "outputs": [],
      "source": [
        "df_copy_18[df_copy_18['title'] == '음주운전 교통사고로 친구 인생이 박살났습니다. 제발 도와주세요']"
      ]
    },
    {
      "cell_type": "code",
      "execution_count": null,
      "metadata": {
        "id": "fXlPsAtC61hA"
      },
      "outputs": [],
      "source": [
        "df_200000 = df_copy_18[df_copy_18['num_agree'] >= 200000].groupby('category')['title'].value_counts()"
      ]
    },
    {
      "cell_type": "code",
      "execution_count": null,
      "metadata": {
        "id": "WE2wdbXt7Lok"
      },
      "outputs": [],
      "source": [
        "print(df_200000)\n",
        "df_200000.to_csv('df_200000')"
      ]
    },
    {
      "cell_type": "markdown",
      "metadata": {
        "id": "djMEkVefle4f"
      },
      "source": [
        "#### category별로 키워드 추출하기\n"
      ]
    }
  ],
  "metadata": {
    "colab": {
      "provenance": [],
      "toc_visible": true
    },
    "kernelspec": {
      "display_name": "Python 3",
      "name": "python3"
    },
    "language_info": {
      "name": "python"
    }
  },
  "nbformat": 4,
  "nbformat_minor": 0
}